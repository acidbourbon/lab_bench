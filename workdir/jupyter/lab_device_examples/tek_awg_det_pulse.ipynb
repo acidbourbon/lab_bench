{
 "cells": [
  {
   "cell_type": "code",
   "execution_count": 1,
   "metadata": {},
   "outputs": [],
   "source": [
    "import numpy as np\n",
    "from matplotlib import pyplot as plt\n",
    "import AWG70002A as awg\n",
    "import pulser\n",
    "from sigproc_kit import *"
   ]
  },
  {
   "cell_type": "code",
   "execution_count": 2,
   "metadata": {},
   "outputs": [
    {
     "name": "stdout",
     "output_type": "stream",
     "text": [
      "connect to device ...\n",
      "*IDN?\n",
      "TEKTRONIX,AWG70002A,B030548,FV:7.1.0170.0\n",
      "success!\n"
     ]
    },
    {
     "data": {
      "text/plain": [
       "<vxi11.vxi11.Instrument at 0x7f018e0aa7b8>"
      ]
     },
     "execution_count": 2,
     "metadata": {},
     "output_type": "execute_result"
    }
   ],
   "source": [
    "awg.open_session(ip=\"192.168.0.198\")"
   ]
  },
  {
   "cell_type": "code",
   "execution_count": 15,
   "metadata": {},
   "outputs": [
    {
     "data": {
      "image/png": "[encoded data removed]",
      "text/plain": [
       "<matplotlib.figure.Figure at 0x7f018dfb6630>"
      ]
     },
     "metadata": {
      "needs_background": "light"
     },
     "output_type": "display_data"
    },
    {
     "name": "stdout",
     "output_type": "stream",
     "text": [
      "STOP!\n",
      "NOTE: overriding sample rate to match desired period!\n",
      "have to concatenate 1 samples into memory to achieve desired period\n",
      "attempting to set sample rate : 8.000000e+09 Hz\n",
      "read back sample rate (Hz):\n",
      "8.0000000000E+9\n",
      "success!\n",
      "preparing data for channel 1\n",
      "sending data ...\n",
      "waveform length: 240000\n",
      "sample length: 240000\n",
      "RUN!\n",
      "close socket\n"
     ]
    }
   ],
   "source": [
    "period = 30e-6\n",
    "\n",
    "x=np.arange(0,4e-6,0.1e-9)\n",
    "y=detector_signal_function(x,-150e-12,5e-9,20e-9,1e-6)\n",
    "plt.plot(x,y)\n",
    "plt.show()\n",
    "\n",
    "awg.program_trace(xdata=x, ydata=y, trace=1, period=period)\n",
    "awg.run()\n",
    "awg.close_session()"
   ]
  },
  {
   "cell_type": "code",
   "execution_count": 13,
   "metadata": {},
   "outputs": [
    {
     "name": "stdout",
     "output_type": "stream",
     "text": [
      "connect to device ...\n",
      "*IDN?\n",
      "TEKTRONIX,AWG70002A,B030548,FV:7.1.0170.0\n",
      "success!\n",
      "STOP!\n",
      "NOTE: overriding sample rate to match desired period!\n",
      "have to concatenate 1 samples into memory to achieve desired period\n",
      "attempting to set sample rate : 8.000000e+09 Hz\n",
      "read back sample rate (Hz):\n",
      "8.0000000000E+9\n",
      "success!\n",
      "preparing data for channel 2\n",
      "sending data ...\n",
      "waveform length: 240000\n",
      "sample length: 240000\n",
      "RUN!\n",
      "close socket\n"
     ]
    }
   ],
   "source": [
    "pulser.pulser(ip=\"192.168.0.198\", trace=2, period=period,\n",
    "              width=\"2u\",delay=\"900n\",\n",
    "              leading_edge=\"5n\",trailing_edge=\"20n\"\n",
    "             )"
   ]
  }
 ],
 "metadata": {
  "kernelspec": {
   "display_name": "Python 3",
   "language": "python",
   "name": "python3"
  },
  "language_info": {
   "codemirror_mode": {
    "name": "ipython",
    "version": 3
   },
   "file_extension": ".py",
   "mimetype": "text/x-python",
   "name": "python",
   "nbconvert_exporter": "python",
   "pygments_lexer": "ipython3",
   "version": "3.6.8"
  }
 },
 "nbformat": 4,
 "nbformat_minor": 4
}
