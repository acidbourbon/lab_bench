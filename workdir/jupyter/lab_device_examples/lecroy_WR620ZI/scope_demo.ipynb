{
 "cells": [
  {
   "cell_type": "code",
   "execution_count": 2,
   "metadata": {},
   "outputs": [
    {
     "name": "stdout",
     "output_type": "stream",
     "text": [
      "*IDN?\n",
      "*IDN LECROY,WR620ZI,LCRY2805N57162,8.5.1\n",
      "successfully connected to Lecroy scope!\n"
     ]
    },
    {
     "data": {
      "text/plain": [
       "1"
      ]
     },
     "execution_count": 2,
     "metadata": {},
     "output_type": "execute_result"
    }
   ],
   "source": [
    "import numpy as np\n",
    "from matplotlib import pyplot as plt\n",
    "\n",
    "import WR620ZI as lecroy\n",
    "lecroy.init(\"192.168.0.208\")\n"
   ]
  },
  {
   "cell_type": "code",
   "execution_count": 2,
   "metadata": {},
   "outputs": [],
   "source": [
    "##################################################\n",
    "##           configure LeCroy Scope             ##\n",
    "##################################################\n",
    "\n",
    "#lecroy.clear_all()\n",
    "\n",
    "# set horizontal scaling, time/div\n",
    "tdiv=50e-9\n",
    "lecroy.set_tdiv(tdiv)\n",
    "\n",
    "lecroy.set_trigger_delay(-4*tdiv) # t0 = 10% of screen\n",
    "\n",
    "# access scope channels by labels,\n",
    "# for easy re-mapping of scope channels without\n",
    "# touching your below measurement automation\n",
    "s = {\n",
    "    \"DUT_IN\"   :\"C4\", \n",
    "    \"DUT_OUT\"  :\"C2\"  \n",
    "}\n",
    "\n",
    "# access scope measurements by labels\n",
    "m = {\n",
    "    \"DUT_OUT_RISE\"   : \"p1\",\n",
    "    \"DUT_OUT_FALL\"   : \"p2\",\n",
    "    \"DUT_OUT_WIDTH\"   : \"p3\"\n",
    "}\n",
    "\n",
    "# set up measurements for rise time, fall time and pulse width\n",
    "lecroy.setup_measurement(m[\"DUT_OUT_FALL\"],  s[\"DUT_OUT\"], \"rise\")\n",
    "lecroy.setup_measurement(m[\"DUT_OUT_RISE\"],  s[\"DUT_OUT\"], \"fall\")\n",
    "lecroy.setup_measurement(m[\"DUT_OUT_WIDTH\"], s[\"DUT_OUT\"], \"width\")"
   ]
  },
  {
   "cell_type": "code",
   "execution_count": 3,
   "metadata": {},
   "outputs": [
    {
     "data": {
      "image/png": "[encoded data removed]",
      "text/plain": [
       "<matplotlib.figure.Figure at 0x7f8016e96cc0>"
      ]
     },
     "metadata": {
      "needs_background": "light"
     },
     "output_type": "display_data"
    }
   ],
   "source": [
    "##################################################\n",
    "##              capture waveforms               ##\n",
    "##################################################\n",
    "\n",
    "time, wfm = lecroy.capture_waveforms([\n",
    "    s[\"DUT_IN\"],\n",
    "    s[\"DUT_OUT\"]\n",
    "  ],\n",
    "    average=10\n",
    ")\n",
    "\n",
    "plt.plot(time, wfm[s[\"DUT_IN\"]], \"r\" ,label=\"DUT_IN\")\n",
    "plt.plot(time, wfm[s[\"DUT_OUT\"]],\"g\" ,label=\"DUT_OUT\")\n",
    "plt.legend()\n",
    "plt.xlabel(\"time (s)\")\n",
    "plt.ylabel(\"voltage (V)\")\n",
    "plt.show()"
   ]
  },
  {
   "cell_type": "code",
   "execution_count": 4,
   "metadata": {},
   "outputs": [],
   "source": [
    "##################################################\n",
    "##          use built-in measurements           ##\n",
    "##################################################\n",
    "\n",
    "n_samples = 100\n",
    "\n",
    "vals = lecroy.measure_statistics([m[\"DUT_OUT_RISE\"],m[\"DUT_OUT_FALL\"]],n_samples)"
   ]
  },
  {
   "cell_type": "code",
   "execution_count": 5,
   "metadata": {},
   "outputs": [
    {
     "data": {
      "image/png": "[encoded data removed]",
      "text/plain": [
       "<matplotlib.figure.Figure at 0x7f8016e96be0>"
      ]
     },
     "metadata": {
      "needs_background": "light"
     },
     "output_type": "display_data"
    }
   ],
   "source": [
    "\n",
    "## calculate some simple statistics\n",
    "rise_mean = np.mean(vals[m[\"DUT_OUT_RISE\"]])\n",
    "rise_std  = np.std(vals[m[\"DUT_OUT_RISE\"]])\n",
    "\n",
    "## plot recorded data as histogram\n",
    "plt.hist(vals[m[\"DUT_OUT_RISE\"]], label=\"mean = {:3.2e}s\\nstd = {:3.2e}s\".format(rise_mean,rise_std)) \n",
    "#plt.hist(vals[m[\"DUT_OUT_RISE\"]], bins = np.arange(0,5,0.05))\n",
    "plt.title(\"rise time distribution\") \n",
    "plt.xlabel(\"time (s)\")\n",
    "plt.ylabel(\"counts\")\n",
    "plt.legend()\n",
    "plt.show()"
   ]
  }
 ],
 "metadata": {
  "kernelspec": {
   "display_name": "Python 3",
   "language": "python",
   "name": "python3"
  },
  "language_info": {
   "codemirror_mode": {
    "name": "ipython",
    "version": 3
   },
   "file_extension": ".py",
   "mimetype": "text/x-python",
   "name": "python",
   "nbconvert_exporter": "python",
   "pygments_lexer": "ipython3",
   "version": "3.6.8"
  }
 },
 "nbformat": 4,
 "nbformat_minor": 2
}
