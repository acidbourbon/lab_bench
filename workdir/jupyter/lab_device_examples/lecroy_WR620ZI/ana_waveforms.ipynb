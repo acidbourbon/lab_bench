{
 "cells": [
  {
   "cell_type": "code",
   "execution_count": 1,
   "id": "a0198aac",
   "metadata": {},
   "outputs": [],
   "source": [
    "import numpy as np\n",
    "from matplotlib import pyplot as plt\n",
    "import pandas as pd\n",
    "from sigproc_kit import *\n",
    "from my_utils import *"
   ]
  },
  {
   "cell_type": "code",
   "execution_count": 2,
   "id": "72532418",
   "metadata": {},
   "outputs": [
    {
     "name": "stdout",
     "output_type": "stream",
     "text": [
      "loading from scope_get_memory_waveforms_data/wfm_df.pickle\n"
     ]
    },
    {
     "data": {
      "text/html": [
       "<div>\n",
       "<style scoped>\n",
       "    .dataframe tbody tr th:only-of-type {\n",
       "        vertical-align: middle;\n",
       "    }\n",
       "\n",
       "    .dataframe tbody tr th {\n",
       "        vertical-align: top;\n",
       "    }\n",
       "\n",
       "    .dataframe thead th {\n",
       "        text-align: right;\n",
       "    }\n",
       "</style>\n",
       "<table border=\"1\" class=\"dataframe\">\n",
       "  <thead>\n",
       "    <tr style=\"text-align: right;\">\n",
       "      <th></th>\n",
       "      <th>time</th>\n",
       "      <th>sig_in</th>\n",
       "      <th>filt1</th>\n",
       "      <th>filt2</th>\n",
       "      <th>ramp</th>\n",
       "    </tr>\n",
       "  </thead>\n",
       "  <tbody>\n",
       "    <tr>\n",
       "      <th>0</th>\n",
       "      <td>-5.501364e-08</td>\n",
       "      <td>0.003321</td>\n",
       "      <td>-0.007734</td>\n",
       "      <td>0.022962</td>\n",
       "      <td>0.036713</td>\n",
       "    </tr>\n",
       "    <tr>\n",
       "      <th>1</th>\n",
       "      <td>-5.491362e-08</td>\n",
       "      <td>0.018687</td>\n",
       "      <td>-0.012281</td>\n",
       "      <td>0.009871</td>\n",
       "      <td>0.080053</td>\n",
       "    </tr>\n",
       "    <tr>\n",
       "      <th>2</th>\n",
       "      <td>-5.481360e-08</td>\n",
       "      <td>0.001461</td>\n",
       "      <td>-0.039429</td>\n",
       "      <td>-0.025683</td>\n",
       "      <td>0.049667</td>\n",
       "    </tr>\n",
       "    <tr>\n",
       "      <th>3</th>\n",
       "      <td>-5.471358e-08</td>\n",
       "      <td>-0.014663</td>\n",
       "      <td>-0.005529</td>\n",
       "      <td>-0.029266</td>\n",
       "      <td>0.071095</td>\n",
       "    </tr>\n",
       "    <tr>\n",
       "      <th>4</th>\n",
       "      <td>-5.461356e-08</td>\n",
       "      <td>0.017171</td>\n",
       "      <td>0.016038</td>\n",
       "      <td>-0.022238</td>\n",
       "      <td>0.093833</td>\n",
       "    </tr>\n",
       "  </tbody>\n",
       "</table>\n",
       "</div>"
      ],
      "text/plain": [
       "           time    sig_in     filt1     filt2      ramp\n",
       "0 -5.501364e-08  0.003321 -0.007734  0.022962  0.036713\n",
       "1 -5.491362e-08  0.018687 -0.012281  0.009871  0.080053\n",
       "2 -5.481360e-08  0.001461 -0.039429 -0.025683  0.049667\n",
       "3 -5.471358e-08 -0.014663 -0.005529 -0.029266  0.071095\n",
       "4 -5.461356e-08  0.017171  0.016038 -0.022238  0.093833"
      ]
     },
     "execution_count": 2,
     "metadata": {},
     "output_type": "execute_result"
    }
   ],
   "source": [
    "df = unpickle(\"scope_get_memory_waveforms_data/wfm_df.pickle\")\n",
    "df.head(5)"
   ]
  },
  {
   "cell_type": "code",
   "execution_count": 7,
   "id": "d6768a70",
   "metadata": {},
   "outputs": [
    {
     "data": {
      "text/html": [
       "<div>\n",
       "<style scoped>\n",
       "    .dataframe tbody tr th:only-of-type {\n",
       "        vertical-align: middle;\n",
       "    }\n",
       "\n",
       "    .dataframe tbody tr th {\n",
       "        vertical-align: top;\n",
       "    }\n",
       "\n",
       "    .dataframe thead th {\n",
       "        text-align: right;\n",
       "    }\n",
       "</style>\n",
       "<table border=\"1\" class=\"dataframe\">\n",
       "  <thead>\n",
       "    <tr style=\"text-align: right;\">\n",
       "      <th></th>\n",
       "      <th>sig_in</th>\n",
       "      <th>filt1</th>\n",
       "      <th>filt2</th>\n",
       "      <th>ramp</th>\n",
       "    </tr>\n",
       "    <tr>\n",
       "      <th>time</th>\n",
       "      <th></th>\n",
       "      <th></th>\n",
       "      <th></th>\n",
       "      <th></th>\n",
       "    </tr>\n",
       "  </thead>\n",
       "  <tbody>\n",
       "    <tr>\n",
       "      <th>-5.501364e-08</th>\n",
       "      <td>0.003321</td>\n",
       "      <td>-0.007734</td>\n",
       "      <td>0.022962</td>\n",
       "      <td>0.036713</td>\n",
       "    </tr>\n",
       "    <tr>\n",
       "      <th>-5.491362e-08</th>\n",
       "      <td>0.018687</td>\n",
       "      <td>-0.012281</td>\n",
       "      <td>0.009871</td>\n",
       "      <td>0.080053</td>\n",
       "    </tr>\n",
       "    <tr>\n",
       "      <th>-5.481360e-08</th>\n",
       "      <td>0.001461</td>\n",
       "      <td>-0.039429</td>\n",
       "      <td>-0.025683</td>\n",
       "      <td>0.049667</td>\n",
       "    </tr>\n",
       "    <tr>\n",
       "      <th>-5.471358e-08</th>\n",
       "      <td>-0.014663</td>\n",
       "      <td>-0.005529</td>\n",
       "      <td>-0.029266</td>\n",
       "      <td>0.071095</td>\n",
       "    </tr>\n",
       "    <tr>\n",
       "      <th>-5.461356e-08</th>\n",
       "      <td>0.017171</td>\n",
       "      <td>0.016038</td>\n",
       "      <td>-0.022238</td>\n",
       "      <td>0.093833</td>\n",
       "    </tr>\n",
       "  </tbody>\n",
       "</table>\n",
       "</div>"
      ],
      "text/plain": [
       "                 sig_in     filt1     filt2      ramp\n",
       "time                                                 \n",
       "-5.501364e-08  0.003321 -0.007734  0.022962  0.036713\n",
       "-5.491362e-08  0.018687 -0.012281  0.009871  0.080053\n",
       "-5.481360e-08  0.001461 -0.039429 -0.025683  0.049667\n",
       "-5.471358e-08 -0.014663 -0.005529 -0.029266  0.071095\n",
       "-5.461356e-08  0.017171  0.016038 -0.022238  0.093833"
      ]
     },
     "execution_count": 7,
     "metadata": {},
     "output_type": "execute_result"
    }
   ],
   "source": [
    "df = df.set_index(\"time\")\n",
    "df.head(5)"
   ]
  },
  {
   "cell_type": "code",
   "execution_count": 17,
   "id": "91ed3c4b",
   "metadata": {},
   "outputs": [
    {
     "data": {
      "text/plain": [
       "<matplotlib.legend.Legend at 0x7f981f0bd4a8>"
      ]
     },
     "execution_count": 17,
     "metadata": {},
     "output_type": "execute_result"
    },
    {
     "data": {
      "image/png": "[encoded data removed]",
      "text/plain": [
       "<matplotlib.figure.Figure at 0x7f981f0bd518>"
      ]
     },
     "metadata": {
      "needs_background": "light"
     },
     "output_type": "display_data"
    }
   ],
   "source": [
    "\n",
    "c=0\n",
    "for key in df.keys():\n",
    "  plt.plot(df[key]-c)\n",
    "  c+=1\n",
    "\n",
    "plt.legend()"
   ]
  },
  {
   "cell_type": "code",
   "execution_count": 14,
   "id": "ad173db7",
   "metadata": {},
   "outputs": [
    {
     "data": {
      "text/plain": [
       "Index(['sig_in', 'filt1', 'filt2', 'ramp'], dtype='object')"
      ]
     },
     "execution_count": 14,
     "metadata": {},
     "output_type": "execute_result"
    }
   ],
   "source": []
  }
 ],
 "metadata": {
  "kernelspec": {
   "display_name": "Python 3",
   "language": "python",
   "name": "python3"
  },
  "language_info": {
   "codemirror_mode": {
    "name": "ipython",
    "version": 3
   },
   "file_extension": ".py",
   "mimetype": "text/x-python",
   "name": "python",
   "nbconvert_exporter": "python",
   "pygments_lexer": "ipython3",
   "version": "3.6.8"
  }
 },
 "nbformat": 4,
 "nbformat_minor": 5
}
