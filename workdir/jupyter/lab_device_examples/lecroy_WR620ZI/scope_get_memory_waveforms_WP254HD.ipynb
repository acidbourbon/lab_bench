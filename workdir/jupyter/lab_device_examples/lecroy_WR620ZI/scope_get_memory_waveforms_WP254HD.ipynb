{
 "cells": [
  {
   "cell_type": "code",
   "execution_count": 1,
   "metadata": {},
   "outputs": [
    {
     "name": "stdout",
     "output_type": "stream",
     "text": [
      "*IDN?\n",
      "LECROY,WP254HD,LCRY4608N02556,9.7.0\n",
      "successfully connected to Lecroy scope!\n"
     ]
    },
    {
     "data": {
      "text/plain": [
       "1"
      ]
     },
     "execution_count": 1,
     "metadata": {},
     "output_type": "execute_result"
    }
   ],
   "source": [
    "import numpy as np\n",
    "from matplotlib import pyplot as plt\n",
    "\n",
    "\n",
    "from my_utils import *\n",
    "from sigproc_kit import *\n",
    "\n",
    "import WP254HD as lecroy\n",
    "lecroy.init(\"192.168.0.103\")\n"
   ]
  },
  {
   "cell_type": "code",
   "execution_count": 5,
   "metadata": {},
   "outputs": [],
   "source": [
    "##################################################\n",
    "##           configure LeCroy Scope             ##\n",
    "##################################################\n",
    "\n",
    "#lecroy.clear_all()\n",
    "\n",
    "s = {\n",
    "    \"filt1\"   :\"M1\", \n",
    "}\n",
    "\n"
   ]
  },
  {
   "cell_type": "code",
   "execution_count": 6,
   "metadata": {},
   "outputs": [],
   "source": [
    "##################################################\n",
    "##              capture waveforms               ##\n",
    "##################################################\n",
    "\n",
    "time, wfm = lecroy.capture_waveforms([\n",
    "    s[\"filt1\"],\n",
    "  ],\n",
    "    average=1\n",
    ")\n",
    "\n"
   ]
  },
  {
   "cell_type": "code",
   "execution_count": 7,
   "metadata": {},
   "outputs": [
    {
     "data": {
      "image/png": "[encoded data removed]",
      "text/plain": [
       "<matplotlib.figure.Figure at 0x7f92d5156da0>"
      ]
     },
     "metadata": {
      "needs_background": "light"
     },
     "output_type": "display_data"
    }
   ],
   "source": [
    "##################################################\n",
    "##                     plot                     ##\n",
    "##################################################\n",
    "\n",
    "\n",
    "plt.plot(time, wfm[s[\"filt1\"]] ,label=\"filt1\")\n",
    "plt.legend()\n",
    "plt.xlabel(\"time (s)\")\n",
    "plt.ylabel(\"voltage (V)\")\n",
    "plt.show()"
   ]
  }
 ],
 "metadata": {
  "kernelspec": {
   "display_name": "Python 3",
   "language": "python",
   "name": "python3"
  },
  "language_info": {
   "codemirror_mode": {
    "name": "ipython",
    "version": 3
   },
   "file_extension": ".py",
   "mimetype": "text/x-python",
   "name": "python",
   "nbconvert_exporter": "python",
   "pygments_lexer": "ipython3",
   "version": "3.6.8"
  }
 },
 "nbformat": 4,
 "nbformat_minor": 2
}
