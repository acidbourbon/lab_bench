{
 "cells": [
  {
   "cell_type": "code",
   "execution_count": 3,
   "metadata": {},
   "outputs": [],
   "source": [
    "import numpy as np\n",
    "from matplotlib import pyplot as plt\n",
    "\n",
    "import AWG70002A as awg\n",
    "awg_ip = \"192.168.0.198\""
   ]
  },
  {
   "cell_type": "code",
   "execution_count": 4,
   "metadata": {},
   "outputs": [
    {
     "data": {
      "image/png": "[encoded data removed]",
      "text/plain": [
       "<matplotlib.figure.Figure at 0x7f11d80b0da0>"
      ]
     },
     "metadata": {
      "needs_background": "light"
     },
     "output_type": "display_data"
    },
    {
     "name": "stdout",
     "output_type": "stream",
     "text": [
      "target ip : 192.168.0.198\n",
      "connect to device ...\n",
      "*IDN?\n",
      "TEKTRONIX,AWG70002A,B030548,FV:7.1.0170.0\n",
      "success!\n",
      "STOP!\n",
      "NOTE: overriding sample rate to match desired period!\n",
      "have to concatenate 1 samples into memory to achieve desired period\n",
      "attempting to set sample rate : 8.000000e+09 Hz\n",
      "read back sample rate (Hz):\n",
      "8.0000000000E+9\n",
      "success!\n",
      "preparing data for channel 1\n",
      "sending data ...\n",
      "waveform length: 8000\n",
      "sample length: 8000\n",
      "RUN!\n",
      "close socket\n"
     ]
    }
   ],
   "source": [
    "##################################################\n",
    "##                 gauss pulse                  ##\n",
    "##################################################\n",
    "\n",
    "\n",
    "def gauss(x, **kwargs):\n",
    "  mu = kwargs.get(\"mu\",0)\n",
    "  sigma = kwargs.get(\"sigma\",1)\n",
    "  ## default amplitude generates bell curve with area = 1\n",
    "  A = kwargs.get(\"A\",1./(sigma*(2.*np.pi)**0.5))\n",
    "  return A*np.exp(-(x-mu)**2/(2.*sigma**2))\n",
    "\n",
    "\n",
    "\n",
    "period = 1e-6\n",
    "\n",
    "x=np.arange(0,period,0.1e-9)\n",
    "\n",
    "y=gauss(x,sigma=20e-9,mu=300e-9,A=200e-3)\n",
    "\n",
    "plt.plot(x*1e9,y)\n",
    "plt.xlabel(\"time (ns)\")\n",
    "plt.ylabel(\"voltage (V)\")\n",
    "plt.show()\n",
    "\n",
    "awg.send_data(x,y,\n",
    "              trace=1,\n",
    "              ip=awg_ip,\n",
    "              period=period)"
   ]
  },
  {
   "cell_type": "code",
   "execution_count": 5,
   "metadata": {},
   "outputs": [
    {
     "name": "stdout",
     "output_type": "stream",
     "text": [
      "target ip : 192.168.0.198\n",
      "connect to device ...\n",
      "*IDN?\n",
      "TEKTRONIX,AWG70002A,B030548,FV:7.1.0170.0\n",
      "success!\n",
      "STOP!\n",
      "NOTE: overriding sample rate to match desired period!\n",
      "have to concatenate 1 samples into memory to achieve desired period\n",
      "attempting to set sample rate : 8.000000e+09 Hz\n",
      "read back sample rate (Hz):\n",
      "8.0000000000E+9\n",
      "success!\n",
      "preparing data for channel 2\n",
      "sending data ...\n",
      "waveform length: 8000\n",
      "sample length: 8000\n",
      "RUN!\n",
      "close socket\n"
     ]
    }
   ],
   "source": [
    "##################################################\n",
    "##               reference pulse                ##\n",
    "##################################################\n",
    "\n",
    "awg.pulser(\n",
    "    trace=2,\n",
    "    ip=awg_ip,\n",
    "    on_val=200e-3,\n",
    "    width=50e-9,\n",
    "    leading_edge=2e-9,\n",
    "    trailing_edge=2e-9,\n",
    "    delay=0e-9,\n",
    "    period=period\n",
    ")"
   ]
  }
 ],
 "metadata": {
  "kernelspec": {
   "display_name": "Python 3",
   "language": "python",
   "name": "python3"
  },
  "language_info": {
   "codemirror_mode": {
    "name": "ipython",
    "version": 3
   },
   "file_extension": ".py",
   "mimetype": "text/x-python",
   "name": "python",
   "nbconvert_exporter": "python",
   "pygments_lexer": "ipython3",
   "version": "3.6.8"
  }
 },
 "nbformat": 4,
 "nbformat_minor": 4
}
