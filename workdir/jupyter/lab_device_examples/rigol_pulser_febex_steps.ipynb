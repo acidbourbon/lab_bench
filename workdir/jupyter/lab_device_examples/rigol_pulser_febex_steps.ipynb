{
 "cells": [
  {
   "cell_type": "code",
   "execution_count": 1,
   "metadata": {},
   "outputs": [],
   "source": [
    "import numpy as np\n",
    "from matplotlib import pyplot as plt\n",
    "from sigproc_kit import *\n",
    "import rigol_DG4202 as awg\n",
    "import random"
   ]
  },
  {
   "cell_type": "code",
   "execution_count": 2,
   "metadata": {},
   "outputs": [
    {
     "name": "stdout",
     "output_type": "stream",
     "text": [
      "connect to device ...\n",
      "*IDN?\n",
      "Rigol Technologies,DG4202,DG4E214001987,00.01.14\n",
      "success!\n"
     ]
    },
    {
     "data": {
      "text/plain": [
       "<vxi11.vxi11.Instrument at 0x7f831e793128>"
      ]
     },
     "execution_count": 2,
     "metadata": {},
     "output_type": "execute_result"
    }
   ],
   "source": [
    "awg.open_session(\"192.168.0.104\")  #MTrax pulser\n",
    "#awg.open_session(\"192.168.0.221\") #MichaW's pulser"
   ]
  },
  {
   "cell_type": "code",
   "execution_count": 3,
   "metadata": {},
   "outputs": [
    {
     "data": {
      "image/png": "[encoded data removed]",
      "text/plain": [
       "<matplotlib.figure.Figure at 0x7f830589b3c8>"
      ]
     },
     "metadata": {
      "needs_background": "light"
     },
     "output_type": "display_data"
    }
   ],
   "source": [
    "##################################################\n",
    "##               arbitrary pulse                ##\n",
    "##################################################\n",
    "\n",
    "\n",
    "period = 30e-6\n",
    "\n",
    "\n",
    "#x = np.arange(0,period,1e-9)\n",
    "\n",
    "#amplitude_pkpk = 100e-3\n",
    "amplitude_pkpk = 10e-3\n",
    "offset         = 0.4\n",
    "min_step       = 10e-3\n",
    "\n",
    "#steps = 128\n",
    "steps = 65\n",
    "\n",
    "last_v = 0\n",
    "\n",
    "x = [0]\n",
    "y = [last_v]\n",
    "\n",
    "step_width = 200e-9\n",
    "\n",
    "edge = 20e-9\n",
    "\n",
    "\n",
    "\n",
    "for i in range(1,steps+1):\n",
    "\n",
    "  x += [i*step_width-edge/2]\n",
    "  y += [last_v]\n",
    "\n",
    "    \n",
    "  new_v = 0\n",
    "  while True:\n",
    "#    new_v = amplitude_pkpk * ((random.random()-0.5)) +offset\n",
    "    new_v = amplitude_pkpk * (-1)**(i+1) +offset\n",
    "    if (abs(last_v-new_v)>min_step):\n",
    "      break\n",
    "  if(i == steps):\n",
    "    new_V = 0\n",
    "    \n",
    "  x += [i*step_width+edge/2]\n",
    "  y += [new_v]\n",
    "  \n",
    "  last_v = new_v\n",
    "  \n",
    "\n",
    "x = np.array(x)\n",
    "y = np.array(y)\n",
    "\n",
    "\n",
    "\n",
    "\n",
    "\n",
    "\n",
    "plt.plot(x*1e9,y*1e3)\n",
    "plt.xlabel(\"ns\")\n",
    "plt.ylabel(\"mV\")\n",
    "plt.show()\n",
    "\n",
    "awg.program_trace(x,y,trace=1,period=period)"
   ]
  },
  {
   "cell_type": "code",
   "execution_count": null,
   "metadata": {},
   "outputs": [],
   "source": []
  }
 ],
 "metadata": {
  "kernelspec": {
   "display_name": "Python 3",
   "language": "python",
   "name": "python3"
  },
  "language_info": {
   "codemirror_mode": {
    "name": "ipython",
    "version": 3
   },
   "file_extension": ".py",
   "mimetype": "text/x-python",
   "name": "python",
   "nbconvert_exporter": "python",
   "pygments_lexer": "ipython3",
   "version": "3.6.8"
  }
 },
 "nbformat": 4,
 "nbformat_minor": 2
}
