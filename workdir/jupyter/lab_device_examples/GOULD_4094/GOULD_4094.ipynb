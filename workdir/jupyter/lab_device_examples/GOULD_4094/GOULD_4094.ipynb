{
 "cells": [
  {
   "cell_type": "code",
   "execution_count": 1,
   "id": "0f675e7b",
   "metadata": {},
   "outputs": [],
   "source": [
    "import numpy as np\n",
    "from matplotlib import pyplot as plt\n",
    "\n",
    "from GOULD_4094 import capture"
   ]
  },
  {
   "cell_type": "code",
   "execution_count": 2,
   "id": "06ad285c",
   "metadata": {},
   "outputs": [],
   "source": [
    "device = \"/dev/ttyUSB0\""
   ]
  },
  {
   "cell_type": "code",
   "execution_count": 3,
   "id": "ea958e6f",
   "metadata": {
    "scrolled": true
   },
   "outputs": [
    {
     "name": "stdout",
     "output_type": "stream",
     "text": [
      "communicating with scope\n",
      "may take up to 15 seconds\n",
      "sending command HSA\n",
      "DSO received command HSA\n",
      "\n",
      "received answer:\n",
      "HSA=20E-9\n",
      "sending command VS1\n",
      "DSO received command VS1\n",
      "\n",
      "received answer:\n",
      "VS1=50E-3~\n",
      "sending command PBG1\n",
      "DSO received command PBG1\n",
      "\n",
      "received answer:\n",
      "PBG1=X1\n",
      "sending command VP1\n",
      "DSO received command VP1\n",
      "\n",
      "received answer:\n",
      "VP1=-2.32\n",
      "\n",
      "whole screen width: 2e-07 sec\n",
      "probe gain: 1\n",
      "whole screen height: 0.4 volts\n",
      "trace offset: -0.116 volts\n",
      "sending command TRC1A\n",
      "DSO received command TRC1A\n",
      "\n",
      "received answer:\n",
      "TRC1A=-87,-87,-87,-87,-87,-87,-87,-87,-87,-88,-87,-87,-87,-87,-87,-86,-86,-87,-87,-86,-87,-87,-87,-87,-87,-87,-87,-87,-87,-88,-87,-87,-87,-87,-87,-87,-87,-88,-87,-87,-87,-87,-86,-87,-87,-87,-87,-87,-87,-87,-87,-87,-86,-87,-87,-86,-87,-87,-87,-87,-87,-87,-87,-87,-87,-87,-86,-87,-86,-87,-87,-87,-87,-87,-87,-87,-87,-86,-87,-86,-86,-87,-86,-86,-85,-85,-83,-81,-77,-71,-66,-58,-52,-45,-36,-28,-20,-13,-7,0,6,13,19,24,31,35,39,43,47,52,56,60,64,67,70,73,77,78,81,82,84,85,86,87,87,88,89,90,90,90,90,90,90,90,89,90,90,89,89,88,87,86,85,85,84,84,82,81,81,80,79,77,76,75,75,73,72,71,69,68,67,65,64,63,61,61,59,58,56,54,54,53,51,51,48,47,46,44,43,42,41,40,38,37,35,35,33,31,31,29,28,27,25,25,23,22,21,19,19,17,17,15,14,13,11,11,10,9,7,6,5,4,2,3,1,0,-1,-2,-3,-4,-5,-6,-7,-7,-8,-9,-10,-11,-12,-13,-13,-14,-16,-18,-20,-18,-20,-20,-20,-21,-22,-23,-23,-25,-25,-26,-27,-27,-27,-29,-29,-31,-30,-31,-32,-33,-33,-34,-34,-35,-35,-37,-37,-38,-38,-38,-39,-40,-40,-42,-42,-43,-43,-43,-44,-44,-45,-44,-45,-47,-46,-47,-48,-48,-49,-49,-49,-50,-50,-50,-51,-52,-52,-52,-53,-53,-53,-53,-53,-54,-54,-55,-55,-55,-56,-56,-56,-57,-57,-58,-57,-58,-58,-58,-58,-59,-58,-60,-59,-60,-60,-61,-61,-61,-61,-62,-61,-61,-62,-63,-62,-63,-63,-63,-64,-64,-64,-64,-64,-65,-65,-65,-66,-66,-66,-66,-66,-67,-67,-67,-67,-67,-68,-68,-68,-68,-68,-69,-69,-70,-69,-70,-70,-70,-71,-70,-71,-71,-71,-72,-71,-72,-72,-71,-72,-72,-72,-73,-73,-73,-73,-73,-73,-74,-74,-74,-74,-74,-74,-74,-74,-74,-75,-75,-75,-75,-75,-75,-76,-76,-76,-76,-76,-76,-75,-76,-76,-77,-77,-77,-76,-77,-77,-77,-77,-77,-77,-77,-78,-78,-78,-78,-78,-78,-78,-78,-78,-78,-78,-79,-79,-78,-79,-79,-79,-79,-79,-79,-79,-79,-79,-79,-79,-80,-80,-81,-80,-80,-80,-80,-80,-80,-80,-80,-80,-80,-81,-81,-81,-81,-81,-81,-81,-81,-80,-81,-81,-81,-81,-81,-81,-82,-81,-81,-81,-81,-82,-82,-81,-82,-81,-82,-82,-82,-82,-82,-82,-82,-82,-82,-82,-82,-82,-82,-83,-82,-82,-82,-82,-83,-82,-83,-82,-83,-82,-83,-82,-83,-83,-83,-83,-83,-83,-83,-82,-83,-83,-83,-82,-83,-83,-83,-83,-83,-83,-83,-83,-83,-83,-83,-83,-83,-83,-83,-84,-83,-84,-83,-83,-84,-83,-84,-83,-83,-83,-84,-84,-84,-84,-84,-84,-83,-83,-84,-83,-84,-84,-84,-84,-84,-84,-84,-84,-84,-84,-83,-84,-84,-84,-85,-84,-84,-84,-84,-84,-84,-85,-85,-85,-84,-84,-85,-85,-85,-85,-84,-85,-85,-84,-85,-84,-84,-84,-84,-85,-85,-84,-85,-84,-85,-85,-84,-85,-85,-85,-85,-85,-85,-85,-85,-85,-86,-86,-85,-85,-85,-85,-85,-85,-85,-85,-85,-85,-85,-85,-85,-85,-85,-85,-85,-85,-85,-85,-85,-86,-85,-85,-85,-85,-86,-85,-85,-85,-86,-85,-86,-85,-85,-85,-85,-85,-86,-85,-86,-85,-85,-86,-86,-86,-86,-85,-86,-86,-85,-85,-85,-85,-86,-86,-86,-86,-86,-86,-85,-85,-85,-85,-85,-85,-86,-85,-85,-86,-86,-86,-86,-86,-86,-85,-85,-85,-85,-86,-85,-85,-86,-86,-86,-85,-85,-85,-86,-86,-86,-86,-85,-86,-86,-86,-86,-86,-86,-86,-86,-86,-85,-85,-86,-85,-86,-86,-86,-86,-85,-86,-86,-85,-85,-85,-85,-86,-85,-85,-85,-85,-85,-86,-86,-85,-86,-86,-86,-86,-86,-86,-86,-86,-86,-85,-85,-85,-86,-86,-86,-86,-86,-86,-86,-86,-86,-86,-86,-86,-86,-86,-86,-86,-86,-86,-86,-86,-86,-86,-86,-86,-86,-86,-86,-86,-86,-86,-86,-86,-86,-86,-86,-86,-86,-86,-86,-86,-85,-86,-86,-86,-86,-86,-86,-86,-87,-86,-86,-86,-86,-86,-86,-86,-86,-86,-86,-86,-87,-86,-85,-87,-86,-86,-87,-87,-86,-86,-86,-87,-86,-86,-86,-86,-86,-86,-86,-86,-86,-86,-86,-87,-86,-86,-86,-86,-86,-86,-86,-86,-86,-87,-87,-86,-86,-86,-87,-86,-86,-86,-86,-86,-86,-86,-87,-87,-87,-86,-87,-87,-86,-87,-86,-87,-86,-87,-87,-86,-87,-86,-86,-86,-87,-87,-86,-86,-87,-86,-86,-87,-87,-87,-87,-86,-86,-86,-86,-87,-87,-87,-86,-86,-86,-86,-86,-86,-87,-86,-87,-86,-86,-87,-86,-86,-87,-87,-87,-87,-87,-86,-87,-86,-86,-86,-87,-86,-86,-86,-86,-86,-86,-86,-86,-86,-86,-86,-86,-86,-86,-86,-87,-87,-86,-86,-86,-86,-87,-87,-86,-87,-86,-87,-86,-86,-87,-87,-86,-86,-86,-86,-86,-86,-86,-86,-87,-87,-87,-86,-87,-87,-87,-86,-87,-86,-87,-86,-87,-86,-87,-87,-86,-87,-86,-86,-87,-86,-86,-87,-87,-87,-87,-87,-87,-87,-86,-86,-86,-86,-86,-87,-86,-86,-86,-86,-86,-87,-87,-86,-86,-86,-86,-87,-87,-87,-128\n",
      "\n",
      "file list:\n",
      "['/workdir/jupyter/python_modules/GOULD_4094//capture/TRC1A_2022-02-17_15-28-29.dat']\n",
      "communicating with scope\n",
      "may take up to 15 seconds\n",
      "sending command HSA\n",
      "DSO received command HSA\n",
      "\n",
      "received answer:\n",
      "HSA=20E-9\n",
      "sending command VS4\n",
      "DSO received command VS4\n",
      "\n",
      "received answer:\n",
      "VS4=500E-3\n",
      "sending command PBG4\n",
      "DSO received command PBG4\n",
      "\n",
      "received answer:\n",
      "PBG4=X1\n",
      "sending command VP4\n",
      "DSO received command VP4\n",
      "\n",
      "received answer:\n",
      "VP4=-2.47\n",
      "\n",
      "whole screen width: 2e-07 sec\n",
      "probe gain: 1\n",
      "whole screen height: 4 volts\n",
      "trace offset: -1.235 volts\n",
      "sending command TRC4A\n",
      "DSO received command TRC4A\n",
      "\n",
      "received answer:\n",
      "TRC4A=-70,-69,-69,-70,-70,-69,-70,-69,-70,-70,-69,-69,-70,-69,-69,-70,-69,-70,-70,-70,-69,-70,-70,-71,-69,-70,-70,-70,-70,-70,-70,-70,-70,-70,-70,-70,-70,-70,-70,-70,-70,-70,-70,-69,-70,-70,-69,-70,-69,-70,-70,-70,-70,-69,-70,-69,-70,-70,-70,-70,-70,-70,-70,-69,-70,-70,-70,-69,-70,-70,-70,-70,-70,-70,-70,-70,-70,-69,-70,-70,-70,-70,-70,-70,-70,-70,-69,-69,-70,-70,-70,-69,-69,-69,-69,-68,-67,-66,-64,-62,-59,-55,-49,-43,-37,-31,-27,-23,-20,-18,-14,-12,-12,-11,-10,-10,-9,-9,-9,-9,-9,-8,-8,-8,-7,-7,-7,-7,-7,-7,-8,-7,-8,-8,-8,-7,-7,-8,-7,-7,-7,-6,-7,-7,-7,-7,-7,-7,-7,-7,-7,-8,-7,-7,-7,-8,-7,-8,-7,-8,-7,-8,-7,-7,-7,-7,-7,-7,-7,-8,-7,-7,-8,-7,-7,-7,-7,-8,-7,-8,-8,-8,-9,-9,-8,-8,-7,-6,-6,-6,-6,-6,-6,-6,-7,-6,-6,-7,-7,-6,-6,-6,-6,-6,-6,-6,-6,-6,-6,-7,-6,-6,-6,-6,-6,-5,-6,-7,-6,-6,-6,-6,-6,-6,-6,-6,-6,-6,-7,-6,-6,-6,-6,-6,-6,-6,-6,-6,-6,-6,-6,-7,-6,-7,-6,-6,-6,-6,-6,-6,-6,-6,-6,-6,-6,-6,-6,-6,-6,-7,-6,-6,-6,-7,-6,-6,-5,-6,-6,-6,-6,-6,-6,-6,-6,-6,-6,-5,-6,-6,-6,-6,-6,-6,-7,-6,-6,-6,-6,-6,-6,-6,-5,-5,-5,-5,-6,-6,-6,-6,-6,-6,-6,-6,-6,-5,-6,-5,-6,-6,-5,-5,-5,-6,-6,-6,-5,-5,-6,-5,-5,-5,-6,-5,-5,-5,-5,-5,-5,-5,-6,-5,-5,-6,-5,-5,-5,-6,-6,-5,-5,-6,-5,-6,-6,-6,-5,-5,-5,-5,-5,-6,-6,-5,-5,-6,-6,-6,-6,-6,-6,-6,-6,-5,-5,-6,-5,-6,-6,-6,-6,-5,-6,-5,-5,-5,-5,-5,-5,-6,-5,-5,-5,-6,-6,-5,-5,-5,-5,-6,-5,-5,-6,-5,-5,-5,-5,-5,-5,-5,-5,-5,-5,-6,-5,-5,-5,-6,-5,-6,-5,-6,-6,-6,-5,-5,-5,-5,-5,-5,-5,-5,-5,-5,-5,-5,-5,-5,-5,-5,-6,-5,-5,-5,-5,-5,-6,-5,-5,-5,-5,-5,-5,-6,-5,-6,-6,-6,-5,-5,-5,-5,-5,-5,-5,-5,-6,-5,-5,-6,-6,-5,-5,-5,-5,-5,-5,-5,-5,-6,-6,-5,-5,-5,-5,-5,-5,-5,-6,-6,-5,-5,-5,-5,-5,-5,-5,-6,-6,-5,-5,-5,-5,-5,-5,-5,-5,-5,-5,-5,-6,-5,-6,-6,-5,-5,-5,-5,-6,-6,-5,-6,-5,-5,-5,-5,-5,-5,-5,-5,-6,-5,-6,-5,-5,-5,-5,-5,-5,-6,-5,-5,-5,-5,-5,-5,-5,-5,-5,-5,-6,-5,-5,-5,-5,-5,-5,-5,-5,-5,-5,-5,-5,-5,-5,-5,-5,-5,-5,-5,-5,-5,-5,-5,-6,-5,-5,-5,-5,-5,-5,-5,-5,-5,-5,-5,-5,-5,-5,-4,-6,-5,-5,-6,-6,-5,-5,-5,-4,-5,-6,-5,-5,-5,-5,-5,-5,-5,-5,-5,-5,-5,-5,-5,-5,-5,-5,-5,-5,-5,-5,-5,-5,-5,-5,-4,-5,-5,-5,-5,-5,-5,-4,-5,-5,-5,-5,-4,-5,-5,-5,-5,-6,-6,-6,-5,-6,-6,-5,-4,-5,-5,-5,-5,-5,-5,-5,-5,-5,-5,-5,-5,-5,-5,-5,-5,-5,-5,-5,-6,-5,-5,-5,-5,-5,-5,-5,-5,-5,-5,-5,-5,-5,-4,-5,-5,-5,-4,-5,-5,-5,-5,-5,-5,-6,-5,-5,-5,-5,-5,-5,-5,-5,-4,-5,-5,-5,-5,-5,-5,-5,-5,-4,-5,-5,-5,-5,-4,-5,-5,-5,-5,-5,-4,-5,-4,-5,-5,-5,-5,-5,-5,-5,-5,-5,-5,-5,-5,-5,-5,-5,-5,-5,-5,-5,-5,-5,-5,-5,-6,-5,-5,-5,-5,-5,-5,-6,-5,-5,-5,-5,-5,-5,-5,-5,-5,-5,-5,-6,-5,-5,-5,-5,-5,-5,-5,-5,-5,-5,-5,-5,-5,-5,-5,-5,-5,-5,-5,-5,-5,-5,-5,-5,-6,-6,-6,-5,-5,-5,-5,-5,-5,-5,-5,-5,-5,-5,-5,-5,-4,-5,-5,-5,-5,-4,-5,-5,-5,-5,-5,-5,-5,-5,-4,-4,-4,-5,-5,-5,-5,-5,-5,-5,-5,-5,-5,-5,-5,-5,-5,-5,-5,-5,-5,-6,-5,-6,-5,-5,-5,-4,-5,-5,-5,-6,-5,-5,-5,-4,-5,-5,-5,-5,-5,-6,-5,-5,-5,-5,-5,-5,-5,-5,-4,-5,-5,-4,-5,-5,-5,-5,-5,-5,-5,-5,-5,-6,-4,-5,-5,-5,-5,-5,-5,-6,-5,-5,-5,-5,-5,-6,-5,-5,-5,-5,-5,-5,-5,-5,-4,-5,-5,-4,-5,-5,-4,-5,-5,-5,-5,-5,-5,-5,-5,-5,-5,-5,-5,-5,-5,-5,-5,-5,-5,-5,-5,-4,-4,-5,-5,-5,-5,-5,-5,-5,-5,-5,-5,-5,-5,-4,-5,-5,-4,-5,-5,-5,-5,-5,-5,-5,-5,-5,-5,-5,-5,-6,-5,-5,-5,-5,-5,-5,-5,-4,-5,-4,-5,-5,-6,-4,-5,-5,-4,-5,-5,-5,-4,-5,-5,-5,-5,-5,-5,-5,-4,-5,-5,-4,-5,-5,-5,-5,-5,-5,-5,-5,-5,-5,-5,-5,-5,-5,-5,-4,-5,-5,-5\n",
      "\n",
      "file list:\n",
      "['/workdir/jupyter/python_modules/GOULD_4094//capture/TRC4A_2022-02-17_15-28-34.dat']\n"
     ]
    }
   ],
   "source": [
    "x,y1 = capture(\"1A\",device=device)\n",
    "x,y4 = capture(\"4A\",device=device)"
   ]
  },
  {
   "cell_type": "code",
   "execution_count": 4,
   "id": "dd73e62f",
   "metadata": {},
   "outputs": [
    {
     "data": {
      "text/plain": [
       "<matplotlib.legend.Legend at 0x7f3ac502de48>"
      ]
     },
     "execution_count": 4,
     "metadata": {},
     "output_type": "execute_result"
    },
    {
     "data": {
      "image/png": "[encoded data removed]",
      "text/plain": [
       "<matplotlib.figure.Figure at 0x7f3ac5051fd0>"
      ]
     },
     "metadata": {
      "needs_background": "light"
     },
     "output_type": "display_data"
    }
   ],
   "source": [
    "plt.plot(x*1e9,y1*1e3,label=\"trace 1A\")\n",
    "plt.plot(x*1e9,y4*1e3,label=\"trace 4A\")\n",
    "plt.xlabel(\"time (ns)\")\n",
    "plt.ylabel(\"voltage (mV)\")\n",
    "plt.legend()"
   ]
  }
 ],
 "metadata": {
  "kernelspec": {
   "display_name": "Python 3",
   "language": "python",
   "name": "python3"
  },
  "language_info": {
   "codemirror_mode": {
    "name": "ipython",
    "version": 3
   },
   "file_extension": ".py",
   "mimetype": "text/x-python",
   "name": "python",
   "nbconvert_exporter": "python",
   "pygments_lexer": "ipython3",
   "version": "3.6.8"
  }
 },
 "nbformat": 4,
 "nbformat_minor": 5
}
