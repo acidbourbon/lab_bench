{
 "cells": [
  {
   "cell_type": "code",
   "execution_count": 1,
   "metadata": {},
   "outputs": [
    {
     "name": "stdout",
     "output_type": "stream",
     "text": [
      "*IDN?\n",
      "TEKTRONIX,DPO7354C,C140419,CF:91.1CT FV:7.6.0 Build 7\n",
      "successfully connected to Tektronix scope!\n"
     ]
    }
   ],
   "source": [
    "import numpy as np\n",
    "from matplotlib import pyplot as plt\n",
    "\n",
    "import DPO7354C as scope\n",
    "scope.init(\"192.168.0.219\")\n",
    "import os\n"
   ]
  },
  {
   "cell_type": "code",
   "execution_count": 2,
   "metadata": {},
   "outputs": [],
   "source": [
    "# the function in my_utils\n",
    "\n",
    "def write_csv(filename,vector_list,**kwargs):\n",
    "  delimiter = kwargs.get(\"delimiter\",\", \")\n",
    "  cols = len(vector_list)\n",
    "  #print(cols)\n",
    "  rows = len(vector_list[0])\n",
    "  #print(rows)\n",
    "  formatstring = (\"{:e}\"+delimiter)*(cols-1)+ \"{:e}\" + \"\\n\"\n",
    "  with open(filename,\"w\") as f:\n",
    "    for i in range(len(vector_list[0])):\n",
    "      values = []\n",
    "      for j in range(cols):\n",
    "        values += [vector_list[j][i]]\n",
    "      f.write(formatstring.format(*values))\n",
    "    f.close()"
   ]
  },
  {
   "cell_type": "code",
   "execution_count": 3,
   "metadata": {},
   "outputs": [],
   "source": [
    "##################################################\n",
    "##           configure Tek Scope                ##\n",
    "##################################################\n",
    "\n",
    "\n",
    "s = {\n",
    "    \"test\"   :\"CH1\", \n",
    "    #\"ref\"    :\"CH1\", \n",
    "}\n",
    "\n"
   ]
  },
  {
   "cell_type": "code",
   "execution_count": 4,
   "metadata": {},
   "outputs": [
    {
     "data": {
      "image/png": "[encoded data removed]",
      "text/plain": [
       "<matplotlib.figure.Figure at 0x7fa168c3b358>"
      ]
     },
     "metadata": {
      "needs_background": "light"
     },
     "output_type": "display_data"
    }
   ],
   "source": [
    "##################################################\n",
    "##              capture waveforms               ##\n",
    "##################################################\n",
    "\n",
    "time, wfm = scope.capture_waveforms([\n",
    "    s[\"test\"],\n",
    "  ],\n",
    "    average=1\n",
    ")\n",
    "\n",
    "##################################################\n",
    "##                     plot                     ##\n",
    "##################################################\n",
    "\n",
    "\n",
    "plt.plot(time, wfm[s[\"test\"]], \"c\" ,label=\"test\")\n",
    "plt.legend()\n",
    "plt.xlabel(\"time (s)\")\n",
    "plt.ylabel(\"voltage (V)\")\n",
    "plt.show()"
   ]
  },
  {
   "cell_type": "code",
   "execution_count": 5,
   "metadata": {},
   "outputs": [
    {
     "name": "stdout",
     "output_type": "stream",
     "text": [
      "rec wfm no 0100/0100\n",
      "done\n"
     ]
    }
   ],
   "source": [
    "data_dir=\"./measurement_A\"\n",
    "\n",
    "if(not(os.path.isdir(data_dir))):\n",
    "    os.mkdir(data_dir)\n",
    "\n",
    "\n",
    "imax = 100\n",
    "    \n",
    "for i in range(0,imax):\n",
    "    \n",
    "    print(\"\\rrec wfm no {:04d}/{:04d}\".format(i+1,imax),end=\"\")\n",
    "\n",
    "    time, wfm = scope.capture_waveforms([\n",
    "        s[\"test\"],\n",
    "      ],\n",
    "        average=1\n",
    "    )\n",
    "    waveform = wfm[s[\"test\"]]\n",
    "\n",
    "    write_csv(data_dir+\"/\"+\"wfm_{:04d}.csv\".format(i),  [time,waveform])\n",
    "    \n",
    "print(\"\\ndone\")"
   ]
  },
  {
   "cell_type": "code",
   "execution_count": null,
   "metadata": {},
   "outputs": [],
   "source": []
  }
 ],
 "metadata": {
  "kernelspec": {
   "display_name": "Python 3",
   "language": "python",
   "name": "python3"
  },
  "language_info": {
   "codemirror_mode": {
    "name": "ipython",
    "version": 3
   },
   "file_extension": ".py",
   "mimetype": "text/x-python",
   "name": "python",
   "nbconvert_exporter": "python",
   "pygments_lexer": "ipython3",
   "version": "3.6.8"
  }
 },
 "nbformat": 4,
 "nbformat_minor": 2
}
