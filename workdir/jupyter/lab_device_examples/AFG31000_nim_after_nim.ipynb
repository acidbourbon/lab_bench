{
 "cells": [
  {
   "cell_type": "code",
   "execution_count": 1,
   "metadata": {},
   "outputs": [],
   "source": [
    "import numpy as np\n",
    "from matplotlib import pyplot as plt\n",
    "\n",
    "import AFG31000 as awg\n",
    "awg_ip = \"192.168.0.149\"\n",
    "\n",
    "from sigproc_kit import *\n",
    "\n",
    "from ipywidgets import interact"
   ]
  },
  {
   "cell_type": "code",
   "execution_count": 2,
   "metadata": {},
   "outputs": [
    {
     "data": {
      "image/png": "[encoded data removed]",
      "text/plain": [
       "<matplotlib.figure.Figure at 0x7f8d1fe1feb8>"
      ]
     },
     "metadata": {
      "needs_background": "light"
     },
     "output_type": "display_data"
    }
   ],
   "source": [
    "##################################################\n",
    "##          create arbitrary waveform           ##\n",
    "##################################################\n",
    "\n",
    "\n",
    "\n",
    "\n",
    "period = 1000e-9\n",
    "\n",
    "x=np.arange(0,period,0.1e-9)\n",
    "\n",
    "amp = -0.8\n",
    "width = 15e-9\n",
    "\n",
    "y= amp*(\n",
    "      square_pulse(x, width=width, delay=1e-9)\n",
    "    + square_pulse(x, width=width, delay=41e-9)\n",
    "       )\n",
    "\n",
    "plt.plot(x*1e9,y)\n",
    "plt.xlabel(\"time (ns)\")\n",
    "plt.ylabel(\"voltage (V)\")\n",
    "plt.show()\n",
    "\n"
   ]
  },
  {
   "cell_type": "code",
   "execution_count": 7,
   "metadata": {},
   "outputs": [
    {
     "data": {
      "application/vnd.jupyter.widget-view+json": {
       "model_id": "2ad9328bb7a642e9a327b0ac55784b87",
       "version_major": 2,
       "version_minor": 0
      },
      "text/plain": [
       "interactive(children=(FloatSlider(value=15.0, description='width_ns', min=1.0), FloatSlider(value=20.0, descri…"
      ]
     },
     "metadata": {},
     "output_type": "display_data"
    },
    {
     "data": {
      "text/plain": [
       "<function __main__.my_function(width_ns=15, dist_ns=20, n=3)>"
      ]
     },
     "execution_count": 7,
     "metadata": {},
     "output_type": "execute_result"
    }
   ],
   "source": [
    "##################################################\n",
    "##                interactive                   ##\n",
    "##################################################\n",
    "\n",
    "\n",
    "period = 1000e-9\n",
    "\n",
    "plot_r = 100e-9\n",
    "\n",
    "x=np.arange(0,period,0.1e-9)\n",
    "\n",
    "amp = -0.8\n",
    "start_ns = 1;\n",
    "y = 0*x \n",
    "\n",
    "def my_function(width_ns=15,dist_ns=20,n=3):\n",
    "    global y\n",
    "    y = 0*x \n",
    "    for i in range(n):\n",
    "        y += amp*square_pulse(x, width=width_ns*1e-9, delay=(start_ns+i*dist_ns)*1e-9)\n",
    "\n",
    "    plt.plot(x*1e9,y)\n",
    "    plt.xlabel(\"time (ns)\")\n",
    "    plt.ylabel(\"voltage (V)\")\n",
    "    plt.xlim(0,plot_r*1e9)\n",
    "    plt.show()\n",
    "\n",
    "# create a slider\n",
    "interact(my_function,\n",
    "         width_ns=(1,100,0.1),\n",
    "         dist_ns=(2,100,0.1),\n",
    "         n=(1,10,1)\n",
    "        )\n",
    "\n"
   ]
  },
  {
   "cell_type": "code",
   "execution_count": 15,
   "metadata": {},
   "outputs": [
    {
     "name": "stdout",
     "output_type": "stream",
     "text": [
      "target ip : 192.168.0.149\n",
      "connect to device ...\n",
      "*IDN?\n",
      "TEKTRONIX,AFG31252,C010446,SCPI:99.0 FV:1.6.1\n",
      "success!\n",
      "idle val: 0.0\n",
      "preparing data for channel 1\n",
      "sending data ...\n",
      "waveform length: 2000\n",
      "sample length: 2000\n",
      "close socket\n"
     ]
    }
   ],
   "source": [
    "##################################################\n",
    "##        send arbitrary waveform to CH1        ##\n",
    "##################################################\n",
    "\n",
    "\n",
    "awg.send_data(x,y,ip=awg_ip,trace=1,period=period)"
   ]
  },
  {
   "cell_type": "code",
   "execution_count": 5,
   "metadata": {},
   "outputs": [
    {
     "name": "stdout",
     "output_type": "stream",
     "text": [
      "target ip : 192.168.0.178\n",
      "connect to device ...\n",
      "*IDN?\n",
      "TEKTRONIX,AFG31252,C011442,SCPI:99.0 FV:1.5.2\n",
      "success!\n",
      "preparing data for channel 2\n",
      "sending data ...\n",
      "waveform length: 200\n",
      "sample length: 200\n",
      "close socket\n"
     ]
    }
   ],
   "source": [
    "##################################################\n",
    "##           send square pulse to CH2           ##\n",
    "##################################################\n",
    "\n",
    "\n",
    "awg.pulser(\n",
    "    period=period,\n",
    "    ip=awg_ip,\n",
    "    trace=2,\n",
    "    leading_edge=1e-9,\n",
    "    trailing_edge=1e-9,\n",
    "    on_val=0.25,\n",
    "    idle_val=0,\n",
    "    delay=10e-9,\n",
    "    width=30e-9\n",
    "\n",
    ")"
   ]
  }
 ],
 "metadata": {
  "kernelspec": {
   "display_name": "Python 3",
   "language": "python",
   "name": "python3"
  },
  "language_info": {
   "codemirror_mode": {
    "name": "ipython",
    "version": 3
   },
   "file_extension": ".py",
   "mimetype": "text/x-python",
   "name": "python",
   "nbconvert_exporter": "python",
   "pygments_lexer": "ipython3",
   "version": "3.6.8"
  }
 },
 "nbformat": 4,
 "nbformat_minor": 4
}
