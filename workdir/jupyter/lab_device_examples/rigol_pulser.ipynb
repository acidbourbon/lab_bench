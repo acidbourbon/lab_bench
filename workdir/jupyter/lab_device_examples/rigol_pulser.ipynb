{
 "cells": [
  {
   "cell_type": "code",
   "execution_count": 1,
   "metadata": {},
   "outputs": [],
   "source": [
    "import numpy as np\n",
    "from matplotlib import pyplot as plt\n",
    "from sigproc_kit import *\n",
    "import rigol_DG4202 as awg"
   ]
  },
  {
   "cell_type": "code",
   "execution_count": 2,
   "metadata": {},
   "outputs": [
    {
     "name": "stdout",
     "output_type": "stream",
     "text": [
      "connect to device ...\n",
      "*IDN?\n",
      "Rigol Technologies,DG4202,DG4E214001987,00.01.14\n",
      "success!\n"
     ]
    },
    {
     "data": {
      "text/plain": [
       "<vxi11.vxi11.Instrument at 0x7f4a97b032b0>"
      ]
     },
     "execution_count": 2,
     "metadata": {},
     "output_type": "execute_result"
    }
   ],
   "source": [
    "awg.open_session(\"169.254.254.128\")  #MTrax pulser\n",
    "#awg.open_session(\"192.168.0.221\") #MichaW's pulser"
   ]
  },
  {
   "cell_type": "code",
   "execution_count": 3,
   "metadata": {},
   "outputs": [
    {
     "data": {
      "image/png": "[encoded data removed]",
      "text/plain": [
       "<matplotlib.figure.Figure at 0x7f4a97b1a2e8>"
      ]
     },
     "metadata": {
      "needs_background": "light"
     },
     "output_type": "display_data"
    }
   ],
   "source": [
    "##################################################\n",
    "##               arbitrary pulse                ##\n",
    "##################################################\n",
    "\n",
    "\n",
    "period = 1e-6\n",
    "\n",
    "\n",
    "x = np.arange(0,period,1e-9)\n",
    "\n",
    "Q = 150e-12\n",
    "tau1 = 10e-9\n",
    "tau2 = 50e-9\n",
    "delay=100e-9\n",
    "y = detector_signal_function(x,Q,tau1,tau2,delay)\n",
    "\n",
    "plt.plot(x*1e9,y*1e3)\n",
    "plt.xlabel(\"ns\")\n",
    "plt.ylabel(\"mV\")\n",
    "plt.show()\n",
    "\n",
    "awg.program_trace(x,y,trace=1,period=period)"
   ]
  },
  {
   "cell_type": "code",
   "execution_count": 5,
   "metadata": {},
   "outputs": [
    {
     "name": "stdout",
     "output_type": "stream",
     "text": [
      "connect to device ...\n",
      "*IDN?\n",
      "Rigol Technologies,DG4202,DG4E214001987,00.01.14\n",
      "success!\n",
      "close socket\n"
     ]
    }
   ],
   "source": [
    "##################################################\n",
    "##                 square pulse                 ##\n",
    "##################################################\n",
    "\n",
    "\n",
    "awg.pulser(period=\"10u\",\n",
    "             on_val=0.2,\n",
    "             idle_val=0.1,\n",
    "             width=200e-9,\n",
    "             delay=10e-9,\n",
    "             invert=0,\n",
    "             leading_edge=20e-9, trailing_edge=20e-9)"
   ]
  }
 ],
 "metadata": {
  "kernelspec": {
   "display_name": "Python 3",
   "language": "python",
   "name": "python3"
  },
  "language_info": {
   "codemirror_mode": {
    "name": "ipython",
    "version": 3
   },
   "file_extension": ".py",
   "mimetype": "text/x-python",
   "name": "python",
   "nbconvert_exporter": "python",
   "pygments_lexer": "ipython3",
   "version": "3.6.8"
  }
 },
 "nbformat": 4,
 "nbformat_minor": 2
}
