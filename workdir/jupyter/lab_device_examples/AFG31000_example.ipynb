{
 "cells": [
  {
   "cell_type": "code",
   "execution_count": 1,
   "metadata": {},
   "outputs": [],
   "source": [
    "import numpy as np\n",
    "from matplotlib import pyplot as plt\n",
    "\n",
    "import AFG31000 as awg\n",
    "awg_ip = \"192.168.0.178\""
   ]
  },
  {
   "cell_type": "code",
   "execution_count": 3,
   "metadata": {},
   "outputs": [
    {
     "data": {
      "image/png": "[encoded data removed]",
      "text/plain": [
       "<matplotlib.figure.Figure at 0x7f12e66c7b00>"
      ]
     },
     "metadata": {
      "needs_background": "light"
     },
     "output_type": "display_data"
    }
   ],
   "source": [
    "##################################################\n",
    "##          create arbitrary waveform           ##\n",
    "##################################################\n",
    "\n",
    "\n",
    "def gauss(x, **kwargs):\n",
    "  mu = kwargs.get(\"mu\",0)\n",
    "  sigma = kwargs.get(\"sigma\",1)\n",
    "  ## default amplitude generates bell curve with area = 1\n",
    "  A = kwargs.get(\"A\",1./(sigma*(2.*np.pi)**0.5))\n",
    "  return A*np.exp(-(x-mu)**2/(2.*sigma**2))\n",
    "\n",
    "\n",
    "\n",
    "period = 100e-9\n",
    "\n",
    "x=np.arange(0,period,0.1e-9)\n",
    "\n",
    "y=4*(    gauss(x,sigma=3e-9,mu=30e-9,A=200e-3)+    gauss(x,sigma=3e-9,mu=60e-9,A=-100e-3))\n",
    "\n",
    "plt.plot(x*1e9,y)\n",
    "plt.xlabel(\"time (ns)\")\n",
    "plt.ylabel(\"voltage (V)\")\n",
    "plt.show()\n",
    "\n"
   ]
  },
  {
   "cell_type": "code",
   "execution_count": 4,
   "metadata": {},
   "outputs": [
    {
     "name": "stdout",
     "output_type": "stream",
     "text": [
      "target ip : 192.168.0.178\n",
      "connect to device ...\n",
      "*IDN?\n",
      "TEKTRONIX,AFG31252,C011442,SCPI:99.0 FV:1.5.2\n",
      "success!\n",
      "preparing data for channel 1\n",
      "sending data ...\n",
      "waveform length: 200\n",
      "sample length: 200\n",
      "close socket\n"
     ]
    }
   ],
   "source": [
    "##################################################\n",
    "##        send arbitrary waveform to CH1        ##\n",
    "##################################################\n",
    "\n",
    "\n",
    "awg.send_data(x,y,ip=awg_ip,trace=1,period=period)"
   ]
  },
  {
   "cell_type": "code",
   "execution_count": 5,
   "metadata": {},
   "outputs": [
    {
     "name": "stdout",
     "output_type": "stream",
     "text": [
      "target ip : 192.168.0.178\n",
      "connect to device ...\n",
      "*IDN?\n",
      "TEKTRONIX,AFG31252,C011442,SCPI:99.0 FV:1.5.2\n",
      "success!\n",
      "preparing data for channel 2\n",
      "sending data ...\n",
      "waveform length: 200\n",
      "sample length: 200\n",
      "close socket\n"
     ]
    }
   ],
   "source": [
    "##################################################\n",
    "##           send square pulse to CH2           ##\n",
    "##################################################\n",
    "\n",
    "\n",
    "awg.pulser(\n",
    "    period=period,\n",
    "    ip=awg_ip,\n",
    "    trace=2,\n",
    "    leading_edge=1e-9,\n",
    "    trailing_edge=1e-9,\n",
    "    on_val=0.25,\n",
    "    idle_val=0,\n",
    "    delay=10e-9,\n",
    "    width=30e-9\n",
    "\n",
    ")"
   ]
  }
 ],
 "metadata": {
  "kernelspec": {
   "display_name": "Python 3",
   "language": "python",
   "name": "python3"
  },
  "language_info": {
   "codemirror_mode": {
    "name": "ipython",
    "version": 3
   },
   "file_extension": ".py",
   "mimetype": "text/x-python",
   "name": "python",
   "nbconvert_exporter": "python",
   "pygments_lexer": "ipython3",
   "version": "3.6.8"
  }
 },
 "nbformat": 4,
 "nbformat_minor": 4
}
