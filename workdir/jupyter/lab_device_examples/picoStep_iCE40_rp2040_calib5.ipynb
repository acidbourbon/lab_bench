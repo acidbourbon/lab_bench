{
 "cells": [
  {
   "cell_type": "code",
   "execution_count": 1,
   "id": "d1c37763",
   "metadata": {},
   "outputs": [
    {
     "data": {
      "text/plain": [
       "3379"
      ]
     },
     "execution_count": 1,
     "metadata": {},
     "output_type": "execute_result"
    }
   ],
   "source": [
    "import numpy as np\n",
    "from matplotlib import pyplot as plt\n",
    "from scipy.optimize import curve_fit\n",
    "from statistics_kit import *\n",
    "\n",
    "import serial\n",
    "import time\n",
    "\n",
    "# Set up the serial connection\n",
    "ser = serial.Serial('/dev/ttyACM0', 115200)  # Adjust the baud rate if necessary\n",
    "time.sleep(.1)  # Wait for the connection to establish\n",
    "\n",
    "\n",
    "def ask(cmd):\n",
    "    ser.reset_input_buffer()\n",
    "    ser.write(f\"{cmd}\\n\".encode())  # Send the number followed by a newline\n",
    "    time.sleep(.01)  # Wait for a second before sending the next number\n",
    "    line = ser.readline().decode()\n",
    "    line = line.replace(\"\\r\",\"\")\n",
    "    line = line.replace(\"\\n\",\"\")\n",
    "    #print(\"readback: \",end=\"\")\n",
    "    return line\n",
    "\n",
    "\n",
    "m = 1024\n",
    "y0 = 0\n",
    "\n",
    "\n",
    "def read_adc(**kwargs):\n",
    "    ch = kwargs.get(\"ch\",0)\n",
    "    ans = ask(\"ADC={:d}\".format(ch))\n",
    "    return int(ans)\n",
    "\n",
    "def r_fpga_reg(n):\n",
    "    cmd=\"FPGA=01{:02x}{:04x}\".format(n,0);\n",
    "    ans = ask(cmd)\n",
    "    return int(ans[4:],16)\n",
    "\n",
    "def w_fpga_reg(n,val):\n",
    "    cmd=\"FPGA=02{:02x}{:04x}\".format(n,val);\n",
    "    return ask(cmd)\n",
    "\n",
    "def w_fpga_reg_bit(n,b,state):\n",
    "    cur_val = r_fpga_reg(n)\n",
    "    new_val = (cur_val & ~(1<<b)) | (state*(1<<b))\n",
    "    w_fpga_reg(n, new_val)\n",
    "    \n",
    "def set_loop_length(n):\n",
    "    w_fpga_reg(2, n)\n",
    "    \n",
    "def get_loop_length():\n",
    "    return r_fpga_reg(2)\n",
    "    \n",
    "def enable_stop(state):\n",
    "    w_fpga_reg_bit(3,0,state)\n",
    "    \n",
    "def enable_start(state):\n",
    "    w_fpga_reg_bit(3,2,state)\n",
    "    \n",
    "def enable_trig(state):\n",
    "    w_fpga_reg_bit(3,3,state)\n",
    "    \n",
    "def enable_mask(state):\n",
    "    w_fpga_reg_bit(3,1,state)\n",
    "    \n",
    "def set_thr_start(val):\n",
    "    w_fpga_reg(0,int(val))\n",
    "    \n",
    "def set_thr_stop(val):\n",
    "    w_fpga_reg(1,int(val))\n",
    "    \n",
    "def set_mask_time(val):\n",
    "    w_fpga_reg(4,int(val))\n",
    "    \n",
    "def set_start_time(val):\n",
    "    w_fpga_reg(5,int(val))\n",
    "    \n",
    "def set_start_hold_time(val):\n",
    "    w_fpga_reg(7,int(val))\n",
    "    \n",
    "def set_stop_time(val):\n",
    "    w_fpga_reg(6,int(val))\n",
    "    \n",
    "def read_calib_adc():\n",
    "    return (read_adc(ch=0)-y0)/m\n",
    "    \n",
    "#ser.close()\n",
    "\n",
    "read_adc()"
   ]
  },
  {
   "cell_type": "code",
   "execution_count": 3,
   "id": "1d738640",
   "metadata": {},
   "outputs": [
    {
     "data": {
      "text/plain": [
       "4"
      ]
     },
     "execution_count": 3,
     "metadata": {},
     "output_type": "execute_result"
    }
   ],
   "source": [
    "get_loop_length()"
   ]
  },
  {
   "cell_type": "code",
   "execution_count": 4,
   "id": "6b4a705d",
   "metadata": {},
   "outputs": [
    {
     "data": {
      "image/png": "[encoded data removed]",
      "text/plain": [
       "<matplotlib.figure.Figure at 0x7f94f5df1908>"
      ]
     },
     "metadata": {
      "needs_background": "light"
     },
     "output_type": "display_data"
    },
    {
     "name": "stdout",
     "output_type": "stream",
     "text": [
      "regression parameters: m, y0\n",
      "4137.02857142857\n",
      "19.28571428571513\n"
     ]
    },
    {
     "data": {
      "image/png": "[encoded data removed]",
      "text/plain": [
       "<matplotlib.figure.Figure at 0x7f9443c41668>"
      ]
     },
     "metadata": {
      "needs_background": "light"
     },
     "output_type": "display_data"
    }
   ],
   "source": [
    "##################################################\n",
    "##          calibrate ADC with MASK             ##\n",
    "##################################################\n",
    "\n",
    "\n",
    "steps = 16\n",
    "\n",
    "enable_stop(0)\n",
    "enable_start(0)\n",
    "enable_mask(1)\n",
    "set_loop_length(steps)\n",
    "set_mask_time(8)\n",
    "set_start_time(0)\n",
    "set_stop_time(0)\n",
    "set_thr_start(10e3)\n",
    "set_thr_stop(10e3)\n",
    "\n",
    "x = np.array([])\n",
    "avals = np.array([])\n",
    "\n",
    "\n",
    "for i in range(1,steps):\n",
    "\n",
    "    set_mask_time(i)\n",
    "    x = np.append(x,[i])\n",
    "    time.sleep(.1)\n",
    "    avals = np.append(avals,[read_adc(ch=0)])\n",
    "\n",
    "    \n",
    "plt.plot(x,avals,alpha=0.3)\n",
    "plt.scatter(x,avals)\n",
    "\n",
    "plt.show()\n",
    "\n",
    "p=x/steps\n",
    "plt.plot(p,avals,alpha=0.3)\n",
    "plt.scatter(p,avals)\n",
    "plt.xlabel(\"%on\")\n",
    "plt.ylabel(\"ADC#\")\n",
    "print(\"regression parameters: m, y0\")\n",
    "m,y0 = pearson_regression(p,avals)\n",
    "print(m)\n",
    "print(y0)"
   ]
  },
  {
   "cell_type": "code",
   "execution_count": 42,
   "id": "b6925309",
   "metadata": {},
   "outputs": [
    {
     "data": {
      "application/vnd.jupyter.widget-view+json": {
       "model_id": "bbfb0f1a78e44ba596143eec453ec330",
       "version_major": 2,
       "version_minor": 0
      },
      "text/plain": [
       "interactive(children=(IntSlider(value=5, description='loop_length', max=10), IntSlider(value=10000, descriptio…"
      ]
     },
     "metadata": {},
     "output_type": "display_data"
    },
    {
     "data": {
      "text/plain": [
       "<function __main__.my_function(loop_length=5, thr_start=10000, thr_stop=20000, mask_time=2, start_time=0, stop_time=0, en_start=True, en_stop=False, en_mask=False)>"
      ]
     },
     "execution_count": 42,
     "metadata": {},
     "output_type": "execute_result"
    }
   ],
   "source": [
    "from ipywidgets import interact\n",
    "\n",
    "enable_trig(1)\n",
    "\n",
    "def my_function(loop_length=5, thr_start=10000, thr_stop=20000,mask_time=2,\n",
    "                start_time=0,\n",
    "                #start_hold_time=0,\n",
    "                stop_time=0,\n",
    "                en_start=True, en_stop=False, en_mask=False):\n",
    "    \n",
    "    enable_stop(en_stop)\n",
    "    enable_start(en_start)\n",
    "    enable_mask(en_mask)\n",
    "    set_loop_length(loop_length)\n",
    "    set_mask_time(mask_time)\n",
    "    set_start_time(start_time)\n",
    "    #set_start_hold_time(start_hold_time)\n",
    "    set_stop_time(stop_time)\n",
    "    #start = 30000\n",
    "    set_thr_start(thr_start)\n",
    "    set_thr_stop(thr_stop)\n",
    "    #time.sleep(0.1)\n",
    "    print(\"ADC: {:d}\".format(read_adc(ch=0)))\n",
    "    print(\"calibADC: {:3.3f}\".format(read_calib_adc()))\n",
    "\n",
    "    \n",
    "# create a slider\n",
    "interact(my_function, loop_length=(0,10,1),\n",
    "         thr_start=(10000,50000,100),\n",
    "         thr_stop=(10000,50000,100),en_stop=False,en_mask=True,\n",
    "        mask_time=(0,10,1),\n",
    "        start_time=(0,10,1),\n",
    "        #start_hold_time=(0,10,1),\n",
    "        stop_time=(0,10,1),\n",
    "         en_start=True)"
   ]
  },
  {
   "cell_type": "code",
   "execution_count": 13,
   "id": "4c528899",
   "metadata": {},
   "outputs": [
    {
     "data": {
      "text/plain": [
       "<matplotlib.legend.Legend at 0x7f9443832588>"
      ]
     },
     "execution_count": 13,
     "metadata": {},
     "output_type": "execute_result"
    },
    {
     "data": {
      "image/png": "[encoded data removed]",
      "text/plain": [
       "<matplotlib.figure.Figure at 0x7f9443949400>"
      ]
     },
     "metadata": {
      "needs_background": "light"
     },
     "output_type": "display_data"
    }
   ],
   "source": [
    "adc_vals = []\n",
    "thr_vals = []\n",
    "\n",
    "\n",
    "# goal is to bridge one clock period, i.e. 25% of a 4 clock cycle\n",
    "# with a thr_start of circa 18000 we reach that\n",
    "# or alternatively between the adc fraction of 5% and 30%\n",
    "    \n",
    "\n",
    "enable_stop(0)\n",
    "enable_start(1)\n",
    "enable_mask(1)\n",
    "set_loop_length(5)\n",
    "set_mask_time(3)\n",
    "set_start_time(0)\n",
    "#set_start_hold_time(0)\n",
    "set_stop_time(0)\n",
    "set_thr_start(10e3)\n",
    "set_thr_stop(10e3)\n",
    "\n",
    "    \n",
    "\n",
    "for thr_start in np.linspace(0e3,50e3,100):\n",
    "    set_thr_start(thr_start)\n",
    "    time.sleep(0.05)\n",
    "    adc_vals += [read_calib_adc()]\n",
    "    thr_vals += [int(thr_start)]\n",
    "    \n",
    "adc_vals = np.array(adc_vals)\n",
    "thr_vals = np.array(thr_vals)\n",
    "    \n",
    "plt.plot(thr_vals, adc_vals)\n",
    "#plt.plot(thr_vals, thr_vals*0+.2,label=\"10ns before mask edge\")\n",
    "#plt.plot(thr_vals, thr_vals*0+.05,label=\"start of adjust range\")\n",
    "#plt.plot(thr_vals, thr_vals*0+.25,label=\"end of adjust range\")\n",
    "plt.plot(thr_vals, thr_vals*0+.05,label=\"5%\")\n",
    "plt.plot(thr_vals, thr_vals*0+.1,label=\"10%\")\n",
    "plt.plot(thr_vals, thr_vals*0+.2,label=\"20%\")\n",
    "plt.plot(thr_vals, thr_vals*0+.3,label=\"30%\")\n",
    "plt.plot(thr_vals, thr_vals*0+.4,label=\"40%\")\n",
    "plt.plot(thr_vals, thr_vals*0+.45,label=\"45%\")\n",
    "plt.xlabel(\"start thresh setting\")\n",
    "plt.ylabel(\"ADC value\")\n",
    "plt.title(\"average area\")\n",
    "plt.legend()\n"
   ]
  },
  {
   "cell_type": "code",
   "execution_count": 14,
   "id": "0ea2a13f",
   "metadata": {},
   "outputs": [
    {
     "name": "stdout",
     "output_type": "stream",
     "text": [
      "(-1.6065759154361586e-05, 0.6802229701464495)\n"
     ]
    },
    {
     "data": {
      "image/png": "[encoded data removed]",
      "text/plain": [
       "<matplotlib.figure.Figure at 0x7f9443913198>"
      ]
     },
     "metadata": {
      "needs_background": "light"
     },
     "output_type": "display_data"
    }
   ],
   "source": [
    "# first degree linear model\n",
    "\n",
    "xdata = thr_vals\n",
    "ydata = adc_vals\n",
    "\n",
    "mask = (ydata >= .05) * (ydata <= .45)\n",
    "xdata = xdata[mask]\n",
    "ydata = ydata[mask]\n",
    "\n",
    "plt.plot(xdata,ydata)\n",
    "print(pearson_regression(xdata,ydata))"
   ]
  },
  {
   "cell_type": "code",
   "execution_count": 15,
   "id": "74c080ce",
   "metadata": {},
   "outputs": [],
   "source": [
    "def set_LE_frac(frac,**kwargs):\n",
    "    \n",
    "    do_plot = kwargs.get(\"plot\",False)\n",
    "    \n",
    "    # integral regulator constant\n",
    "    ci = 20000\n",
    "    \n",
    "    \n",
    "    # linear starting estimation from previous linear fit\n",
    "    thr_start = (frac-0.68)/(-1.6e-5)\n",
    "    \n",
    "    enable_stop(0)\n",
    "    enable_start(1)\n",
    "    enable_mask(1)\n",
    "    set_loop_length(5)\n",
    "    set_mask_time(3)\n",
    "    set_start_time(0)\n",
    "    set_start_hold_time(0)\n",
    "    set_stop_time(0)\n",
    "    set_thr_start(thr_start)\n",
    "    set_thr_stop(10e3)\n",
    "\n",
    "    adc_vals = np.array([])\n",
    "\n",
    "    for i in range(20):\n",
    "        set_thr_start(thr_start)\n",
    "        time.sleep(0.02)\n",
    "        aval = read_calib_adc()\n",
    "        error = aval-frac\n",
    "        thr_start += ci*error\n",
    "        adc_vals = np.append(adc_vals,[aval])\n",
    "        \n",
    "    if do_plot:\n",
    "        plt.plot(adc_vals)\n",
    "        plt.show()\n",
    "\n"
   ]
  },
  {
   "cell_type": "code",
   "execution_count": 16,
   "id": "302982f8",
   "metadata": {},
   "outputs": [
    {
     "data": {
      "image/png": "[encoded data removed]",
      "text/plain": [
       "<matplotlib.figure.Figure at 0x7f9443811588>"
      ]
     },
     "metadata": {
      "needs_background": "light"
     },
     "output_type": "display_data"
    },
    {
     "data": {
      "image/png": "[encoded data removed]",
      "text/plain": [
       "<matplotlib.figure.Figure at 0x7f944377b5c0>"
      ]
     },
     "metadata": {
      "needs_background": "light"
     },
     "output_type": "display_data"
    },
    {
     "data": {
      "image/png": "[encoded data removed]",
      "text/plain": [
       "<matplotlib.figure.Figure at 0x7f944376a128>"
      ]
     },
     "metadata": {
      "needs_background": "light"
     },
     "output_type": "display_data"
    },
    {
     "data": {
      "image/png": "[encoded data removed]",
      "text/plain": [
       "<matplotlib.figure.Figure at 0x7f944365b668>"
      ]
     },
     "metadata": {
      "needs_background": "light"
     },
     "output_type": "display_data"
    }
   ],
   "source": [
    "\n",
    "set_LE_frac(0.25, plot=True)\n",
    "set_LE_frac(0.2, plot=True)\n",
    "set_LE_frac(0.1, plot=True)\n",
    "set_LE_frac(0.05, plot=True)"
   ]
  },
  {
   "cell_type": "code",
   "execution_count": 17,
   "id": "fd1db2ae",
   "metadata": {},
   "outputs": [],
   "source": [
    "def set_width_frac(frac,**kwargs):\n",
    "    \n",
    "    do_plot = kwargs.get(\"plot\",False)\n",
    "    next_cycle = kwargs.get(\"next_cycle\",False)\n",
    "    \n",
    "    \n",
    "    # integral regulator constant\n",
    "    ci = -15000\n",
    "    \n",
    "    \n",
    "    # linear starting estimation from previous linear fit\n",
    "    #thr_start = (frac-0.58)/(-1.84e-5)\n",
    "    \n",
    "    thr_stop = 50000\n",
    "    \n",
    "    #stop_time = 0\n",
    "    \n",
    "    #if next_cycle:\n",
    "    #    print(\"doing the next_cycle thing!\")\n",
    "    #    thr_stop = 20000\n",
    "    #    stop_time = 1\n",
    "    \n",
    "    enable_stop(1)\n",
    "    enable_start(1)\n",
    "    enable_mask(0)\n",
    "    set_loop_length(5)\n",
    "    set_mask_time(3) # mask is disabled anyway\n",
    "    set_start_time(0)\n",
    "    #set_start_hold_time(stop_time)\n",
    "    set_stop_time(0)\n",
    "    #set_thr_start(thr_start)\n",
    "    set_thr_stop(thr_stop)\n",
    "\n",
    "    adc_vals = np.array([])\n",
    "\n",
    "    for i in range(20):\n",
    "        set_thr_stop(thr_stop)\n",
    "        time.sleep(0.02)\n",
    "        aval = read_calib_adc()\n",
    "        error = aval-frac\n",
    "        thr_stop += ci*error\n",
    "        adc_vals = np.append(adc_vals,[aval])\n",
    "        \n",
    "    if do_plot:\n",
    "        plt.plot(adc_vals)\n",
    "        plt.show()\n",
    "\n"
   ]
  },
  {
   "cell_type": "code",
   "execution_count": 22,
   "id": "d442e28a",
   "metadata": {},
   "outputs": [
    {
     "data": {
      "image/png": "[encoded data removed]",
      "text/plain": [
       "<matplotlib.figure.Figure at 0x7f94434e1160>"
      ]
     },
     "metadata": {
      "needs_background": "light"
     },
     "output_type": "display_data"
    }
   ],
   "source": [
    "set_LE_frac(0.4)\n",
    "set_width_frac(0.4,plot=True)"
   ]
  },
  {
   "cell_type": "code",
   "execution_count": 23,
   "id": "2bf453fa",
   "metadata": {},
   "outputs": [],
   "source": [
    "def set_LE_ftime_ns(t):\n",
    "    zero_frac = .4\n",
    "    period = 50. # ns ,a 5 clk calib circle\n",
    "    target_frac = zero_frac - t/period \n",
    "    \n",
    "    set_LE_frac(target_frac)\n",
    "    \n",
    "def set_width_ftime_ns(t,**kwargs):\n",
    "    period = 50. # ns ,a 5 clk calib circle\n",
    "    target_frac = t/period \n",
    "    \n",
    "    set_width_frac(target_frac,**kwargs)"
   ]
  },
  {
   "cell_type": "code",
   "execution_count": 26,
   "id": "cd6d840c",
   "metadata": {},
   "outputs": [],
   "source": [
    "def set_pulse_ns(time,width,loop_length):\n",
    "    \n",
    "    enable_trig(0)\n",
    "    \n",
    "    clk_period = 10\n",
    "    \n",
    "    \n",
    "    start_time = int( time / clk_period)\n",
    "    LE_ftime   = (time % clk_period)\n",
    "    \n",
    "    stop_time = start_time + int(width/clk_period)\n",
    "    \n",
    "    \n",
    "    width_ftime = width % clk_period\n",
    "    \n",
    "   \n",
    "    next_cycle = False\n",
    "        \n",
    "    #if width_ftime > LE_ftime:\n",
    "    #    stop_time += 1\n",
    "    #    next_cycle = True\n",
    "        \n",
    "    \n",
    "    \n",
    "        \n",
    "    \n",
    "    print(\"start time: {}\".format(start_time))\n",
    "    print(\"LE_ftime: {}\".format(LE_ftime))\n",
    "    print(\"stop time: {}\".format(stop_time))\n",
    "    print(\"width_ftime: {}\".format(width_ftime))\n",
    "    set_LE_ftime_ns(LE_ftime)\n",
    "    set_width_ftime_ns(width_ftime,plot=False,next_cycle=next_cycle)\n",
    "    \n",
    "    \n",
    "    set_start_time(start_time)\n",
    "    #set_start_hold_time(start_hold_time)\n",
    "    set_stop_time(stop_time)\n",
    "    set_loop_length(loop_length)\n",
    "    \n",
    "    enable_trig(1)\n",
    "    "
   ]
  },
  {
   "cell_type": "code",
   "execution_count": 46,
   "id": "29865dd2",
   "metadata": {},
   "outputs": [
    {
     "name": "stdout",
     "output_type": "stream",
     "text": [
      "start time: 0\n",
      "LE_ftime: 5\n",
      "stop time: 0\n",
      "width_ftime: 9.9\n"
     ]
    }
   ],
   "source": [
    "# problem if width % clk_period == 0 (or very small!)\n",
    "\n",
    "set_pulse_ns(5,9.9,10)\n"
   ]
  },
  {
   "cell_type": "code",
   "execution_count": 20,
   "id": "7c37135d",
   "metadata": {},
   "outputs": [
    {
     "name": "stdout",
     "output_type": "stream",
     "text": [
      "start time: 0\n",
      "LE_ftime: 10\n",
      "stop time: 0\n",
      "width_ftime: 9.9\n",
      "start time: 0\n",
      "LE_ftime: 9\n",
      "stop time: 0\n",
      "width_ftime: 9.9\n",
      "start time: 0\n",
      "LE_ftime: 8\n",
      "stop time: 0\n",
      "width_ftime: 9.9\n",
      "start time: 0\n",
      "LE_ftime: 7\n",
      "stop time: 0\n",
      "width_ftime: 9.9\n",
      "start time: 0\n",
      "LE_ftime: 6\n",
      "stop time: 0\n",
      "width_ftime: 9.9\n",
      "start time: 0\n",
      "LE_ftime: 5\n",
      "stop time: 0\n",
      "width_ftime: 9.9\n",
      "start time: 0\n",
      "LE_ftime: 4\n",
      "stop time: 1\n",
      "width_ftime: 9.9\n",
      "doing the next_cycle thing!\n",
      "start time: 0\n",
      "LE_ftime: 3\n",
      "stop time: 1\n",
      "width_ftime: 9.9\n",
      "doing the next_cycle thing!\n",
      "start time: 0\n",
      "LE_ftime: 2\n",
      "stop time: 1\n",
      "width_ftime: 9.9\n",
      "doing the next_cycle thing!\n",
      "start time: 0\n",
      "LE_ftime: 1\n",
      "stop time: 1\n",
      "width_ftime: 9.9\n",
      "doing the next_cycle thing!\n",
      "start time: 1\n",
      "LE_ftime: 10\n",
      "stop time: 1\n",
      "width_ftime: 9.9\n",
      "start time: 1\n",
      "LE_ftime: 9\n",
      "stop time: 1\n",
      "width_ftime: 9.9\n",
      "start time: 1\n",
      "LE_ftime: 8\n",
      "stop time: 1\n",
      "width_ftime: 9.9\n",
      "start time: 1\n",
      "LE_ftime: 7\n",
      "stop time: 1\n",
      "width_ftime: 9.9\n",
      "start time: 1\n",
      "LE_ftime: 6\n",
      "stop time: 1\n",
      "width_ftime: 9.9\n",
      "start time: 1\n",
      "LE_ftime: 5\n",
      "stop time: 1\n",
      "width_ftime: 9.9\n",
      "start time: 1\n",
      "LE_ftime: 4\n",
      "stop time: 2\n",
      "width_ftime: 9.9\n",
      "doing the next_cycle thing!\n",
      "start time: 1\n",
      "LE_ftime: 3\n",
      "stop time: 2\n",
      "width_ftime: 9.9\n",
      "doing the next_cycle thing!\n",
      "start time: 1\n",
      "LE_ftime: 2\n",
      "stop time: 2\n",
      "width_ftime: 9.9\n",
      "doing the next_cycle thing!\n",
      "start time: 1\n",
      "LE_ftime: 1\n",
      "stop time: 2\n",
      "width_ftime: 9.9\n",
      "doing the next_cycle thing!\n",
      "start time: 2\n",
      "LE_ftime: 10\n",
      "stop time: 2\n",
      "width_ftime: 9.9\n",
      "start time: 2\n",
      "LE_ftime: 9\n",
      "stop time: 2\n",
      "width_ftime: 9.9\n"
     ]
    }
   ],
   "source": [
    "# LE scan\n",
    "\n",
    "for t in np.arange(0,22,1):\n",
    "    set_pulse_ns(t,9.9,10)\n",
    "    time.sleep(1)\n",
    "enable_trig(0)"
   ]
  },
  {
   "cell_type": "code",
   "execution_count": 27,
   "id": "6c547b3f",
   "metadata": {
    "scrolled": true
   },
   "outputs": [
    {
     "name": "stdout",
     "output_type": "stream",
     "text": [
      "start time: 0\n",
      "LE_ftime: 5\n",
      "stop time: 0\n",
      "width_ftime: 0\n",
      "start time: 0\n",
      "LE_ftime: 5\n",
      "stop time: 0\n",
      "width_ftime: 1\n",
      "start time: 0\n",
      "LE_ftime: 5\n",
      "stop time: 0\n",
      "width_ftime: 2\n",
      "start time: 0\n",
      "LE_ftime: 5\n",
      "stop time: 0\n",
      "width_ftime: 3\n",
      "start time: 0\n",
      "LE_ftime: 5\n",
      "stop time: 0\n",
      "width_ftime: 4\n",
      "start time: 0\n",
      "LE_ftime: 5\n",
      "stop time: 0\n",
      "width_ftime: 5\n",
      "start time: 0\n",
      "LE_ftime: 5\n",
      "stop time: 1\n",
      "width_ftime: 6\n",
      "doing the next_cycle thing!\n",
      "start time: 0\n",
      "LE_ftime: 5\n",
      "stop time: 1\n",
      "width_ftime: 7\n",
      "doing the next_cycle thing!\n",
      "start time: 0\n",
      "LE_ftime: 5\n",
      "stop time: 1\n",
      "width_ftime: 8\n",
      "doing the next_cycle thing!\n",
      "start time: 0\n",
      "LE_ftime: 5\n",
      "stop time: 1\n",
      "width_ftime: 9\n",
      "doing the next_cycle thing!\n",
      "start time: 0\n",
      "LE_ftime: 5\n",
      "stop time: 1\n",
      "width_ftime: 0\n",
      "start time: 0\n",
      "LE_ftime: 5\n",
      "stop time: 1\n",
      "width_ftime: 1\n",
      "start time: 0\n",
      "LE_ftime: 5\n",
      "stop time: 1\n",
      "width_ftime: 2\n",
      "start time: 0\n",
      "LE_ftime: 5\n",
      "stop time: 1\n",
      "width_ftime: 3\n",
      "start time: 0\n",
      "LE_ftime: 5\n",
      "stop time: 1\n",
      "width_ftime: 4\n",
      "start time: 0\n",
      "LE_ftime: 5\n",
      "stop time: 1\n",
      "width_ftime: 5\n",
      "start time: 0\n",
      "LE_ftime: 5\n",
      "stop time: 2\n",
      "width_ftime: 6\n",
      "doing the next_cycle thing!\n",
      "start time: 0\n",
      "LE_ftime: 5\n",
      "stop time: 2\n",
      "width_ftime: 7\n",
      "doing the next_cycle thing!\n",
      "start time: 0\n",
      "LE_ftime: 5\n",
      "stop time: 2\n",
      "width_ftime: 8\n",
      "doing the next_cycle thing!\n",
      "start time: 0\n",
      "LE_ftime: 5\n",
      "stop time: 2\n",
      "width_ftime: 9\n",
      "doing the next_cycle thing!\n",
      "start time: 0\n",
      "LE_ftime: 5\n",
      "stop time: 2\n",
      "width_ftime: 0\n",
      "start time: 0\n",
      "LE_ftime: 5\n",
      "stop time: 2\n",
      "width_ftime: 1\n"
     ]
    }
   ],
   "source": [
    "# width scan\n",
    "\n",
    "for t in np.arange(0,22,1):\n",
    "    set_pulse_ns(5,t,10)\n",
    "    time.sleep(1)\n",
    "enable_trig(0)"
   ]
  },
  {
   "cell_type": "code",
   "execution_count": 41,
   "id": "1169d6da",
   "metadata": {},
   "outputs": [
    {
     "name": "stdout",
     "output_type": "stream",
     "text": [
      "start time: 0\n",
      "LE_ftime: 5\n",
      "stop time: 1\n",
      "width_ftime: 9\n",
      "doing the next_cycle thing!\n",
      "start time: 0\n",
      "LE_ftime: 5\n",
      "stop time: 1\n",
      "width_ftime: 9.99\n",
      "doing the next_cycle thing!\n",
      "start time: 0\n",
      "LE_ftime: 5\n",
      "stop time: 1\n",
      "width_ftime: 1\n"
     ]
    }
   ],
   "source": [
    "set_pulse_ns(5,9,10)\n",
    "time.sleep(1)\n",
    "set_pulse_ns(5,9.99,10)\n",
    "time.sleep(1)\n",
    "set_pulse_ns(5,11,10)\n",
    "time.sleep(1)\n",
    "\n",
    "enable_trig(0)"
   ]
  },
  {
   "cell_type": "code",
   "execution_count": 40,
   "id": "ea0f3e92",
   "metadata": {},
   "outputs": [],
   "source": [
    "enable_trig(1)"
   ]
  }
 ],
 "metadata": {
  "kernelspec": {
   "display_name": "Python 3",
   "language": "python",
   "name": "python3"
  },
  "language_info": {
   "codemirror_mode": {
    "name": "ipython",
    "version": 3
   },
   "file_extension": ".py",
   "mimetype": "text/x-python",
   "name": "python",
   "nbconvert_exporter": "python",
   "pygments_lexer": "ipython3",
   "version": "3.6.8"
  }
 },
 "nbformat": 4,
 "nbformat_minor": 5
}
