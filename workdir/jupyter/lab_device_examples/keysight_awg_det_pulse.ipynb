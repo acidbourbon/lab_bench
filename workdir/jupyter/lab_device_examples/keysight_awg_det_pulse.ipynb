{
 "cells": [
  {
   "cell_type": "code",
   "execution_count": 1,
   "metadata": {},
   "outputs": [],
   "source": [
    "import numpy as np\n",
    "from matplotlib import pyplot as plt\n",
    "\n",
    "import M8195A as awg\n",
    "awg_ip = \"192.168.0.250\"\n",
    "\n",
    "from sigproc_kit import *"
   ]
  },
  {
   "cell_type": "code",
   "execution_count": 2,
   "metadata": {},
   "outputs": [
    {
     "data": {
      "image/png": "[encoded data removed]",
      "text/plain": [
       "<matplotlib.figure.Figure at 0x7eff9b64cfd0>"
      ]
     },
     "metadata": {
      "needs_background": "light"
     },
     "output_type": "display_data"
    },
    {
     "name": "stdout",
     "output_type": "stream",
     "text": [
      "target ip : 192.168.0.250\n",
      "connect to device ...\n",
      "Failed to connect to the instrument, pleace check your IP address\n",
      "*IDN?\n"
     ]
    },
    {
     "ename": "AttributeError",
     "evalue": "'NoneType' object has no attribute 'settimeout'",
     "output_type": "error",
     "traceback": [
      "\u001b[0;31m---------------------------------------------------------------------------\u001b[0m",
      "\u001b[0;31mAttributeError\u001b[0m                            Traceback (most recent call last)",
      "\u001b[0;32m<ipython-input-2-a95b8ea46a8c>\u001b[0m in \u001b[0;36m<module>\u001b[0;34m\u001b[0m\n\u001b[1;32m     19\u001b[0m               \u001b[0mtrace\u001b[0m\u001b[0;34m=\u001b[0m\u001b[0;36m1\u001b[0m\u001b[0;34m,\u001b[0m\u001b[0;34m\u001b[0m\u001b[0;34m\u001b[0m\u001b[0m\n\u001b[1;32m     20\u001b[0m               \u001b[0mip\u001b[0m\u001b[0;34m=\u001b[0m\u001b[0mawg_ip\u001b[0m\u001b[0;34m,\u001b[0m\u001b[0;34m\u001b[0m\u001b[0;34m\u001b[0m\u001b[0m\n\u001b[0;32m---> 21\u001b[0;31m               period=period)\n\u001b[0m",
      "\u001b[0;32m~/python_modules/M8195A.py\u001b[0m in \u001b[0;36msend_data\u001b[0;34m(xdata, ydata, **kwargs)\u001b[0m\n\u001b[1;32m     47\u001b[0m   \u001b[0mmy_ydata\u001b[0m \u001b[0;34m=\u001b[0m \u001b[0mnp\u001b[0m\u001b[0;34m.\u001b[0m\u001b[0marray\u001b[0m\u001b[0;34m(\u001b[0m\u001b[0mydata\u001b[0m\u001b[0;34m)\u001b[0m\u001b[0;34m\u001b[0m\u001b[0;34m\u001b[0m\u001b[0m\n\u001b[1;32m     48\u001b[0m \u001b[0;34m\u001b[0m\u001b[0m\n\u001b[0;32m---> 49\u001b[0;31m   \u001b[0msession\u001b[0m \u001b[0;34m=\u001b[0m \u001b[0mopen_session\u001b[0m\u001b[0;34m(\u001b[0m\u001b[0mip\u001b[0m\u001b[0;34m)\u001b[0m\u001b[0;34m\u001b[0m\u001b[0;34m\u001b[0m\u001b[0m\n\u001b[0m\u001b[1;32m     50\u001b[0m \u001b[0;34m\u001b[0m\u001b[0m\n\u001b[1;32m     51\u001b[0m \u001b[0;34m\u001b[0m\u001b[0m\n",
      "\u001b[0;32m~/python_modules/M8195A.py\u001b[0m in \u001b[0;36mopen_session\u001b[0;34m(ip)\u001b[0m\n\u001b[1;32m    514\u001b[0m   \u001b[0msession\u001b[0m \u001b[0;34m=\u001b[0m \u001b[0mSCPI_sock_connect\u001b[0m\u001b[0;34m(\u001b[0m\u001b[0mip\u001b[0m\u001b[0;34m)\u001b[0m\u001b[0;34m\u001b[0m\u001b[0;34m\u001b[0m\u001b[0m\n\u001b[1;32m    515\u001b[0m   \u001b[0mprint\u001b[0m\u001b[0;34m(\u001b[0m\u001b[0;34m\"*IDN?\"\u001b[0m\u001b[0;34m)\u001b[0m\u001b[0;34m\u001b[0m\u001b[0;34m\u001b[0m\u001b[0m\n\u001b[0;32m--> 516\u001b[0;31m   \u001b[0midn_str\u001b[0m \u001b[0;34m=\u001b[0m \u001b[0mSCPI_sock_query\u001b[0m\u001b[0;34m(\u001b[0m\u001b[0msession\u001b[0m\u001b[0;34m,\u001b[0m\u001b[0;34m\"*idn?\"\u001b[0m\u001b[0;34m)\u001b[0m\u001b[0;34m\u001b[0m\u001b[0;34m\u001b[0m\u001b[0m\n\u001b[0m\u001b[1;32m    517\u001b[0m   \u001b[0mprint\u001b[0m\u001b[0;34m(\u001b[0m\u001b[0midn_str\u001b[0m\u001b[0;34m)\u001b[0m\u001b[0;34m\u001b[0m\u001b[0;34m\u001b[0m\u001b[0m\n\u001b[1;32m    518\u001b[0m   \u001b[0;32mif\u001b[0m \u001b[0;34m(\u001b[0m \u001b[0;34m\"Keysight Technologies,M8195A\"\u001b[0m \u001b[0;32min\u001b[0m \u001b[0midn_str\u001b[0m\u001b[0;34m)\u001b[0m\u001b[0;34m:\u001b[0m\u001b[0;34m\u001b[0m\u001b[0;34m\u001b[0m\u001b[0m\n",
      "\u001b[0;32m~/python_modules/M8195A.py\u001b[0m in \u001b[0;36mSCPI_sock_query\u001b[0;34m(session, command, error_check)\u001b[0m\n\u001b[1;32m    772\u001b[0m         error_check -> optional -> Check for instrument errors (default False)\"\"\"\n\u001b[1;32m    773\u001b[0m \u001b[0;34m\u001b[0m\u001b[0m\n\u001b[0;32m--> 774\u001b[0;31m     \u001b[0msession\u001b[0m\u001b[0;34m.\u001b[0m\u001b[0msettimeout\u001b[0m\u001b[0;34m(\u001b[0m\u001b[0;36m4.0\u001b[0m\u001b[0;34m)\u001b[0m\u001b[0;34m\u001b[0m\u001b[0;34m\u001b[0m\u001b[0m\n\u001b[0m\u001b[1;32m    775\u001b[0m     \u001b[0;32mtry\u001b[0m\u001b[0;34m:\u001b[0m\u001b[0;34m\u001b[0m\u001b[0;34m\u001b[0m\u001b[0m\n\u001b[1;32m    776\u001b[0m         \u001b[0msession\u001b[0m\u001b[0;34m.\u001b[0m\u001b[0msendall\u001b[0m\u001b[0;34m(\u001b[0m\u001b[0mstr\u001b[0m\u001b[0;34m.\u001b[0m\u001b[0mencode\u001b[0m\u001b[0;34m(\u001b[0m\u001b[0mcommand\u001b[0m \u001b[0;34m+\u001b[0m \u001b[0;34m\"\\n\"\u001b[0m\u001b[0;34m)\u001b[0m\u001b[0;34m)\u001b[0m\u001b[0;34m\u001b[0m\u001b[0;34m\u001b[0m\u001b[0m\n",
      "\u001b[0;31mAttributeError\u001b[0m: 'NoneType' object has no attribute 'settimeout'"
     ]
    }
   ],
   "source": [
    "##################################################\n",
    "##               detector signal                ##\n",
    "##################################################\n",
    "\n",
    "\n",
    "period = 1e-6\n",
    "\n",
    "x=np.arange(0,period,0.1e-9)\n",
    "\n",
    "#y=detector_signal_function(<time vector>, Q, tau1, tau1, delay)\n",
    "y=detector_signal_function(x,150e-12,1e-9,20e-9,100e-9)\n",
    "\n",
    "plt.plot(x*1e9,y)\n",
    "plt.xlabel(\"time (ns)\")\n",
    "plt.ylabel(\"voltage (V)\")\n",
    "plt.show()\n",
    "\n",
    "awg.send_data(x,y,\n",
    "              trace=1,\n",
    "              ip=awg_ip,\n",
    "              period=period)"
   ]
  },
  {
   "cell_type": "code",
   "execution_count": 3,
   "metadata": {},
   "outputs": [
    {
     "name": "stdout",
     "output_type": "stream",
     "text": [
      "target ip : 192.168.0.208\n",
      "connect to device ...\n",
      "*IDN?\n",
      "Keysight Technologies,M8195A,DE57700132,4.0.0.0-1\n",
      "success!\n",
      "NOTE: overriding sample rate to match desired period!\n",
      "attempting to set sample rate : 64896000000.000000 Hz\n",
      "success!\n",
      "preparing data for channel 2\n",
      "sending data ...\n",
      "set output voltage ...\n",
      "Output 2 on ...\n",
      "RUN!\n",
      "close socket\n"
     ]
    }
   ],
   "source": [
    "##################################################\n",
    "##               reference pulse                ##\n",
    "##################################################\n",
    "\n",
    "awg.pulser(\n",
    "    trace=2,\n",
    "    ip=awg_ip,\n",
    "    on_val=300e-3,\n",
    "    width=50e-9,\n",
    "    leading_edge=2e-9,\n",
    "    trailing_edge=2e-9,\n",
    "    delay=0e-9,\n",
    "    period=period\n",
    ")"
   ]
  },
  {
   "cell_type": "code",
   "execution_count": 11,
   "metadata": {},
   "outputs": [
    {
     "name": "stdout",
     "output_type": "stream",
     "text": [
      "target ip : 192.168.0.208\n",
      "connect to device ...\n",
      "*IDN?\n",
      "Keysight Technologies,M8195A,DE57700132,4.0.0.0-1\n",
      "success!\n",
      "NOTE: overriding sample rate to match desired period!\n",
      "attempting to set sample rate : 64896000000.000000 Hz\n",
      "success!\n",
      "preparing data for channel 1\n",
      "sending data ...\n",
      "set output voltage ...\n",
      "Output 1 on ...\n",
      "RUN!\n",
      "close socket\n"
     ]
    }
   ],
   "source": [
    "##################################################\n",
    "##               reference pulse                ##\n",
    "##################################################\n",
    "\n",
    "awg.pulser(\n",
    "    trace=1,\n",
    "    ip=awg_ip,\n",
    "    on_val=300e-3,\n",
    "    width=10e-9,\n",
    "    leading_edge=.05e-9,\n",
    "    trailing_edge=.05e-9,\n",
    "    delay=0e-9,\n",
    "    period=period\n",
    ")"
   ]
  }
 ],
 "metadata": {
  "kernelspec": {
   "display_name": "Python 3",
   "language": "python",
   "name": "python3"
  },
  "language_info": {
   "codemirror_mode": {
    "name": "ipython",
    "version": 3
   },
   "file_extension": ".py",
   "mimetype": "text/x-python",
   "name": "python",
   "nbconvert_exporter": "python",
   "pygments_lexer": "ipython3",
   "version": "3.6.8"
  }
 },
 "nbformat": 4,
 "nbformat_minor": 4
}
