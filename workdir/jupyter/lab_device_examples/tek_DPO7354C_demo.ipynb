{
 "cells": [
  {
   "cell_type": "code",
   "execution_count": 1,
   "metadata": {},
   "outputs": [
    {
     "name": "stdout",
     "output_type": "stream",
     "text": [
      "*IDN?\n",
      "TEKTRONIX,DPO7354C,C140419,CF:91.1CT FV:7.6.0 Build 7\n",
      "successfully connected to Tektronix scope!\n"
     ]
    },
    {
     "data": {
      "text/plain": [
       "1"
      ]
     },
     "execution_count": 1,
     "metadata": {},
     "output_type": "execute_result"
    }
   ],
   "source": [
    "import numpy as np\n",
    "from matplotlib import pyplot as plt\n",
    "\n",
    "import DPO7354C as scope\n",
    "scope.init(\"192.168.0.219\")\n"
   ]
  },
  {
   "cell_type": "code",
   "execution_count": 2,
   "metadata": {},
   "outputs": [],
   "source": [
    "##################################################\n",
    "##           configure Tek Scope                ##\n",
    "##################################################\n",
    "\n",
    "\n",
    "s = {\n",
    "    \"test\"   :\"CH2\", \n",
    "    \"ref\"    :\"CH1\", \n",
    "}\n",
    "\n"
   ]
  },
  {
   "cell_type": "code",
   "execution_count": 3,
   "metadata": {},
   "outputs": [
    {
     "name": "stdout",
     "output_type": "stream",
     "text": [
      "acquire 1/1\r\n"
     ]
    },
    {
     "data": {
      "image/png": "[encoded data removed]",
      "text/plain": [
       "<matplotlib.figure.Figure at 0x7f54ed2eb0f0>"
      ]
     },
     "metadata": {
      "needs_background": "light"
     },
     "output_type": "display_data"
    }
   ],
   "source": [
    "##################################################\n",
    "##              capture waveforms               ##\n",
    "##################################################\n",
    "\n",
    "time, wfm = scope.capture_waveforms([\n",
    "    s[\"test\"],\n",
    "    s[\"ref\"],\n",
    "  ],\n",
    "    average=1\n",
    ")\n",
    "\n",
    "##################################################\n",
    "##                     plot                     ##\n",
    "##################################################\n",
    "\n",
    "\n",
    "plt.plot(time, wfm[s[\"test\"]], \"c\" ,label=\"test\")\n",
    "plt.plot(time, wfm[s[\"ref\"]], \"y\" ,label=\"ref\")\n",
    "plt.legend()\n",
    "plt.xlabel(\"time (s)\")\n",
    "plt.ylabel(\"voltage (V)\")\n",
    "plt.show()"
   ]
  }
 ],
 "metadata": {
  "kernelspec": {
   "display_name": "Python 3",
   "language": "python",
   "name": "python3"
  },
  "language_info": {
   "codemirror_mode": {
    "name": "ipython",
    "version": 3
   },
   "file_extension": ".py",
   "mimetype": "text/x-python",
   "name": "python",
   "nbconvert_exporter": "python",
   "pygments_lexer": "ipython3",
   "version": "3.6.8"
  }
 },
 "nbformat": 4,
 "nbformat_minor": 2
}
