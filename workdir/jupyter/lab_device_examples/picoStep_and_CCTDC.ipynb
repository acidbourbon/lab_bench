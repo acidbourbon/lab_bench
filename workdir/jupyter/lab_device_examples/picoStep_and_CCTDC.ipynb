{
 "cells": [
  {
   "cell_type": "code",
   "execution_count": 2,
   "id": "d1c37763",
   "metadata": {},
   "outputs": [
    {
     "name": "stdout",
     "output_type": "stream",
     "text": [
      "509\n",
      "10\n"
     ]
    }
   ],
   "source": [
    "import numpy as np\n",
    "from matplotlib import pyplot as plt\n",
    "from scipy.optimize import curve_fit\n",
    "from statistics_kit import *\n",
    "\n",
    "import serial\n",
    "import time\n",
    "\n",
    "# Set up the serial connection\n",
    "ser = serial.Serial('/dev/ttyACM0', 115200)  # Adjust the baud rate if necessary\n",
    "time.sleep(.1)  # Wait for the connection to establish\n",
    "\n",
    "\n",
    "def ask(cmd,**kwargs):\n",
    "    # function waits for an answer, since readline is blocking \n",
    "    ser.reset_input_buffer()\n",
    "    ser.write(f\"{cmd}\\n\".encode())  # Send the number followed by a newline\n",
    "    #time.sleep(.001)  # Wait for a second before sending the next number\n",
    "    line = ser.readline().decode()\n",
    "    line = line.replace(\"\\r\",\"\")\n",
    "    line = line.replace(\"\\n\",\"\")\n",
    "    #print(\"readback: \",end=\"\")\n",
    "    return line\n",
    "\n",
    "\n",
    "# initial calibration constants of the ADC\n",
    "m = 4096\n",
    "y0 = 0\n",
    "\n",
    "\n",
    "def read_adc(**kwargs):\n",
    "    ch = kwargs.get(\"ch\",0)\n",
    "    ans = ask(\"ADC={:d}\".format(ch))\n",
    "    return int(ans)\n",
    "\n",
    "def r_fpga_reg(n):\n",
    "    cmd=\"FPGA=01{:02x}{:04x}\".format(n,0);\n",
    "    ans = ask(cmd)\n",
    "    return int(ans[4:],16)\n",
    "\n",
    "def w_fpga_reg(n,val):\n",
    "    cmd=\"FPGA=02{:02x}{:04x}\".format(n,val);\n",
    "    return ask(cmd)\n",
    "\n",
    "def w_fpga_reg_bit(n,b,state):\n",
    "    cur_val = r_fpga_reg(n)\n",
    "    new_val = (cur_val & ~(1<<b)) | (state*(1<<b))\n",
    "    w_fpga_reg(n, new_val)\n",
    "    \n",
    "def set_loop_length(n):\n",
    "    w_fpga_reg(2, n)\n",
    "    \n",
    "def get_loop_length():\n",
    "    return r_fpga_reg(2)\n",
    "    \n",
    "def enable_stop(state):\n",
    "    w_fpga_reg_bit(3,0,state)\n",
    "    \n",
    "def enable_start(state):\n",
    "    w_fpga_reg_bit(3,2,state)\n",
    "    \n",
    "def enable_trig(state):\n",
    "    w_fpga_reg_bit(3,3,state)\n",
    "    \n",
    "def enable_mask(state):\n",
    "    w_fpga_reg_bit(3,1,state)\n",
    "    \n",
    "def set_thr_start(val):\n",
    "    w_fpga_reg(0,int(val))\n",
    "    \n",
    "def set_thr_stop(val):\n",
    "    w_fpga_reg(1,int(val))\n",
    "    \n",
    "def set_mask_time(val):\n",
    "    w_fpga_reg(4,int(val))\n",
    "    \n",
    "def set_trig_time(val):\n",
    "    w_fpga_reg(7,int(val))\n",
    "    \n",
    "def get_trig_time():\n",
    "    return r_fpga_reg(7)\n",
    "    \n",
    "def set_start_time(val):\n",
    "    w_fpga_reg(5,int(val))\n",
    "    \n",
    "def set_stop_time(val):\n",
    "    w_fpga_reg(6,int(val))\n",
    "    \n",
    "def read_calib_adc():\n",
    "    return (read_adc(ch=0)-y0)/m\n",
    "\n",
    "def set_pulse_ns_arduino(start_time_ns,width_ns,loop_length):\n",
    "    return ask(\"set_pulse_ns={},{},{}\".format(start_time_ns,width_ns,loop_length))\n",
    "    \n",
    "#ser.close()\n",
    "\n",
    "print(read_adc())\n",
    "print(get_loop_length())"
   ]
  },
  {
   "cell_type": "code",
   "execution_count": 102,
   "id": "a3a3be6f",
   "metadata": {},
   "outputs": [
    {
     "data": {
      "text/plain": [
       "434"
      ]
     },
     "execution_count": 102,
     "metadata": {},
     "output_type": "execute_result"
    }
   ],
   "source": [
    "read_adc()"
   ]
  },
  {
   "cell_type": "code",
   "execution_count": 177,
   "id": "b38342bc",
   "metadata": {},
   "outputs": [],
   "source": [
    "# Set up the serial connection\n",
    "ser2 = serial.Serial('/dev/ttyACM1', 115200)  # Adjust the baud rate if necessary\n",
    "time.sleep(.1)  # Wait for the connection to establish\n",
    "\n",
    "\n",
    "def ask2(cmd,**kwargs):\n",
    "    # function waits for an answer, since readline is blocking \n",
    "    ser2.reset_input_buffer()\n",
    "    ser2.write(f\"{cmd}\\n\".encode())  # Send the number followed by a newline\n",
    "    #time.sleep(.001)  # Wait for a second before sending the next number\n",
    "    line = ser2.readline().decode()\n",
    "    line = line.replace(\"\\r\",\"\")\n",
    "    line = line.replace(\"\\n\",\"\")\n",
    "    #print(\"readback: \",end=\"\")\n",
    "    return line[4:]"
   ]
  },
  {
   "cell_type": "code",
   "execution_count": 217,
   "id": "7e85138a",
   "metadata": {},
   "outputs": [],
   "source": [
    "def pop_count(data):\n",
    "    out = []\n",
    "    for xstr in data:\n",
    "        out += [len(\"{:0128b}\".format(int(xstr,16)).replace(\"0\",\"\"))]\n",
    "    return np.sum(out)"
   ]
  },
  {
   "cell_type": "code",
   "execution_count": 170,
   "id": "575ad0ec",
   "metadata": {},
   "outputs": [],
   "source": [
    "def r_fpga_reg2(n):\n",
    "    cmd=\"01{:02x}{:032x}\".format(n,0);\n",
    "    ans = ask2(cmd)\n",
    "    return int(ans[4:],16)"
   ]
  },
  {
   "cell_type": "code",
   "execution_count": 392,
   "id": "5ba1b785",
   "metadata": {},
   "outputs": [
    {
     "data": {
      "text/plain": [
       "'44444444444444444444444444444444'"
      ]
     },
     "execution_count": 392,
     "metadata": {},
     "output_type": "execute_result"
    }
   ],
   "source": [
    "#ask2(\"020012341234123412341234123412341234\")\n",
    "ask2(\"0200\"+32*\"4\")\n",
    "ask2(\"010000000\")"
   ]
  },
  {
   "cell_type": "code",
   "execution_count": 422,
   "id": "cfe3c4b1",
   "metadata": {},
   "outputs": [
    {
     "name": "stdout",
     "output_type": "stream",
     "text": [
      "FFFFFFFFFFFFFF400000000000000000\n"
     ]
    }
   ],
   "source": [
    "qhex = ask2(\"0101\")\n",
    "pop_count(qhex)\n",
    "print(qhex)"
   ]
  },
  {
   "cell_type": "code",
   "execution_count": 510,
   "id": "d20ad085",
   "metadata": {},
   "outputs": [
    {
     "data": {
      "text/plain": [
       "'1'"
      ]
     },
     "execution_count": 510,
     "metadata": {},
     "output_type": "execute_result"
    }
   ],
   "source": [
    "#set_pulse_ns_arduino(11.7,20,20)\n",
    "set_pulse_ns_arduino(12.1,20,20)"
   ]
  },
  {
   "cell_type": "code",
   "execution_count": 482,
   "id": "87c297a4",
   "metadata": {},
   "outputs": [
    {
     "name": "stdout",
     "output_type": "stream",
     "text": [
      "8.080198017375565\n",
      "67.82\n"
     ]
    },
    {
     "data": {
      "image/png": "[encoded data removed]",
      "text/plain": [
       "<matplotlib.figure.Figure at 0x7f0e057a2b00>"
      ]
     },
     "metadata": {
      "needs_background": "light"
     },
     "output_type": "display_data"
    }
   ],
   "source": [
    "n=1000\n",
    "\n",
    "set_pulse_ns_arduino(11.9,20,200)\n",
    "\n",
    "tdc_pop = np.array([])\n",
    "\n",
    "for i in range(n):\n",
    "    \n",
    "    qhex = ask2(\"0101\")\n",
    "    tdc_pop = np.append(tdc_pop, [pop_count(qhex)])\n",
    "    \n",
    "plt.hist(tdc_pop,bins=np.arange(0,128,1))\n",
    "print(np.std(tdc_pop))\n",
    "print(np.mean(tdc_pop))"
   ]
  },
  {
   "cell_type": "code",
   "execution_count": 509,
   "id": "3b2220ae",
   "metadata": {},
   "outputs": [],
   "source": [
    "# LE scan and read TDC\n",
    "\n",
    "\n",
    "x = np.array([])\n",
    "avg_pop = np.array([])\n",
    "std_pop = np.array([])\n",
    "\n",
    "n=50\n",
    "\n",
    "for t in np.arange(11.5,12.5,0.05):\n",
    "    set_pulse_ns_arduino(t,20,20)\n",
    "    \n",
    "    tdc_pop = np.array([])\n",
    "    for i in range(n):\n",
    "        qhex = ask2(\"0101\")\n",
    "        tdc_pop = np.append(tdc_pop, [pop_count(qhex)])\n",
    "    avg_pop = np.append(avg_pop,[np.mean(tdc_pop)])\n",
    "    std_pop = np.append(std_pop,[np.std(tdc_pop)])\n",
    "        \n",
    "    x = np.append(x,[t])"
   ]
  },
  {
   "cell_type": "code",
   "execution_count": 494,
   "id": "4919ae6e",
   "metadata": {},
   "outputs": [
    {
     "data": {
      "image/png": "[encoded data removed]",
      "text/plain": [
       "<matplotlib.figure.Figure at 0x7f0e05645c18>"
      ]
     },
     "metadata": {
      "needs_background": "light"
     },
     "output_type": "display_data"
    },
    {
     "data": {
      "image/png": "[encoded data removed]",
      "text/plain": [
       "<matplotlib.figure.Figure at 0x7f0e058c9320>"
      ]
     },
     "metadata": {
      "needs_background": "light"
     },
     "output_type": "display_data"
    }
   ],
   "source": [
    "plt.plot(x,avg_pop)\n",
    "plt.xlabel(\"pulse LE (ns)\")\n",
    "plt.ylabel(\"Q population\")\n",
    "plt.show()\n",
    "plt.plot(x,std_pop)\n",
    "plt.xlabel(\"pulse LE (ns)\")\n",
    "plt.ylabel(\"std Q population\")\n",
    "plt.show()"
   ]
  },
  {
   "cell_type": "code",
   "execution_count": 461,
   "id": "c52b190f",
   "metadata": {},
   "outputs": [
    {
     "data": {
      "image/png": "[encoded data removed]",
      "text/plain": [
       "<matplotlib.figure.Figure at 0x7f0e05ce2898>"
      ]
     },
     "metadata": {
      "needs_background": "light"
     },
     "output_type": "display_data"
    },
    {
     "data": {
      "image/png": "[encoded data removed]",
      "text/plain": [
       "<matplotlib.figure.Figure at 0x7f0e05ce2470>"
      ]
     },
     "metadata": {
      "needs_background": "light"
     },
     "output_type": "display_data"
    }
   ],
   "source": [
    "plt.plot(x,avg_pop)\n",
    "plt.xlabel(\"pulse LE (ns)\")\n",
    "plt.ylabel(\"Q population\")\n",
    "plt.show()\n",
    "plt.plot(x,std_pop)\n",
    "plt.xlabel(\"pulse LE (ns)\")\n",
    "plt.ylabel(\"std Q population\")\n",
    "plt.show()"
   ]
  },
  {
   "cell_type": "code",
   "execution_count": 29,
   "id": "6354989b",
   "metadata": {},
   "outputs": [],
   "source": [
    "ser2.close()"
   ]
  },
  {
   "cell_type": "code",
   "execution_count": 26,
   "id": "c62365b0",
   "metadata": {},
   "outputs": [],
   "source": [
    "# sweep for CC TDC\n",
    "\n",
    "set_trig_time(2)\n",
    "\n",
    "# LE sweep\n",
    "#for i in np.arange(5,15,2):\n",
    "for i in np.arange(11.6,12.2,0.1):\n",
    "    set_pulse_ns_arduino(i,20,20)\n",
    "    time.sleep(.5)"
   ]
  },
  {
   "cell_type": "code",
   "execution_count": 433,
   "id": "a4cc7093",
   "metadata": {},
   "outputs": [
    {
     "data": {
      "text/plain": [
       "'1'"
      ]
     },
     "execution_count": 433,
     "metadata": {},
     "output_type": "execute_result"
    }
   ],
   "source": [
    "\n",
    "set_trig_time(2)\n",
    "set_pulse_ns_arduino(12.0,20,20)"
   ]
  },
  {
   "cell_type": "code",
   "execution_count": 12,
   "id": "6a49dc35",
   "metadata": {},
   "outputs": [],
   "source": [
    "# LE sweep\n",
    "for i in range(20):\n",
    "    set_pulse_ns_arduino(i,5,20)\n"
   ]
  },
  {
   "cell_type": "code",
   "execution_count": 15,
   "id": "8dd0b298",
   "metadata": {},
   "outputs": [],
   "source": [
    "# combi sweep\n",
    "for i in range(30):\n",
    "    set_pulse_ns_arduino(i/2.,i,20)\n"
   ]
  },
  {
   "cell_type": "code",
   "execution_count": 513,
   "id": "fa71cb2d",
   "metadata": {},
   "outputs": [
    {
     "data": {
      "application/vnd.jupyter.widget-view+json": {
       "model_id": "45cca4589f0b418c8cf07d2d71e44403",
       "version_major": 2,
       "version_minor": 0
      },
      "text/plain": [
       "interactive(children=(FloatSlider(value=0.0, description='start_time_ns', max=50.0, step=0.2), FloatSlider(val…"
      ]
     },
     "metadata": {},
     "output_type": "display_data"
    },
    {
     "data": {
      "text/plain": [
       "<function __main__.my_function(start_time_ns=0, width_ns=5, loop_length=20)>"
      ]
     },
     "execution_count": 513,
     "metadata": {},
     "output_type": "execute_result"
    }
   ],
   "source": [
    "##################################################\n",
    "##          call the arduino function           ##\n",
    "##################################################\n",
    "\n",
    "\n",
    "from ipywidgets import interact\n",
    "\n",
    "enable_trig(1)\n",
    "\n",
    "def my_function(start_time_ns=0,width_ns=5,loop_length=20):\n",
    "    \n",
    "    #set_pulse_ns(start_time_ns,width_ns,loop_length)\n",
    "    ask(\"set_pulse_ns={},{},{}\".format(start_time_ns,width_ns,loop_length))\n",
    "\n",
    "    \n",
    "# create a slider\n",
    "interact(my_function, \n",
    "         start_time_ns=(0,50,0.2),\n",
    "         width_ns=(0,200,0.1),\n",
    "         loop_length=(5,255,1)\n",
    "        )\n"
   ]
  },
  {
   "cell_type": "code",
   "execution_count": 10,
   "id": "e6cf3ada",
   "metadata": {},
   "outputs": [],
   "source": [
    "ser.close()"
   ]
  }
 ],
 "metadata": {
  "kernelspec": {
   "display_name": "Python 3",
   "language": "python",
   "name": "python3"
  },
  "language_info": {
   "codemirror_mode": {
    "name": "ipython",
    "version": 3
   },
   "file_extension": ".py",
   "mimetype": "text/x-python",
   "name": "python",
   "nbconvert_exporter": "python",
   "pygments_lexer": "ipython3",
   "version": "3.6.8"
  }
 },
 "nbformat": 4,
 "nbformat_minor": 5
}
