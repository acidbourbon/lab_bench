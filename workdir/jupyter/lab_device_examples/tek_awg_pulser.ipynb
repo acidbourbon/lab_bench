{
 "cells": [
  {
   "cell_type": "code",
   "execution_count": 1,
   "metadata": {},
   "outputs": [],
   "source": [
    "import AWG70002A as awg"
   ]
  },
  {
   "cell_type": "code",
   "execution_count": 7,
   "metadata": {},
   "outputs": [
    {
     "name": "stdout",
     "output_type": "stream",
     "text": [
      "target ip : 192.168.0.198\n",
      "connect to device ...\n",
      "*IDN?\n",
      "TEKTRONIX,AWG70002A,B030548,FV:7.1.0170.0\n",
      "success!\n",
      "STOP!\n",
      "NOTE: overriding sample rate to match desired period!\n",
      "have to concatenate 1 samples into memory to achieve desired period\n",
      "attempting to set sample rate : 8.000000e+09 Hz\n",
      "read back sample rate (Hz):\n",
      "8.0000000000E+9\n",
      "success!\n",
      "preparing data for channel 1\n",
      "sending data ...\n",
      "waveform length: 8000\n",
      "sample length: 8000\n",
      "RUN!\n",
      "close socket\n"
     ]
    }
   ],
   "source": [
    "awg.pulser(ip=\"192.168.0.198\",\n",
    "           trace=1,\n",
    "           period=\"1u\",\n",
    "           width=\"20n\",\n",
    "           on_val=200e-3,\n",
    "           idle_val=0,\n",
    "           delay=\"10n\",\n",
    "           leading_edge=\"2n\",\n",
    "           trailing_edge=\"2n\"\n",
    "          )"
   ]
  }
 ],
 "metadata": {
  "kernelspec": {
   "display_name": "Python 3",
   "language": "python",
   "name": "python3"
  },
  "language_info": {
   "codemirror_mode": {
    "name": "ipython",
    "version": 3
   },
   "file_extension": ".py",
   "mimetype": "text/x-python",
   "name": "python",
   "nbconvert_exporter": "python",
   "pygments_lexer": "ipython3",
   "version": "3.6.8"
  }
 },
 "nbformat": 4,
 "nbformat_minor": 4
}
