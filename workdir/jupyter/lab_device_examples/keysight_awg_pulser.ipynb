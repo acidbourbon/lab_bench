{
 "cells": [
  {
   "cell_type": "code",
   "execution_count": 1,
   "metadata": {},
   "outputs": [],
   "source": [
    "import M8195A as awg\n",
    "awg_ip=\"192.168.0.208\"\n",
    "period=\"2u\""
   ]
  },
  {
   "cell_type": "code",
   "execution_count": 2,
   "metadata": {},
   "outputs": [
    {
     "name": "stdout",
     "output_type": "stream",
     "text": [
      "target ip : 192.168.0.208\n",
      "connect to device ...\n",
      "*IDN?\n",
      "Keysight Technologies,M8195A,DE57700132,4.0.0.0-1\n",
      "success!\n",
      "NOTE: overriding sample rate to match desired period!\n",
      "attempting to set sample rate : 64960000000.000000 Hz\n",
      "success!\n",
      "preparing data for channel 1\n",
      "sending data ...\n",
      "set output voltage ...\n",
      "Output 1 on ...\n",
      "RUN!\n",
      "close socket\n"
     ]
    }
   ],
   "source": [
    "##################################################\n",
    "##                  channel 1                   ##\n",
    "##################################################\n",
    "\n",
    "awg.pulser(\n",
    "    ip=awg_ip,\n",
    "    trace=1,\n",
    "    period=period,\n",
    "    width=\"20n\",\n",
    "    leading_edge=\"1n\",\n",
    "    trailing_edge=\"5n\",\n",
    "    on_val=\"200m\",\n",
    "    idle_val=\"-200m\",\n",
    "    delay=0\n",
    ")"
   ]
  },
  {
   "cell_type": "code",
   "execution_count": 3,
   "metadata": {},
   "outputs": [
    {
     "name": "stdout",
     "output_type": "stream",
     "text": [
      "target ip : 192.168.0.208\n",
      "connect to device ...\n",
      "*IDN?\n",
      "Keysight Technologies,M8195A,DE57700132,4.0.0.0-1\n",
      "success!\n",
      "NOTE: overriding sample rate to match desired period!\n",
      "attempting to set sample rate : 64960000000.000000 Hz\n",
      "success!\n",
      "preparing data for channel 2\n",
      "sending data ...\n",
      "set output voltage ...\n",
      "Output 2 on ...\n",
      "RUN!\n",
      "close socket\n"
     ]
    }
   ],
   "source": [
    "##################################################\n",
    "##                  channel 2                   ##\n",
    "##################################################\n",
    "\n",
    "awg.pulser(\n",
    "    ip=awg_ip,\n",
    "    trace=2,\n",
    "    period=period,\n",
    "    width=\"200n\",\n",
    "    leading_edge=\"20n\",\n",
    "    trailing_edge=\"20n\",\n",
    "    on_val=\"500m\",\n",
    "    idle_val=\"0m\",\n",
    "    delay=\"100n\"\n",
    ")"
   ]
  }
 ],
 "metadata": {
  "kernelspec": {
   "display_name": "Python 3",
   "language": "python",
   "name": "python3"
  },
  "language_info": {
   "codemirror_mode": {
    "name": "ipython",
    "version": 3
   },
   "file_extension": ".py",
   "mimetype": "text/x-python",
   "name": "python",
   "nbconvert_exporter": "python",
   "pygments_lexer": "ipython3",
   "version": "3.6.8"
  }
 },
 "nbformat": 4,
 "nbformat_minor": 4
}
