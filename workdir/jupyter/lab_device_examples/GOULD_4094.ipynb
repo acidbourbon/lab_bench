{
 "cells": [
  {
   "cell_type": "code",
   "execution_count": 1,
   "id": "0f675e7b",
   "metadata": {},
   "outputs": [],
   "source": [
    "import numpy as np\n",
    "from matplotlib import pyplot as plt\n",
    "\n",
    "import serial"
   ]
  },
  {
   "cell_type": "code",
   "execution_count": 2,
   "id": "06ad285c",
   "metadata": {},
   "outputs": [],
   "source": [
    "device = \"/dev/ttyUSB0\"\n",
    "baudrate = 9600"
   ]
  },
  {
   "cell_type": "code",
   "execution_count": 12,
   "id": "7881cd0c",
   "metadata": {},
   "outputs": [],
   "source": [
    "def send_cmd(cmd,**kwargs):\n",
    "  timeout = float(kwargs.get(\"timeout\",.2))\n",
    "\n",
    "  with serial.Serial(device, baudrate, timeout=timeout) as ser:\n",
    "    ser.write(str.encode(cmd)+b\"\\r\\n\")\n",
    "    lines = ser.readlines()\n",
    "    ser.close()\n",
    "    dlines = [ line.decode().replace(\"\\r\",\"\").replace(\"\\n\",\"\")  for line in lines ]\n",
    "    return dlines"
   ]
  },
  {
   "cell_type": "code",
   "execution_count": 4,
   "id": "a1237f91",
   "metadata": {},
   "outputs": [
    {
     "data": {
      "text/plain": [
       "['?', '?', '?']"
      ]
     },
     "execution_count": 4,
     "metadata": {},
     "output_type": "execute_result"
    }
   ],
   "source": [
    "send_cmd(\"?\")"
   ]
  },
  {
   "cell_type": "code",
   "execution_count": 13,
   "id": "f85e5dd7",
   "metadata": {},
   "outputs": [
    {
     "data": {
      "text/plain": [
       "['?HELLO', '?', '?']"
      ]
     },
     "execution_count": 13,
     "metadata": {},
     "output_type": "execute_result"
    }
   ],
   "source": [
    "send_cmd(\"?HELLO\")"
   ]
  }
 ],
 "metadata": {
  "kernelspec": {
   "display_name": "Python 3",
   "language": "python",
   "name": "python3"
  },
  "language_info": {
   "codemirror_mode": {
    "name": "ipython",
    "version": 3
   },
   "file_extension": ".py",
   "mimetype": "text/x-python",
   "name": "python",
   "nbconvert_exporter": "python",
   "pygments_lexer": "ipython3",
   "version": "3.6.8"
  }
 },
 "nbformat": 4,
 "nbformat_minor": 5
}
