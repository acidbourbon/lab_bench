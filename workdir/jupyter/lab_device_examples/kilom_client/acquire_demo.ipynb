{
 "cells": [
  {
   "cell_type": "code",
   "execution_count": 1,
   "metadata": {},
   "outputs": [
    {
     "name": "stdout",
     "output_type": "stream",
     "text": [
      "cannot initialize RasPi GPIO\n",
      "this is okay if you are a client\n",
      "cannot initialize RasPi SPI port\n",
      "this is okay if you are a client\n"
     ]
    }
   ],
   "source": [
    "from high_level_tdc import *\n",
    "from time import sleep\n",
    "from matplotlib import pyplot as plt\n",
    "import numpy as np\n",
    "\n",
    "prop_cycle = plt.rcParams['axes.prop_cycle']\n",
    "colors = prop_cycle.by_key()['color']"
   ]
  },
  {
   "cell_type": "code",
   "execution_count": 2,
   "metadata": {},
   "outputs": [],
   "source": [
    "connect_server(\"192.168.0.231\",8899)"
   ]
  },
  {
   "cell_type": "code",
   "execution_count": 3,
   "metadata": {},
   "outputs": [],
   "source": [
    "#enable_calib_pulser()\n",
    "disable_calib_pulser()"
   ]
  },
  {
   "cell_type": "code",
   "execution_count": 21,
   "metadata": {},
   "outputs": [],
   "source": [
    "data = acquire(\n",
    "    trig_chan=0,\n",
    "    channels = [0,1],\n",
    "    window_L=-1000e-9,\n",
    "    window_R=1001e-9,\n",
    "    n = 50\n",
    ")"
   ]
  },
  {
   "cell_type": "code",
   "execution_count": 22,
   "metadata": {},
   "outputs": [
    {
     "name": "stdout",
     "output_type": "stream",
     "text": [
      "data length: 50\n",
      "plotting first n=10 traces\n"
     ]
    },
    {
     "data": {
      "image/png": "[encoded data removed]",
      "text/plain": [
       "<matplotlib.figure.Figure at 0x7f3885c64198>"
      ]
     },
     "metadata": {
      "needs_background": "light"
     },
     "output_type": "display_data"
    }
   ],
   "source": [
    "plot_pulses(data,\n",
    "            window_L=-50e-9,\n",
    "            window_R=80e-9,\n",
    "            staggered = True\n",
    "           )"
   ]
  },
  {
   "cell_type": "code",
   "execution_count": 20,
   "metadata": {},
   "outputs": [
    {
     "data": {
      "image/png": "[encoded data removed]",
      "text/plain": [
       "<matplotlib.figure.Figure at 0x7f388617e710>"
      ]
     },
     "metadata": {
      "needs_background": "light"
     },
     "output_type": "display_data"
    },
    {
     "name": "stdout",
     "output_type": "stream",
     "text": [
      "ch0 t1 mean = 0.000 ns\n",
      "ch0 t1 std  = 0.000 ns\n",
      "\n",
      "ch1 t1 mean = 2.917 ns\n",
      "ch1 t1 std  = 0.000 ns\n"
     ]
    }
   ],
   "source": [
    "ch0_t1_ns = np.array(data[0][\"t1\"])*1e9\n",
    "ch1_t1_ns = np.array(data[1][\"t1\"])*1e9\n",
    "\n",
    "plt.hist(ch0_t1_ns,bins=np.linspace(-50,50,100), label =\"ch0 t1\")\n",
    "plt.hist(ch1_t1_ns,bins=np.linspace(-50,50,100), label =\"ch1 t1\")\n",
    "plt.legend()\n",
    "plt.xlabel(\"ns\")\n",
    "\n",
    "\n",
    "plt.show()\n",
    "\n",
    "print(\"ch0 t1 mean = {:3.3f} ns\".format(np.nanmean(ch0_t1_ns)))\n",
    "print(\"ch0 t1 std  = {:3.3f} ns\".format(np.nanstd(ch0_t1_ns)))\n",
    "print()\n",
    "print(\"ch1 t1 mean = {:3.3f} ns\".format(np.nanmean(ch1_t1_ns)))\n",
    "print(\"ch1 t1 std  = {:3.3f} ns\".format(np.nanstd(ch1_t1_ns)))"
   ]
  },
  {
   "cell_type": "code",
   "execution_count": 7,
   "metadata": {},
   "outputs": [
    {
     "data": {
      "image/png": "[encoded data removed]",
      "text/plain": [
       "<matplotlib.figure.Figure at 0x7f38861f8be0>"
      ]
     },
     "metadata": {
      "needs_background": "light"
     },
     "output_type": "display_data"
    },
    {
     "name": "stdout",
     "output_type": "stream",
     "text": [
      "ch0 tot mean = 27.917 ns\n",
      "ch0 tot std  = 0.000 ns\n"
     ]
    },
    {
     "data": {
      "image/png": "[encoded data removed]",
      "text/plain": [
       "<matplotlib.figure.Figure at 0x7f3885f42dd8>"
      ]
     },
     "metadata": {
      "needs_background": "light"
     },
     "output_type": "display_data"
    },
    {
     "name": "stdout",
     "output_type": "stream",
     "text": [
      "ch1 tot mean = 25.417 ns\n",
      "ch1 tot std  = 0.000 ns\n"
     ]
    }
   ],
   "source": [
    "bins=np.linspace(-1,100,100)\n",
    "\n",
    "ch0_tot_ns =np.array(data[0][\"tot\"])*1e9 \n",
    "\n",
    "plt.hist(ch0_tot_ns,bins=bins, label =\"ch0 tot\")\n",
    "plt.legend()\n",
    "plt.xlabel(\"ns\")\n",
    "plt.show()\n",
    "\n",
    "print(\"ch0 tot mean = {:3.3f} ns\".format(np.nanmean(ch0_tot_ns)))\n",
    "print(\"ch0 tot std  = {:3.3f} ns\".format(np.nanstd(ch0_tot_ns)))\n",
    "\n",
    "ch1_tot_ns =np.array(data[1][\"tot\"])*1e9 \n",
    "\n",
    "plt.hist(ch1_tot_ns,bins=bins, label =\"ch1 tot\", color=colors[1])\n",
    "plt.legend()\n",
    "plt.xlabel(\"ns\")\n",
    "plt.show()\n",
    "\n",
    "print(\"ch1 tot mean = {:3.3f} ns\".format(np.nanmean(ch1_tot_ns)))\n",
    "print(\"ch1 tot std  = {:3.3f} ns\".format(np.nanstd(ch1_tot_ns)))\n",
    "\n",
    "\n"
   ]
  }
 ],
 "metadata": {
  "kernelspec": {
   "display_name": "Python 3",
   "language": "python",
   "name": "python3"
  },
  "language_info": {
   "codemirror_mode": {
    "name": "ipython",
    "version": 3
   },
   "file_extension": ".py",
   "mimetype": "text/x-python",
   "name": "python",
   "nbconvert_exporter": "python",
   "pygments_lexer": "ipython3",
   "version": "3.6.8"
  }
 },
 "nbformat": 4,
 "nbformat_minor": 2
}
