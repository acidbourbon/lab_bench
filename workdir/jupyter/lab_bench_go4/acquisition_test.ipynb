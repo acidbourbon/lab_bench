{
 "cells": [
  {
   "cell_type": "code",
   "execution_count": 1,
   "id": "47dca382",
   "metadata": {},
   "outputs": [
    {
     "name": "stdout",
     "output_type": "stream",
     "text": [
      "Welcome to JupyROOT 6.18/02\n"
     ]
    }
   ],
   "source": [
    "from lab_bench_go4 import *\n",
    "import ROOT\n",
    "\n",
    "outfile = \"blah.root\"\n",
    "stream  = \"x86l-16\""
   ]
  },
  {
   "cell_type": "code",
   "execution_count": 2,
   "id": "1e270749",
   "metadata": {},
   "outputs": [
    {
     "name": "stdout",
     "output_type": "stream",
     "text": [
      "make clean; make\n",
      "Generating root6 dictionary G__Tamex_Full.cxx ...\n",
      "Generate dependency G__Tamex_Full.d ... \n",
      "Generate dependency TTamex_FullProc.d ... \n",
      "Generate dependency TTamex_FullParam.d ... \n",
      "Generate dependency TTamex_FullEvent.d ... \n",
      "g++ -c TTamex_FullEvent.cxx -O2 -fPIC -Wall -DLinux -pthread -std=c++11 -m64 -I/root-build/include -I/installations/go4/602-00/include -I/installations/go4/602-00 -o TTamex_FullEvent.o \n",
      "In file included from TTamex_FullEvent.h:20:0,\n",
      "                 from TTamex_FullEvent.cxx:14:\n",
      "TTamex_FullProc.h:202:16: warning: 'l_prev_num_err' defined but not used [-Wunused-variable]\n",
      " static  UInt_t l_prev_num_err;\n",
      "                ^~~~~~~~~~~~~~\n",
      "TTamex_FullProc.h:201:16: warning: 'l_num_err' defined but not used [-Wunused-variable]\n",
      " static  UInt_t l_num_err;\n",
      "                ^~~~~~~~~\n",
      "TTamex_FullProc.h:200:16: warning: 'l_prev_err_cha' defined but not used [-Wunused-variable]\n",
      " static  UInt_t l_prev_err_cha [MAX_CHA];\n",
      "                ^~~~~~~~~~~~~~\n",
      "TTamex_FullProc.h:199:16: warning: 'l_prev_err_tam' defined but not used [-Wunused-variable]\n",
      " static  UInt_t l_prev_err_tam [MAX_CHA];\n",
      "                ^~~~~~~~~~~~~~\n",
      "TTamex_FullProc.h:198:16: warning: 'l_prev_err_sfp' defined but not used [-Wunused-variable]\n",
      " static  UInt_t l_prev_err_sfp [MAX_CHA];\n",
      "                ^~~~~~~~~~~~~~\n",
      "TTamex_FullProc.h:197:16: warning: 'l_prev_err_ssy' defined but not used [-Wunused-variable]\n",
      " static  UInt_t l_prev_err_ssy [MAX_CHA];\n",
      "                ^~~~~~~~~~~~~~\n",
      "TTamex_FullProc.h:196:16: warning: 'l_err_cha' defined but not used [-Wunused-variable]\n",
      " static  UInt_t l_err_cha [MAX_CHA];\n",
      "                ^~~~~~~~~\n",
      "TTamex_FullProc.h:195:16: warning: 'l_err_tam' defined but not used [-Wunused-variable]\n",
      " static  UInt_t l_err_tam [MAX_CHA];\n",
      "                ^~~~~~~~~\n",
      "TTamex_FullProc.h:194:16: warning: 'l_err_sfp' defined but not used [-Wunused-variable]\n",
      " static  UInt_t l_err_sfp [MAX_CHA];\n",
      "                ^~~~~~~~~\n",
      "TTamex_FullProc.h:193:16: warning: 'l_err_ssy' defined but not used [-Wunused-variable]\n",
      " static  UInt_t l_err_ssy [MAX_CHA];\n",
      "                ^~~~~~~~~\n",
      "TTamex_FullProc.h:192:16: warning: 'l_prev_err_catch' defined but not used [-Wunused-variable]\n",
      " static  UInt_t l_prev_err_catch = 0;\n",
      "                ^~~~~~~~~~~~~~~~\n",
      "TTamex_FullProc.h:191:16: warning: 'l_err_catch' defined but not used [-Wunused-variable]\n",
      " static  UInt_t l_err_catch = 0;\n",
      "                ^~~~~~~~~~~\n",
      "g++ -c TTamex_FullParam.cxx -O2 -fPIC -Wall -DLinux -pthread -std=c++11 -m64 -I/root-build/include -I/installations/go4/602-00/include -I/installations/go4/602-00 -o TTamex_FullParam.o \n",
      "g++ -c TTamex_FullProc.cxx -O2 -fPIC -Wall -DLinux -pthread -std=c++11 -m64 -I/root-build/include -I/installations/go4/602-00/include -I/installations/go4/602-00 -o TTamex_FullProc.o \n",
      "TTamex_FullProc.cxx: In constructor 'TTamex_FullProc::TTamex_FullProc(const char*)':\n",
      "TTamex_FullProc.cxx:267:65: warning: too many arguments for format [-Wformat-extra-args]\n",
      "     sprintf(chead,\"laber1\", &c_mo_ch[l_i+1][0], &c_mo_ch[l_i][0]);\n",
      "                                                                 ^\n",
      "TTamex_FullProc.cxx: In member function 'virtual Bool_t TTamex_FullProc::BuildEvent(TGo4EventElement*)':\n",
      "TTamex_FullProc.cxx:956:77: warning: unknown conversion type character ',' in format [-Wformat=]\n",
      "                 printf (\"  >>>> 1              error rate > 1 \\%, <= 2 % \\n\");\n",
      "                                                                             ^\n",
      "TTamex_FullProc.cxx:956:77: warning: unknown conversion type character '\\x0a' in format [-Wformat=]\n",
      "TTamex_FullProc.cxx:960:77: warning: unknown conversion type character ',' in format [-Wformat=]\n",
      "                 printf (\"  >>>>>>>> 2          error rate > 2 \\%, <= 3 % \\n\");\n",
      "                                                                             ^\n",
      "TTamex_FullProc.cxx:960:77: warning: unknown conversion type character '\\x0a' in format [-Wformat=]\n",
      "TTamex_FullProc.cxx:964:77: warning: unknown conversion type character ',' in format [-Wformat=]\n",
      "                 printf (\"  >>>>>>>>>>>> 3      error rate > 3 \\%, <= 4 % \\n\");\n",
      "                                                                             ^\n",
      "TTamex_FullProc.cxx:964:77: warning: unknown conversion type character '\\x0a' in format [-Wformat=]\n",
      "TTamex_FullProc.cxx:968:70: warning: unknown conversion type character '\\x0a' in format [-Wformat=]\n",
      "                 printf (\"  >>>>>>>>>>>>>>>> 4  error rate > 4  \\% \\n\");\n",
      "                                                                      ^\n",
      "TTamex_FullProc.cxx:480:14: warning: variable 'l_trig_type' set but not used [-Wunused-but-set-variable]\n",
      "   UInt_t     l_trig_type;\n",
      "              ^~~~~~~~~~~\n",
      "TTamex_FullProc.cxx:484:14: warning: variable 'l_cha_idx' set but not used [-Wunused-but-set-variable]\n",
      "   UInt_t     l_cha_idx;\n",
      "              ^~~~~~~~~\n",
      "TTamex_FullProc.cxx:538:21: warning: variable 'l_trg_wind_len' set but not used [-Wunused-but-set-variable]\n",
      "   static UInt_t     l_trg_wind_len;\n",
      "                     ^~~~~~~~~~~~~~\n",
      "g++ -c G__Tamex_Full.cxx -O2 -fPIC -Wall -DLinux -pthread -std=c++11 -m64 -I/root-build/include -I/installations/go4/602-00/include -I/installations/go4/602-00 -o G__Tamex_Full.o \n",
      "In file included from G__Tamex_Full.cxx:42:0:\n",
      "./TTamex_FullProc.h:202:16: warning: 'l_prev_num_err' defined but not used [-Wunused-variable]\n",
      " static  UInt_t l_prev_num_err;\n",
      "                ^~~~~~~~~~~~~~\n",
      "./TTamex_FullProc.h:201:16: warning: 'l_num_err' defined but not used [-Wunused-variable]\n",
      " static  UInt_t l_num_err;\n",
      "                ^~~~~~~~~\n",
      "./TTamex_FullProc.h:200:16: warning: 'l_prev_err_cha' defined but not used [-Wunused-variable]\n",
      " static  UInt_t l_prev_err_cha [MAX_CHA];\n",
      "                ^~~~~~~~~~~~~~\n",
      "./TTamex_FullProc.h:199:16: warning: 'l_prev_err_tam' defined but not used [-Wunused-variable]\n",
      " static  UInt_t l_prev_err_tam [MAX_CHA];\n",
      "                ^~~~~~~~~~~~~~\n",
      "./TTamex_FullProc.h:198:16: warning: 'l_prev_err_sfp' defined but not used [-Wunused-variable]\n",
      " static  UInt_t l_prev_err_sfp [MAX_CHA];\n",
      "                ^~~~~~~~~~~~~~\n",
      "./TTamex_FullProc.h:197:16: warning: 'l_prev_err_ssy' defined but not used [-Wunused-variable]\n",
      " static  UInt_t l_prev_err_ssy [MAX_CHA];\n",
      "                ^~~~~~~~~~~~~~\n",
      "./TTamex_FullProc.h:196:16: warning: 'l_err_cha' defined but not used [-Wunused-variable]\n",
      " static  UInt_t l_err_cha [MAX_CHA];\n",
      "                ^~~~~~~~~\n",
      "./TTamex_FullProc.h:195:16: warning: 'l_err_tam' defined but not used [-Wunused-variable]\n",
      " static  UInt_t l_err_tam [MAX_CHA];\n",
      "                ^~~~~~~~~\n",
      "./TTamex_FullProc.h:194:16: warning: 'l_err_sfp' defined but not used [-Wunused-variable]\n",
      " static  UInt_t l_err_sfp [MAX_CHA];\n",
      "                ^~~~~~~~~\n",
      "./TTamex_FullProc.h:193:16: warning: 'l_err_ssy' defined but not used [-Wunused-variable]\n",
      " static  UInt_t l_err_ssy [MAX_CHA];\n",
      "                ^~~~~~~~~\n",
      "./TTamex_FullProc.h:192:16: warning: 'l_prev_err_catch' defined but not used [-Wunused-variable]\n",
      " static  UInt_t l_prev_err_catch = 0;\n",
      "                ^~~~~~~~~~~~~~~~\n",
      "./TTamex_FullProc.h:191:16: warning: 'l_err_catch' defined but not used [-Wunused-variable]\n",
      " static  UInt_t l_err_catch = 0;\n",
      "                ^~~~~~~~~~~\n",
      "Linking libGo4UserAnalysis.so\n",
      "g++ -shared -Wl,-soname,libGo4UserAnalysis.so -Wl,-rpath,/root-build/lib -Wl,-rpath,/installations/go4/602-00/lib -Wl,--no-as-needed -O ./TTamex_FullEvent.o ./TTamex_FullParam.o ./TTamex_FullProc.o ./G__Tamex_Full.o -o ./libGo4UserAnalysis.so -L/root-build/lib -lCore -lImt -lRIO -lNet -lHist -lGraf -lGraf3d -lGpad -lROOTVecOps -lTree -lTreePlayer -lRint -lPostscript -lMatrix -lPhysics -lMathCore -lThread -lMultiProc -lROOTDataFrame -pthread -lm -ldl -rdynamic -lpthread -lThread -lMinuit -lSpectrum -lXMLIO -L/installations/go4/602-00/lib -lrt -lGo4Fit -lGo4Base -lGo4ThreadManager -lGo4TaskHandler -lGo4AnalBase -lGo4Analysis\n",
      "libGo4UserAnalysis.so done\n",
      "libGo4UserAnalysis.rootmap done\n",
      "\n"
     ]
    }
   ],
   "source": [
    "go4_recompile()"
   ]
  },
  {
   "cell_type": "code",
   "execution_count": 3,
   "id": "8c77dd50",
   "metadata": {},
   "outputs": [
    {
     "name": "stdout",
     "output_type": "stream",
     "text": [
      "make new calibration\n",
      "cp set_TamexControl.C_newCalib set_TamexControl.C\n",
      "\n",
      "rm Go4AutoSave*\n",
      "\n",
      "go4analysis -stream x86l-16 -outevt-class TTamex_FullEvent -enable-store -store dummy.root -rate\n",
      "calibration finished\n",
      "mv Go4AutoSave.root Go4AutoSave.root_calib\n",
      "\n",
      "rm dummy.root\n",
      "\n",
      "success: calib file Go4AutoSave.root_calib was created\n"
     ]
    }
   ],
   "source": [
    "go4_calib(outfile=\"dummy.root\",verbose=False,stream=stream)"
   ]
  },
  {
   "cell_type": "code",
   "execution_count": 4,
   "id": "ae78b6fb",
   "metadata": {},
   "outputs": [
    {
     "name": "stdout",
     "output_type": "stream",
     "text": [
      "rm blah.root\n",
      "\n",
      "reuse existing calibration\n",
      "cp set_TamexControl.C_reuseCalib set_TamexControl.C\n",
      "\n",
      "cp Go4AutoSave.root_calib Go4AutoSave.root\n",
      "\n",
      "go4analysis -stream x86l-16 -outevt-class TTamex_FullEvent -enable-store -store blah.root -rate\n",
      "taking data for 1.000 seconds\n",
      "... done. Data written to file blah.root\n"
     ]
    }
   ],
   "source": [
    "go4_take_data(\n",
    "    timeout=1,\n",
    "    outfile=outfile,\n",
    "    verbose=False,\n",
    "    stream=stream)"
   ]
  },
  {
   "cell_type": "code",
   "execution_count": 5,
   "id": "42705716",
   "metadata": {},
   "outputs": [],
   "source": [
    "##################################################\n",
    "##          analyze recorded root file          ##\n",
    "##################################################\n",
    "\n",
    "c = ROOT.TCanvas(\"myCanvasName\",\"The Canvas Title\",640,480)\n",
    "\n",
    "f = ROOT.TFile(outfile)\n",
    "tree = f.Get(\"AnalysisxTree\")"
   ]
  },
  {
   "cell_type": "code",
   "execution_count": 9,
   "id": "0d09734f",
   "metadata": {},
   "outputs": [
    {
     "name": "stdout",
     "output_type": "stream",
     "text": [
      "GO4-*> TTamex_FullEvent: Create instance  \n"
     ]
    },
    {
     "data": {
      "image/png": "[encoded data removed]",
      "text/plain": [
       "<IPython.core.display.Image object>"
      ]
     },
     "metadata": {},
     "output_type": "display_data"
    }
   ],
   "source": [
    "tree.Draw(\"(fTimeDiff[18] )/1000>>tot_fast(1000,0,500)\",\"\",\"\")\n",
    "tot_fast = f.Get(\"tot_fast\")\n",
    "tot_fast.SetTitle(\"tot_fast\")\n",
    "tot_fast.GetXaxis().SetTitle(\"t1 (ns)\")\n",
    "tot_fast.GetYaxis().SetTitle(\"tot (s)\")\n",
    "#tot_fast.GetYaxis().SetRangeUser(0,100)\n",
    "tot_fast.Draw(\"colz\")\n",
    "c.Draw()"
   ]
  },
  {
   "cell_type": "code",
   "execution_count": 12,
   "id": "0cabcc17",
   "metadata": {},
   "outputs": [
    {
     "name": "stdout",
     "output_type": "stream",
     "text": [
      "123.00270054086948\n",
      "0.37744173684406807\n"
     ]
    }
   ],
   "source": [
    "print(tot_fast.GetMean())\n",
    "print(tot_fast.GetStdDev())"
   ]
  },
  {
   "cell_type": "code",
   "execution_count": 10,
   "id": "1ee71e16",
   "metadata": {},
   "outputs": [
    {
     "data": {
      "image/png": "[encoded data removed]",
      "text/plain": [
       "<IPython.core.display.Image object>"
      ]
     },
     "metadata": {},
     "output_type": "display_data"
    }
   ],
   "source": [
    "tree.Draw(\"(fTimeDiff[19] )/1000>>tot_slow(1000,0,1500)\",\"\",\"\")\n",
    "tot_slow = f.Get(\"tot_slow\")\n",
    "tot_slow.SetTitle(\"tot_slow\")\n",
    "tot_slow.GetXaxis().SetTitle(\"t1 (ns)\")\n",
    "tot_slow.GetYaxis().SetTitle(\"tot (s)\")\n",
    "#tot_slow.GetYaxis().SetRangeUser(0,100)\n",
    "tot_slow.Draw(\"colz\")\n",
    "c.Draw()"
   ]
  },
  {
   "cell_type": "code",
   "execution_count": 13,
   "id": "f9c13141",
   "metadata": {},
   "outputs": [
    {
     "name": "stdout",
     "output_type": "stream",
     "text": [
      "844.9272545178619\n",
      "1.726108175831269\n"
     ]
    }
   ],
   "source": [
    "print(tot_slow.GetMean())\n",
    "print(tot_slow.GetStdDev())"
   ]
  }
 ],
 "metadata": {
  "kernelspec": {
   "display_name": "Python 3",
   "language": "python",
   "name": "python3"
  },
  "language_info": {
   "codemirror_mode": {
    "name": "ipython",
    "version": 3
   },
   "file_extension": ".py",
   "mimetype": "text/x-python",
   "name": "python",
   "nbconvert_exporter": "python",
   "pygments_lexer": "ipython3",
   "version": "3.6.8"
  }
 },
 "nbformat": 4,
 "nbformat_minor": 5
}
