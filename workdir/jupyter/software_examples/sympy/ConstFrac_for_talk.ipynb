{
 "cells": [
  {
   "cell_type": "code",
   "execution_count": 1,
   "id": "ad30afe5",
   "metadata": {},
   "outputs": [],
   "source": [
    "from sympy import *\n",
    "init_printing()"
   ]
  },
  {
   "cell_type": "markdown",
   "id": "dcdac931",
   "metadata": {},
   "source": [
    "![image](const_frac_attenuator.png)"
   ]
  },
  {
   "cell_type": "code",
   "execution_count": 31,
   "id": "119d963a",
   "metadata": {},
   "outputs": [
    {
     "name": "stdout",
     "output_type": "stream",
     "text": [
      "[R_a, R_b, R_c, F, Z_0]\n"
     ]
    },
    {
     "data": {
      "image/png": "[encoded data removed]",
      "text/latex": [
       "$$\\left [ \\left ( 50.01, \\quad 250050.0, \\quad 99.9999960015997, \\quad 0.499900019996001, \\quad 50.0\\right )\\right ]$$"
      ],
      "text/plain": [
       "[(50.01, 250050.0, 99.9999960015997, 0.499900019996001, 50.0)]"
      ]
     },
     "execution_count": 31,
     "metadata": {},
     "output_type": "execute_result"
    }
   ],
   "source": [
    "# The right terminal of C23  has an output impedance close to 0, so Ra || Rb = 50R to terminate the transmission line\n",
    "# The emitter of Q5 is loaded with 25R, i.e. 50R resistor || 50R transmission line\n",
    "# The collector of Q5 also needs to see the same load:\n",
    "# Rc || (Ra + (Rb || Z0)) = 50R\n",
    "\n",
    "Ra, Rb, Rc, F , Z0 = symbols(\"R_a R_b R_c F Z_0\")\n",
    "\n",
    "# okay what about the inserted fraction in the transmission line F?\n",
    "\n",
    "##################################################\n",
    "##              Ra = 50 , F = 0.5               ##\n",
    "##################################################\n",
    "\n",
    "\n",
    "equations = [ (1./Ra + 1./Rb)                                - 1./50.,\n",
    "             Ra                                              - 50.01 ,\n",
    "             Z0                                              - 50.,\n",
    "             1./Rc + 1./(Ra + 1./(1./Z0 +1./Rb))            - 1./50. ,\n",
    "             F                         -   1./(1./Z0 +1./Rb)/(Ra + 1./(1./Z0 +1./Rb))   ]\n",
    "unknowns  = [Ra,Rb,Rc,F,Z0]\n",
    "\n",
    "solutions = solve(equations,unknowns)\n",
    "print(unknowns)\n",
    "solutions"
   ]
  },
  {
   "cell_type": "code",
   "execution_count": 33,
   "id": "3f9b3aee",
   "metadata": {},
   "outputs": [
    {
     "name": "stdout",
     "output_type": "stream",
     "text": [
      "[R_a, R_b, R_c, F, Z_0]\n"
     ]
    },
    {
     "data": {
      "image/png": "[encoded data removed]",
      "text/latex": [
       "$$\\left [ \\left ( 100.0, \\quad 100.0, \\quad 80.0, \\quad 0.25, \\quad 50.0\\right )\\right ]$$"
      ],
      "text/plain": [
       "[(100.0, 100.0, 80.0, 0.25, 50.0)]"
      ]
     },
     "execution_count": 33,
     "metadata": {},
     "output_type": "execute_result"
    }
   ],
   "source": [
    "##################################################\n",
    "##             Ra = 100 , F = 0.25              ##\n",
    "##################################################\n",
    "\n",
    "\n",
    "equations = [ (1./Ra + 1./Rb)                                - 1./50.,\n",
    "             Ra                                              - 100.0 ,\n",
    "             Z0                                              - 50.,\n",
    "             1./Rc + 1./(Ra + 1./(1./Z0 +1./Rb))            - 1./50. ,\n",
    "             F                         -   1./(1./Z0 +1./Rb)/(Ra + 1./(1./Z0 +1./Rb))   ]\n",
    "unknowns  = [Ra,Rb,Rc,F,Z0]\n",
    "\n",
    "solutions = solve(equations,unknowns)\n",
    "print(unknowns)\n",
    "solutions"
   ]
  },
  {
   "cell_type": "code",
   "execution_count": 1,
   "id": "f8bbf69e",
   "metadata": {},
   "outputs": [
    {
     "name": "stdout",
     "output_type": "stream",
     "text": [
      "[R_a, R_b, R_c, F, Z_0]\n"
     ]
    },
    {
     "data": {
      "image/png": "[encoded data removed]",
      "text/latex": [
       "$$\\left [ \\left ( 120.0, \\quad 85.7142857142857, \\quad 74.6113989637306, \\quad 0.208333333333333, \\quad 50.0\\right )\\right ]$$"
      ],
      "text/plain": [
       "[(120.0, 85.7142857142857, 74.6113989637306, 0.208333333333333, 50.0)]"
      ]
     },
     "execution_count": 1,
     "metadata": {},
     "output_type": "execute_result"
    }
   ],
   "source": [
    "from sympy import *\n",
    "\n",
    "Ra, Rb, Rc, F , Z0 = symbols(\"R_a R_b R_c F Z_0\")\n",
    "init_printing()\n",
    "\n",
    "##################################################\n",
    "##             Ra = 120 , F = 0.2               ##\n",
    "##################################################\n",
    "\n",
    "# The collector of Q has an output impedance close to 0, \n",
    "# so Ra || Rb = 50R to terminate the transmission line\n",
    "# The emitter of Q is loaded with 25R, i.e. 50R resistor || 50R transmission line\n",
    "# The collector of Q also needs to see the same load:\n",
    "# Rc || (Ra + (Rb || Z0)) = 50R\n",
    "\n",
    "equations = [ (1./Ra + 1./Rb)                                - 1./50.,\n",
    "             Ra                                              - 120.0 ,\n",
    "             Z0                                              - 50.,\n",
    "             1./Rc + 1./(Ra + 1./(1./Z0 +1./Rb))            - 1./50. ,\n",
    "             F                         -   1./(1./Z0 +1./Rb)/(Ra + 1./(1./Z0 +1./Rb))   ]\n",
    "unknowns  = [Ra,Rb,Rc,F,Z0]\n",
    "\n",
    "solutions = solve(equations,unknowns)\n",
    "print(unknowns)\n",
    "solutions"
   ]
  },
  {
   "cell_type": "code",
   "execution_count": null,
   "id": "61e29d89",
   "metadata": {},
   "outputs": [],
   "source": []
  }
 ],
 "metadata": {
  "kernelspec": {
   "display_name": "Python 3",
   "language": "python",
   "name": "python3"
  },
  "language_info": {
   "codemirror_mode": {
    "name": "ipython",
    "version": 3
   },
   "file_extension": ".py",
   "mimetype": "text/x-python",
   "name": "python",
   "nbconvert_exporter": "python",
   "pygments_lexer": "ipython3",
   "version": "3.6.8"
  }
 },
 "nbformat": 4,
 "nbformat_minor": 5
}
