{
 "cells": [
  {
   "cell_type": "code",
   "execution_count": 1,
   "id": "ad30afe5",
   "metadata": {},
   "outputs": [],
   "source": [
    "from sympy import *\n",
    "import vdiv\n",
    "from ipywidgets import interact\n",
    "\n",
    "init_printing()"
   ]
  },
  {
   "cell_type": "code",
   "execution_count": 2,
   "id": "fad64714",
   "metadata": {},
   "outputs": [],
   "source": [
    "ra, rb, rc, rd, teeth = symbols(\"ra rb rc rd teeth\")"
   ]
  },
  {
   "cell_type": "code",
   "execution_count": 15,
   "id": "c7456673",
   "metadata": {
    "scrolled": false
   },
   "outputs": [
    {
     "name": "stdout",
     "output_type": "stream",
     "text": [
      "teeth: 20\n",
      "{ra: 16, rb: 4}\n",
      "{rc: 15, rd: 5}\n",
      "#############\n",
      "teeth: 40\n",
      "{ra: 32, rb: 8}\n",
      "{rc: 30, rd: 10}\n",
      "#############\n",
      "teeth: 60\n",
      "{ra: 48, rb: 12}\n",
      "{rc: 45, rd: 15}\n",
      "#############\n",
      "teeth: 80\n",
      "{ra: 64, rb: 16}\n",
      "{rc: 60, rd: 20}\n",
      "#############\n",
      "teeth: 100\n",
      "{ra: 80, rb: 20}\n",
      "{rc: 75, rd: 25}\n",
      "#############\n",
      "teeth: 120\n",
      "{ra: 96, rb: 24}\n",
      "{rc: 90, rd: 30}\n",
      "#############\n",
      "teeth: 140\n",
      "{ra: 112, rb: 28}\n",
      "{rc: 105, rd: 35}\n",
      "#############\n",
      "teeth: 160\n",
      "{ra: 128, rb: 32}\n",
      "{rc: 120, rd: 40}\n",
      "#############\n",
      "teeth: 180\n",
      "{ra: 144, rb: 36}\n",
      "{rc: 135, rd: 45}\n",
      "#############\n"
     ]
    }
   ],
   "source": [
    "for teeth in range(1,200):\n",
    "#for teeth in [40]:\n",
    "    equations = [\n",
    "                 ra + rb -  teeth,\n",
    "                 ra / rb -  4\n",
    "    ]\n",
    "    unknowns  = [ra, rb]\n",
    "\n",
    "    solutions = solve(equations,unknowns)\n",
    "    \n",
    "    rest_a = float(solutions[ra])%1\n",
    "    rest_b = float(solutions[rb])%1\n",
    "    \n",
    "    if not(rest_a == 0 and rest_b == 0):\n",
    "        continue\n",
    "    \n",
    "\n",
    "    equations = [\n",
    "                 rc + rd -  teeth,\n",
    "                 rc / rd -  3\n",
    "    ]\n",
    "    unknowns  = [rc, rd]\n",
    "    solutions2 = solve(equations,unknowns)\n",
    "    \n",
    "    rest_c = float(solutions2[rc])%1\n",
    "    rest_d = float(solutions2[rd])%1\n",
    "    \n",
    "    if (rest_c == 0 and rest_d == 0):\n",
    "        print(\"teeth: {}\".format(teeth))\n",
    "        print(solutions)\n",
    "        print(solutions2)\n",
    "        print(\"#############\")\n",
    "    \n",
    "    else:\n",
    "        continue\n"
   ]
  }
 ],
 "metadata": {
  "kernelspec": {
   "display_name": "Python 3",
   "language": "python",
   "name": "python3"
  },
  "language_info": {
   "codemirror_mode": {
    "name": "ipython",
    "version": 3
   },
   "file_extension": ".py",
   "mimetype": "text/x-python",
   "name": "python",
   "nbconvert_exporter": "python",
   "pygments_lexer": "ipython3",
   "version": "3.6.8"
  }
 },
 "nbformat": 4,
 "nbformat_minor": 5
}
