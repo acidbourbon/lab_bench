{
 "cells": [
  {
   "cell_type": "code",
   "execution_count": 2,
   "id": "ad30afe5",
   "metadata": {},
   "outputs": [],
   "source": [
    "from sympy import *\n",
    "import vdiv\n",
    "from ipywidgets import interact\n",
    "\n",
    "init_printing()"
   ]
  },
  {
   "cell_type": "code",
   "execution_count": 3,
   "id": "fad64714",
   "metadata": {},
   "outputs": [],
   "source": [
    "a, b, c, d, t = symbols(\"a b c d t\", integer = True, positive = True)"
   ]
  },
  {
   "cell_type": "code",
   "execution_count": 14,
   "id": "e5e90656",
   "metadata": {},
   "outputs": [
    {
     "name": "stdout",
     "output_type": "stream",
     "text": [
      "number of teeth:5\n",
      "{a: 4, b: 1}\n",
      "######\n",
      "number of teeth:10\n",
      "{a: 8, b: 2}\n",
      "######\n",
      "number of teeth:15\n",
      "{a: 12, b: 3}\n",
      "######\n",
      "number of teeth:20\n",
      "{a: 16, b: 4}\n",
      "######\n",
      "number of teeth:25\n",
      "{a: 20, b: 5}\n",
      "######\n",
      "number of teeth:30\n",
      "{a: 24, b: 6}\n",
      "######\n",
      "number of teeth:35\n",
      "{a: 28, b: 7}\n",
      "######\n",
      "number of teeth:40\n",
      "{a: 32, b: 8}\n",
      "######\n",
      "number of teeth:45\n",
      "{a: 36, b: 9}\n",
      "######\n",
      "number of teeth:50\n",
      "{a: 40, b: 10}\n",
      "######\n",
      "number of teeth:55\n",
      "{a: 44, b: 11}\n",
      "######\n",
      "number of teeth:60\n",
      "{a: 48, b: 12}\n",
      "######\n",
      "number of teeth:65\n",
      "{a: 52, b: 13}\n",
      "######\n",
      "number of teeth:70\n",
      "{a: 56, b: 14}\n",
      "######\n",
      "number of teeth:75\n",
      "{a: 60, b: 15}\n",
      "######\n",
      "number of teeth:80\n",
      "{a: 64, b: 16}\n",
      "######\n",
      "number of teeth:85\n",
      "{a: 68, b: 17}\n",
      "######\n",
      "number of teeth:90\n",
      "{a: 72, b: 18}\n",
      "######\n",
      "number of teeth:95\n",
      "{a: 76, b: 19}\n",
      "######\n"
     ]
    }
   ],
   "source": [
    "for t in range(100):\n",
    "    equations = [\n",
    "                 a + b -  t, # teeth in gear a and b add up to t - t is proportional to axis distance between gears\n",
    "                 a / b -  4  # reduction ratio between gears is 4\n",
    "    ]\n",
    "    unknowns  = [a, b]\n",
    "\n",
    "    solutions = solve(equations,unknowns)\n",
    "    if(len(solutions) > 0):\n",
    "        print(\"number of teeth:{}\".format(t))\n",
    "        print(solutions)\n",
    "        print(\"######\")"
   ]
  },
  {
   "cell_type": "code",
   "execution_count": 15,
   "id": "a86aff83",
   "metadata": {},
   "outputs": [
    {
     "name": "stdout",
     "output_type": "stream",
     "text": [
      "number of teeth:20\n",
      "{a: 16, b: 4, c: 15, d: 5}\n",
      "######\n",
      "number of teeth:40\n",
      "{a: 32, b: 8, c: 30, d: 10}\n",
      "######\n",
      "number of teeth:60\n",
      "{a: 48, b: 12, c: 45, d: 15}\n",
      "######\n",
      "number of teeth:80\n",
      "{a: 64, b: 16, c: 60, d: 20}\n",
      "######\n"
     ]
    }
   ],
   "source": [
    "for t in range(100):\n",
    "    equations = [\n",
    "                 a + b -  t, # teeth in gear a and b add up to t - t is proportional to axis distance between gears\n",
    "                 c + d -  t, \n",
    "                 a / b -  4,  # reduction ratio between gears is 4\n",
    "                 c / d -  3,  # reduction ratio between gears is 4\n",
    "    ]\n",
    "    unknowns  = [a, b, c, d]\n",
    "\n",
    "    solutions = solve(equations,unknowns)\n",
    "    if(len(solutions) > 0):\n",
    "        print(\"number of teeth:{}\".format(t))\n",
    "        print(solutions)\n",
    "        print(\"######\")"
   ]
  }
 ],
 "metadata": {
  "kernelspec": {
   "display_name": "Python 3",
   "language": "python",
   "name": "python3"
  },
  "language_info": {
   "codemirror_mode": {
    "name": "ipython",
    "version": 3
   },
   "file_extension": ".py",
   "mimetype": "text/x-python",
   "name": "python",
   "nbconvert_exporter": "python",
   "pygments_lexer": "ipython3",
   "version": "3.6.8"
  }
 },
 "nbformat": 4,
 "nbformat_minor": 5
}
