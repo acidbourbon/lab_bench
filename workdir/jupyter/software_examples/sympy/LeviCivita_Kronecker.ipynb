{
 "cells": [
  {
   "cell_type": "code",
   "execution_count": 1,
   "id": "963152be",
   "metadata": {},
   "outputs": [],
   "source": [
    "from sympy import *\n",
    "from sympy.abc import i, j, k\n",
    "init_printing()"
   ]
  },
  {
   "cell_type": "code",
   "execution_count": 2,
   "id": "e480db2e",
   "metadata": {},
   "outputs": [
    {
     "data": {
      "image/png": "[encoded data removed]",
      "text/latex": [
       "$$1$$"
      ],
      "text/plain": [
       "1"
      ]
     },
     "execution_count": 2,
     "metadata": {},
     "output_type": "execute_result"
    }
   ],
   "source": [
    "LeviCivita(1, 2, 3)"
   ]
  },
  {
   "cell_type": "code",
   "execution_count": 3,
   "id": "82ea7727",
   "metadata": {},
   "outputs": [
    {
     "data": {
      "image/png": "[encoded data removed]",
      "text/latex": [
       "$$-1$$"
      ],
      "text/plain": [
       "-1"
      ]
     },
     "execution_count": 3,
     "metadata": {},
     "output_type": "execute_result"
    }
   ],
   "source": [
    "LeviCivita(1, 3, 2)"
   ]
  },
  {
   "cell_type": "code",
   "execution_count": 4,
   "id": "0e1cb663",
   "metadata": {},
   "outputs": [
    {
     "data": {
      "image/png": "[encoded data removed]",
      "text/latex": [
       "$$0$$"
      ],
      "text/plain": [
       "0"
      ]
     },
     "execution_count": 4,
     "metadata": {},
     "output_type": "execute_result"
    }
   ],
   "source": [
    "LeviCivita(1, 2, 2)"
   ]
  },
  {
   "cell_type": "code",
   "execution_count": 5,
   "id": "a0f15614",
   "metadata": {},
   "outputs": [
    {
     "data": {
      "image/png": "[encoded data removed]",
      "text/latex": [
       "$$\\varepsilon_{i j k}$$"
      ],
      "text/plain": [
       "LeviCivita(i, j, k)"
      ]
     },
     "execution_count": 5,
     "metadata": {},
     "output_type": "execute_result"
    }
   ],
   "source": [
    "LeviCivita(i, j, k)"
   ]
  },
  {
   "cell_type": "code",
   "execution_count": 6,
   "id": "0139c381",
   "metadata": {},
   "outputs": [
    {
     "data": {
      "image/png": "[encoded data removed]",
      "text/latex": [
       "$$\\varepsilon_{i j k}$$"
      ],
      "text/plain": [
       "LeviCivita(i, j, k)"
      ]
     },
     "execution_count": 6,
     "metadata": {},
     "output_type": "execute_result"
    }
   ],
   "source": [
    "LeviCivita(i, j, k)"
   ]
  },
  {
   "cell_type": "code",
   "execution_count": 7,
   "id": "7f4d18a5",
   "metadata": {},
   "outputs": [
    {
     "data": {
      "image/png": "[encoded data removed]",
      "text/latex": [
       "$$0$$"
      ],
      "text/plain": [
       "0"
      ]
     },
     "execution_count": 7,
     "metadata": {},
     "output_type": "execute_result"
    }
   ],
   "source": [
    "LeviCivita(i, j, i)"
   ]
  },
  {
   "cell_type": "code",
   "execution_count": 8,
   "id": "173043d3",
   "metadata": {},
   "outputs": [
    {
     "data": {
      "image/png": "[encoded data removed]",
      "text/latex": [
       "$$1$$"
      ],
      "text/plain": [
       "1"
      ]
     },
     "execution_count": 8,
     "metadata": {},
     "output_type": "execute_result"
    }
   ],
   "source": [
    "KroneckerDelta(3, 3)"
   ]
  },
  {
   "cell_type": "code",
   "execution_count": 9,
   "id": "c69023d2",
   "metadata": {},
   "outputs": [
    {
     "data": {
      "image/png": "[encoded data removed]",
      "text/latex": [
       "$$\\delta_{i j}$$"
      ],
      "text/plain": [
       "δ   \n",
       " i,j"
      ]
     },
     "execution_count": 9,
     "metadata": {},
     "output_type": "execute_result"
    }
   ],
   "source": [
    "KroneckerDelta(i, j)"
   ]
  },
  {
   "cell_type": "code",
   "execution_count": 10,
   "id": "c29e325c",
   "metadata": {},
   "outputs": [
    {
     "data": {
      "image/png": "[encoded data removed]",
      "text/latex": [
       "$$\\sum_{i=0}^{5} i$$"
      ],
      "text/plain": [
       "  5    \n",
       " ___   \n",
       " ╲     \n",
       "  ╲   i\n",
       "  ╱    \n",
       " ╱     \n",
       " ‾‾‾   \n",
       "i = 0  "
      ]
     },
     "execution_count": 10,
     "metadata": {},
     "output_type": "execute_result"
    }
   ],
   "source": [
    "Sum(i,(i,0,5))"
   ]
  },
  {
   "cell_type": "code",
   "execution_count": 11,
   "id": "419e877d",
   "metadata": {},
   "outputs": [
    {
     "data": {
      "image/png": "[encoded data removed]",
      "text/latex": [
       "$$15$$"
      ],
      "text/plain": [
       "15"
      ]
     },
     "execution_count": 11,
     "metadata": {},
     "output_type": "execute_result"
    }
   ],
   "source": [
    "Sum(i,(i,0,5)).doit()"
   ]
  },
  {
   "cell_type": "code",
   "execution_count": 12,
   "id": "2bde6fa7",
   "metadata": {},
   "outputs": [
    {
     "data": {
      "text/latex": [
       "$$\\sum_{\\substack{1 \\leq j \\leq 3\\\\1 \\leq i \\leq 3}} \\delta_{i j}$$"
      ],
      "text/plain": [
       "  3     3       \n",
       " ___   ___      \n",
       " ╲     ╲        \n",
       "  ╲     ╲   δ   \n",
       "  ╱     ╱    i,j\n",
       " ╱     ╱        \n",
       " ‾‾‾   ‾‾‾      \n",
       "i = 1 j = 1     "
      ]
     },
     "execution_count": 12,
     "metadata": {},
     "output_type": "execute_result"
    }
   ],
   "source": [
    "Sum(Sum( KroneckerDelta(i,j) , (j,1,3) ),  (i,1,3))"
   ]
  },
  {
   "cell_type": "code",
   "execution_count": 13,
   "id": "a66ce85b",
   "metadata": {},
   "outputs": [
    {
     "data": {
      "image/png": "[encoded data removed]",
      "text/latex": [
       "$$3$$"
      ],
      "text/plain": [
       "3"
      ]
     },
     "execution_count": 13,
     "metadata": {},
     "output_type": "execute_result"
    }
   ],
   "source": [
    "Sum(Sum( KroneckerDelta(i,j) , (j,1,3) ),  (i,1,3)).doit()"
   ]
  },
  {
   "cell_type": "code",
   "execution_count": 14,
   "id": "9aceea90",
   "metadata": {},
   "outputs": [
    {
     "data": {
      "text/latex": [
       "$$\\sum_{\\substack{1 \\leq j \\leq 2\\\\1 \\leq i \\leq 2}} \\left(\\varepsilon_{i j}\\right)^{2}$$"
      ],
      "text/plain": [
       "  2     2                    \n",
       " ___   ___                   \n",
       " ╲     ╲                     \n",
       "  ╲     ╲             2      \n",
       "  ╱     ╱   LeviCivita (i, j)\n",
       " ╱     ╱                     \n",
       " ‾‾‾   ‾‾‾                   \n",
       "i = 1 j = 1                  "
      ]
     },
     "execution_count": 14,
     "metadata": {},
     "output_type": "execute_result"
    }
   ],
   "source": [
    "Sum(Sum( \n",
    "    LeviCivita(i,j)*LeviCivita(i,j),\n",
    "    (j,1,2)),\n",
    "    (i,1,2))"
   ]
  },
  {
   "cell_type": "code",
   "execution_count": 15,
   "id": "72037ddf",
   "metadata": {},
   "outputs": [
    {
     "data": {
      "image/png": "[encoded data removed]",
      "text/latex": [
       "$$2$$"
      ],
      "text/plain": [
       "2"
      ]
     },
     "execution_count": 15,
     "metadata": {},
     "output_type": "execute_result"
    }
   ],
   "source": [
    "Sum(Sum( \n",
    "    LeviCivita(i,j)*LeviCivita(i,j),\n",
    "    (j,1,2)),\n",
    "    (i,1,2)).doit()"
   ]
  },
  {
   "cell_type": "code",
   "execution_count": 16,
   "id": "4c1f12ef",
   "metadata": {},
   "outputs": [
    {
     "data": {
      "text/latex": [
       "$$\\sum_{\\substack{1 \\leq k \\leq 3\\\\1 \\leq j \\leq 3\\\\1 \\leq i \\leq 3}} \\varepsilon_{i j k}$$"
      ],
      "text/plain": [
       "  3     3     3                      \n",
       " ___   ___   ___                     \n",
       " ╲     ╲     ╲                       \n",
       "  ╲     ╲     ╲   LeviCivita(i, j, k)\n",
       "  ╱     ╱     ╱                      \n",
       " ╱     ╱     ╱                       \n",
       " ‾‾‾   ‾‾‾   ‾‾‾                     \n",
       "i = 1 j = 1 k = 1                    "
      ]
     },
     "execution_count": 16,
     "metadata": {},
     "output_type": "execute_result"
    }
   ],
   "source": [
    "Sum(Sum(Sum( LeviCivita(i,j,k), (k,1,3)) , (j,1,3) ),  (i,1,3))"
   ]
  },
  {
   "cell_type": "code",
   "execution_count": 17,
   "id": "cbe3f950",
   "metadata": {},
   "outputs": [
    {
     "data": {
      "image/png": "[encoded data removed]",
      "text/latex": [
       "$$0$$"
      ],
      "text/plain": [
       "0"
      ]
     },
     "execution_count": 17,
     "metadata": {},
     "output_type": "execute_result"
    }
   ],
   "source": [
    "Sum(Sum(Sum( LeviCivita(i,j,k), (k,1,3)) , (j,1,3) ),  (i,1,3)).doit()\n"
   ]
  },
  {
   "cell_type": "code",
   "execution_count": 18,
   "id": "de750c98",
   "metadata": {},
   "outputs": [
    {
     "data": {
      "text/latex": [
       "$$\\sum_{\\substack{1 \\leq k \\leq 3\\\\1 \\leq j \\leq 3\\\\1 \\leq i \\leq 3}} \\left(\\varepsilon_{i j k}\\right)^{2}$$"
      ],
      "text/plain": [
       "  3     3     3                       \n",
       " ___   ___   ___                      \n",
       " ╲     ╲     ╲                        \n",
       "  ╲     ╲     ╲             2         \n",
       "  ╱     ╱     ╱   LeviCivita (i, j, k)\n",
       " ╱     ╱     ╱                        \n",
       " ‾‾‾   ‾‾‾   ‾‾‾                      \n",
       "i = 1 j = 1 k = 1                     "
      ]
     },
     "execution_count": 18,
     "metadata": {},
     "output_type": "execute_result"
    }
   ],
   "source": [
    "\n",
    "Sum(Sum(Sum( LeviCivita(i,j,k)*LeviCivita(i,j,k), (k,1,3)) , (j,1,3) ),  (i,1,3))"
   ]
  },
  {
   "cell_type": "code",
   "execution_count": 19,
   "id": "66e143be",
   "metadata": {},
   "outputs": [
    {
     "data": {
      "image/png": "[encoded data removed]",
      "text/latex": [
       "$$6$$"
      ],
      "text/plain": [
       "6"
      ]
     },
     "execution_count": 19,
     "metadata": {},
     "output_type": "execute_result"
    }
   ],
   "source": [
    "\n",
    "Sum(Sum(Sum( LeviCivita(i,j,k)*LeviCivita(i,j,k), (k,1,3)) , (j,1,3) ),  (i,1,3)).doit()"
   ]
  },
  {
   "cell_type": "code",
   "execution_count": 20,
   "id": "c039db0d",
   "metadata": {},
   "outputs": [],
   "source": [
    "from sympy.abc import l"
   ]
  },
  {
   "cell_type": "code",
   "execution_count": 21,
   "id": "d486c82d",
   "metadata": {},
   "outputs": [
    {
     "data": {
      "text/latex": [
       "$$\\sum_{\\substack{1 \\leq l \\leq 4\\\\1 \\leq k \\leq 4\\\\1 \\leq j \\leq 4\\\\1 \\leq i \\leq 4}} \\left(\\varepsilon_{i j k l}\\right)^{2}$$"
      ],
      "text/plain": [
       "  4     4     4     4                          \n",
       " ___   ___   ___   ___                         \n",
       " ╲     ╲     ╲     ╲                           \n",
       "  ╲     ╲     ╲     ╲             2            \n",
       "  ╱     ╱     ╱     ╱   LeviCivita (i, j, k, l)\n",
       " ╱     ╱     ╱     ╱                           \n",
       " ‾‾‾   ‾‾‾   ‾‾‾   ‾‾‾                         \n",
       "i = 1 j = 1 k = 1 l = 1                        "
      ]
     },
     "execution_count": 21,
     "metadata": {},
     "output_type": "execute_result"
    }
   ],
   "source": [
    "\n",
    "Sum(Sum(Sum(Sum( \n",
    "    LeviCivita(i,j,k,l)*LeviCivita(i,j,k,l),\n",
    "    (l,1,4)),\n",
    "    (k,1,4)),\n",
    "    (j,1,4)),\n",
    "    (i,1,4))"
   ]
  },
  {
   "cell_type": "code",
   "execution_count": 22,
   "id": "8f679862",
   "metadata": {},
   "outputs": [
    {
     "data": {
      "image/png": "[encoded data removed]",
      "text/latex": [
       "$$24$$"
      ],
      "text/plain": [
       "24"
      ]
     },
     "execution_count": 22,
     "metadata": {},
     "output_type": "execute_result"
    }
   ],
   "source": [
    "\n",
    "Sum(Sum(Sum(Sum( \n",
    "    LeviCivita(i,j,k,l)*LeviCivita(i,j,k,l),\n",
    "    (l,1,4)),\n",
    "    (k,1,4)),\n",
    "    (j,1,4)),\n",
    "    (i,1,4)).doit()"
   ]
  }
 ],
 "metadata": {
  "kernelspec": {
   "display_name": "Python 3",
   "language": "python",
   "name": "python3"
  },
  "language_info": {
   "codemirror_mode": {
    "name": "ipython",
    "version": 3
   },
   "file_extension": ".py",
   "mimetype": "text/x-python",
   "name": "python",
   "nbconvert_exporter": "python",
   "pygments_lexer": "ipython3",
   "version": "3.6.8"
  }
 },
 "nbformat": 4,
 "nbformat_minor": 5
}
