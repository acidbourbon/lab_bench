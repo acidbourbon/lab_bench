{
 "cells": [
  {
   "cell_type": "code",
   "execution_count": 20,
   "id": "23449ce9",
   "metadata": {},
   "outputs": [],
   "source": [
    "import sympy as sp\n",
    "\n",
    "import numpy as np\n",
    "\n",
    "sp.init_printing() \n",
    "\n",
    "from sympy.abc import a,b,c,x,y,z\n"
   ]
  },
  {
   "cell_type": "code",
   "execution_count": 2,
   "id": "cdc66eaa",
   "metadata": {},
   "outputs": [
    {
     "data": {
      "image/png": "[encoded data removed]",
      "text/latex": [
       "$$7919$$"
      ],
      "text/plain": [
       "7919"
      ]
     },
     "execution_count": 2,
     "metadata": {},
     "output_type": "execute_result"
    }
   ],
   "source": [
    "sp.prime(1000)"
   ]
  },
  {
   "cell_type": "code",
   "execution_count": 3,
   "id": "e563ed2a",
   "metadata": {},
   "outputs": [
    {
     "data": {
      "image/png": "[encoded data removed]",
      "text/latex": [
       "$$1.73205080757$$"
      ],
      "text/plain": [
       "1.7320508075688772"
      ]
     },
     "execution_count": 3,
     "metadata": {},
     "output_type": "execute_result"
    }
   ],
   "source": [
    "np.sqrt(3)"
   ]
  },
  {
   "cell_type": "code",
   "execution_count": 4,
   "id": "3cc5cf6e",
   "metadata": {},
   "outputs": [
    {
     "data": {
      "image/png": "[encoded data removed]",
      "text/latex": [
       "$$\\sqrt{3}$$"
      ],
      "text/plain": [
       "√3"
      ]
     },
     "execution_count": 4,
     "metadata": {},
     "output_type": "execute_result"
    }
   ],
   "source": [
    "sp.sqrt(3)"
   ]
  },
  {
   "cell_type": "code",
   "execution_count": 5,
   "id": "5490c9ae",
   "metadata": {},
   "outputs": [
    {
     "data": {
      "image/png": "[encoded data removed]",
      "text/latex": [
       "$$1.732050807568877293527446341505872366942805253810380628055806979451933016908800037081146186757248576$$"
      ],
      "text/plain": [
       "1.7320508075688772935274463415058723669428052538103806280558069794519330169088\n",
       "00037081146186757248576"
      ]
     },
     "execution_count": 5,
     "metadata": {},
     "output_type": "execute_result"
    }
   ],
   "source": [
    "sp.sqrt(3).evalf(100)"
   ]
  },
  {
   "cell_type": "code",
   "execution_count": 6,
   "id": "02398d57",
   "metadata": {},
   "outputs": [],
   "source": [
    "expr = sp.pi * sp.Rational(3,4) * sp.sqrt(2)"
   ]
  },
  {
   "cell_type": "code",
   "execution_count": 7,
   "id": "c0173523",
   "metadata": {},
   "outputs": [
    {
     "data": {
      "image/png": "[encoded data removed]",
      "text/latex": [
       "$$3.33216220361877$$"
      ],
      "text/plain": [
       "3.33216220361877"
      ]
     },
     "execution_count": 7,
     "metadata": {},
     "output_type": "execute_result"
    }
   ],
   "source": [
    "sp.N(expr)"
   ]
  },
  {
   "cell_type": "code",
   "execution_count": 8,
   "id": "5313714a",
   "metadata": {},
   "outputs": [
    {
     "data": {
      "image/png": "[encoded data removed]",
      "text/latex": [
       "$$\\frac{1}{x} \\left(- \\sqrt{n} + x\\right)$$"
      ],
      "text/plain": [
       "-√n + x\n",
       "───────\n",
       "   x   "
      ]
     },
     "execution_count": 8,
     "metadata": {},
     "output_type": "execute_result"
    }
   ],
   "source": [
    "# define symbols\n",
    "x, n = sp.symbols(\"x n\")\n",
    "\n",
    "(x - sp.sqrt(n))/x"
   ]
  },
  {
   "cell_type": "code",
   "execution_count": 9,
   "id": "259e1429",
   "metadata": {},
   "outputs": [
    {
     "data": {
      "image/png": "[encoded data removed]",
      "text/latex": [
       "$$\\frac{1}{\\xi} \\left(p - q\\right)$$"
      ],
      "text/plain": [
       "p - q\n",
       "─────\n",
       "  ξ  "
      ]
     },
     "execution_count": 9,
     "metadata": {},
     "output_type": "execute_result"
    }
   ],
   "source": [
    "# or\n",
    "from sympy.abc import p, q, xi\n",
    "\n",
    "# and then just use them\n",
    "(p-q)/xi"
   ]
  },
  {
   "cell_type": "code",
   "execution_count": 10,
   "id": "713adda7",
   "metadata": {},
   "outputs": [
    {
     "data": {
      "image/png": "[encoded data removed]",
      "text/latex": [
       "$$\\rho + 1$$"
      ],
      "text/plain": [
       "ρ + 1"
      ]
     },
     "execution_count": 10,
     "metadata": {},
     "output_type": "execute_result"
    }
   ],
   "source": [
    "rho = sp.Symbol(\"rho\")\n",
    "\n",
    "rho + 1"
   ]
  },
  {
   "cell_type": "code",
   "execution_count": 11,
   "id": "79b051b3",
   "metadata": {},
   "outputs": [
    {
     "data": {
      "image/png": "[encoded data removed]",
      "text/latex": [
       "$$\\frac{1}{\\xi} \\left(- q + 3\\right)$$"
      ],
      "text/plain": [
       "-q + 3\n",
       "──────\n",
       "  ξ   "
      ]
     },
     "execution_count": 11,
     "metadata": {},
     "output_type": "execute_result"
    }
   ],
   "source": [
    "expr = (p-q)/xi\n",
    "expr.subs(p,3)"
   ]
  },
  {
   "cell_type": "code",
   "execution_count": 12,
   "id": "451112df",
   "metadata": {},
   "outputs": [
    {
     "data": {
      "image/png": "[encoded data removed]",
      "text/latex": [
       "$$\\frac{2}{\\xi}$$"
      ],
      "text/plain": [
       "2\n",
       "─\n",
       "ξ"
      ]
     },
     "execution_count": 12,
     "metadata": {},
     "output_type": "execute_result"
    }
   ],
   "source": [
    "expr = (p-q)/xi\n",
    "expr.subs([(p,3),(q,1)])"
   ]
  },
  {
   "cell_type": "code",
   "execution_count": 13,
   "id": "1572c391",
   "metadata": {},
   "outputs": [
    {
     "data": {
      "image/png": "[encoded data removed]",
      "text/latex": [
       "$$x^{3}$$"
      ],
      "text/plain": [
       " 3\n",
       "x "
      ]
     },
     "execution_count": 13,
     "metadata": {},
     "output_type": "execute_result"
    }
   ],
   "source": [
    "sp.gcd(23*x**4,17*x**3)"
   ]
  },
  {
   "cell_type": "code",
   "execution_count": 14,
   "id": "28b067e0",
   "metadata": {},
   "outputs": [
    {
     "data": {
      "image/png": "[encoded data removed]",
      "text/latex": [
       "$$x^{3} \\left(23 x + 17\\right)$$"
      ],
      "text/plain": [
       " 3            \n",
       "x ⋅(23⋅x + 17)"
      ]
     },
     "execution_count": 14,
     "metadata": {},
     "output_type": "execute_result"
    }
   ],
   "source": [
    "sp.factor(23*x**4+17*x**3)\n"
   ]
  },
  {
   "cell_type": "code",
   "execution_count": 16,
   "id": "da301a09",
   "metadata": {},
   "outputs": [
    {
     "data": {
      "image/png": "[encoded data removed]",
      "text/latex": [
       "$$\\left(x - 1\\right) \\left(x + 1\\right)$$"
      ],
      "text/plain": [
       "(x - 1)⋅(x + 1)"
      ]
     },
     "execution_count": 16,
     "metadata": {},
     "output_type": "execute_result"
    }
   ],
   "source": [
    "(x-1)*(x+1)"
   ]
  },
  {
   "cell_type": "code",
   "execution_count": 17,
   "id": "f486bede",
   "metadata": {},
   "outputs": [
    {
     "data": {
      "image/png": "[encoded data removed]",
      "text/latex": [
       "$$x^{2} - 1$$"
      ],
      "text/plain": [
       " 2    \n",
       "x  - 1"
      ]
     },
     "execution_count": 17,
     "metadata": {},
     "output_type": "execute_result"
    }
   ],
   "source": [
    "sp.expand((x-1)*(x+1))"
   ]
  },
  {
   "cell_type": "code",
   "execution_count": 18,
   "id": "8917f787",
   "metadata": {},
   "outputs": [
    {
     "data": {
      "image/png": "[encoded data removed]",
      "text/latex": [
       "$$\\left(x - 1\\right) \\left(x + 1\\right)$$"
      ],
      "text/plain": [
       "(x - 1)⋅(x + 1)"
      ]
     },
     "execution_count": 18,
     "metadata": {},
     "output_type": "execute_result"
    }
   ],
   "source": [
    "sp.factor(x**2-1)"
   ]
  },
  {
   "cell_type": "code",
   "execution_count": 26,
   "id": "bcc4f9b8",
   "metadata": {},
   "outputs": [
    {
     "data": {
      "image/png": "[encoded data removed]",
      "text/latex": [
       "$$x^{2} + y^{2} = 1$$"
      ],
      "text/plain": [
       " 2    2    \n",
       "x  + y  = 1"
      ]
     },
     "execution_count": 26,
     "metadata": {},
     "output_type": "execute_result"
    }
   ],
   "source": [
    "sp.Eq(x**2 + y**2, 1 )"
   ]
  },
  {
   "cell_type": "code",
   "execution_count": 31,
   "id": "dd794f76",
   "metadata": {},
   "outputs": [
    {
     "data": {
      "image/png": "[encoded data removed]",
      "text/latex": [
       "$$\\left [ - \\sqrt{- y^{2} + 1}, \\quad \\sqrt{- y^{2} + 1}\\right ]$$"
      ],
      "text/plain": [
       "⎡    __________     __________⎤\n",
       "⎢   ╱    2         ╱    2     ⎥\n",
       "⎣-╲╱  - y  + 1 , ╲╱  - y  + 1 ⎦"
      ]
     },
     "execution_count": 31,
     "metadata": {},
     "output_type": "execute_result"
    }
   ],
   "source": [
    "eqn = sp.Eq(x**2 + y**2, 1 )\n",
    "sp.solve(eqn,x)"
   ]
  },
  {
   "cell_type": "code",
   "execution_count": 37,
   "id": "5bd245fc",
   "metadata": {},
   "outputs": [
    {
     "data": {
      "image/png": "[encoded data removed]",
      "text/latex": [
       "$$\\left\\{- \\sqrt{- \\left(y - 1\\right) \\left(y + 1\\right)}, \\sqrt{- \\left(y - 1\\right) \\left(y + 1\\right)}\\right\\}$$"
      ],
      "text/plain": [
       "⎧   __________________    __________________⎫\n",
       "⎨-╲╱ -(y - 1)⋅(y + 1) , ╲╱ -(y - 1)⋅(y + 1) ⎬\n",
       "⎩                                           ⎭"
      ]
     },
     "execution_count": 37,
     "metadata": {},
     "output_type": "execute_result"
    }
   ],
   "source": [
    "sp.solveset(eqn,x)"
   ]
  },
  {
   "cell_type": "code",
   "execution_count": 40,
   "id": "8b8b863d",
   "metadata": {},
   "outputs": [
    {
     "data": {
      "image/png": "[encoded data removed]",
      "text/latex": [
       "$$4 x + 8$$"
      ],
      "text/plain": [
       "4⋅x + 8"
      ]
     },
     "execution_count": 40,
     "metadata": {},
     "output_type": "execute_result"
    }
   ],
   "source": [
    "sp.sympify(\"4*x+8\")"
   ]
  },
  {
   "cell_type": "code",
   "execution_count": 44,
   "id": "6e347070",
   "metadata": {},
   "outputs": [
    {
     "data": {
      "image/png": "[encoded data removed]",
      "text/latex": [
       "$$4 x + 8 = 0$$"
      ],
      "text/plain": [
       "4⋅x + 8 = 0"
      ]
     },
     "execution_count": 44,
     "metadata": {},
     "output_type": "execute_result"
    }
   ],
   "source": [
    "sp.sympify(\"Eq(4*x+8,0)\")"
   ]
  },
  {
   "cell_type": "code",
   "execution_count": 46,
   "id": "9b9ff0fa",
   "metadata": {},
   "outputs": [
    {
     "data": {
      "text/latex": [
       "$$\\left[\\begin{matrix}1 & 2 & 3\\\\3 & 4 & 0\\\\5 & 8 & 2\\end{matrix}\\right]$$"
      ],
      "text/plain": [
       "⎡1  2  3⎤\n",
       "⎢       ⎥\n",
       "⎢3  4  0⎥\n",
       "⎢       ⎥\n",
       "⎣5  8  2⎦"
      ]
     },
     "execution_count": 46,
     "metadata": {},
     "output_type": "execute_result"
    }
   ],
   "source": [
    "sp.Matrix([[1,2,3],[3,4,0],[5,8,2]])"
   ]
  },
  {
   "cell_type": "code",
   "execution_count": 47,
   "id": "f7acb16b",
   "metadata": {},
   "outputs": [
    {
     "data": {
      "text/latex": [
       "$$\\left[\\begin{matrix}1 & 2 & 3\\end{matrix}\\right]$$"
      ],
      "text/plain": [
       "[1  2  3]"
      ]
     },
     "execution_count": 47,
     "metadata": {},
     "output_type": "execute_result"
    }
   ],
   "source": [
    "# create a matrix\n",
    "A = sp.Matrix([[1,2,3],[3,4,0],[5,8,2]])\n",
    "# get first row\n",
    "A.row(0)"
   ]
  },
  {
   "cell_type": "code",
   "execution_count": 48,
   "id": "15d29a6a",
   "metadata": {},
   "outputs": [
    {
     "data": {
      "text/latex": [
       "$$\\left[\\begin{matrix}1\\\\3\\\\5\\end{matrix}\\right]$$"
      ],
      "text/plain": [
       "⎡1⎤\n",
       "⎢ ⎥\n",
       "⎢3⎥\n",
       "⎢ ⎥\n",
       "⎣5⎦"
      ]
     },
     "execution_count": 48,
     "metadata": {},
     "output_type": "execute_result"
    }
   ],
   "source": [
    "A.col(0)"
   ]
  },
  {
   "cell_type": "code",
   "execution_count": 49,
   "id": "6b7228b7",
   "metadata": {},
   "outputs": [
    {
     "data": {
      "text/latex": [
       "$$\\left[\\begin{matrix}1\\\\2\\\\3\\end{matrix}\\right]$$"
      ],
      "text/plain": [
       "⎡1⎤\n",
       "⎢ ⎥\n",
       "⎢2⎥\n",
       "⎢ ⎥\n",
       "⎣3⎦"
      ]
     },
     "execution_count": 49,
     "metadata": {},
     "output_type": "execute_result"
    }
   ],
   "source": [
    "sp.Matrix([1,2,3])"
   ]
  },
  {
   "cell_type": "code",
   "execution_count": 50,
   "id": "f8546df1",
   "metadata": {},
   "outputs": [
    {
     "data": {
      "text/latex": [
       "$$\\left[\\begin{matrix}1 & 2 & 3\\end{matrix}\\right]$$"
      ],
      "text/plain": [
       "[1  2  3]"
      ]
     },
     "execution_count": 50,
     "metadata": {},
     "output_type": "execute_result"
    }
   ],
   "source": [
    "sp.Matrix([1,2,3]).T"
   ]
  },
  {
   "cell_type": "code",
   "execution_count": 52,
   "id": "a4184a55",
   "metadata": {},
   "outputs": [
    {
     "data": {
      "image/png": "[encoded data removed]",
      "text/plain": [
       "<matplotlib.figure.Figure at 0x7f5c6af99710>"
      ]
     },
     "metadata": {
      "needs_background": "light"
     },
     "output_type": "display_data"
    },
    {
     "data": {
      "text/plain": [
       "<sympy.plotting.plot.Plot at 0x7f5c6af99748>"
      ]
     },
     "execution_count": 52,
     "metadata": {},
     "output_type": "execute_result"
    }
   ],
   "source": [
    "sp.plot(x**2)"
   ]
  },
  {
   "cell_type": "code",
   "execution_count": 56,
   "id": "f8c7c96e",
   "metadata": {},
   "outputs": [
    {
     "data": {
      "image/png": "[encoded data removed]",
      "text/plain": [
       "<matplotlib.figure.Figure at 0x7f5c6addba20>"
      ]
     },
     "metadata": {
      "needs_background": "light"
     },
     "output_type": "display_data"
    },
    {
     "data": {
      "text/plain": [
       "<sympy.plotting.plot.Plot at 0x7f5c6ad8b470>"
      ]
     },
     "execution_count": 56,
     "metadata": {},
     "output_type": "execute_result"
    }
   ],
   "source": [
    "sp.plot(x**2+2, x+10, title=\"blablah\")"
   ]
  }
 ],
 "metadata": {
  "kernelspec": {
   "display_name": "Python 3",
   "language": "python",
   "name": "python3"
  },
  "language_info": {
   "codemirror_mode": {
    "name": "ipython",
    "version": 3
   },
   "file_extension": ".py",
   "mimetype": "text/x-python",
   "name": "python",
   "nbconvert_exporter": "python",
   "pygments_lexer": "ipython3",
   "version": "3.6.8"
  }
 },
 "nbformat": 4,
 "nbformat_minor": 5
}
