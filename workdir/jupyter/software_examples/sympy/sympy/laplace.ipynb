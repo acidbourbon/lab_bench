{
 "cells": [
  {
   "cell_type": "code",
   "execution_count": 1,
   "id": "01a0e0f7",
   "metadata": {},
   "outputs": [],
   "source": [
    "import sympy\n",
    "sympy.init_printing()"
   ]
  },
  {
   "cell_type": "code",
   "execution_count": 2,
   "id": "790c7711",
   "metadata": {},
   "outputs": [],
   "source": [
    "import matplotlib.pyplot as plt\n",
    "%matplotlib inline"
   ]
  },
  {
   "cell_type": "code",
   "execution_count": 3,
   "id": "9e0c4e47",
   "metadata": {},
   "outputs": [],
   "source": [
    "t, s = sympy.symbols('t, s')\n",
    "a = sympy.symbols('a', real=True, positive=True)"
   ]
  },
  {
   "cell_type": "code",
   "execution_count": 4,
   "id": "94967ad7",
   "metadata": {},
   "outputs": [
    {
     "data": {
      "image/png": "[encoded data removed]",
      "text/latex": [
       "$$e^{- a t}$$"
      ],
      "text/plain": [
       " -a⋅t\n",
       "ℯ    "
      ]
     },
     "execution_count": 4,
     "metadata": {},
     "output_type": "execute_result"
    }
   ],
   "source": [
    "f = sympy.exp(-a*t)\n",
    "f"
   ]
  },
  {
   "cell_type": "code",
   "execution_count": 5,
   "id": "5daece62",
   "metadata": {},
   "outputs": [
    {
     "data": {
      "text/latex": [
       "$$\\begin{cases} \\frac{1}{s \\left(\\frac{a}{s} + 1\\right)} & \\text{for}\\: \\left|{\\operatorname{periodic_{argument}}{\\left (s,\\infty \\right )}}\\right| \\leq \\frac{\\pi}{2} \\\\\\int_{0}^{\\infty} e^{- a t} e^{- s t}\\, dt & \\text{otherwise} \\end{cases}$$"
      ],
      "text/plain": [
       "⎧       1                                          π\n",
       "⎪   ─────────      for │periodic_argument(s, ∞)│ ≤ ─\n",
       "⎪     ⎛a    ⎞                                      2\n",
       "⎪   s⋅⎜─ + 1⎟                                       \n",
       "⎪     ⎝s    ⎠                                       \n",
       "⎪                                                   \n",
       "⎨∞                                                  \n",
       "⎪⌠                                                  \n",
       "⎪⎮  -a⋅t  -s⋅t                                      \n",
       "⎪⎮ ℯ    ⋅ℯ     dt              otherwise            \n",
       "⎪⌡                                                  \n",
       "⎪0                                                  \n",
       "⎩                                                   "
      ]
     },
     "execution_count": 5,
     "metadata": {},
     "output_type": "execute_result"
    }
   ],
   "source": [
    "# transform manually\n",
    "sympy.integrate(f*sympy.exp(-s*t), (t, 0, sympy.oo))"
   ]
  },
  {
   "cell_type": "code",
   "execution_count": 6,
   "id": "35c1adc8",
   "metadata": {},
   "outputs": [
    {
     "data": {
      "text/plain": [
       "(1/(a + s), 0, True)"
      ]
     },
     "execution_count": 6,
     "metadata": {},
     "output_type": "execute_result"
    }
   ],
   "source": [
    "sympy.laplace_transform(f, t, s)"
   ]
  },
  {
   "cell_type": "code",
   "execution_count": 7,
   "id": "1129a082",
   "metadata": {},
   "outputs": [
    {
     "data": {
      "image/png": "[encoded data removed]",
      "text/latex": [
       "$$\\frac{1}{a + s}$$"
      ],
      "text/plain": [
       "  1  \n",
       "─────\n",
       "a + s"
      ]
     },
     "execution_count": 7,
     "metadata": {},
     "output_type": "execute_result"
    }
   ],
   "source": [
    "F = sympy.laplace_transform(f, t, s, noconds=True)\n",
    "F"
   ]
  },
  {
   "cell_type": "code",
   "execution_count": 8,
   "id": "41d3c710",
   "metadata": {},
   "outputs": [],
   "source": [
    "def L(f):\n",
    "    return sympy.laplace_transform(f, t, s, noconds=True)\n",
    "\n",
    "def invL(F):\n",
    "    return sympy.inverse_laplace_transform(F, s, t)"
   ]
  },
  {
   "cell_type": "code",
   "execution_count": 9,
   "id": "9d78ffad",
   "metadata": {},
   "outputs": [
    {
     "data": {
      "image/png": "[encoded data removed]",
      "text/latex": [
       "$$\\frac{1}{a + s}$$"
      ],
      "text/plain": [
       "  1  \n",
       "─────\n",
       "a + s"
      ]
     },
     "execution_count": 9,
     "metadata": {},
     "output_type": "execute_result"
    }
   ],
   "source": [
    "F = L(f)\n",
    "F"
   ]
  },
  {
   "cell_type": "code",
   "execution_count": 10,
   "id": "c0b9d02f",
   "metadata": {},
   "outputs": [
    {
     "data": {
      "image/png": "[encoded data removed]",
      "text/latex": [
       "$$e^{- a t} \\theta\\left(t\\right)$$"
      ],
      "text/plain": [
       " -a⋅t             \n",
       "ℯ    ⋅Heaviside(t)"
      ]
     },
     "execution_count": 10,
     "metadata": {},
     "output_type": "execute_result"
    }
   ],
   "source": [
    "invL(F)\n"
   ]
  },
  {
   "cell_type": "code",
   "execution_count": 11,
   "id": "acc6a005",
   "metadata": {},
   "outputs": [
    {
     "data": {
      "image/png": "[encoded data removed]",
      "text/plain": [
       "<matplotlib.figure.Figure at 0x7f5fdcdc8c18>"
      ]
     },
     "metadata": {
      "needs_background": "light"
     },
     "output_type": "display_data"
    }
   ],
   "source": [
    "p = sympy.plot(f.subs({a: 2}), invL(F).subs({a: 2}),\n",
    "               xlim=(-1, 4), ylim=(0, 3), show=False)\n",
    "p[1].line_color = 'red'\n",
    "p.show()"
   ]
  },
  {
   "cell_type": "code",
   "execution_count": 12,
   "id": "84670fa5",
   "metadata": {},
   "outputs": [
    {
     "data": {
      "image/png": "[encoded data removed]",
      "text/latex": [
       "$$\\theta\\left(t\\right)$$"
      ],
      "text/plain": [
       "Heaviside(t)"
      ]
     },
     "execution_count": 12,
     "metadata": {},
     "output_type": "execute_result"
    }
   ],
   "source": [
    "sympy.Heaviside(t)"
   ]
  },
  {
   "cell_type": "code",
   "execution_count": 13,
   "id": "b71c8524",
   "metadata": {},
   "outputs": [
    {
     "data": {
      "image/png": "[encoded data removed]",
      "text/plain": [
       "<matplotlib.figure.Figure at 0x7f5fdce5e630>"
      ]
     },
     "metadata": {
      "needs_background": "light"
     },
     "output_type": "display_data"
    },
    {
     "data": {
      "text/plain": [
       "<sympy.plotting.plot.Plot at 0x7f5fdcedf630>"
      ]
     },
     "execution_count": 13,
     "metadata": {},
     "output_type": "execute_result"
    }
   ],
   "source": [
    "sympy.plot(sympy.Heaviside(t))"
   ]
  },
  {
   "cell_type": "code",
   "execution_count": 14,
   "id": "afbb9d0a",
   "metadata": {},
   "outputs": [
    {
     "data": {
      "image/png": "[encoded data removed]",
      "text/latex": [
       "$$\\left [ 1, \\quad t, \\quad e^{- a t}, \\quad t e^{- a t}, \\quad t^{2} e^{- a t}, \\quad \\sin{\\left (\\omega t \\right )}, \\quad \\cos{\\left (\\omega t \\right )}, \\quad 1 - e^{- a t}, \\quad e^{- a t} \\sin{\\left (\\omega t \\right )}, \\quad e^{- a t} \\cos{\\left (\\omega t \\right )}\\right ]$$"
      ],
      "text/plain": [
       "⎡       -a⋅t     -a⋅t   2  -a⋅t                           -a⋅t   -a⋅t         \n",
       "⎣1, t, ℯ    , t⋅ℯ    , t ⋅ℯ    , sin(ω⋅t), cos(ω⋅t), 1 - ℯ    , ℯ    ⋅sin(ω⋅t)\n",
       "\n",
       "   -a⋅t         ⎤\n",
       ", ℯ    ⋅cos(ω⋅t)⎦"
      ]
     },
     "execution_count": 14,
     "metadata": {},
     "output_type": "execute_result"
    }
   ],
   "source": [
    "omega = sympy.Symbol('omega', real=True)\n",
    "exp = sympy.exp\n",
    "sin = sympy.sin\n",
    "cos = sympy.cos\n",
    "functions = [1,\n",
    "         t,\n",
    "         exp(-a*t),\n",
    "         t*exp(-a*t),\n",
    "         t**2*exp(-a*t),\n",
    "         sin(omega*t),\n",
    "         cos(omega*t),\n",
    "         1 - exp(-a*t),\n",
    "         exp(-a*t)*sin(omega*t),\n",
    "         exp(-a*t)*cos(omega*t),\n",
    "         ]\n",
    "functions\n"
   ]
  },
  {
   "cell_type": "code",
   "execution_count": 15,
   "id": "b2ed15ac",
   "metadata": {},
   "outputs": [
    {
     "data": {
      "image/png": "[encoded data removed]",
      "text/latex": [
       "$$\\left [ \\frac{1}{s}, \\quad \\frac{1}{s^{2}}, \\quad \\frac{1}{a + s}, \\quad \\frac{1}{\\left(a + s\\right)^{2}}, \\quad \\frac{2}{\\left(a + s\\right)^{3}}, \\quad \\frac{\\omega}{\\omega^{2} + s^{2}}, \\quad \\frac{s}{\\omega^{2} + s^{2}}, \\quad \\frac{a}{s \\left(a + s\\right)}, \\quad \\frac{\\omega}{\\omega^{2} + \\left(a + s\\right)^{2}}, \\quad \\frac{a + s}{\\omega^{2} + \\left(a + s\\right)^{2}}\\right ]$$"
      ],
      "text/plain": [
       "⎡1  1     1       1         2         ω        s         a            ω       \n",
       "⎢─, ──, ─────, ────────, ────────, ───────, ───────, ─────────, ─────────────,\n",
       "⎢s   2  a + s         2         3   2    2   2    2  s⋅(a + s)   2          2 \n",
       "⎣   s          (a + s)   (a + s)   ω  + s   ω  + s              ω  + (a + s)  \n",
       "\n",
       "     a + s    ⎤\n",
       " ─────────────⎥\n",
       "  2          2⎥\n",
       " ω  + (a + s) ⎦"
      ]
     },
     "execution_count": 15,
     "metadata": {},
     "output_type": "execute_result"
    }
   ],
   "source": [
    "Fs = [L(f) for f in functions]\n",
    "Fs"
   ]
  },
  {
   "cell_type": "code",
   "execution_count": 16,
   "id": "caac45d8",
   "metadata": {},
   "outputs": [
    {
     "data": {
      "text/plain": [
       "'e^{- a t}'"
      ]
     },
     "execution_count": 16,
     "metadata": {},
     "output_type": "execute_result"
    }
   ],
   "source": [
    "sympy.latex(f)"
   ]
  },
  {
   "cell_type": "code",
   "execution_count": 19,
   "id": "6212a70c",
   "metadata": {},
   "outputs": [
    {
     "data": {
      "text/html": [
       "<div>\n",
       "<style scoped>\n",
       "    .dataframe tbody tr th:only-of-type {\n",
       "        vertical-align: middle;\n",
       "    }\n",
       "\n",
       "    .dataframe tbody tr th {\n",
       "        vertical-align: top;\n",
       "    }\n",
       "\n",
       "    .dataframe thead th {\n",
       "        text-align: right;\n",
       "    }\n",
       "</style>\n",
       "<table border=\"1\" class=\"dataframe\">\n",
       "  <thead>\n",
       "    <tr style=\"text-align: right;\">\n",
       "      <th></th>\n",
       "      <th>0</th>\n",
       "      <th>1</th>\n",
       "    </tr>\n",
       "  </thead>\n",
       "  <tbody>\n",
       "    <tr>\n",
       "      <th>0</th>\n",
       "      <td>$$1$$</td>\n",
       "      <td>$$\\frac{1}{s}$$</td>\n",
       "    </tr>\n",
       "    <tr>\n",
       "      <th>1</th>\n",
       "      <td>$$t$$</td>\n",
       "      <td>$$\\frac{1}{s^{2}}$$</td>\n",
       "    </tr>\n",
       "    <tr>\n",
       "      <th>2</th>\n",
       "      <td>$$e^{- a t}$$</td>\n",
       "      <td>$$\\frac{1}{a + s}$$</td>\n",
       "    </tr>\n",
       "    <tr>\n",
       "      <th>3</th>\n",
       "      <td>$$t e^{- a t}$$</td>\n",
       "      <td>$$\\frac{1}{\\left(a + s\\right)^{2}}$$</td>\n",
       "    </tr>\n",
       "    <tr>\n",
       "      <th>4</th>\n",
       "      <td>$$t^{2} e^{- a t}$$</td>\n",
       "      <td>$$\\frac{2}{\\left(a + s\\right)^{3}}$$</td>\n",
       "    </tr>\n",
       "    <tr>\n",
       "      <th>5</th>\n",
       "      <td>$$\\sin{\\left (\\omega t \\right )}$$</td>\n",
       "      <td>$$\\frac{\\omega}{\\omega^{2} + s^{2}}$$</td>\n",
       "    </tr>\n",
       "    <tr>\n",
       "      <th>6</th>\n",
       "      <td>$$\\cos{\\left (\\omega t \\right )}$$</td>\n",
       "      <td>$$\\frac{s}{\\omega^{2} + s^{2}}$$</td>\n",
       "    </tr>\n",
       "    <tr>\n",
       "      <th>7</th>\n",
       "      <td>$$1 - e^{- a t}$$</td>\n",
       "      <td>$$\\frac{a}{s \\left(a + s\\right)}$$</td>\n",
       "    </tr>\n",
       "    <tr>\n",
       "      <th>8</th>\n",
       "      <td>$$e^{- a t} \\sin{\\left (\\omega t \\right )}$$</td>\n",
       "      <td>$$\\frac{\\omega}{\\omega^{2} + \\left(a + s\\right...</td>\n",
       "    </tr>\n",
       "    <tr>\n",
       "      <th>9</th>\n",
       "      <td>$$e^{- a t} \\cos{\\left (\\omega t \\right )}$$</td>\n",
       "      <td>$$\\frac{a + s}{\\omega^{2} + \\left(a + s\\right)...</td>\n",
       "    </tr>\n",
       "  </tbody>\n",
       "</table>\n",
       "</div>"
      ],
      "text/plain": [
       "                                              0  \\\n",
       "0                                         $$1$$   \n",
       "1                                         $$t$$   \n",
       "2                                 $$e^{- a t}$$   \n",
       "3                               $$t e^{- a t}$$   \n",
       "4                           $$t^{2} e^{- a t}$$   \n",
       "5            $$\\sin{\\left (\\omega t \\right )}$$   \n",
       "6            $$\\cos{\\left (\\omega t \\right )}$$   \n",
       "7                             $$1 - e^{- a t}$$   \n",
       "8  $$e^{- a t} \\sin{\\left (\\omega t \\right )}$$   \n",
       "9  $$e^{- a t} \\cos{\\left (\\omega t \\right )}$$   \n",
       "\n",
       "                                                   1  \n",
       "0                                    $$\\frac{1}{s}$$  \n",
       "1                                $$\\frac{1}{s^{2}}$$  \n",
       "2                                $$\\frac{1}{a + s}$$  \n",
       "3               $$\\frac{1}{\\left(a + s\\right)^{2}}$$  \n",
       "4               $$\\frac{2}{\\left(a + s\\right)^{3}}$$  \n",
       "5              $$\\frac{\\omega}{\\omega^{2} + s^{2}}$$  \n",
       "6                   $$\\frac{s}{\\omega^{2} + s^{2}}$$  \n",
       "7                 $$\\frac{a}{s \\left(a + s\\right)}$$  \n",
       "8  $$\\frac{\\omega}{\\omega^{2} + \\left(a + s\\right...  \n",
       "9  $$\\frac{a + s}{\\omega^{2} + \\left(a + s\\right)...  "
      ]
     },
     "execution_count": 19,
     "metadata": {},
     "output_type": "execute_result"
    }
   ],
   "source": [
    "from pandas import DataFrame\n",
    "\n",
    "def makelatex(args):\n",
    "    return [\"$${}$$\".format(sympy.latex(a)) for a in args]\n",
    "\n",
    "list(zip(makelatex(functions), makelatex(Fs)))\n",
    "DataFrame(list(zip(makelatex(functions), makelatex(Fs))))"
   ]
  },
  {
   "cell_type": "code",
   "execution_count": null,
   "id": "cb72b857",
   "metadata": {},
   "outputs": [],
   "source": []
  }
 ],
 "metadata": {
  "kernelspec": {
   "display_name": "Python 3",
   "language": "python",
   "name": "python3"
  },
  "language_info": {
   "codemirror_mode": {
    "name": "ipython",
    "version": 3
   },
   "file_extension": ".py",
   "mimetype": "text/x-python",
   "name": "python",
   "nbconvert_exporter": "python",
   "pygments_lexer": "ipython3",
   "version": "3.6.8"
  }
 },
 "nbformat": 4,
 "nbformat_minor": 5
}
