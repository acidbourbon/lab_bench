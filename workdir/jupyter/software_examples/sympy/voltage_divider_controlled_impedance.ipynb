{
 "cells": [
  {
   "cell_type": "code",
   "execution_count": 2,
   "id": "ad30afe5",
   "metadata": {},
   "outputs": [],
   "source": [
    "from sympy import *\n",
    "init_printing()\n",
    "from sympy.abc import a,b,c,x,y,z"
   ]
  },
  {
   "cell_type": "markdown",
   "id": "dcdac931",
   "metadata": {},
   "source": [
    "![image](BJT_base_divider.png)"
   ]
  },
  {
   "cell_type": "markdown",
   "id": "d5f11c47",
   "metadata": {},
   "source": [
    "$$ R_a || R_b = 33k $$\n",
    "$$ 1/R_a + 1/R_b = 1/33k $$"
   ]
  },
  {
   "cell_type": "markdown",
   "id": "3ac4c24e",
   "metadata": {},
   "source": [
    "$$ R_a / (R_a+R_b) = 1.1/3 $$"
   ]
  },
  {
   "cell_type": "code",
   "execution_count": 3,
   "id": "fad64714",
   "metadata": {},
   "outputs": [],
   "source": [
    "Ra, Rb = symbols(\"R_a R_b\")"
   ]
  },
  {
   "cell_type": "code",
   "execution_count": 7,
   "id": "3f1217f3",
   "metadata": {},
   "outputs": [
    {
     "name": "stdout",
     "output_type": "stream",
     "text": [
      "R_a, R_b:\n"
     ]
    },
    {
     "data": {
      "image/png": "[encoded data removed]",
      "text/latex": [
       "$$\\left [ \\left ( 52105.2631578947, \\quad 90000.0\\right )\\right ]$$"
      ],
      "text/plain": [
       "[(52105.2631578947, 90000.0)]"
      ]
     },
     "execution_count": 7,
     "metadata": {},
     "output_type": "execute_result"
    }
   ],
   "source": [
    "equations = [ 1/Ra+1/Rb - 1/33000,\n",
    "              Ra/(Ra+Rb) - 1.1/3 ]\n",
    "unknowns  = [Ra,Rb]\n",
    "solutions = solve(equations,unknowns)\n",
    "print(\"R_a, R_b:\")\n",
    "solutions"
   ]
  },
  {
   "cell_type": "code",
   "execution_count": null,
   "id": "4b9fea08",
   "metadata": {},
   "outputs": [],
   "source": []
  }
 ],
 "metadata": {
  "kernelspec": {
   "display_name": "Python 3",
   "language": "python",
   "name": "python3"
  },
  "language_info": {
   "codemirror_mode": {
    "name": "ipython",
    "version": 3
   },
   "file_extension": ".py",
   "mimetype": "text/x-python",
   "name": "python",
   "nbconvert_exporter": "python",
   "pygments_lexer": "ipython3",
   "version": "3.6.8"
  }
 },
 "nbformat": 4,
 "nbformat_minor": 5
}
