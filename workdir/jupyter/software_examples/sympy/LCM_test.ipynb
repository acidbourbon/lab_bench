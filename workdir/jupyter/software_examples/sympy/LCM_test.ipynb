{
 "cells": [
  {
   "cell_type": "code",
   "execution_count": 1,
   "id": "ad30afe5",
   "metadata": {},
   "outputs": [],
   "source": [
    "from sympy import *\n",
    "import vdiv\n",
    "from ipywidgets import interact\n",
    "\n",
    "init_printing()"
   ]
  },
  {
   "cell_type": "code",
   "execution_count": 3,
   "id": "484f1b00",
   "metadata": {},
   "outputs": [],
   "source": [
    "b = Rational(1000,24)"
   ]
  },
  {
   "cell_type": "code",
   "execution_count": 5,
   "id": "2232747f",
   "metadata": {},
   "outputs": [],
   "source": [
    "a = Rational(10,1)"
   ]
  },
  {
   "cell_type": "code",
   "execution_count": 7,
   "id": "b19322e5",
   "metadata": {},
   "outputs": [
    {
     "data": {
      "image/png": "[encoded data removed]",
      "text/latex": [
       "$$250$$"
      ],
      "text/plain": [
       "250"
      ]
     },
     "execution_count": 7,
     "metadata": {},
     "output_type": "execute_result"
    }
   ],
   "source": [
    "lcm(a,b)"
   ]
  },
  {
   "cell_type": "code",
   "execution_count": 9,
   "id": "69d59016",
   "metadata": {},
   "outputs": [
    {
     "data": {
      "image/png": "[encoded data removed]",
      "text/latex": [
       "$$6$$"
      ],
      "text/plain": [
       "6"
      ]
     },
     "execution_count": 9,
     "metadata": {},
     "output_type": "execute_result"
    }
   ],
   "source": [
    "250/b"
   ]
  },
  {
   "cell_type": "code",
   "execution_count": 19,
   "id": "8922fefe",
   "metadata": {},
   "outputs": [
    {
     "name": "stdout",
     "output_type": "stream",
     "text": [
      "F: 1 MHz -> LCM with 100 MHz = 1000.000 ns\n",
      "F: 2 MHz -> LCM with 100 MHz = 500.000 ns\n",
      "F: 3 MHz -> LCM with 100 MHz = 1000.000 ns\n",
      "F: 4 MHz -> LCM with 100 MHz = 250.000 ns\n",
      "F: 5 MHz -> LCM with 100 MHz = 200.000 ns\n",
      "F: 6 MHz -> LCM with 100 MHz = 500.000 ns\n",
      "F: 7 MHz -> LCM with 100 MHz = 1000.000 ns\n",
      "F: 8 MHz -> LCM with 100 MHz = 250.000 ns\n",
      "F: 9 MHz -> LCM with 100 MHz = 1000.000 ns\n",
      "F: 10 MHz -> LCM with 100 MHz = 100.000 ns\n",
      "F: 11 MHz -> LCM with 100 MHz = 1000.000 ns\n",
      "F: 12 MHz -> LCM with 100 MHz = 250.000 ns\n",
      "F: 13 MHz -> LCM with 100 MHz = 1000.000 ns\n",
      "F: 14 MHz -> LCM with 100 MHz = 500.000 ns\n",
      "F: 15 MHz -> LCM with 100 MHz = 200.000 ns\n",
      "F: 16 MHz -> LCM with 100 MHz = 250.000 ns\n",
      "F: 17 MHz -> LCM with 100 MHz = 1000.000 ns\n",
      "F: 18 MHz -> LCM with 100 MHz = 500.000 ns\n",
      "F: 19 MHz -> LCM with 100 MHz = 1000.000 ns\n",
      "F: 20 MHz -> LCM with 100 MHz = 50.000 ns\n",
      "F: 21 MHz -> LCM with 100 MHz = 1000.000 ns\n",
      "F: 22 MHz -> LCM with 100 MHz = 500.000 ns\n",
      "F: 23 MHz -> LCM with 100 MHz = 1000.000 ns\n",
      "F: 24 MHz -> LCM with 100 MHz = 250.000 ns\n",
      "F: 25 MHz -> LCM with 100 MHz = 40.000 ns\n",
      "F: 26 MHz -> LCM with 100 MHz = 500.000 ns\n",
      "F: 27 MHz -> LCM with 100 MHz = 1000.000 ns\n",
      "F: 28 MHz -> LCM with 100 MHz = 250.000 ns\n",
      "F: 29 MHz -> LCM with 100 MHz = 1000.000 ns\n",
      "F: 30 MHz -> LCM with 100 MHz = 100.000 ns\n",
      "F: 31 MHz -> LCM with 100 MHz = 1000.000 ns\n",
      "F: 32 MHz -> LCM with 100 MHz = 250.000 ns\n",
      "F: 33 MHz -> LCM with 100 MHz = 1000.000 ns\n",
      "F: 34 MHz -> LCM with 100 MHz = 500.000 ns\n",
      "F: 35 MHz -> LCM with 100 MHz = 200.000 ns\n",
      "F: 36 MHz -> LCM with 100 MHz = 250.000 ns\n",
      "F: 37 MHz -> LCM with 100 MHz = 1000.000 ns\n",
      "F: 38 MHz -> LCM with 100 MHz = 500.000 ns\n",
      "F: 39 MHz -> LCM with 100 MHz = 1000.000 ns\n",
      "F: 40 MHz -> LCM with 100 MHz = 50.000 ns\n",
      "F: 41 MHz -> LCM with 100 MHz = 1000.000 ns\n",
      "F: 42 MHz -> LCM with 100 MHz = 500.000 ns\n",
      "F: 43 MHz -> LCM with 100 MHz = 1000.000 ns\n",
      "F: 44 MHz -> LCM with 100 MHz = 250.000 ns\n",
      "F: 45 MHz -> LCM with 100 MHz = 200.000 ns\n",
      "F: 46 MHz -> LCM with 100 MHz = 500.000 ns\n",
      "F: 47 MHz -> LCM with 100 MHz = 1000.000 ns\n",
      "F: 48 MHz -> LCM with 100 MHz = 250.000 ns\n",
      "F: 49 MHz -> LCM with 100 MHz = 1000.000 ns\n",
      "F: 50 MHz -> LCM with 100 MHz = 20.000 ns\n"
     ]
    }
   ],
   "source": [
    "for F in range(1,51):\n",
    "    my_lcm = lcm(10,Rational(1000,F))\n",
    "    print(\"F: {:d} MHz -> LCM with 100 MHz = {:3.3f} ns\".format(F,my_lcm.evalf(10)))"
   ]
  },
  {
   "cell_type": "code",
   "execution_count": 34,
   "id": "37c13489",
   "metadata": {},
   "outputs": [
    {
     "data": {
      "image/png": "[encoded data removed]",
      "text/latex": [
       "$$31250$$"
      ],
      "text/plain": [
       "31250"
      ]
     },
     "execution_count": 34,
     "metadata": {},
     "output_type": "execute_result"
    }
   ],
   "source": [
    "my_lcm = lcm(10,Rational(1000000,12288))\n",
    "#print(\"F: {:d} MHz -> LCM with 100 MHz = {:3.3f} ns\".format(F,my_lcm.evalf(10)))\n",
    "my_lcm"
   ]
  },
  {
   "cell_type": "code",
   "execution_count": 41,
   "id": "48325a33",
   "metadata": {},
   "outputs": [
    {
     "data": {
      "image/png": "[encoded data removed]",
      "text/latex": [
       "$$200000$$"
      ],
      "text/plain": [
       "200000"
      ]
     },
     "execution_count": 41,
     "metadata": {},
     "output_type": "execute_result"
    }
   ],
   "source": [
    "my_lcm = lcm(10,Rational(1000000,12355))\n",
    "#print(\"F: {:d} MHz -> LCM with 100 MHz = {:3.3f} ns\".format(F,my_lcm.evalf(10)))\n",
    "my_lcm"
   ]
  },
  {
   "cell_type": "code",
   "execution_count": 31,
   "id": "36b7ca9e",
   "metadata": {},
   "outputs": [
    {
     "data": {
      "image/png": "[encoded data removed]",
      "text/latex": [
       "$$81.380208333333331639$$"
      ],
      "text/plain": [
       "81.380208333333331639"
      ]
     },
     "execution_count": 31,
     "metadata": {},
     "output_type": "execute_result"
    }
   ],
   "source": [
    "Rational(1000,12.288).evalf(20)"
   ]
  },
  {
   "cell_type": "code",
   "execution_count": 39,
   "id": "3ff56201",
   "metadata": {},
   "outputs": [
    {
     "data": {
      "image/png": "[encoded data removed]",
      "text/latex": [
       "$$1000000.0$$"
      ],
      "text/plain": [
       "1000000.0000000000000"
      ]
     },
     "execution_count": 39,
     "metadata": {},
     "output_type": "execute_result"
    }
   ],
   "source": [
    "Rational(1000000,12288).evalf(20)*(2**12)*3"
   ]
  },
  {
   "cell_type": "code",
   "execution_count": 40,
   "id": "f011ddfe",
   "metadata": {},
   "outputs": [
    {
     "data": {
      "image/png": "[encoded data removed]",
      "text/latex": [
       "$$\\frac{200000}{2471}$$"
      ],
      "text/plain": [
       "200000\n",
       "──────\n",
       " 2471 "
      ]
     },
     "execution_count": 40,
     "metadata": {},
     "output_type": "execute_result"
    }
   ],
   "source": [
    "Rational(1000000,12355)"
   ]
  },
  {
   "cell_type": "code",
   "execution_count": null,
   "id": "21380a2e",
   "metadata": {},
   "outputs": [],
   "source": []
  }
 ],
 "metadata": {
  "kernelspec": {
   "display_name": "Python 3",
   "language": "python",
   "name": "python3"
  },
  "language_info": {
   "codemirror_mode": {
    "name": "ipython",
    "version": 3
   },
   "file_extension": ".py",
   "mimetype": "text/x-python",
   "name": "python",
   "nbconvert_exporter": "python",
   "pygments_lexer": "ipython3",
   "version": "3.6.8"
  }
 },
 "nbformat": 4,
 "nbformat_minor": 5
}
