{
 "cells": [
  {
   "cell_type": "code",
   "execution_count": 1,
   "id": "ad30afe5",
   "metadata": {},
   "outputs": [],
   "source": [
    "from sympy import *\n",
    "import vdiv\n",
    "from ipywidgets import interact\n",
    "\n",
    "init_printing()"
   ]
  },
  {
   "cell_type": "markdown",
   "id": "5f568e22",
   "metadata": {},
   "source": [
    "$$ V_{out} = -1.22V \\cdot \\frac{R1+R2}{R2} $$\n",
    "- The value for R2 must be no less than 50 kΩ."
   ]
  },
  {
   "cell_type": "markdown",
   "id": "dcdac931",
   "metadata": {},
   "source": [
    "![image](solve_LM27761_divider_schema.png)"
   ]
  },
  {
   "cell_type": "code",
   "execution_count": 2,
   "id": "fad64714",
   "metadata": {},
   "outputs": [],
   "source": [
    "R1, R2 = symbols(\"R_1 R_2\")"
   ]
  },
  {
   "cell_type": "code",
   "execution_count": 3,
   "id": "3f1217f3",
   "metadata": {},
   "outputs": [
    {
     "data": {
      "image/png": "[encoded data removed]",
      "text/latex": [
       "$$\\left \\{ R_{2} : 0.586538461538462 R_{1}\\right \\}$$"
      ],
      "text/plain": [
       "{R₂: 0.586538461538462⋅R₁}"
      ]
     },
     "execution_count": 3,
     "metadata": {},
     "output_type": "execute_result"
    }
   ],
   "source": [
    "equations = [-1.22*(R1+R2)/R2   -   -3.3]\n",
    "unknowns  = [R2]\n",
    "\n",
    "solutions = solve(equations,unknowns)\n",
    "solutions"
   ]
  },
  {
   "cell_type": "code",
   "execution_count": 6,
   "id": "3aa451d5",
   "metadata": {},
   "outputs": [
    {
     "data": {
      "application/vnd.jupyter.widget-view+json": {
       "model_id": "48962c8d8e18472a85f1f8b9cdb750af",
       "version_major": 2,
       "version_minor": 0
      },
      "text/plain": [
       "interactive(children=(FloatSlider(value=0.0, description='x', max=0.1, min=-0.1, step=0.001), Output()), _dom_…"
      ]
     },
     "metadata": {},
     "output_type": "display_data"
    },
    {
     "data": {
      "text/plain": [
       "<function __main__.my_function(x=0)>"
      ]
     },
     "execution_count": 6,
     "metadata": {},
     "output_type": "execute_result"
    }
   ],
   "source": [
    "desired_fraction=0.58653\n",
    "\n",
    "def my_function(x=0):\n",
    "    print(\"desired fraction: {}\".format(desired_fraction))\n",
    "    print(\"artificial error x={}\".format(x))\n",
    "    print(\"\")\n",
    "    r_num, r_den, frac, relerr = vdiv.rfrac(desired_fraction+x,set=\"E24\")\n",
    "    \n",
    "    v_out =  -1.22*(r_den+r_num)/r_num\n",
    "    print(\"output voltage: {:3.3f}\".format(v_out))\n",
    "    \n",
    "# create a slider\n",
    "interact(my_function, x=(-0.1,0.1,0.001))"
   ]
  },
  {
   "cell_type": "code",
   "execution_count": 5,
   "id": "c7456673",
   "metadata": {},
   "outputs": [
    {
     "data": {
      "image/png": "[encoded data removed]",
      "text/latex": [
       "$$\\left \\{ R_{1} : 221639.344262295, \\quad R_{2} : 130000.0\\right \\}$$"
      ],
      "text/plain": [
       "{R₁: 221639.344262295, R₂: 130000.0}"
      ]
     },
     "execution_count": 5,
     "metadata": {},
     "output_type": "execute_result"
    }
   ],
   "source": [
    "equations = [\n",
    "             -1.22*(R1+R2)/R2  -   -3.3,\n",
    "             R2                -   130e3\n",
    "]\n",
    "unknowns  = [R1,R2]\n",
    "\n",
    "solutions = solve(equations,unknowns)\n",
    "solutions"
   ]
  }
 ],
 "metadata": {
  "kernelspec": {
   "display_name": "Python 3",
   "language": "python",
   "name": "python3"
  },
  "language_info": {
   "codemirror_mode": {
    "name": "ipython",
    "version": 3
   },
   "file_extension": ".py",
   "mimetype": "text/x-python",
   "name": "python",
   "nbconvert_exporter": "python",
   "pygments_lexer": "ipython3",
   "version": "3.6.8"
  }
 },
 "nbformat": 4,
 "nbformat_minor": 5
}
