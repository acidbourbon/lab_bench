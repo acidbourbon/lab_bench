{
 "cells": [
  {
   "cell_type": "code",
   "execution_count": 1,
   "id": "e10860ef",
   "metadata": {},
   "outputs": [],
   "source": [
    "from sympy import *\n",
    "\n",
    "init_printing() \n",
    "\n",
    "from sympy.abc import a,b,l,u,v,w"
   ]
  },
  {
   "cell_type": "markdown",
   "id": "cd9c93e4",
   "metadata": {},
   "source": [
    "![image](3V_TTL_to_NIM_perfect_termination.png)"
   ]
  },
  {
   "cell_type": "code",
   "execution_count": 2,
   "id": "80dbc989",
   "metadata": {},
   "outputs": [],
   "source": [
    "# the load at the remote end is 50R\n",
    "l = 50"
   ]
  },
  {
   "cell_type": "code",
   "execution_count": 3,
   "id": "70d5f4b1",
   "metadata": {},
   "outputs": [
    {
     "data": {
      "image/png": "[encoded data removed]",
      "text/latex": [
       "$$\\frac{1}{\\frac{1}{b} + \\frac{1}{a}}$$"
      ],
      "text/plain": [
       "  1  \n",
       "─────\n",
       "1   1\n",
       "─ + ─\n",
       "b   a"
      ]
     },
     "execution_count": 3,
     "metadata": {},
     "output_type": "execute_result"
    }
   ],
   "source": [
    "# A||B should be matched to have 50R at the sender to swallow a reflected wave\n",
    "# u = a||b\n",
    "u = 1/(1/a+1/b) \n",
    "u"
   ]
  },
  {
   "cell_type": "code",
   "execution_count": 4,
   "id": "e13e4ac8",
   "metadata": {},
   "outputs": [
    {
     "data": {
      "image/png": "[encoded data removed]",
      "text/latex": [
       "$$\\frac{1}{0.02 + \\frac{1}{b}}$$"
      ],
      "text/plain": [
       "   1    \n",
       "────────\n",
       "       1\n",
       "0.02 + ─\n",
       "       b"
      ]
     },
     "execution_count": 4,
     "metadata": {},
     "output_type": "execute_result"
    }
   ],
   "source": [
    "# we build a voltage divider with A and B||L\n",
    "\n",
    "#v = b || l\n",
    "v = 1/(1/b+1/l)\n",
    "v"
   ]
  },
  {
   "cell_type": "code",
   "execution_count": 5,
   "id": "f54f2423",
   "metadata": {},
   "outputs": [
    {
     "data": {
      "image/png": "[encoded data removed]",
      "text/latex": [
       "$$\\left\\{\\left ( 93.75, \\quad 107.142857142857\\right )\\right\\}$$"
      ],
      "text/plain": [
       "{(93.75, 107.142857142857)}"
      ]
     },
     "execution_count": 5,
     "metadata": {},
     "output_type": "execute_result"
    }
   ],
   "source": [
    "solutions = nonlinsolve((\n",
    "    v/(a+v)-.8/3, # voltage divider should divide 3V -> 0.8 V\n",
    "    u-50 # u = A||B = 50R\n",
    "),(a,b))\n",
    "solutions"
   ]
  }
 ],
 "metadata": {
  "kernelspec": {
   "display_name": "Python 3",
   "language": "python",
   "name": "python3"
  },
  "language_info": {
   "codemirror_mode": {
    "name": "ipython",
    "version": 3
   },
   "file_extension": ".py",
   "mimetype": "text/x-python",
   "name": "python",
   "nbconvert_exporter": "python",
   "pygments_lexer": "ipython3",
   "version": "3.6.8"
  }
 },
 "nbformat": 4,
 "nbformat_minor": 5
}
