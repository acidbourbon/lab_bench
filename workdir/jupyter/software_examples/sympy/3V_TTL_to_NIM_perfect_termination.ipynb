{
 "cells": [
  {
   "cell_type": "code",
   "execution_count": 1,
   "id": "e10860ef",
   "metadata": {},
   "outputs": [],
   "source": [
    "from sympy import *\n",
    "\n",
    "init_printing() \n",
    "\n",
    "#from sympy.abc import a,b,l,u,v,w\n",
    "A, B, L, AB, BL, Vh, Vl = symbols(\"A B L AB BL Vh Vl\")"
   ]
  },
  {
   "cell_type": "markdown",
   "id": "cd9c93e4",
   "metadata": {},
   "source": [
    "![image](3V_TTL_to_NIM_perfect_termination.png)"
   ]
  },
  {
   "cell_type": "code",
   "execution_count": 2,
   "id": "80dbc989",
   "metadata": {},
   "outputs": [],
   "source": [
    "# the load at the remote end is 50R\n",
    "L = 50"
   ]
  },
  {
   "cell_type": "code",
   "execution_count": 3,
   "id": "70d5f4b1",
   "metadata": {},
   "outputs": [
    {
     "data": {
      "image/png": "[encoded data removed]",
      "text/latex": [
       "$$\\frac{1}{\\frac{1}{B} + \\frac{1}{A}}$$"
      ],
      "text/plain": [
       "  1  \n",
       "─────\n",
       "1   1\n",
       "─ + ─\n",
       "B   A"
      ]
     },
     "execution_count": 3,
     "metadata": {},
     "output_type": "execute_result"
    }
   ],
   "source": [
    "# AB = A||B \n",
    "# should be matched to have 50R at the sender to swallow a reflected wave\n",
    "AB = 1/(1/A+1/B) \n",
    "AB"
   ]
  },
  {
   "cell_type": "code",
   "execution_count": 4,
   "id": "e13e4ac8",
   "metadata": {},
   "outputs": [
    {
     "data": {
      "image/png": "[encoded data removed]",
      "text/latex": [
       "$$\\frac{1}{0.02 + \\frac{1}{B}}$$"
      ],
      "text/plain": [
       "   1    \n",
       "────────\n",
       "       1\n",
       "0.02 + ─\n",
       "       B"
      ]
     },
     "execution_count": 4,
     "metadata": {},
     "output_type": "execute_result"
    }
   ],
   "source": [
    "# BL = B||L\n",
    "BL = 1/(1/B+1/L)\n",
    "BL"
   ]
  },
  {
   "cell_type": "code",
   "execution_count": 6,
   "id": "f54f2423",
   "metadata": {},
   "outputs": [
    {
     "name": "stdout",
     "output_type": "stream",
     "text": [
      "A , B =\n"
     ]
    },
    {
     "data": {
      "image/png": "[encoded data removed]",
      "text/latex": [
       "$$\\left\\{\\left ( 93.75, \\quad 107.142857142857\\right )\\right\\}$$"
      ],
      "text/plain": [
       "{(93.75, 107.142857142857)}"
      ]
     },
     "execution_count": 6,
     "metadata": {},
     "output_type": "execute_result"
    }
   ],
   "source": [
    "Vh = 3\n",
    "Vl = 0.8\n",
    "\n",
    "solutions = nonlinsolve((\n",
    "    BL/(A+BL)- Vl/Vh,  # voltage divider should divide 3V -> 0.8 V\n",
    "    AB-50            # A||B = 50R\n",
    "),(A,B))\n",
    "\n",
    "print(\"A , B =\")\n",
    "solutions"
   ]
  }
 ],
 "metadata": {
  "kernelspec": {
   "display_name": "Python 3",
   "language": "python",
   "name": "python3"
  },
  "language_info": {
   "codemirror_mode": {
    "name": "ipython",
    "version": 3
   },
   "file_extension": ".py",
   "mimetype": "text/x-python",
   "name": "python",
   "nbconvert_exporter": "python",
   "pygments_lexer": "ipython3",
   "version": "3.6.8"
  }
 },
 "nbformat": 4,
 "nbformat_minor": 5
}
