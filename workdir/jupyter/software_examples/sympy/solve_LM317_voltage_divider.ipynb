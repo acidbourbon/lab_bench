{
 "cells": [
  {
   "cell_type": "code",
   "execution_count": 2,
   "id": "ad30afe5",
   "metadata": {},
   "outputs": [],
   "source": [
    "from sympy import *\n",
    "import vdiv\n",
    "from ipywidgets import interact\n",
    "\n",
    "init_printing()"
   ]
  },
  {
   "cell_type": "markdown",
   "id": "5f568e22",
   "metadata": {},
   "source": [
    "$$ V_{out} = 1.25V \\cdot \\frac{R1+R2}{R1} $$"
   ]
  },
  {
   "cell_type": "markdown",
   "id": "dcdac931",
   "metadata": {},
   "source": [
    "![image](solve_LM317_divider.png)"
   ]
  },
  {
   "cell_type": "code",
   "execution_count": 3,
   "id": "fad64714",
   "metadata": {},
   "outputs": [],
   "source": [
    "R1, R2 = symbols(\"R_1 R_2\")"
   ]
  },
  {
   "cell_type": "code",
   "execution_count": 4,
   "id": "3f1217f3",
   "metadata": {},
   "outputs": [
    {
     "data": {
      "image/png": "[encoded data removed]",
      "text/latex": [
       "$$\\left \\{ R_{2} : 1.70491803278689 R_{1}\\right \\}$$"
      ],
      "text/plain": [
       "{R₂: 1.70491803278689⋅R₁}"
      ]
     },
     "execution_count": 4,
     "metadata": {},
     "output_type": "execute_result"
    }
   ],
   "source": [
    "equations = [1.22*(R1+R2)/R1   -   3.3]\n",
    "unknowns  = [R2]\n",
    "\n",
    "solutions = solve(equations,unknowns)\n",
    "solutions"
   ]
  },
  {
   "cell_type": "code",
   "execution_count": 5,
   "id": "c7456673",
   "metadata": {},
   "outputs": [
    {
     "data": {
      "image/png": "[encoded data removed]",
      "text/latex": [
       "$$\\left \\{ R_{1} : 240.0, \\quad R_{2} : 393.6\\right \\}$$"
      ],
      "text/plain": [
       "{R₁: 240.0, R₂: 393.6}"
      ]
     },
     "execution_count": 5,
     "metadata": {},
     "output_type": "execute_result"
    }
   ],
   "source": [
    "equations = [\n",
    "             1.25*(R1+R2)/R1   -   3.3,\n",
    "             R1                -   240\n",
    "]\n",
    "unknowns  = [R1,R2]\n",
    "\n",
    "solutions = solve(equations,unknowns)\n",
    "solutions"
   ]
  },
  {
   "cell_type": "code",
   "execution_count": 15,
   "id": "b092c833",
   "metadata": {},
   "outputs": [
    {
     "data": {
      "application/vnd.jupyter.widget-view+json": {
       "model_id": "4e47f8244e9045238b570be9cb40a987",
       "version_major": 2,
       "version_minor": 0
      },
      "text/plain": [
       "interactive(children=(FloatSlider(value=3.3, description='v', max=3.6, min=3.0, step=0.005), Output()), _dom_c…"
      ]
     },
     "metadata": {},
     "output_type": "display_data"
    },
    {
     "data": {
      "text/plain": [
       "<function __main__.my_function(v=3.3)>"
      ]
     },
     "execution_count": 15,
     "metadata": {},
     "output_type": "execute_result"
    }
   ],
   "source": [
    "v_out = 3.3\n",
    "\n",
    "def my_function(v=3.3):\n",
    "    \n",
    "    fracR1 = 1.25/v\n",
    "    print(\"artificial error dV={:3.3f}\".format(v-v_out))\n",
    "    r_up, r_down, v_low, relerr = vdiv.vdiv(fracR1,1,set=\"E24\")\n",
    "    \n",
    "    r1 = r_down\n",
    "    r2 = r_up\n",
    "    \n",
    "    v_real =  1.25*(r1+r2)/r1\n",
    "    \n",
    "    print()\n",
    "    print(\"LM317\")\n",
    "    print(\"R1:{:3.3f}, R2:{:3.3f}\".format(r1,r2))\n",
    "    print(\"output voltage: {:3.3f} V\".format(v_real))\n",
    "    \n",
    "# create a slider\n",
    "interact(my_function, v=(3,3.6,0.005))"
   ]
  }
 ],
 "metadata": {
  "kernelspec": {
   "display_name": "Python 3",
   "language": "python",
   "name": "python3"
  },
  "language_info": {
   "codemirror_mode": {
    "name": "ipython",
    "version": 3
   },
   "file_extension": ".py",
   "mimetype": "text/x-python",
   "name": "python",
   "nbconvert_exporter": "python",
   "pygments_lexer": "ipython3",
   "version": "3.6.8"
  }
 },
 "nbformat": 4,
 "nbformat_minor": 5
}
