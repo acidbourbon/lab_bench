{
 "cells": [
  {
   "cell_type": "code",
   "execution_count": 1,
   "id": "ad30afe5",
   "metadata": {},
   "outputs": [],
   "source": [
    "from sympy import *\n",
    "init_printing()\n",
    "from sympy.abc import a,b,c,x,y,z"
   ]
  },
  {
   "cell_type": "markdown",
   "id": "dcdac931",
   "metadata": {},
   "source": [
    "![image](solve_LT1964_voltage_divider_schema.png)"
   ]
  },
  {
   "cell_type": "code",
   "execution_count": 2,
   "id": "fad64714",
   "metadata": {},
   "outputs": [],
   "source": [
    "Ra, Rb = symbols(\"R_a R_b\")"
   ]
  },
  {
   "cell_type": "code",
   "execution_count": 12,
   "id": "3f1217f3",
   "metadata": {},
   "outputs": [
    {
     "data": {
      "image/png": "[encoded data removed]",
      "text/latex": [
       "$$\\left \\{ R_{a} : 0.586538461538462 R_{b}\\right \\}$$"
      ],
      "text/plain": [
       "{Rₐ: 0.586538461538462⋅R_b}"
      ]
     },
     "execution_count": 12,
     "metadata": {},
     "output_type": "execute_result"
    }
   ],
   "source": [
    "equations = [-1.22*(1+Rb/Ra)   -   -3.3]\n",
    "unknowns  = [Ra]\n",
    "\n",
    "solutions = solve(equations,unknowns)\n",
    "solutions"
   ]
  },
  {
   "cell_type": "code",
   "execution_count": 13,
   "id": "ba888b33",
   "metadata": {},
   "outputs": [
    {
     "data": {
      "image/png": "[encoded data removed]",
      "text/latex": [
       "$$\\left \\{ R_{a} : 27567.3076923077, \\quad R_{b} : 47000.0\\right \\}$$"
      ],
      "text/plain": [
       "{Rₐ: 27567.3076923077, R_b: 47000.0}"
      ]
     },
     "execution_count": 13,
     "metadata": {},
     "output_type": "execute_result"
    }
   ],
   "source": [
    "equations = [-1.22*(1+Rb/Ra)   -   -3.3, Rb - 47e3]\n",
    "unknowns  = [Ra,Rb]\n",
    "\n",
    "solutions = solve(equations,unknowns)\n",
    "solutions"
   ]
  }
 ],
 "metadata": {
  "kernelspec": {
   "display_name": "Python 3",
   "language": "python",
   "name": "python3"
  },
  "language_info": {
   "codemirror_mode": {
    "name": "ipython",
    "version": 3
   },
   "file_extension": ".py",
   "mimetype": "text/x-python",
   "name": "python",
   "nbconvert_exporter": "python",
   "pygments_lexer": "ipython3",
   "version": "3.6.8"
  }
 },
 "nbformat": 4,
 "nbformat_minor": 5
}
