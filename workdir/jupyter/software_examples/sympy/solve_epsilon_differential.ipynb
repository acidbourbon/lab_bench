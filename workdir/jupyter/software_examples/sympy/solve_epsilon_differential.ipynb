{
 "cells": [
  {
   "cell_type": "code",
   "execution_count": 1,
   "id": "ad30afe5",
   "metadata": {},
   "outputs": [],
   "source": [
    "from sympy import *\n",
    "import vdiv\n",
    "from ipywidgets import interact\n",
    "\n",
    "init_printing()"
   ]
  },
  {
   "cell_type": "code",
   "execution_count": 4,
   "id": "fad64714",
   "metadata": {},
   "outputs": [],
   "source": [
    "a,b,c,d,e,ea,ec,ed,ee = symbols(\"a b c d e \\epsilon_a \\epsilon_c \\epsilon_d \\epsilon_e\")"
   ]
  },
  {
   "cell_type": "code",
   "execution_count": 5,
   "id": "3f1217f3",
   "metadata": {},
   "outputs": [
    {
     "data": {
      "image/png": "[encoded data removed]",
      "text/latex": [
       "$$\\left \\{ b : \\frac{\\epsilon_a \\epsilon_c \\epsilon_d e + \\epsilon_a \\epsilon_c \\epsilon_e d + \\epsilon_a \\epsilon_d \\epsilon_e c + \\epsilon_c \\epsilon_d \\epsilon_e a}{\\epsilon_a \\epsilon_c \\epsilon_d + \\epsilon_a \\epsilon_c \\epsilon_e + \\epsilon_a \\epsilon_d \\epsilon_e + \\epsilon_c \\epsilon_d \\epsilon_e}\\right \\}$$"
      ],
      "text/plain": [
       "⎧   \\epsilonₐ⋅\\epsilon_c⋅\\epsilon_d⋅e + \\epsilonₐ⋅\\epsilon_c⋅\\epsilonₑ⋅d + \\ep\n",
       "⎨b: ──────────────────────────────────────────────────────────────────────────\n",
       "⎩       \\epsilonₐ⋅\\epsilon_c⋅\\epsilon_d + \\epsilonₐ⋅\\epsilon_c⋅\\epsilonₑ + \\ep\n",
       "\n",
       "silonₐ⋅\\epsilon_d⋅\\epsilonₑ⋅c + \\epsilon_c⋅\\epsilon_d⋅\\epsilonₑ⋅a⎫\n",
       "─────────────────────────────────────────────────────────────────⎬\n",
       "silonₐ⋅\\epsilon_d⋅\\epsilonₑ + \\epsilon_c⋅\\epsilon_d⋅\\epsilonₑ    ⎭"
      ]
     },
     "execution_count": 5,
     "metadata": {},
     "output_type": "execute_result"
    }
   ],
   "source": [
    "equations = [(c-b)/ec + (a-b)/ea + (e-b)/ee + (d-b)/ed]\n",
    "unknowns  = [b]\n",
    "\n",
    "solutions = solve(equations,unknowns)\n",
    "solutions"
   ]
  },
  {
   "cell_type": "code",
   "execution_count": 6,
   "id": "2bd46405",
   "metadata": {},
   "outputs": [
    {
     "data": {
      "image/png": "[encoded data removed]",
      "text/latex": [
       "$$\\left \\{ b : \\frac{\\epsilon_a a + \\epsilon_c c + \\epsilon_d d + \\epsilon_e e}{\\epsilon_a + \\epsilon_c + \\epsilon_d + \\epsilon_e}\\right \\}$$"
      ],
      "text/plain": [
       "⎧   \\epsilonₐ⋅a + \\epsilon_c⋅c + \\epsilon_d⋅d + \\epsilonₑ⋅e⎫\n",
       "⎨b: ───────────────────────────────────────────────────────⎬\n",
       "⎩       \\epsilonₐ + \\epsilon_c + \\epsilon_d + \\epsilonₑ    ⎭"
      ]
     },
     "execution_count": 6,
     "metadata": {},
     "output_type": "execute_result"
    }
   ],
   "source": [
    "equations = [(c-b)*ec + (a-b)*ea + (e-b)*ee + (d-b)*ed]\n",
    "unknowns  = [b]\n",
    "\n",
    "solutions = solve(equations,unknowns)\n",
    "solutions"
   ]
  }
 ],
 "metadata": {
  "kernelspec": {
   "display_name": "Python 3",
   "language": "python",
   "name": "python3"
  },
  "language_info": {
   "codemirror_mode": {
    "name": "ipython",
    "version": 3
   },
   "file_extension": ".py",
   "mimetype": "text/x-python",
   "name": "python",
   "nbconvert_exporter": "python",
   "pygments_lexer": "ipython3",
   "version": "3.6.8"
  }
 },
 "nbformat": 4,
 "nbformat_minor": 5
}
