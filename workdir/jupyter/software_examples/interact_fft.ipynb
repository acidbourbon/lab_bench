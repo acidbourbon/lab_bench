{
 "cells": [
  {
   "cell_type": "code",
   "execution_count": 1,
   "id": "a61be7ae",
   "metadata": {},
   "outputs": [],
   "source": [
    "from ipywidgets import interact\n",
    "import numpy as np\n",
    "from matplotlib import pyplot as plt\n",
    "from numpy.fft import fft\n",
    "from matplotlib.ticker import ScalarFormatter"
   ]
  },
  {
   "cell_type": "code",
   "execution_count": 2,
   "id": "17c1f1e5",
   "metadata": {},
   "outputs": [],
   "source": [
    "x=np.linspace(0,2*np.pi,100)\n",
    "ucx = np.cos(x)\n",
    "ucy = np.sin(x)"
   ]
  },
  {
   "cell_type": "code",
   "execution_count": 3,
   "id": "8570c530",
   "metadata": {},
   "outputs": [],
   "source": [
    "def my_function(f=10,phi=0,tau=3):\n",
    "    t = np.arange(0,1000e-9,1e-9) \n",
    "\n",
    "    y = t*0\n",
    "    \n",
    "    # test sinus at 100 MHz, 1 mV pkpk\n",
    "    f1 = 1e6*f\n",
    "    tau1 = 1e6*tau\n",
    "    phi1 = phi/360*2*np.pi\n",
    "    y += np.exp(-tau1*t) * np.sin(2*np.pi*f1*t + phi1)\n",
    "    \n",
    "    plt.plot(t*1e6,y)\n",
    "    plt.title(\"time signal\")\n",
    "    plt.xlabel(\"time (us)\")\n",
    "    plt.ylim(-1.1,1.1)\n",
    "    plt.show()\n",
    "    \n",
    "    \n",
    "    N = len(t)\n",
    "    T = t[1] -t[0]\n",
    "    \n",
    "    yf = fft(y)\n",
    "    #yf = 2.0/N * np.abs(yf[0:N//2])\n",
    "    xf = np.linspace(-.5/T, .5/T, N,endpoint=False)\n",
    "    yf = np.roll(yf, -int(-N/2),axis=0)\n",
    "    \n",
    "    \n",
    "    plt.plot(xf/1e6, np.abs(yf),label=\"abs\")\n",
    "    plt.plot(xf/1e6, np.real(yf),label=\"real part\")\n",
    "    plt.plot(xf/1e6, np.imag(yf),label=\"imag part\")\n",
    "    plt.xlabel(\"f (MHz)\")\n",
    "    #plt.xscale(\"log\")\n",
    "    plt.ylabel(\"spectral power / max power (dB)\")\n",
    "    #plt.gca().axes.get_xaxis().set_major_formatter(ScalarFormatter())\n",
    "    plt.xlim(-40,40)\n",
    "    #plt.xlim(0,100)\n",
    "    plt.legend()\n",
    "    plt.show()\n",
    "\n"
   ]
  },
  {
   "cell_type": "code",
   "execution_count": 4,
   "id": "098fd83c",
   "metadata": {},
   "outputs": [
    {
     "data": {
      "application/vnd.jupyter.widget-view+json": {
       "model_id": "6dc33bea2030419ca67fa560847def1b",
       "version_major": 2,
       "version_minor": 0
      },
      "text/plain": [
       "interactive(children=(FloatSlider(value=10.0, description='f', max=20.0, min=0.1), IntSlider(value=0, descript…"
      ]
     },
     "metadata": {},
     "output_type": "display_data"
    },
    {
     "data": {
      "text/plain": [
       "' '"
      ]
     },
     "execution_count": 4,
     "metadata": {},
     "output_type": "execute_result"
    }
   ],
   "source": [
    "\n",
    "# create a slider\n",
    "interact(my_function,\n",
    "         f=(0.1,20.),\n",
    "         phi=(0,360),\n",
    "         tau=(0,10.)\n",
    "        )\n",
    "\n",
    "\" \""
   ]
  },
  {
   "cell_type": "code",
   "execution_count": 5,
   "id": "f0e0b407",
   "metadata": {},
   "outputs": [],
   "source": [
    "def phasor_demo(f=10,phi=0,tau=0):\n",
    "    t = np.arange(0,1000e-9,1e-9) \n",
    "\n",
    "    y = t*0\n",
    "    \n",
    "    # test sinus at 100 MHz, 1 mV pkpk\n",
    "    f1 = 1e6*f\n",
    "    tau1 = 1e6*tau\n",
    "    phi1 = phi/360*2*np.pi\n",
    "    y += np.exp(-tau1*t) * np.cos(2*np.pi*f1*t + phi1)\n",
    "    \n",
    "    plt.plot(t*1e6,y)\n",
    "    plt.title(\"time signal\")\n",
    "    plt.xlabel(\"time (us)\")\n",
    "    plt.ylim(-1.1,1.1)\n",
    "    plt.show()\n",
    "    \n",
    "    \n",
    "    N = len(t)\n",
    "    T = t[1] -t[0]\n",
    "    \n",
    "    yf = fft(y)\n",
    "    \n",
    "    phasor = sum(yf[0:int(N/2)])\n",
    "    \n",
    "    print(phasor)\n",
    "    \n",
    "    l = np.abs(phasor)\n",
    "    r = np.real(phasor)/l\n",
    "    i = np.imag(phasor)/l\n",
    "    \n",
    "    plt.plot(ucx,ucy,\"--\",c=\"red\")\n",
    "    plt.scatter(r,i)\n",
    "    plt.xlim(-1.6,1.6)\n",
    "    plt.ylim(-1.1,1.1)\n",
    "    plt.show()\n",
    "    \n",
    "    xf = np.linspace(-.5/T, .5/T, N,endpoint=False)\n",
    "    yf = np.roll(yf, -int(-N/2),axis=0)\n",
    "    \n",
    "    \n",
    "    plt.plot(xf/1e6, np.abs(yf),label=\"abs\")\n",
    "    plt.plot(xf/1e6, np.real(yf),label=\"real part\")\n",
    "    plt.plot(xf/1e6, np.imag(yf),label=\"imag part\")\n",
    "    plt.xlabel(\"f (MHz)\")\n",
    "    #plt.xscale(\"log\")\n",
    "    plt.ylabel(\"spectral power / max power (dB)\")\n",
    "    #plt.gca().axes.get_xaxis().set_major_formatter(ScalarFormatter())\n",
    "    plt.xlim(-40,40)\n",
    "    #plt.xlim(0,100)\n",
    "    plt.legend()\n",
    "    plt.show()\n",
    "    \n",
    "\n"
   ]
  },
  {
   "cell_type": "code",
   "execution_count": 6,
   "id": "748c905b",
   "metadata": {
    "scrolled": false
   },
   "outputs": [
    {
     "data": {
      "application/vnd.jupyter.widget-view+json": {
       "model_id": "9c6844481b8e42b8bf6b9557344087cf",
       "version_major": 2,
       "version_minor": 0
      },
      "text/plain": [
       "interactive(children=(FloatSlider(value=10.0, description='f', max=20.0, min=0.1), IntSlider(value=0, descript…"
      ]
     },
     "metadata": {},
     "output_type": "display_data"
    },
    {
     "data": {
      "text/plain": [
       "' '"
      ]
     },
     "execution_count": 6,
     "metadata": {},
     "output_type": "execute_result"
    }
   ],
   "source": [
    "\n",
    "# create a slider\n",
    "interact(phasor_demo,\n",
    "         f=(0.1,20.),\n",
    "         phi=(0,360),\n",
    "         tau=(0,10.)\n",
    "        )\n",
    "\n",
    "\" \""
   ]
  }
 ],
 "metadata": {
  "kernelspec": {
   "display_name": "Python 3",
   "language": "python",
   "name": "python3"
  },
  "language_info": {
   "codemirror_mode": {
    "name": "ipython",
    "version": 3
   },
   "file_extension": ".py",
   "mimetype": "text/x-python",
   "name": "python",
   "nbconvert_exporter": "python",
   "pygments_lexer": "ipython3",
   "version": "3.6.8"
  }
 },
 "nbformat": 4,
 "nbformat_minor": 5
}
