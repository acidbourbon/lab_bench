{
 "cells": [
  {
   "cell_type": "code",
   "execution_count": 1,
   "id": "8570c530",
   "metadata": {},
   "outputs": [
    {
     "data": {
      "application/vnd.jupyter.widget-view+json": {
       "model_id": "7e6ea21b097c440cbefb3738fc921e46",
       "version_major": 2,
       "version_minor": 0
      },
      "text/plain": [
       "interactive(children=(IntSlider(value=1, description='points', max=20), FloatSlider(value=0.0, description='an…"
      ]
     },
     "metadata": {},
     "output_type": "display_data"
    },
    {
     "data": {
      "text/plain": [
       "<function __main__.my_function(points=1, angle=0, numerator=3, denominator=5, alpha=0.5, scatter=True, lines=True)>"
      ]
     },
     "execution_count": 1,
     "metadata": {},
     "output_type": "execute_result"
    }
   ],
   "source": [
    "from ipywidgets import interact\n",
    "import numpy as np\n",
    "from matplotlib import pyplot as plt\n",
    "\n",
    "def my_function(points=1,angle=0,numerator=3,denominator=5,alpha=0.5,scatter=True,lines=True):\n",
    "    mypoints = points*denominator\n",
    "    phi = np.linspace(0,mypoints*(angle+360*numerator/denominator)/360.*2*np.pi,mypoints+1)\n",
    "    x = np.cos(phi)\n",
    "    y = np.sin(phi)\n",
    "    if lines:\n",
    "      plt.plot(x,y,alpha=alpha)\n",
    "    if scatter:\n",
    "      plt.scatter(x,y)\n",
    "    plt.xlim((-1.6,1.6))\n",
    "    plt.ylim((-1.1,1.1))\n",
    "    plt.show()\n",
    "\n",
    "# create a slider\n",
    "interact(my_function,\n",
    "         points=(0,20),\n",
    "         angle=(-2,2,0.1),\n",
    "         numerator=(1,10),\n",
    "         denominator=(1,20),\n",
    "         alpha=(0,1,0.1),\n",
    "         scatter=True,lines=True)"
   ]
  }
 ],
 "metadata": {
  "kernelspec": {
   "display_name": "Python 3",
   "language": "python",
   "name": "python3"
  },
  "language_info": {
   "codemirror_mode": {
    "name": "ipython",
    "version": 3
   },
   "file_extension": ".py",
   "mimetype": "text/x-python",
   "name": "python",
   "nbconvert_exporter": "python",
   "pygments_lexer": "ipython3",
   "version": "3.6.8"
  }
 },
 "nbformat": 4,
 "nbformat_minor": 5
}
