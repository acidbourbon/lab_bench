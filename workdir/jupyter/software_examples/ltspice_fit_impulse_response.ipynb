{
 "cells": [
  {
   "cell_type": "code",
   "execution_count": 1,
   "metadata": {},
   "outputs": [],
   "source": [
    "#  ##################################################\n",
    "#  ##                what is this?                 ##\n",
    "#  ##################################################\n",
    "#  \n",
    "#  this example will try to fit an entire spice simulation of a circuit\n",
    "#  with variable components (in this case C1 and C2) to have a certain impulse response\n",
    "#  \n",
    "#  in other words: let's not just fit a function to data,\n",
    "#  let's fit an entire circuit to data!"
   ]
  },
  {
   "cell_type": "code",
   "execution_count": 2,
   "metadata": {},
   "outputs": [
    {
     "name": "stdout",
     "output_type": "stream",
     "text": [
      "Found Numpy. WIll be used for storing data\n"
     ]
    }
   ],
   "source": [
    "import sys\n",
    "import numpy as np\n",
    "from apply_ltspice_filter import apply_ltspice_filter, get_impulse_response\n",
    "import matplotlib.pyplot as plt\n",
    "from scipy.optimize import curve_fit\n",
    "\n",
    "#if installed in a non-standard directory\n",
    "ltspice_command = \"wine /LTspiceXVII/XVIIx64.exe -Run -b\"\n",
    "\n",
    "\n",
    "circuit_file = \"ltspice_fit/filter_circuit.asc\"\n"
   ]
  },
  {
   "cell_type": "code",
   "execution_count": 3,
   "metadata": {},
   "outputs": [
    {
     "data": {
      "image/png": "[encoded data removed]",
      "text/plain": [
       "<matplotlib.figure.Figure at 0x7f6c156c4d68>"
      ]
     },
     "metadata": {
      "needs_background": "light"
     },
     "output_type": "display_data"
    }
   ],
   "source": [
    "##################################################\n",
    "##             generate test signal             ##\n",
    "##################################################\n",
    "\n",
    "# our samples shall be 100 ms wide\n",
    "sample_width=100e-3\n",
    "# time step between samples: 0.1 ms\n",
    "delta_t=0.1e-3\n",
    "samples = int(sample_width/delta_t)\n",
    "\n",
    "time = np.linspace(0,sample_width,samples)\n",
    "\n",
    "# we want 1 V between 10 ms and 30 ms, and 2.5 V between 40 and 70 ms\n",
    "time_offset = 10e-3\n",
    "time_ = time-time_offset\n",
    "signal_a = 0 + 5*((time > time_offset)*(np.exp(-time_/10e-3) *(1-np.exp(-time_/10e-3)) )  )\n",
    "\n",
    "# add some noise\n",
    "signal_a += np.random.normal(0,0.05,samples)\n",
    "\n",
    "plt.plot(time,signal_a, label=\"fake original signal\")\n",
    "plt.xlabel(\"time (s)\")\n",
    "plt.ylabel(\"voltage (V)\")\n",
    "plt.ylim((-1,2))\n",
    "plt.grid(True)\n",
    "\n",
    "plt.legend()\n",
    "plt.show()\n"
   ]
  },
  {
   "cell_type": "code",
   "execution_count": 4,
   "metadata": {},
   "outputs": [
    {
     "name": "stdout",
     "output_type": "stream",
     "text": [
      "sig_in.csv has not changed\n",
      "trancmd.txt has not changed\n",
      "filter_circuit.asc is older than filter_circuit.raw\n",
      "Normal access\n"
     ]
    }
   ],
   "source": [
    "##################################################\n",
    "##      apply filter - get impulse response     ##\n",
    "##################################################\n",
    "\n",
    "# all values in SI units\n",
    "configuration_1 = {\n",
    "  \"C1\":100e-6, # 100 uF\n",
    "  \"C2\":100e-6 # 100 uF\n",
    "}\n",
    "\n",
    "dummy, filter_ir = get_impulse_response(\n",
    "      circuit_file,\n",
    "      params=configuration_1,\n",
    "      ltspice_command = ltspice_command,\n",
    "      sample_width = sample_width,\n",
    "      delta_t = delta_t\n",
    "      )\n"
   ]
  },
  {
   "cell_type": "code",
   "execution_count": 5,
   "metadata": {},
   "outputs": [
    {
     "data": {
      "image/png": "[encoded data removed]",
      "text/plain": [
       "<matplotlib.figure.Figure at 0x7f6bea7bbba8>"
      ]
     },
     "metadata": {
      "needs_background": "light"
     },
     "output_type": "display_data"
    }
   ],
   "source": [
    "##################################################\n",
    "##            plot impulse response             ##\n",
    "##################################################\n",
    "\n",
    "\n",
    "plt.plot(time,filter_ir,\"r\",label=\"filter IR\")\n",
    "plt.legend()\n",
    "plt.grid(True)\n",
    "plt.show()"
   ]
  },
  {
   "cell_type": "code",
   "execution_count": 6,
   "metadata": {},
   "outputs": [
    {
     "name": "stdout",
     "output_type": "stream",
     "text": [
      "sig_in.csv has not changed\n",
      "trancmd.txt has not changed\n",
      "param.txt has not changed\n",
      "filter_circuit.asc is older than filter_circuit.raw\n",
      "input data did not change, reading existing .raw file\n",
      "Normal access\n",
      "sig_in.csv has not changed\n",
      "trancmd.txt has not changed\n",
      "param.txt has not changed\n",
      "filter_circuit.asc is older than filter_circuit.raw\n",
      "input data did not change, reading existing .raw file\n",
      "Normal access\n",
      "sig_in.csv has not changed\n",
      "trancmd.txt has not changed\n",
      "filter_circuit.asc is older than filter_circuit.raw\n",
      "Normal access\n",
      "sig_in.csv has not changed\n",
      "trancmd.txt has not changed\n",
      "filter_circuit.asc is older than filter_circuit.raw\n",
      "Normal access\n",
      "sig_in.csv has not changed\n",
      "trancmd.txt has not changed\n",
      "filter_circuit.asc is older than filter_circuit.raw\n",
      "Normal access\n",
      "sig_in.csv has not changed\n",
      "trancmd.txt has not changed\n",
      "param.txt has not changed\n",
      "filter_circuit.asc is older than filter_circuit.raw\n",
      "input data did not change, reading existing .raw file\n",
      "Normal access\n",
      "sig_in.csv has not changed\n",
      "trancmd.txt has not changed\n",
      "filter_circuit.asc is older than filter_circuit.raw\n",
      "Normal access\n",
      "sig_in.csv has not changed\n",
      "trancmd.txt has not changed\n",
      "filter_circuit.asc is older than filter_circuit.raw\n",
      "Normal access\n",
      "sig_in.csv has not changed\n",
      "trancmd.txt has not changed\n",
      "filter_circuit.asc is older than filter_circuit.raw\n",
      "Normal access\n",
      "sig_in.csv has not changed\n",
      "trancmd.txt has not changed\n",
      "param.txt has not changed\n",
      "filter_circuit.asc is older than filter_circuit.raw\n",
      "input data did not change, reading existing .raw file\n",
      "Normal access\n",
      "sig_in.csv has not changed\n",
      "trancmd.txt has not changed\n",
      "filter_circuit.asc is older than filter_circuit.raw\n",
      "Normal access\n",
      "sig_in.csv has not changed\n",
      "trancmd.txt has not changed\n",
      "filter_circuit.asc is older than filter_circuit.raw\n",
      "Normal access\n",
      "sig_in.csv has not changed\n",
      "trancmd.txt has not changed\n",
      "filter_circuit.asc is older than filter_circuit.raw\n",
      "Normal access\n",
      "sig_in.csv has not changed\n",
      "trancmd.txt has not changed\n",
      "param.txt has not changed\n",
      "filter_circuit.asc is older than filter_circuit.raw\n",
      "input data did not change, reading existing .raw file\n",
      "Normal access\n",
      "sig_in.csv has not changed\n",
      "trancmd.txt has not changed\n",
      "filter_circuit.asc is older than filter_circuit.raw\n",
      "Normal access\n",
      "sig_in.csv has not changed\n",
      "trancmd.txt has not changed\n",
      "filter_circuit.asc is older than filter_circuit.raw\n",
      "Normal access\n",
      "sig_in.csv has not changed\n",
      "trancmd.txt has not changed\n",
      "filter_circuit.asc is older than filter_circuit.raw\n",
      "Normal access\n",
      "sig_in.csv has not changed\n",
      "trancmd.txt has not changed\n",
      "param.txt has not changed\n",
      "filter_circuit.asc is older than filter_circuit.raw\n",
      "input data did not change, reading existing .raw file\n",
      "Normal access\n",
      "sig_in.csv has not changed\n",
      "trancmd.txt has not changed\n",
      "filter_circuit.asc is older than filter_circuit.raw\n",
      "Normal access\n",
      "sig_in.csv has not changed\n",
      "trancmd.txt has not changed\n",
      "filter_circuit.asc is older than filter_circuit.raw\n",
      "Normal access\n",
      "sig_in.csv has not changed\n",
      "trancmd.txt has not changed\n",
      "filter_circuit.asc is older than filter_circuit.raw\n",
      "Normal access\n",
      "sig_in.csv has not changed\n",
      "trancmd.txt has not changed\n",
      "filter_circuit.asc is older than filter_circuit.raw\n",
      "Normal access\n",
      "sig_in.csv has not changed\n",
      "trancmd.txt has not changed\n",
      "filter_circuit.asc is older than filter_circuit.raw\n",
      "Normal access\n",
      "sig_in.csv has not changed\n",
      "trancmd.txt has not changed\n",
      "filter_circuit.asc is older than filter_circuit.raw\n",
      "Normal access\n",
      "sig_in.csv has not changed\n",
      "trancmd.txt has not changed\n",
      "filter_circuit.asc is older than filter_circuit.raw\n",
      "Normal access\n",
      "sig_in.csv has not changed\n",
      "trancmd.txt has not changed\n",
      "filter_circuit.asc is older than filter_circuit.raw\n",
      "Normal access\n",
      "sig_in.csv has not changed\n",
      "trancmd.txt has not changed\n",
      "filter_circuit.asc is older than filter_circuit.raw\n",
      "Normal access\n",
      "sig_in.csv has not changed\n",
      "trancmd.txt has not changed\n",
      "filter_circuit.asc is older than filter_circuit.raw\n",
      "Normal access\n"
     ]
    }
   ],
   "source": [
    "##################################################\n",
    "##    fit circuit parameters to test signal     ##\n",
    "##################################################\n",
    "\n",
    "\n",
    "def func(x, a, b, c):\n",
    "    \n",
    "    # a is amplitude factor\n",
    "    \n",
    "    # all values in SI units\n",
    "    configuration = {\n",
    "      \"C1\":b,\n",
    "      \"C2\":c\n",
    "    }\n",
    "    \n",
    "    # call ltspice to get impulse response from circuit\n",
    "    dummy, filter_ir = get_impulse_response(\n",
    "          circuit_file,\n",
    "          params=configuration,\n",
    "          ltspice_command = ltspice_command,\n",
    "          sample_width = sample_width,\n",
    "          delta_t = delta_t\n",
    "          )\n",
    "    return a*filter_ir\n",
    "\n",
    "\n",
    "# start parameters and parameter bounds\n",
    "#          a       b(C1)  c(C2)\n",
    "p0  =    [1./40 ,100e-6 ,100e-6]\n",
    "param_bounds=(\n",
    "         [0     ,0      ,0      ],\n",
    "         [100   ,2000e-6,2000e-6])\n",
    "popt, pcov = curve_fit(func, time, signal_a, p0 = p0, bounds=param_bounds)\n",
    "\n"
   ]
  },
  {
   "cell_type": "code",
   "execution_count": 7,
   "metadata": {},
   "outputs": [
    {
     "name": "stdout",
     "output_type": "stream",
     "text": [
      "sig_in.csv has not changed\n",
      "trancmd.txt has not changed\n",
      "filter_circuit.asc is older than filter_circuit.raw\n",
      "Normal access\n"
     ]
    },
    {
     "data": {
      "image/png": "[encoded data removed]",
      "text/plain": [
       "<matplotlib.figure.Figure at 0x7f6bea43d908>"
      ]
     },
     "metadata": {
      "needs_background": "light"
     },
     "output_type": "display_data"
    }
   ],
   "source": [
    "##################################################\n",
    "##         plot fit against input data          ##\n",
    "##################################################\n",
    "\n",
    "\n",
    "plt.plot(time,signal_a, label=\"original signal\")\n",
    "plt.plot(time, func(time, *popt), 'r-',\n",
    "         label='fit: a=%5.3e, b=%5.3e, c=%5.3e' % tuple(popt))\n",
    "plt.grid(True)\n",
    "plt.ylim(-0.5, 2)\n",
    "plt.legend()\n",
    "plt.show()\n"
   ]
  }
 ],
 "metadata": {
  "kernelspec": {
   "display_name": "Python 3",
   "language": "python",
   "name": "python3"
  },
  "language_info": {
   "codemirror_mode": {
    "name": "ipython",
    "version": 3
   },
   "file_extension": ".py",
   "mimetype": "text/x-python",
   "name": "python",
   "nbconvert_exporter": "python",
   "pygments_lexer": "ipython3",
   "version": "3.6.8"
  }
 },
 "nbformat": 4,
 "nbformat_minor": 2
}
