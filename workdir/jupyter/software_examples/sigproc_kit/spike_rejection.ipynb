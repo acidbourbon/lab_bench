{
 "cells": [
  {
   "cell_type": "code",
   "execution_count": 1,
   "metadata": {},
   "outputs": [],
   "source": [
    "import numpy as np\n",
    "from matplotlib import pyplot as plt\n",
    "from my_utils import *\n",
    "from sigproc_kit import *"
   ]
  },
  {
   "cell_type": "code",
   "execution_count": 25,
   "metadata": {},
   "outputs": [
    {
     "data": {
      "image/png": "[encoded data removed]",
      "text/plain": [
       "<matplotlib.figure.Figure at 0x7fd985561588>"
      ]
     },
     "metadata": {
      "needs_background": "light"
     },
     "output_type": "display_data"
    }
   ],
   "source": [
    "##################################################\n",
    "##             basic discriminator              ##\n",
    "##################################################\n",
    "\n",
    "t = np.linspace(0,100e-9,10000) # be sure to make not to few steps, if you have a sharp IR\n",
    "y = ( t > 10e-9)* (t < 12e-9) \\\n",
    "    + ( t > 20e-9)* (t < 27e-9)\\\n",
    "    + ( t > 30e-9)* (t < 32e-9)\\\n",
    "    + ( t > 33e-9)* (t < 35e-9)\\\n",
    "    + ( t > 50e-9)* (t < 57e-9)\\\n",
    "    + ( t > 68e-9)* (t < 69e-9)\\\n",
    "    + ( t > 58e-9)* (t < (58+7)*1e-9)\\\n",
    "    + ( t > 70e-9)* (t < (70+7)*1e-9)\\\n",
    "    + 0\n",
    "\n",
    "\n",
    "sig = y\n",
    "\n",
    "delay = 5e-9\n",
    "\n",
    "dummy,sig_dly = shift_time(t,sig,delay)\n",
    "\n",
    "sig_dly_fe = falling_edge_detect(sig_dly)\n",
    "\n",
    "\n",
    "s1 = rising_edge_detect( sig * sig_dly)\n",
    "r1 = sig_dly_fe\n",
    "\n",
    "q1 = SR_FF(s1,r1)\n",
    "\n",
    "\n",
    "sig_fe = falling_edge_detect(sig)\n",
    "\n",
    "spurious = sig_fe * (1-q1)\n",
    "dummy, spurious_dly = shift_time(t,spurious,delay)\n",
    "\n",
    "veto = SR_FF(spurious,spurious_dly)\n",
    "\n",
    "out = q1 * (1-veto)\n",
    "\n",
    "#plt.plot(t*1e9,y,label=\"sig\")\n",
    "plt.plot(t*1e9,sig_dly,label=\"sig_dly\")\n",
    "#plt.plot(t*1e9,sig_dly_fe,label=\"sig_dly_fe\")\n",
    "#plt.plot(t*1e9,s1,label=\"s1\")\n",
    "#plt.plot(t*1e9,q1,label=\"q1\")\n",
    "#plt.plot(t*1e9,spurious,label=\"spurious\")\n",
    "plt.plot(t*1e9,out+1.1,label=\"out\")\n",
    "plt.plot(t*1e9,veto+2.2,label=\"veto\")\n",
    "plt.plot(t*1e9,q1+3.3,label=\"q1\")\n",
    "\n",
    "plt.xlabel(\"ns\")\n",
    "plt.legend()\n",
    "plt.show()\n"
   ]
  }
 ],
 "metadata": {
  "kernelspec": {
   "display_name": "Python 3",
   "language": "python",
   "name": "python3"
  },
  "language_info": {
   "codemirror_mode": {
    "name": "ipython",
    "version": 3
   },
   "file_extension": ".py",
   "mimetype": "text/x-python",
   "name": "python",
   "nbconvert_exporter": "python",
   "pygments_lexer": "ipython3",
   "version": "3.6.8"
  }
 },
 "nbformat": 4,
 "nbformat_minor": 4
}
