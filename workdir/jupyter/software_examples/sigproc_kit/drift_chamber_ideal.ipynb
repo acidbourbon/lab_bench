{
 "cells": [
  {
   "cell_type": "code",
   "execution_count": 1,
   "metadata": {},
   "outputs": [],
   "source": [
    "import numpy as np\n",
    "from matplotlib import pyplot as plt\n",
    "from my_utils import *\n",
    "from sigproc_kit import *"
   ]
  },
  {
   "cell_type": "code",
   "execution_count": 2,
   "metadata": {},
   "outputs": [],
   "source": [
    "def ion_current(t, Q, P, r0, ra, rb, mu_ion, HV, delay):\n",
    "    t_ = t - delay\n",
    "    \n",
    "    t0 = r0**2 *P *np.log(rb/ra)/(2*mu_ion*HV)\n",
    "    \n",
    "    return (t_ > 0) * Q/(2.*np.log(rb/ra)*(t0+t_)  )"
   ]
  },
  {
   "cell_type": "code",
   "execution_count": 3,
   "metadata": {},
   "outputs": [
    {
     "data": {
      "image/png": "[encoded data removed]",
      "text/plain": [
       "<matplotlib.figure.Figure at 0x7fc540864dd8>"
      ]
     },
     "metadata": {
      "needs_background": "light"
     },
     "output_type": "display_data"
    }
   ],
   "source": [
    "##################################################\n",
    "##           driftchamber ion current           ##\n",
    "##################################################\n",
    "\n",
    "\n",
    "## chamber parameters\n",
    "\n",
    "\n",
    "# ionization\n",
    "primary_ions = 1\n",
    "\n",
    "# gas amplification\n",
    "G = 1.6e5\n",
    "\n",
    "# electron charge\n",
    "e = 1.602e-19\n",
    "\n",
    "\n",
    "# total charge after gas amplification\n",
    "Q = -primary_ions * G * e\n",
    "\n",
    "# gas pressure\n",
    "P  = 1             # 1 atm = 1 bar\n",
    "\n",
    "# geometric parameter of idealized proportional counter\n",
    "# good enough approximation for MDC cell\n",
    "ra = 10e-6         # 10 um\n",
    "rb = 2.5e-3        # 2.5 mm\n",
    "r0 = ra+1e-6       # 1 um over the wire\n",
    "\n",
    "# argon ion mobility\n",
    "mu_ion = 1.7*(1e-2)**2 #1.7 cm^2 s^-1 V^-1 atm^-1\n",
    "\n",
    "# chamber HV (affects only ion drift, not gas gain)\n",
    "HV = 1600\n",
    "\n",
    "\n",
    "t = np.linspace(-100e-9,900e-9,100000) # be sure to make not to few steps, if you have a sharp IR\n",
    "\n",
    "delay = 0e-9 \n",
    "\n",
    "I = ion_current(t, Q, P, r0, ra, rb, mu_ion, HV, delay)\n",
    "\n",
    "\n",
    "\n",
    "\n",
    "\n",
    "\n",
    "plt.title(\"ion current\")\n",
    "plt.plot(t*1e9,I*1e6,label=\"det pulse\")\n",
    "plt.xlabel(\"ns\")\n",
    "plt.ylabel(\"uA\")\n",
    "plt.xlim(-20,200)\n",
    "plt.legend()\n",
    "plt.show()\n",
    "\n",
    "#print(\"t1 : {:3.3f} ns, tot : {:3.3f} ns\".format(t1*1e9,tot*1e9))"
   ]
  },
  {
   "cell_type": "code",
   "execution_count": 4,
   "metadata": {},
   "outputs": [
    {
     "data": {
      "image/png": "[encoded data removed]",
      "text/plain": [
       "<matplotlib.figure.Figure at 0x7fc54084e4a8>"
      ]
     },
     "metadata": {
      "needs_background": "light"
     },
     "output_type": "display_data"
    }
   ],
   "source": [
    "##################################################\n",
    "##              Fe55 charge cloud               ##\n",
    "##################################################\n",
    "\n",
    "primary_ions = 218\n",
    "\n",
    "# arrival time smearing due to diffusion/drift\n",
    "sigma_T = 2.7e-9\n",
    "\n",
    "# gas amplification\n",
    "G = 1.6e5\n",
    "\n",
    "e = 1.602e-19\n",
    "\n",
    "Q = -primary_ions * G * e\n",
    "\n",
    "I = ion_current(t, Q, P, r0, ra, rb, mu_ion, HV, delay)\n",
    "\n",
    "I_diff = fft_gauss_LPF(t,I,sigma=sigma_T)\n",
    "\n",
    "R_scope = 50\n",
    "\n",
    "U_scope = I_diff * R_scope\n",
    "\n",
    "plt.title(\"Fe55 pulse as seen by scope\")\n",
    "plt.plot(t*1e9,U_scope*1e3,label=\"det pulse\")\n",
    "plt.xlabel(\"ns\")\n",
    "plt.ylabel(\"mV\")\n",
    "plt.xlim(-20,200)\n",
    "plt.legend()\n",
    "plt.show()\n"
   ]
  },
  {
   "cell_type": "code",
   "execution_count": null,
   "metadata": {},
   "outputs": [],
   "source": []
  }
 ],
 "metadata": {
  "kernelspec": {
   "display_name": "Python 3",
   "language": "python",
   "name": "python3"
  },
  "language_info": {
   "codemirror_mode": {
    "name": "ipython",
    "version": 3
   },
   "file_extension": ".py",
   "mimetype": "text/x-python",
   "name": "python",
   "nbconvert_exporter": "python",
   "pygments_lexer": "ipython3",
   "version": "3.6.8"
  }
 },
 "nbformat": 4,
 "nbformat_minor": 4
}
