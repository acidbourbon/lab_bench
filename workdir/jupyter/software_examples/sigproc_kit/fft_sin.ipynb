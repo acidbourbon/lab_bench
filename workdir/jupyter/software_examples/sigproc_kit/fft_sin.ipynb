{
 "cells": [
  {
   "cell_type": "code",
   "execution_count": 1,
   "id": "1f1c4bd2",
   "metadata": {},
   "outputs": [],
   "source": [
    "import numpy as np\n",
    "from matplotlib import pyplot as plt\n",
    "from numpy.fft import fft\n",
    "\n",
    "from matplotlib.ticker import ScalarFormatter\n",
    "\n",
    "\n",
    "def dB(x):\n",
    "    return 20*np.log10(x)"
   ]
  },
  {
   "cell_type": "code",
   "execution_count": 3,
   "id": "c6923d4c",
   "metadata": {},
   "outputs": [
    {
     "data": {
      "text/plain": [
       "(0.0010000200004000081, 100)"
      ]
     },
     "execution_count": 3,
     "metadata": {},
     "output_type": "execute_result"
    },
    {
     "data": {
      "image/png": "[encoded data removed]",
      "text/plain": [
       "<matplotlib.figure.Figure at 0x7f19a6875828>"
      ]
     },
     "metadata": {
      "needs_background": "light"
     },
     "output_type": "display_data"
    }
   ],
   "source": [
    "\n",
    "t = np.arange(0,1000e-9,10e-12) \n",
    "\n",
    "y = t*0\n",
    "\n",
    "# test sinus at 100 MHz, 1 mV pkpk\n",
    "y += 1e-3 * np.sin(2*np.pi*100e6*t)\n",
    "\n",
    "# test sinus at 1 GHz, 1 mV pkpk\n",
    "y += 1e-3 * np.sin(2*np.pi*1e9*t)\n",
    "\n",
    "\n",
    "\n",
    "N = len(t)\n",
    "T = t[1] -t[0]\n",
    "\n",
    "yf = fft(y/1e-2)\n",
    "yf = 2.0/N * np.abs(yf[0:N//2])\n",
    "xf = np.linspace(0.0, 1.0/(2.0*T), N//2)\n",
    "\n",
    "\n",
    "plt.plot(xf/1e9, dB(yf/np.max(yf)) )\n",
    "plt.xlabel(\"f (GHz)\")\n",
    "plt.xscale(\"log\")\n",
    "plt.ylabel(\"spectral power / max power (dB)\")\n",
    "plt.gca().axes.get_xaxis().set_major_formatter(ScalarFormatter())\n",
    "plt.ylim(-40,5)\n",
    "plt.xlim(0,100)"
   ]
  }
 ],
 "metadata": {
  "kernelspec": {
   "display_name": "Python 3",
   "language": "python",
   "name": "python3"
  },
  "language_info": {
   "codemirror_mode": {
    "name": "ipython",
    "version": 3
   },
   "file_extension": ".py",
   "mimetype": "text/x-python",
   "name": "python",
   "nbconvert_exporter": "python",
   "pygments_lexer": "ipython3",
   "version": "3.6.8"
  }
 },
 "nbformat": 4,
 "nbformat_minor": 5
}
