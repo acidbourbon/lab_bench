{
 "cells": [
  {
   "cell_type": "code",
   "execution_count": 1,
   "id": "afcc53e8",
   "metadata": {},
   "outputs": [],
   "source": [
    "import voltagedivider\n",
    "from voltagedivider import divider\n",
    "from voltagedivider import divider, eia"
   ]
  },
  {
   "cell_type": "code",
   "execution_count": 2,
   "id": "62100b24",
   "metadata": {},
   "outputs": [],
   "source": [
    "import os"
   ]
  },
  {
   "cell_type": "code",
   "execution_count": 3,
   "id": "11a5eda2",
   "metadata": {},
   "outputs": [
    {
     "data": {
      "text/plain": [
       "(1.0, 1.5)"
      ]
     },
     "execution_count": 3,
     "metadata": {},
     "output_type": "execute_result"
    }
   ],
   "source": [
    "divider.calc_voltage_divider_resistance_values(3, 5)"
   ]
  },
  {
   "cell_type": "code",
   "execution_count": 4,
   "id": "06ce9fe8",
   "metadata": {},
   "outputs": [
    {
     "data": {
      "text/plain": [
       "(1.33, 1.96)"
      ]
     },
     "execution_count": 4,
     "metadata": {},
     "output_type": "execute_result"
    }
   ],
   "source": [
    "divider.calc_voltage_divider_resistance_values(3, 5, value_set=eia.E48)"
   ]
  },
  {
   "cell_type": "code",
   "execution_count": 5,
   "id": "f227519d",
   "metadata": {},
   "outputs": [
    {
     "name": "stdout",
     "output_type": "stream",
     "text": [
      "Closest match (using E24 value set):\n",
      "  R1 decade:   1.0\n",
      "  R2 decade:   1.5\n",
      "  Vout:        3.0 volts\n",
      "\n"
     ]
    }
   ],
   "source": [
    "##################################################\n",
    "##             on the command line              ##\n",
    "##################################################\n",
    "\n",
    "Vh  = 5\n",
    "Vl  = 3\n",
    "\n",
    "cmd = \"python3 /workdir/python_modules/voltagedivider/divider.py {:f} {:f}\".format(Vl,Vh)\n",
    "\n",
    "print(os.popen(cmd).read())"
   ]
  },
  {
   "cell_type": "code",
   "execution_count": 6,
   "id": "ef3b102e",
   "metadata": {},
   "outputs": [
    {
     "name": "stdout",
     "output_type": "stream",
     "text": [
      "Closest match (using E48 value set):\n",
      "  R1 decade:   1.33\n",
      "  R2 decade:   1.96\n",
      "  Vout:        2.98 volts\n",
      "\n"
     ]
    }
   ],
   "source": [
    "##################################################\n",
    "##           command line special set           ##\n",
    "##################################################\n",
    "\n",
    "# E3, E6, E12, E24, E48, E96\n",
    "set =\"E48\"\n",
    "Vh  = 5\n",
    "Vl  = 3\n",
    "\n",
    "cmd = \"python3 /workdir/python_modules/voltagedivider/divider.py {:f} {:f} --value_set={:s}\".format(Vl,Vh,set)\n",
    "\n",
    "print(os.popen(cmd).read())"
   ]
  },
  {
   "cell_type": "code",
   "execution_count": null,
   "id": "237859fe",
   "metadata": {},
   "outputs": [],
   "source": []
  }
 ],
 "metadata": {
  "kernelspec": {
   "display_name": "Python 3",
   "language": "python",
   "name": "python3"
  },
  "language_info": {
   "codemirror_mode": {
    "name": "ipython",
    "version": 3
   },
   "file_extension": ".py",
   "mimetype": "text/x-python",
   "name": "python",
   "nbconvert_exporter": "python",
   "pygments_lexer": "ipython3",
   "version": "3.6.8"
  }
 },
 "nbformat": 4,
 "nbformat_minor": 5
}
