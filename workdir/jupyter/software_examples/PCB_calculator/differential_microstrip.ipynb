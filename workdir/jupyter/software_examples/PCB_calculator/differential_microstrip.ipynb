{
 "cells": [
  {
   "cell_type": "code",
   "execution_count": 1,
   "id": "d34c450b",
   "metadata": {},
   "outputs": [],
   "source": [
    "import numpy as np\n",
    "from matplotlib import pyplot as plt\n",
    "from ipywidgets import interact\n",
    "from my_utils import *"
   ]
  },
  {
   "cell_type": "markdown",
   "id": "6ebf4609",
   "metadata": {},
   "source": [
    "![image](differential_microstrip.png)\n",
    "\n",
    "$$ Z_0 = \\frac{87}{\\sqrt{\\varepsilon_r+1.41}}\\cdot \\ln\\left(\\frac{5.98\\cdot h}{0.8\\cdot w + t}\\right) $$\n",
    "\n",
    "$$ Z_d = \\frac{174}{\\sqrt{\\varepsilon_r+1.41}}\\cdot \\ln\\left(\\frac{5.98\\cdot h}{0.8\\cdot w + t}\\right) \\cdot\\left(1-0.48\\cdot\\exp\\left(-0.96\\frac{d}{h}\\right)\\right)$$"
   ]
  },
  {
   "cell_type": "markdown",
   "id": "d3e8b929",
   "metadata": {},
   "source": [
    "Z0 = Single Ended Impedance\n",
    "\n",
    "Zd = Differential Impedance\n",
    "\n",
    "d = Trace Separation\n",
    "\n",
    "w = Trace Width\n",
    "\n",
    "t = Trace Thickness \n",
    "\n",
    "h = Dielectric Thickness\n",
    "\n",
    "εr = Relative Dielectric Constant"
   ]
  },
  {
   "cell_type": "code",
   "execution_count": 2,
   "id": "4ca32edf",
   "metadata": {},
   "outputs": [],
   "source": [
    "def Z_microstrip(w_um=245,h_um=140,t_um=40,eps_r=4.3):\n",
    "    # arguments in um,\n",
    "    # formula in mil\n",
    "    w_mil = w_um*1e-6/25.4e-6\n",
    "    h_mil = h_um*1e-6/25.4e-6\n",
    "    t_mil = t_um*1e-6/25.4e-6\n",
    "    \n",
    "    return 87./np.sqrt(1.41 + eps_r) * np.log((5.98*h_mil)/(0.8*w_mil+t_mil))"
   ]
  },
  {
   "cell_type": "code",
   "execution_count": 3,
   "id": "5f7d4544",
   "metadata": {},
   "outputs": [],
   "source": [
    "def Zd_microstrip(w_um=190,d_um=180,h_um=140,t_um=40,eps_r=4.3):\n",
    "    # arguments in um,\n",
    "    # formula in mil\n",
    "    w_mil = w_um*1e-6/25.4e-6\n",
    "    h_mil = h_um*1e-6/25.4e-6\n",
    "    t_mil = t_um*1e-6/25.4e-6\n",
    "    d_mil = d_um*1e-6/25.4e-6\n",
    "    \n",
    "    return 174./np.sqrt(1.41 + eps_r) * np.log((5.98*h_mil)/(0.8*w_mil+t_mil)) \\\n",
    "                * (1-0.48*np.exp(-0.96*d_mil/h_mil))"
   ]
  },
  {
   "cell_type": "code",
   "execution_count": 4,
   "id": "542ef026",
   "metadata": {},
   "outputs": [
    {
     "data": {
      "application/vnd.jupyter.widget-view+json": {
       "model_id": "93f1f3c0f9fc4f02a082b9d86fada1f6",
       "version_major": 2,
       "version_minor": 0
      },
      "text/plain": [
       "interactive(children=(IntSlider(value=245, description='w_um', max=1000, min=80, step=5), IntSlider(value=140,…"
      ]
     },
     "metadata": {},
     "output_type": "display_data"
    },
    {
     "data": {
      "text/plain": [
       "<function __main__.Z_microstrip(w_um=245, h_um=140, t_um=40, eps_r=4.3)>"
      ]
     },
     "execution_count": 4,
     "metadata": {},
     "output_type": "execute_result"
    }
   ],
   "source": [
    "interact(Z_microstrip,\n",
    "         w_um=(80,1000,5),\n",
    "         h_um=(10,500,5),\n",
    "         t_um=(10,50,2),\n",
    "         eps_r = (1,6,0.1)\n",
    "        )"
   ]
  },
  {
   "cell_type": "code",
   "execution_count": 5,
   "id": "38e2bf9e",
   "metadata": {},
   "outputs": [
    {
     "data": {
      "application/vnd.jupyter.widget-view+json": {
       "model_id": "5ba5ec88aca34ca2bd512ae9b966f3f4",
       "version_major": 2,
       "version_minor": 0
      },
      "text/plain": [
       "interactive(children=(IntSlider(value=190, description='w_um', max=500, min=80, step=5), IntSlider(value=180, …"
      ]
     },
     "metadata": {},
     "output_type": "display_data"
    },
    {
     "data": {
      "text/plain": [
       "<function __main__.Zd_microstrip(w_um=190, d_um=180, h_um=140, t_um=40, eps_r=4.3)>"
      ]
     },
     "execution_count": 5,
     "metadata": {},
     "output_type": "execute_result"
    }
   ],
   "source": [
    "interact(Zd_microstrip,\n",
    "         w_um=(80,500,5),\n",
    "         d_um=(80,500,5),\n",
    "         h_um=(10,500,5),\n",
    "         t_um=(10,50,2),\n",
    "         eps_r = (1,6,0.1)\n",
    "        )"
   ]
  }
 ],
 "metadata": {
  "kernelspec": {
   "display_name": "Python 3",
   "language": "python",
   "name": "python3"
  },
  "language_info": {
   "codemirror_mode": {
    "name": "ipython",
    "version": 3
   },
   "file_extension": ".py",
   "mimetype": "text/x-python",
   "name": "python",
   "nbconvert_exporter": "python",
   "pygments_lexer": "ipython3",
   "version": "3.6.8"
  }
 },
 "nbformat": 4,
 "nbformat_minor": 5
}
