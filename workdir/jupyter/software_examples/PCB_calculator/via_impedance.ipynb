{
 "cells": [
  {
   "cell_type": "code",
   "execution_count": 1,
   "id": "d34c450b",
   "metadata": {},
   "outputs": [],
   "source": [
    "import numpy as np\n",
    "from matplotlib import pyplot as plt\n",
    "from ipywidgets import interact\n",
    "from my_utils import *"
   ]
  },
  {
   "cell_type": "markdown",
   "id": "2d7c7c5f",
   "metadata": {},
   "source": [
    "$$ Z_0 = \\frac{276}{\\sqrt{\\varepsilon_r}}\\cdot \\log_{10}\\left(\\frac{2D}{d}\\right) $$\n",
    "- D is the spacing between via centers\n",
    "- d is the diameter of the via\n",
    "- dimensions in mil or um, it does not matter"
   ]
  },
  {
   "cell_type": "code",
   "execution_count": 2,
   "id": "4ca32edf",
   "metadata": {},
   "outputs": [],
   "source": [
    "def Z_via(D_um=240,d_um=200,eps_r=4.3):\n",
    "    # arguments in um,\n",
    "    # formula in mil\n",
    "    d_mil = d_um*1e-6/25.4e-6\n",
    "    D_mil = D_um*1e-6/25.4e-6\n",
    "    \n",
    "    return 276./np.sqrt(eps_r) * np.log10((2*D_mil)/(d_mil))"
   ]
  },
  {
   "cell_type": "code",
   "execution_count": 3,
   "id": "542ef026",
   "metadata": {},
   "outputs": [
    {
     "data": {
      "application/vnd.jupyter.widget-view+json": {
       "model_id": "12c716310d3347aaa92c809e738bd8d1",
       "version_major": 2,
       "version_minor": 0
      },
      "text/plain": [
       "interactive(children=(IntSlider(value=240, description='D_um', max=1000, min=10, step=5), IntSlider(value=200,…"
      ]
     },
     "metadata": {},
     "output_type": "display_data"
    },
    {
     "data": {
      "text/plain": [
       "<function __main__.Z_via(D_um=240, d_um=200, eps_r=4.3)>"
      ]
     },
     "execution_count": 3,
     "metadata": {},
     "output_type": "execute_result"
    }
   ],
   "source": [
    "interact(Z_via,\n",
    "         D_um=(10,1000,5),\n",
    "         d_um=(10,500,5),\n",
    "         eps_r = (1,6,0.1)\n",
    "        )"
   ]
  }
 ],
 "metadata": {
  "kernelspec": {
   "display_name": "Python 3",
   "language": "python",
   "name": "python3"
  },
  "language_info": {
   "codemirror_mode": {
    "name": "ipython",
    "version": 3
   },
   "file_extension": ".py",
   "mimetype": "text/x-python",
   "name": "python",
   "nbconvert_exporter": "python",
   "pygments_lexer": "ipython3",
   "version": "3.6.8"
  }
 },
 "nbformat": 4,
 "nbformat_minor": 5
}
