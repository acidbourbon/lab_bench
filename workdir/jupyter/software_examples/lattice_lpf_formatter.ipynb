{
 "cells": [
  {
   "cell_type": "code",
   "execution_count": 1,
   "id": "61a936e5",
   "metadata": {},
   "outputs": [
    {
     "name": "stdout",
     "output_type": "stream",
     "text": [
      "\n",
      "BLOCK RESETPATHS;\n",
      "BLOCK ASYNCPATHS;\n",
      "\n",
      "\n",
      "LOCATE COMP \"D1\" SITE \"D1\" ;\n",
      "IOBUF PORT \"D1\" IO_TYPE=LVCMOS33 ;\n"
     ]
    }
   ],
   "source": [
    "# SYNTAX:\n",
    "# \"portname\" : [\"site\"]\n",
    "# or \n",
    "# \"portname\" : [\"site\",\"IO_TYPE=LVCMOS33\"]\n",
    "\n",
    "\n",
    "\n",
    "\n",
    "\n",
    "\n",
    "pins_json={\n",
    "    \"D1\":[\"D1\"],\n",
    "}\n",
    "\n",
    "\n",
    "\n",
    "\n",
    "default_properties = \"IO_TYPE=LVCMOS33\"\n",
    "\n",
    "\n",
    "\n",
    "print('''\n",
    "BLOCK RESETPATHS;\n",
    "BLOCK ASYNCPATHS;\n",
    "\n",
    "''')\n",
    "\n",
    "for PORT in pins_json.keys():\n",
    "    \n",
    "    SITE = pins_json[PORT][0]\n",
    "    PROPERTIES = default_properties\n",
    "    if len(pins_json[PORT]) == 2:\n",
    "      PROPERTIES = pins_json[PORT][1]\n",
    "    \n",
    "    print('LOCATE COMP \"'+PORT+'\" SITE \"'+SITE+'\" ;')\n",
    "    print('IOBUF PORT \"'+PORT+'\" '+PROPERTIES+' ;')\n",
    "    \n"
   ]
  }
 ],
 "metadata": {
  "kernelspec": {
   "display_name": "Python 3",
   "language": "python",
   "name": "python3"
  },
  "language_info": {
   "codemirror_mode": {
    "name": "ipython",
    "version": 3
   },
   "file_extension": ".py",
   "mimetype": "text/x-python",
   "name": "python",
   "nbconvert_exporter": "python",
   "pygments_lexer": "ipython3",
   "version": "3.6.8"
  }
 },
 "nbformat": 4,
 "nbformat_minor": 5
}
