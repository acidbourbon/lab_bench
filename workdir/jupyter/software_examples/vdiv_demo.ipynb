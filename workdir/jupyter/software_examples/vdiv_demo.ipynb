{
 "cells": [
  {
   "cell_type": "code",
   "execution_count": 1,
   "id": "93712c12",
   "metadata": {},
   "outputs": [],
   "source": [
    "import vdiv"
   ]
  },
  {
   "cell_type": "code",
   "execution_count": 2,
   "id": "b2003d12",
   "metadata": {},
   "outputs": [
    {
     "name": "stdout",
     "output_type": "stream",
     "text": [
      "R_up      : 4.700 R\n",
      "R_down    : 1.200 R\n",
      "V_low real: 2.034 V\n",
      "rel. error: 1.695 %\n"
     ]
    }
   ],
   "source": [
    "vdiv.vdiv(2,10,set=\"E12\")"
   ]
  },
  {
   "cell_type": "code",
   "execution_count": 3,
   "id": "585d5704",
   "metadata": {},
   "outputs": [
    {
     "name": "stdout",
     "output_type": "stream",
     "text": [
      "R_numerator   : 1.300 R\n",
      "R_denominator : 6.200 R\n",
      "frac real     : 0.210 V\n",
      "rel. error    : -0.154 %\n"
     ]
    }
   ],
   "source": [
    "vdiv.rfrac(0.21,set=\"E24\")"
   ]
  }
 ],
 "metadata": {
  "kernelspec": {
   "display_name": "Python 3",
   "language": "python",
   "name": "python3"
  },
  "language_info": {
   "codemirror_mode": {
    "name": "ipython",
    "version": 3
   },
   "file_extension": ".py",
   "mimetype": "text/x-python",
   "name": "python",
   "nbconvert_exporter": "python",
   "pygments_lexer": "ipython3",
   "version": "3.6.8"
  }
 },
 "nbformat": 4,
 "nbformat_minor": 5
}
