{
 "cells": [
  {
   "cell_type": "code",
   "execution_count": 1,
   "id": "ad30afe5",
   "metadata": {},
   "outputs": [],
   "source": [
    "import vdiv\n",
    "from ipywidgets import interact\n"
   ]
  },
  {
   "cell_type": "markdown",
   "id": "5f568e22",
   "metadata": {},
   "source": [
    "$$ V_{out} = -1.22V \\cdot \\frac{R1+R2}{R2} $$\n",
    "- The value for R2 must be no less than 50 kΩ.\n",
    "- look, the fraction is the reciprocal of a voltage divider:\n",
    "\n",
    "$$ frac_{R2} = \\frac{R2}{R1+R2} $$\n",
    "i.e. the fraction of the voltage that drops on the lower resistor of a voltage divider"
   ]
  },
  {
   "cell_type": "markdown",
   "id": "84955315",
   "metadata": {},
   "source": [
    "$$ V_{out} = -\\frac{1.22V}{frac_{R2}} $$\n",
    "\n",
    "$$ frac_{R2} = -\\frac{1.22V}{V_{out}} $$"
   ]
  },
  {
   "cell_type": "markdown",
   "id": "dcdac931",
   "metadata": {},
   "source": [
    "![image](sympy/solve_LM27761_divider_schema.png)"
   ]
  },
  {
   "cell_type": "code",
   "execution_count": 8,
   "id": "c40c1deb",
   "metadata": {},
   "outputs": [
    {
     "data": {
      "text/plain": [
       "0.3696969696969697"
      ]
     },
     "execution_count": 8,
     "metadata": {},
     "output_type": "execute_result"
    }
   ],
   "source": [
    "v_out = -3.3\n",
    "\n",
    "fracR2 = -1.22/v_out\n",
    "fracR2"
   ]
  },
  {
   "cell_type": "code",
   "execution_count": 16,
   "id": "3aa451d5",
   "metadata": {},
   "outputs": [
    {
     "data": {
      "application/vnd.jupyter.widget-view+json": {
       "model_id": "3de33766b87444ec9ad1576fa695eef3",
       "version_major": 2,
       "version_minor": 0
      },
      "text/plain": [
       "interactive(children=(FloatSlider(value=-3.3, description='v', max=-3.2, min=-3.4, step=0.001), Output()), _do…"
      ]
     },
     "metadata": {},
     "output_type": "display_data"
    },
    {
     "data": {
      "text/plain": [
       "<function __main__.my_function(v=-3.3)>"
      ]
     },
     "execution_count": 16,
     "metadata": {},
     "output_type": "execute_result"
    }
   ],
   "source": [
    "def my_function(v=-3.3):\n",
    "    \n",
    "    fracR2 = -1.22/v\n",
    "    print(\"artificial error dV={:3.3f}\".format(v-v_out))\n",
    "    r_up, r_down, v_low, relerr = vdiv.vdiv(fracR2,1,set=\"E24\")\n",
    "    \n",
    "    v_real =  -1.22*(r_up+r_down)/r_down\n",
    "    \n",
    "    print()\n",
    "    print(\"LM27761\")\n",
    "    print(\"output voltage: {:3.3f} V\".format(v_real))\n",
    "    \n",
    "# create a slider\n",
    "interact(my_function, v=(-3.4,-3.2,0.001))"
   ]
  }
 ],
 "metadata": {
  "kernelspec": {
   "display_name": "Python 3",
   "language": "python",
   "name": "python3"
  },
  "language_info": {
   "codemirror_mode": {
    "name": "ipython",
    "version": 3
   },
   "file_extension": ".py",
   "mimetype": "text/x-python",
   "name": "python",
   "nbconvert_exporter": "python",
   "pygments_lexer": "ipython3",
   "version": "3.6.8"
  }
 },
 "nbformat": 4,
 "nbformat_minor": 5
}
