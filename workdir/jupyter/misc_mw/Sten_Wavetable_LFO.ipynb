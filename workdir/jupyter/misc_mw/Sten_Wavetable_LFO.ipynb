{
 "cells": [
  {
   "cell_type": "code",
   "execution_count": 1,
   "id": "83959683",
   "metadata": {},
   "outputs": [],
   "source": [
    "import numpy as np\n",
    "from matplotlib import pyplot as plt\n",
    "from sigproc_kit import *"
   ]
  },
  {
   "cell_type": "code",
   "execution_count": 2,
   "id": "e409d498",
   "metadata": {},
   "outputs": [],
   "source": [
    "samples = 256\n",
    "ymax = 2**12-1 # -> 12 bit\n",
    "\n",
    "print_groups = 8\n",
    "\n",
    "x = np.array(range(samples))"
   ]
  },
  {
   "cell_type": "code",
   "execution_count": 3,
   "id": "f6d4d828",
   "metadata": {},
   "outputs": [
    {
     "data": {
      "image/png": "[encoded data removed]",
      "text/plain": [
       "<matplotlib.figure.Figure at 0x7f265ac20ba8>"
      ]
     },
     "metadata": {
      "needs_background": "light"
     },
     "output_type": "display_data"
    },
    {
     "name": "stdout",
     "output_type": "stream",
     "text": [
      "4094\n",
      "0\n"
     ]
    }
   ],
   "source": [
    "y_sin = ymax/2 + ymax/2*np.sin(2*np.pi*x/(samples-1))\n",
    "y_sin = y_sin.astype('int16')\n",
    "\n",
    "plt.plot(x,y_sin)\n",
    "plt.show()\n",
    "print(np.max(y_sin))\n",
    "print(np.min(y_sin))"
   ]
  },
  {
   "cell_type": "code",
   "execution_count": 4,
   "id": "08045b28",
   "metadata": {},
   "outputs": [
    {
     "name": "stdout",
     "output_type": "stream",
     "text": [
      "// Sin wave\n",
      "{\n",
      "  0x7ff, 0x831, 0x864, 0x896, 0x8c8, 0x8fb, 0x92d, 0x95e, \n",
      "  0x990, 0x9c1, 0x9f2, 0xa23, 0xa54, 0xa84, 0xab3, 0xae3, \n",
      "  0xb11, 0xb40, 0xb6e, 0xb9b, 0xbc8, 0xbf4, 0xc1f, 0xc4a, \n",
      "  0xc74, 0xc9e, 0xcc7, 0xcef, 0xd16, 0xd3d, 0xd62, 0xd87, \n",
      "  0xdab, 0xdce, 0xdf1, 0xe12, 0xe32, 0xe52, 0xe70, 0xe8d, \n",
      "  0xeaa, 0xec5, 0xedf, 0xef9, 0xf11, 0xf28, 0xf3e, 0xf53, \n",
      "  0xf66, 0xf79, 0xf8a, 0xf9a, 0xfa9, 0xfb7, 0xfc4, 0xfcf, \n",
      "  0xfd9, 0xfe2, 0xfea, 0xff0, 0xff6, 0xffa, 0xffd, 0xffe, \n",
      "  0xffe, 0xffe, 0xffb, 0xff8, 0xff3, 0xfed, 0xfe6, 0xfde, \n",
      "  0xfd4, 0xfca, 0xfbe, 0xfb0, 0xfa2, 0xf92, 0xf82, 0xf70, \n",
      "  0xf5d, 0xf48, 0xf33, 0xf1c, 0xf05, 0xeec, 0xed2, 0xeb8, \n",
      "  0xe9c, 0xe7f, 0xe61, 0xe42, 0xe22, 0xe01, 0xde0, 0xdbd, \n",
      "  0xd99, 0xd75, 0xd50, 0xd2a, 0xd03, 0xcdb, 0xcb2, 0xc89, \n",
      "  0xc5f, 0xc35, 0xc0a, 0xbde, 0xbb1, 0xb84, 0xb57, 0xb29, \n",
      "  0xafa, 0xacb, 0xa9c, 0xa6c, 0xa3b, 0xa0b, 0x9da, 0x9a9, \n",
      "  0x977, 0x946, 0x914, 0x8e2, 0x8af, 0x87d, 0x84b, 0x818, \n",
      "  0x7e6, 0x7b3, 0x781, 0x74f, 0x71c, 0x6ea, 0x6b8, 0x687, \n",
      "  0x655, 0x624, 0x5f3, 0x5c3, 0x592, 0x562, 0x533, 0x504, \n",
      "  0x4d5, 0x4a7, 0x47a, 0x44d, 0x420, 0x3f4, 0x3c9, 0x39f, \n",
      "  0x375, 0x34c, 0x323, 0x2fb, 0x2d4, 0x2ae, 0x289, 0x265, \n",
      "  0x241, 0x21e, 0x1fd, 0x1dc, 0x1bc, 0x19d, 0x17f, 0x162, \n",
      "  0x146, 0x12c, 0x112, 0x0f9, 0x0e2, 0x0cb, 0x0b6, 0x0a1, \n",
      "  0x08e, 0x07c, 0x06c, 0x05c, 0x04e, 0x040, 0x034, 0x02a, \n",
      "  0x020, 0x018, 0x011, 0x00b, 0x006, 0x003, 0x000, 0x000, \n",
      "  0x000, 0x001, 0x004, 0x008, 0x00e, 0x014, 0x01c, 0x025, \n",
      "  0x02f, 0x03a, 0x047, 0x055, 0x064, 0x074, 0x085, 0x098, \n",
      "  0x0ab, 0x0c0, 0x0d6, 0x0ed, 0x105, 0x11f, 0x139, 0x154, \n",
      "  0x171, 0x18e, 0x1ac, 0x1cc, 0x1ec, 0x20d, 0x230, 0x253, \n",
      "  0x277, 0x29c, 0x2c1, 0x2e8, 0x30f, 0x337, 0x360, 0x38a, \n",
      "  0x3b4, 0x3df, 0x40a, 0x436, 0x463, 0x490, 0x4be, 0x4ed, \n",
      "  0x51b, 0x54b, 0x57a, 0x5aa, 0x5db, 0x60c, 0x63d, 0x66e, \n",
      "  0x6a0, 0x6d1, 0x703, 0x736, 0x768, 0x79a, 0x7cd, 0x7ff\n",
      "}\n"
     ]
    }
   ],
   "source": [
    "print(\"// Sin wave\")\n",
    "print(\"{\",end=\"\")\n",
    "for i in range(samples):\n",
    "  if ((i%print_groups)==0):\n",
    "    print()\n",
    "    print(\"  \",end=\"\")\n",
    "  y = y_sin[i]\n",
    "  print(\"0x{:03x}\".format(y),end=\"\")\n",
    "  if i < (samples-1):\n",
    "    print(\", \",end=\"\")\n",
    "print()\n",
    "print(\"}\")\n"
   ]
  },
  {
   "cell_type": "code",
   "execution_count": 5,
   "id": "60662d31",
   "metadata": {},
   "outputs": [
    {
     "data": {
      "image/png": "[encoded data removed]",
      "text/plain": [
       "<matplotlib.figure.Figure at 0x7f265abaa198>"
      ]
     },
     "metadata": {
      "needs_background": "light"
     },
     "output_type": "display_data"
    },
    {
     "name": "stdout",
     "output_type": "stream",
     "text": [
      "4095\n",
      "0\n"
     ]
    }
   ],
   "source": [
    "y_sq = ymax/2 + ymax/2*sqwave(2*np.pi*x/(samples-1))\n",
    "y_sq = y_sq.astype('int16')\n",
    "\n",
    "plt.plot(x,y_sq)\n",
    "plt.show()\n",
    "print(np.max(y_sq))\n",
    "print(np.min(y_sq))"
   ]
  },
  {
   "cell_type": "code",
   "execution_count": 6,
   "id": "041b937b",
   "metadata": {},
   "outputs": [
    {
     "name": "stdout",
     "output_type": "stream",
     "text": [
      "// square wave\n",
      "{\n",
      "  0x000, 0xfff, 0xfff, 0xfff, 0xfff, 0xfff, 0xfff, 0xfff, \n",
      "  0xfff, 0xfff, 0xfff, 0xfff, 0xfff, 0xfff, 0xfff, 0xfff, \n",
      "  0xfff, 0xfff, 0xfff, 0xfff, 0xfff, 0xfff, 0xfff, 0xfff, \n",
      "  0xfff, 0xfff, 0xfff, 0xfff, 0xfff, 0xfff, 0xfff, 0xfff, \n",
      "  0xfff, 0xfff, 0xfff, 0xfff, 0xfff, 0xfff, 0xfff, 0xfff, \n",
      "  0xfff, 0xfff, 0xfff, 0xfff, 0xfff, 0xfff, 0xfff, 0xfff, \n",
      "  0xfff, 0xfff, 0xfff, 0xfff, 0xfff, 0xfff, 0xfff, 0xfff, \n",
      "  0xfff, 0xfff, 0xfff, 0xfff, 0xfff, 0xfff, 0xfff, 0xfff, \n",
      "  0xfff, 0xfff, 0xfff, 0xfff, 0xfff, 0xfff, 0xfff, 0xfff, \n",
      "  0xfff, 0xfff, 0xfff, 0xfff, 0xfff, 0xfff, 0xfff, 0xfff, \n",
      "  0xfff, 0xfff, 0xfff, 0xfff, 0xfff, 0xfff, 0xfff, 0xfff, \n",
      "  0xfff, 0xfff, 0xfff, 0xfff, 0xfff, 0xfff, 0xfff, 0xfff, \n",
      "  0xfff, 0xfff, 0xfff, 0xfff, 0xfff, 0xfff, 0xfff, 0xfff, \n",
      "  0xfff, 0xfff, 0xfff, 0xfff, 0xfff, 0xfff, 0xfff, 0xfff, \n",
      "  0xfff, 0xfff, 0xfff, 0xfff, 0xfff, 0xfff, 0xfff, 0xfff, \n",
      "  0xfff, 0xfff, 0xfff, 0xfff, 0xfff, 0xfff, 0xfff, 0xfff, \n",
      "  0x000, 0x000, 0x000, 0x000, 0x000, 0x000, 0x000, 0x000, \n",
      "  0x000, 0x000, 0x000, 0x000, 0x000, 0x000, 0x000, 0x000, \n",
      "  0x000, 0x000, 0x000, 0x000, 0x000, 0x000, 0x000, 0x000, \n",
      "  0x000, 0x000, 0x000, 0x000, 0x000, 0x000, 0x000, 0x000, \n",
      "  0x000, 0x000, 0x000, 0x000, 0x000, 0x000, 0x000, 0x000, \n",
      "  0x000, 0x000, 0x000, 0x000, 0x000, 0x000, 0x000, 0x000, \n",
      "  0x000, 0x000, 0x000, 0x000, 0x000, 0x000, 0x000, 0x000, \n",
      "  0x000, 0x000, 0x000, 0x000, 0x000, 0x000, 0x000, 0x000, \n",
      "  0x000, 0x000, 0x000, 0x000, 0x000, 0x000, 0x000, 0x000, \n",
      "  0x000, 0x000, 0x000, 0x000, 0x000, 0x000, 0x000, 0x000, \n",
      "  0x000, 0x000, 0x000, 0x000, 0x000, 0x000, 0x000, 0x000, \n",
      "  0x000, 0x000, 0x000, 0x000, 0x000, 0x000, 0x000, 0x000, \n",
      "  0x000, 0x000, 0x000, 0x000, 0x000, 0x000, 0x000, 0x000, \n",
      "  0x000, 0x000, 0x000, 0x000, 0x000, 0x000, 0x000, 0x000, \n",
      "  0x000, 0x000, 0x000, 0x000, 0x000, 0x000, 0x000, 0x000, \n",
      "  0x000, 0x000, 0x000, 0x000, 0x000, 0x000, 0x000, 0x000\n",
      "}\n"
     ]
    }
   ],
   "source": [
    "print(\"// square wave\")\n",
    "print(\"{\",end=\"\")\n",
    "for i in range(samples):\n",
    "  if ((i%print_groups)==0):\n",
    "    print()\n",
    "    print(\"  \",end=\"\")\n",
    "  y = y_sq[i]\n",
    "  print(\"0x{:03x}\".format(y),end=\"\")\n",
    "  if i < (samples-1):\n",
    "    print(\", \",end=\"\")\n",
    "print()\n",
    "print(\"}\")\n"
   ]
  },
  {
   "cell_type": "code",
   "execution_count": 7,
   "id": "d36d7e98",
   "metadata": {},
   "outputs": [
    {
     "data": {
      "image/png": "[encoded data removed]",
      "text/plain": [
       "<matplotlib.figure.Figure at 0x7f265ab416d8>"
      ]
     },
     "metadata": {
      "needs_background": "light"
     },
     "output_type": "display_data"
    },
    {
     "name": "stdout",
     "output_type": "stream",
     "text": [
      "4086\n",
      "8\n"
     ]
    }
   ],
   "source": [
    "y_tri = ymax/2 + ymax/2*triwave(2*np.pi*x/(samples-1))\n",
    "y_tri = y_tri.astype('int16')\n",
    "\n",
    "plt.plot(x,y_tri)\n",
    "plt.show()\n",
    "print(np.max(y_tri))\n",
    "print(np.min(y_tri))"
   ]
  },
  {
   "cell_type": "code",
   "execution_count": 8,
   "id": "7999c0b2",
   "metadata": {},
   "outputs": [
    {
     "name": "stdout",
     "output_type": "stream",
     "text": [
      "// triangle wave\n",
      "{\n",
      "  0x7ff, 0x81f, 0x83f, 0x85f, 0x87f, 0x8a0, 0x8c0, 0x8e0, \n",
      "  0x900, 0x920, 0x940, 0x960, 0x980, 0x9a1, 0x9c1, 0x9e1, \n",
      "  0xa01, 0xa21, 0xa41, 0xa61, 0xa81, 0xaa1, 0xac2, 0xae2, \n",
      "  0xb02, 0xb22, 0xb42, 0xb62, 0xb82, 0xba2, 0xbc3, 0xbe3, \n",
      "  0xc03, 0xc23, 0xc43, 0xc63, 0xc83, 0xca3, 0xcc3, 0xce4, \n",
      "  0xd04, 0xd24, 0xd44, 0xd64, 0xd84, 0xda4, 0xdc4, 0xde5, \n",
      "  0xe05, 0xe25, 0xe45, 0xe65, 0xe85, 0xea5, 0xec5, 0xee5, \n",
      "  0xf06, 0xf26, 0xf46, 0xf66, 0xf86, 0xfa6, 0xfc6, 0xfe6, \n",
      "  0xff6, 0xfd6, 0xfb6, 0xf96, 0xf76, 0xf56, 0xf36, 0xf16, \n",
      "  0xef6, 0xed5, 0xeb5, 0xe95, 0xe75, 0xe55, 0xe35, 0xe15, \n",
      "  0xdf5, 0xdd4, 0xdb4, 0xd94, 0xd74, 0xd54, 0xd34, 0xd14, \n",
      "  0xcf4, 0xcd4, 0xcb3, 0xc93, 0xc73, 0xc53, 0xc33, 0xc13, \n",
      "  0xbf3, 0xbd3, 0xbb2, 0xb92, 0xb72, 0xb52, 0xb32, 0xb12, \n",
      "  0xaf2, 0xad2, 0xab2, 0xa91, 0xa71, 0xa51, 0xa31, 0xa11, \n",
      "  0x9f1, 0x9d1, 0x9b1, 0x990, 0x970, 0x950, 0x930, 0x910, \n",
      "  0x8f0, 0x8d0, 0x8b0, 0x890, 0x86f, 0x84f, 0x82f, 0x80f, \n",
      "  0x7ef, 0x7cf, 0x7af, 0x78f, 0x76e, 0x74e, 0x72e, 0x70e, \n",
      "  0x6ee, 0x6ce, 0x6ae, 0x68e, 0x66e, 0x64d, 0x62d, 0x60d, \n",
      "  0x5ed, 0x5cd, 0x5ad, 0x58d, 0x56d, 0x54c, 0x52c, 0x50c, \n",
      "  0x4ec, 0x4cc, 0x4ac, 0x48c, 0x46c, 0x44c, 0x42b, 0x40b, \n",
      "  0x3eb, 0x3cb, 0x3ab, 0x38b, 0x36b, 0x34b, 0x32a, 0x30a, \n",
      "  0x2ea, 0x2ca, 0x2aa, 0x28a, 0x26a, 0x24a, 0x22a, 0x209, \n",
      "  0x1e9, 0x1c9, 0x1a9, 0x189, 0x169, 0x149, 0x129, 0x108, \n",
      "  0x0e8, 0x0c8, 0x0a8, 0x088, 0x068, 0x048, 0x028, 0x008, \n",
      "  0x018, 0x038, 0x058, 0x078, 0x098, 0x0b8, 0x0d8, 0x0f8, \n",
      "  0x119, 0x139, 0x159, 0x179, 0x199, 0x1b9, 0x1d9, 0x1f9, \n",
      "  0x219, 0x23a, 0x25a, 0x27a, 0x29a, 0x2ba, 0x2da, 0x2fa, \n",
      "  0x31a, 0x33b, 0x35b, 0x37b, 0x39b, 0x3bb, 0x3db, 0x3fb, \n",
      "  0x41b, 0x43b, 0x45c, 0x47c, 0x49c, 0x4bc, 0x4dc, 0x4fc, \n",
      "  0x51c, 0x53c, 0x55d, 0x57d, 0x59d, 0x5bd, 0x5dd, 0x5fd, \n",
      "  0x61d, 0x63d, 0x65d, 0x67e, 0x69e, 0x6be, 0x6de, 0x6fe, \n",
      "  0x71e, 0x73e, 0x75e, 0x77f, 0x79f, 0x7bf, 0x7df, 0x7ff\n",
      "}\n"
     ]
    }
   ],
   "source": [
    "print(\"// triangle wave\")\n",
    "print(\"{\",end=\"\")\n",
    "for i in range(samples):\n",
    "  if ((i%print_groups)==0):\n",
    "    print()\n",
    "    print(\"  \",end=\"\")\n",
    "  y = y_tri[i]\n",
    "  print(\"0x{:03x}\".format(y),end=\"\")\n",
    "  if i < (samples-1):\n",
    "    print(\", \",end=\"\")\n",
    "print()\n",
    "print(\"}\")\n"
   ]
  },
  {
   "cell_type": "code",
   "execution_count": 9,
   "id": "66d09bb6",
   "metadata": {},
   "outputs": [
    {
     "data": {
      "image/png": "[encoded data removed]",
      "text/plain": [
       "<matplotlib.figure.Figure at 0x7f265ab3bf28>"
      ]
     },
     "metadata": {
      "needs_background": "light"
     },
     "output_type": "display_data"
    },
    {
     "name": "stdout",
     "output_type": "stream",
     "text": [
      "4095\n",
      "0\n"
     ]
    }
   ],
   "source": [
    "y_ramp = ymax/2 + ymax/2*rampwave(2*np.pi*x/(samples-1))\n",
    "y_ramp = y_ramp.astype('int16')\n",
    "\n",
    "plt.plot(x,y_ramp)\n",
    "plt.show()\n",
    "print(np.max(y_ramp))\n",
    "print(np.min(y_ramp))"
   ]
  },
  {
   "cell_type": "code",
   "execution_count": 10,
   "id": "231c16b7",
   "metadata": {},
   "outputs": [
    {
     "name": "stdout",
     "output_type": "stream",
     "text": [
      "// upwards ramp wave\n",
      "{\n",
      "  0x000, 0x010, 0x020, 0x030, 0x040, 0x050, 0x060, 0x070, \n",
      "  0x080, 0x090, 0x0a0, 0x0b0, 0x0c0, 0x0d0, 0x0e0, 0x0f0, \n",
      "  0x100, 0x111, 0x121, 0x131, 0x141, 0x151, 0x161, 0x171, \n",
      "  0x181, 0x191, 0x1a1, 0x1b1, 0x1c1, 0x1d1, 0x1e1, 0x1f1, \n",
      "  0x201, 0x211, 0x221, 0x232, 0x242, 0x252, 0x262, 0x272, \n",
      "  0x282, 0x292, 0x2a2, 0x2b2, 0x2c2, 0x2d2, 0x2e2, 0x2f2, \n",
      "  0x302, 0x312, 0x322, 0x333, 0x343, 0x353, 0x363, 0x373, \n",
      "  0x383, 0x393, 0x3a3, 0x3b3, 0x3c3, 0x3d3, 0x3e3, 0x3f3, \n",
      "  0x403, 0x413, 0x423, 0x433, 0x444, 0x454, 0x464, 0x474, \n",
      "  0x484, 0x494, 0x4a4, 0x4b4, 0x4c4, 0x4d4, 0x4e4, 0x4f4, \n",
      "  0x504, 0x514, 0x524, 0x534, 0x544, 0x555, 0x565, 0x575, \n",
      "  0x585, 0x595, 0x5a5, 0x5b5, 0x5c5, 0x5d5, 0x5e5, 0x5f5, \n",
      "  0x605, 0x615, 0x625, 0x635, 0x645, 0x655, 0x666, 0x676, \n",
      "  0x686, 0x696, 0x6a6, 0x6b6, 0x6c6, 0x6d6, 0x6e6, 0x6f6, \n",
      "  0x706, 0x716, 0x726, 0x736, 0x746, 0x756, 0x766, 0x776, \n",
      "  0x787, 0x797, 0x7a7, 0x7b7, 0x7c7, 0x7d7, 0x7e7, 0x7f7, \n",
      "  0x807, 0x817, 0x827, 0x837, 0x847, 0x857, 0x867, 0x877, \n",
      "  0x888, 0x898, 0x8a8, 0x8b8, 0x8c8, 0x8d8, 0x8e8, 0x8f8, \n",
      "  0x908, 0x918, 0x928, 0x938, 0x948, 0x958, 0x968, 0x978, \n",
      "  0x988, 0x999, 0x9a9, 0x9b9, 0x9c9, 0x9d9, 0x9e9, 0x9f9, \n",
      "  0xa09, 0xa19, 0xa29, 0xa39, 0xa49, 0xa59, 0xa69, 0xa79, \n",
      "  0xa89, 0xa99, 0xaaa, 0xaba, 0xaca, 0xada, 0xaea, 0xafa, \n",
      "  0xb0a, 0xb1a, 0xb2a, 0xb3a, 0xb4a, 0xb5a, 0xb6a, 0xb7a, \n",
      "  0xb8a, 0xb9a, 0xbaa, 0xbbb, 0xbcb, 0xbdb, 0xbeb, 0xbfb, \n",
      "  0xc0b, 0xc1b, 0xc2b, 0xc3b, 0xc4b, 0xc5b, 0xc6b, 0xc7b, \n",
      "  0xc8b, 0xc9b, 0xcab, 0xcbb, 0xccc, 0xcdc, 0xcec, 0xcfc, \n",
      "  0xd0c, 0xd1c, 0xd2c, 0xd3c, 0xd4c, 0xd5c, 0xd6c, 0xd7c, \n",
      "  0xd8c, 0xd9c, 0xdac, 0xdbc, 0xdcc, 0xddd, 0xded, 0xdfd, \n",
      "  0xe0d, 0xe1d, 0xe2d, 0xe3d, 0xe4d, 0xe5d, 0xe6d, 0xe7d, \n",
      "  0xe8d, 0xe9d, 0xead, 0xebd, 0xecd, 0xedd, 0xeed, 0xefe, \n",
      "  0xf0e, 0xf1e, 0xf2e, 0xf3e, 0xf4e, 0xf5e, 0xf6e, 0xf7e, \n",
      "  0xf8e, 0xf9e, 0xfae, 0xfbe, 0xfce, 0xfde, 0xfee, 0xfff\n",
      "}\n"
     ]
    }
   ],
   "source": [
    "print(\"// upwards ramp wave\")\n",
    "print(\"{\",end=\"\")\n",
    "for i in range(samples):\n",
    "  if ((i%print_groups)==0):\n",
    "    print()\n",
    "    print(\"  \",end=\"\")\n",
    "  y = y_ramp[i]\n",
    "  print(\"0x{:03x}\".format(y),end=\"\")\n",
    "  if i < (samples-1):\n",
    "    print(\", \",end=\"\")\n",
    "print()\n",
    "print(\"}\")\n"
   ]
  },
  {
   "cell_type": "code",
   "execution_count": 11,
   "id": "f8387a60",
   "metadata": {},
   "outputs": [
    {
     "data": {
      "image/png": "[encoded data removed]",
      "text/plain": [
       "<matplotlib.figure.Figure at 0x7f265ab415f8>"
      ]
     },
     "metadata": {
      "needs_background": "light"
     },
     "output_type": "display_data"
    },
    {
     "name": "stdout",
     "output_type": "stream",
     "text": [
      "4095\n",
      "0\n"
     ]
    }
   ],
   "source": [
    "y_invramp = ymax/2 + ymax/2*invrampwave(2*np.pi*x/(samples-1))\n",
    "y_invramp = y_invramp.astype('int16')\n",
    "\n",
    "plt.plot(x,y_invramp)\n",
    "plt.show()\n",
    "print(np.max(y_invramp))\n",
    "print(np.min(y_invramp))"
   ]
  },
  {
   "cell_type": "code",
   "execution_count": 12,
   "id": "7b426501",
   "metadata": {},
   "outputs": [
    {
     "name": "stdout",
     "output_type": "stream",
     "text": [
      "// downwards ramp wave\n",
      "{\n",
      "  0xfff, 0xfee, 0xfde, 0xfce, 0xfbe, 0xfae, 0xf9e, 0xf8e, \n",
      "  0xf7e, 0xf6e, 0xf5e, 0xf4e, 0xf3e, 0xf2e, 0xf1e, 0xf0e, \n",
      "  0xefe, 0xeee, 0xedd, 0xecd, 0xebd, 0xead, 0xe9d, 0xe8d, \n",
      "  0xe7d, 0xe6d, 0xe5d, 0xe4d, 0xe3d, 0xe2d, 0xe1d, 0xe0d, \n",
      "  0xdfd, 0xded, 0xddd, 0xdcc, 0xdbc, 0xdac, 0xd9c, 0xd8c, \n",
      "  0xd7c, 0xd6c, 0xd5c, 0xd4c, 0xd3c, 0xd2c, 0xd1c, 0xd0c, \n",
      "  0xcfc, 0xcec, 0xcdc, 0xccc, 0xcbb, 0xcab, 0xc9b, 0xc8b, \n",
      "  0xc7b, 0xc6b, 0xc5b, 0xc4b, 0xc3b, 0xc2b, 0xc1b, 0xc0b, \n",
      "  0xbfb, 0xbeb, 0xbdb, 0xbcb, 0xbbb, 0xbaa, 0xb9a, 0xb8a, \n",
      "  0xb7a, 0xb6a, 0xb5a, 0xb4a, 0xb3a, 0xb2a, 0xb1a, 0xb0a, \n",
      "  0xafa, 0xaea, 0xada, 0xaca, 0xaba, 0xaaa, 0xa99, 0xa89, \n",
      "  0xa79, 0xa69, 0xa59, 0xa49, 0xa39, 0xa29, 0xa19, 0xa09, \n",
      "  0x9f9, 0x9e9, 0x9d9, 0x9c9, 0x9b9, 0x9a9, 0x999, 0x988, \n",
      "  0x978, 0x968, 0x958, 0x948, 0x938, 0x928, 0x918, 0x908, \n",
      "  0x8f8, 0x8e8, 0x8d8, 0x8c8, 0x8b8, 0x8a8, 0x898, 0x888, \n",
      "  0x877, 0x867, 0x857, 0x847, 0x837, 0x827, 0x817, 0x807, \n",
      "  0x7f7, 0x7e7, 0x7d7, 0x7c7, 0x7b7, 0x7a7, 0x797, 0x787, \n",
      "  0x777, 0x766, 0x756, 0x746, 0x736, 0x726, 0x716, 0x706, \n",
      "  0x6f6, 0x6e6, 0x6d6, 0x6c6, 0x6b6, 0x6a6, 0x696, 0x686, \n",
      "  0x676, 0x666, 0x655, 0x645, 0x635, 0x625, 0x615, 0x605, \n",
      "  0x5f5, 0x5e5, 0x5d5, 0x5c5, 0x5b5, 0x5a5, 0x595, 0x585, \n",
      "  0x575, 0x565, 0x555, 0x544, 0x534, 0x524, 0x514, 0x504, \n",
      "  0x4f4, 0x4e4, 0x4d4, 0x4c4, 0x4b4, 0x4a4, 0x494, 0x484, \n",
      "  0x474, 0x464, 0x454, 0x443, 0x433, 0x423, 0x413, 0x403, \n",
      "  0x3f3, 0x3e3, 0x3d3, 0x3c3, 0x3b3, 0x3a3, 0x393, 0x383, \n",
      "  0x373, 0x363, 0x353, 0x343, 0x332, 0x322, 0x312, 0x302, \n",
      "  0x2f2, 0x2e2, 0x2d2, 0x2c2, 0x2b2, 0x2a2, 0x292, 0x282, \n",
      "  0x272, 0x262, 0x252, 0x242, 0x232, 0x221, 0x211, 0x201, \n",
      "  0x1f1, 0x1e1, 0x1d1, 0x1c1, 0x1b1, 0x1a1, 0x191, 0x181, \n",
      "  0x171, 0x161, 0x151, 0x141, 0x131, 0x121, 0x111, 0x100, \n",
      "  0x0f0, 0x0e0, 0x0d0, 0x0c0, 0x0b0, 0x0a0, 0x090, 0x080, \n",
      "  0x070, 0x060, 0x050, 0x040, 0x030, 0x020, 0x010, 0x000\n",
      "}\n"
     ]
    }
   ],
   "source": [
    "print(\"// downwards ramp wave\")\n",
    "print(\"{\",end=\"\")\n",
    "for i in range(samples):\n",
    "  if ((i%print_groups)==0):\n",
    "    print()\n",
    "    print(\"  \",end=\"\")\n",
    "  y = y_invramp[i]\n",
    "  print(\"0x{:03x}\".format(y),end=\"\")\n",
    "  if i < (samples-1):\n",
    "    print(\", \",end=\"\")\n",
    "print()\n",
    "print(\"}\")\n"
   ]
  }
 ],
 "metadata": {
  "kernelspec": {
   "display_name": "Python 3",
   "language": "python",
   "name": "python3"
  },
  "language_info": {
   "codemirror_mode": {
    "name": "ipython",
    "version": 3
   },
   "file_extension": ".py",
   "mimetype": "text/x-python",
   "name": "python",
   "nbconvert_exporter": "python",
   "pygments_lexer": "ipython3",
   "version": "3.6.8"
  }
 },
 "nbformat": 4,
 "nbformat_minor": 5
}
