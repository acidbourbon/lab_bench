{
 "cells": [
  {
   "cell_type": "code",
   "execution_count": 73,
   "id": "8c8ac825",
   "metadata": {},
   "outputs": [],
   "source": [
    "def get_bit(val,n):\n",
    "    return (val & (1<<n))>>n\n",
    "\n",
    "def binprint(val):\n",
    "    print(\"0b{:08b}\".format(val))\n",
    "def binprint10(val):\n",
    "    print(\"0b{:010b}\".format(val))\n",
    "    \n",
    "def count_ones(val):\n",
    "    no_ones = 0\n",
    "    for i in range(8):\n",
    "        no_ones += get_bit(val,i)\n",
    "    return no_ones\n",
    "\n",
    "def xor_xnor_enc(val,sel):\n",
    "    # if sel == 1 -> xor\n",
    "    # if sel == 0 -> xnor\n",
    "    first_bit = get_bit(val,7)\n",
    "    result = 0\n",
    "    result |= first_bit<<7\n",
    "    for i in range(6,-1,-1): \n",
    "        this_bit = get_bit(val,i) # second bit, third bit, etc\n",
    "        prev_bit = get_bit(result,i+1)\n",
    "        enc_bit = 0\n",
    "        if sel == 1:\n",
    "            enc_bit  = this_bit ^ prev_bit\n",
    "        else:\n",
    "            enc_bit  = not(this_bit ^ prev_bit)\n",
    "        \n",
    "        result  |= enc_bit<<i\n",
    "    return result\n",
    "\n",
    "def enc_TMDS(val):\n",
    "    \n",
    "    ones_count = count_ones(val)\n",
    "    \n",
    "    encoding = 0\n",
    "    \n",
    "    if ones_count < 4:\n",
    "        encoding = 1 # xor\n",
    "    elif ones_count > 4:\n",
    "        encoding = 0 # xnor\n",
    "    elif ones_count == 4:\n",
    "        first_bit = get_bit(val,7)\n",
    "        if first_bit == 1:\n",
    "            encoding = 1 # xor\n",
    "        else:\n",
    "            encoding = 0 # xnor\n",
    "    stage1_word = xor_xnor_enc(val,encoding)<<1 | (encoding&1)\n",
    "        \n",
    "    return stage1_word"
   ]
  },
  {
   "cell_type": "code",
   "execution_count": 76,
   "id": "0064e6bf",
   "metadata": {},
   "outputs": [
    {
     "name": "stdout",
     "output_type": "stream",
     "text": [
      "0b11111111\n",
      "0b10100000\n",
      "0b00000101\n",
      "0b11111010\n",
      "\n",
      "0b0111111111\n",
      "0b0101000001\n",
      "0b0000001010\n",
      "0b0111110100\n"
     ]
    }
   ],
   "source": [
    "binprint(xor_xnor_enc(0b10000000,1))\n",
    "binprint(xor_xnor_enc(0b11110000,1))\n",
    "binprint(xor_xnor_enc(0b01111000,0))\n",
    "binprint(xor_xnor_enc(0b11111000,0))\n",
    "\n",
    "print()\n",
    "\n",
    "binprint10(enc_TMDS(0b10000000))\n",
    "binprint10(enc_TMDS(0b11110000))\n",
    "binprint10(enc_TMDS(0b01111000))\n",
    "binprint10(enc_TMDS(0b11111000))"
   ]
  },
  {
   "cell_type": "code",
   "execution_count": null,
   "id": "9803fef2",
   "metadata": {},
   "outputs": [],
   "source": []
  }
 ],
 "metadata": {
  "kernelspec": {
   "display_name": "Python 3",
   "language": "python",
   "name": "python3"
  },
  "language_info": {
   "codemirror_mode": {
    "name": "ipython",
    "version": 3
   },
   "file_extension": ".py",
   "mimetype": "text/x-python",
   "name": "python",
   "nbconvert_exporter": "python",
   "pygments_lexer": "ipython3",
   "version": "3.6.8"
  }
 },
 "nbformat": 4,
 "nbformat_minor": 5
}
