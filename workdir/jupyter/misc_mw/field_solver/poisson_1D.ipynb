{
 "cells": [
  {
   "cell_type": "code",
   "execution_count": 1,
   "id": "7c121528",
   "metadata": {},
   "outputs": [],
   "source": [
    "import numpy as np\n",
    "from matplotlib import pyplot as plt"
   ]
  },
  {
   "cell_type": "code",
   "execution_count": 2,
   "id": "923942de",
   "metadata": {},
   "outputs": [],
   "source": [
    "x = np.linspace(0,10,100)\n",
    "\n",
    "y0 = (x<=1) * (-1.)  + (x>9) * (2.)\n",
    "y = y0\n",
    "\n",
    "fixed_mask = (x<=1) + (x>9)"
   ]
  },
  {
   "cell_type": "code",
   "execution_count": 3,
   "id": "b5f97b04",
   "metadata": {},
   "outputs": [
    {
     "data": {
      "text/plain": [
       "[<matplotlib.lines.Line2D at 0x7f193227d668>]"
      ]
     },
     "execution_count": 3,
     "metadata": {},
     "output_type": "execute_result"
    },
    {
     "data": {
      "image/png": "[encoded data removed]",
      "text/plain": [
       "<matplotlib.figure.Figure at 0x7f193a297128>"
      ]
     },
     "metadata": {
      "needs_background": "light"
     },
     "output_type": "display_data"
    }
   ],
   "source": [
    "plt.plot(x,fixed_mask)"
   ]
  },
  {
   "cell_type": "code",
   "execution_count": 4,
   "id": "4cfc6fa9",
   "metadata": {},
   "outputs": [
    {
     "data": {
      "text/plain": [
       "[<matplotlib.lines.Line2D at 0x7f1932196a90>]"
      ]
     },
     "execution_count": 4,
     "metadata": {},
     "output_type": "execute_result"
    },
    {
     "data": {
      "image/png": "[encoded data removed]",
      "text/plain": [
       "<matplotlib.figure.Figure at 0x7f19983edb70>"
      ]
     },
     "metadata": {
      "needs_background": "light"
     },
     "output_type": "display_data"
    }
   ],
   "source": [
    "plt.plot(x,y)"
   ]
  },
  {
   "cell_type": "code",
   "execution_count": 5,
   "id": "13fd54c0",
   "metadata": {},
   "outputs": [],
   "source": [
    "def relax(y,fixed_mask):\n",
    "    new_y = y * 1\n",
    "    \n",
    "    for i in range(len(y)):\n",
    "        if fixed_mask[i]:\n",
    "            continue\n",
    "        new_y[i] = (y[i+1] + y[i-1])/2\n",
    "    return new_y\n",
    "        "
   ]
  },
  {
   "cell_type": "code",
   "execution_count": 43,
   "id": "a6aa92c1",
   "metadata": {},
   "outputs": [],
   "source": [
    "for i in range(10000):\n",
    "    y = relax(y,fixed_mask)"
   ]
  },
  {
   "cell_type": "code",
   "execution_count": 7,
   "id": "909c64bd",
   "metadata": {},
   "outputs": [],
   "source": [
    "y = relax(y,fixed_mask)"
   ]
  },
  {
   "cell_type": "code",
   "execution_count": 44,
   "id": "b630f59c",
   "metadata": {},
   "outputs": [
    {
     "data": {
      "text/plain": [
       "[<matplotlib.lines.Line2D at 0x7f19314bc0f0>]"
      ]
     },
     "execution_count": 44,
     "metadata": {},
     "output_type": "execute_result"
    },
    {
     "data": {
      "image/png": "[encoded data removed]",
      "text/plain": [
       "<matplotlib.figure.Figure at 0x7f19314bc2b0>"
      ]
     },
     "metadata": {
      "needs_background": "light"
     },
     "output_type": "display_data"
    }
   ],
   "source": [
    "y = relax(y,fixed_mask)\n",
    "plt.plot(x,y0)\n",
    "plt.plot(x,y)"
   ]
  }
 ],
 "metadata": {
  "kernelspec": {
   "display_name": "Python 3",
   "language": "python",
   "name": "python3"
  },
  "language_info": {
   "codemirror_mode": {
    "name": "ipython",
    "version": 3
   },
   "file_extension": ".py",
   "mimetype": "text/x-python",
   "name": "python",
   "nbconvert_exporter": "python",
   "pygments_lexer": "ipython3",
   "version": "3.6.8"
  }
 },
 "nbformat": 4,
 "nbformat_minor": 5
}
