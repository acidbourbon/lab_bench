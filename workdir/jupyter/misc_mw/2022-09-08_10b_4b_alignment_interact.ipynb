{
 "cells": [
  {
   "cell_type": "code",
   "execution_count": 1,
   "id": "17842844",
   "metadata": {},
   "outputs": [],
   "source": [
    "import numpy as np\n",
    "from matplotlib import pyplot as plt\n",
    "from sigproc_kit import *\n",
    "from my_utils import *"
   ]
  },
  {
   "cell_type": "code",
   "execution_count": 2,
   "id": "2a84532b",
   "metadata": {},
   "outputs": [],
   "source": [
    "letters = [\"A\",\"B\",\"C\",\"D\",\"E\",\"F\"]\n",
    "numbers = [ str(n) for n in list(range(10)) ]"
   ]
  },
  {
   "cell_type": "code",
   "execution_count": 3,
   "id": "61d89a42",
   "metadata": {},
   "outputs": [],
   "source": [
    "transmission = \"\"\n",
    "\n",
    "for L in letters:\n",
    "  for N in numbers:\n",
    "    transmission += L +N\n",
    "    \n",
    "transmission = transmission *5"
   ]
  },
  {
   "cell_type": "code",
   "execution_count": 4,
   "id": "218c358b",
   "metadata": {},
   "outputs": [],
   "source": [
    "from ipywidgets import interact\n",
    "\n",
    "def my_function(phase=0):\n",
    "  shifted_transmission = barrel_shift(transmission,phase*2)\n",
    "  \n",
    "  mem = \"\"\n",
    "  \n",
    "  print(\"phase/shift = {}\".format(phase))\n",
    "  print(\"data stream:\")\n",
    "\n",
    "  for i in range(4):\n",
    "    print(shifted_transmission[8*i:8*(i+1)],end=\" - \")\n",
    "  print()\n",
    "  for i in range(4):\n",
    "    print(\"|--c{}--|   \".format(i),end=\"\")\n",
    "\n",
    "  print()\n",
    "  print()\n",
    "\n",
    "  for i in range(16):\n",
    "    print(\"cycle: {:02d}, out :\".format(i),end=\"\")\n",
    "    slice = shifted_transmission[i*8:(i+1)*8]\n",
    "    #print(\"received slice: {}\".format(slice))\n",
    "  \n",
    "    \n",
    "  \n",
    "    for j in range(4):\n",
    "      bit = slice[j*2:(j+1)*2]\n",
    "      letter = bit[0]\n",
    "      number = bit[1]\n",
    "      #print(\"{}-{}\".format(letter,number))\n",
    "      \n",
    "      \n",
    "      \n",
    "      if number == \"0\":\n",
    "        mem = \"\"\n",
    "      mem += bit\n",
    "      \n",
    "      if number == \"9\":\n",
    "        if(len(mem) == 20):\n",
    "          print(mem,end=\"\")\n",
    "    print()\n",
    "\n",
    "\n"
   ]
  },
  {
   "cell_type": "code",
   "execution_count": 5,
   "id": "8668dd3a",
   "metadata": {},
   "outputs": [
    {
     "data": {
      "application/vnd.jupyter.widget-view+json": {
       "model_id": "1c3e039ecc004651bc9b8fce329dc934",
       "version_major": 2,
       "version_minor": 0
      },
      "text/plain": [
       "interactive(children=(IntSlider(value=0, description='phase', max=10, min=-10), Output()), _dom_classes=('widg…"
      ]
     },
     "metadata": {},
     "output_type": "display_data"
    },
    {
     "data": {
      "text/plain": [
       "<function __main__.my_function(phase=0)>"
      ]
     },
     "execution_count": 5,
     "metadata": {},
     "output_type": "execute_result"
    }
   ],
   "source": [
    "# create a slider\n",
    "interact(my_function, phase=(-10,10))"
   ]
  }
 ],
 "metadata": {
  "kernelspec": {
   "display_name": "Python 3",
   "language": "python",
   "name": "python3"
  },
  "language_info": {
   "codemirror_mode": {
    "name": "ipython",
    "version": 3
   },
   "file_extension": ".py",
   "mimetype": "text/x-python",
   "name": "python",
   "nbconvert_exporter": "python",
   "pygments_lexer": "ipython3",
   "version": "3.6.8"
  }
 },
 "nbformat": 4,
 "nbformat_minor": 5
}
