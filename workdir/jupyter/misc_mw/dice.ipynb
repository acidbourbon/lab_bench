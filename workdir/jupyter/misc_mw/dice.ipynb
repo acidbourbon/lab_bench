{
 "cells": [
  {
   "cell_type": "code",
   "execution_count": 1,
   "metadata": {},
   "outputs": [],
   "source": [
    "import numpy as np\n",
    "from matplotlib import pyplot as plt\n",
    "\n",
    "%matplotlib notebook\n",
    "\n",
    "import random\n",
    "import pandas as pd"
   ]
  },
  {
   "cell_type": "code",
   "execution_count": 2,
   "metadata": {},
   "outputs": [
    {
     "data": {
      "text/plain": [
       "0.14097606398051588"
      ]
     },
     "execution_count": 2,
     "metadata": {},
     "output_type": "execute_result"
    }
   ],
   "source": [
    "np.random.random()"
   ]
  },
  {
   "cell_type": "code",
   "execution_count": 3,
   "metadata": {},
   "outputs": [],
   "source": [
    "x = []\n",
    "N = 10000\n",
    "n = 100 # number of dice\n",
    "for i in range(0,N):\n",
    "  c = []\n",
    "  for j in range(0,n):\n",
    "    #c += [ np.random.randint(0,6) ]\n",
    "    #c += [ np.random.binomial(20,0.5) ]\n",
    "    c += [ np.random.exponential() ]\n",
    "  x += [ c ]\n",
    "\n",
    "#x"
   ]
  },
  {
   "cell_type": "code",
   "execution_count": 4,
   "metadata": {},
   "outputs": [],
   "source": [
    "# outcomes coded by numbers\n",
    "# [0,0] -> 0\n",
    "# [0,1] -> 1\n",
    "# [1,0] -> 2\n",
    "# [1,1] -> 3\n",
    "\n",
    "z = []\n",
    "for i in range(0,len(x)):\n",
    "    z += [  np.array(x[i]).sum()  ]\n",
    "#z"
   ]
  },
  {
   "cell_type": "code",
   "execution_count": 6,
   "metadata": {},
   "outputs": [
    {
     "data": {
      "image/png": "[encoded data removed]",
      "text/plain": [
       "<matplotlib.figure.Figure at 0x7ff955a53ef0>"
      ]
     },
     "metadata": {},
     "output_type": "display_data"
    }
   ],
   "source": [
    "\n",
    "xx = pd.Series(z)\n",
    "\n",
    "my_range = 200;\n",
    "\n",
    "#xx.plot.hist(grid=True, bins=10, color='#607c8e', xlim=(-1,5))\n",
    "xx.plot.hist(grid=True, bins=my_range*2+1, color='#607c8e', range=(0,my_range))#, xlim=(75,125))\n",
    "plt.title('blah')\n",
    "plt.xlabel('sum of values of {:d} dice'.format(n))\n",
    "plt.ylabel('freq')\n",
    "plt.grid(axis='y', alpha=0.75)"
   ]
  }
 ],
 "metadata": {
  "kernelspec": {
   "display_name": "Python 3",
   "language": "python",
   "name": "python3"
  },
  "language_info": {
   "codemirror_mode": {
    "name": "ipython",
    "version": 3
   },
   "file_extension": ".py",
   "mimetype": "text/x-python",
   "name": "python",
   "nbconvert_exporter": "python",
   "pygments_lexer": "ipython3",
   "version": "3.6.7"
  }
 },
 "nbformat": 4,
 "nbformat_minor": 2
}
