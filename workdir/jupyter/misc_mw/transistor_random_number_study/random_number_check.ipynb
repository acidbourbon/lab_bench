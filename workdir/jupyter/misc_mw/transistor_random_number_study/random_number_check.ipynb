{
 "cells": [
  {
   "cell_type": "code",
   "execution_count": 1,
   "metadata": {},
   "outputs": [],
   "source": [
    "import numpy as np\n",
    "from matplotlib import pyplot as plt\n"
   ]
  },
  {
   "cell_type": "code",
   "execution_count": 2,
   "metadata": {},
   "outputs": [],
   "source": [
    "import time\n",
    "import serial\n",
    "import re\n",
    "import json\n",
    "\n",
    "\n",
    "\n",
    "device = '/dev/ttyACM3'\n",
    "baudrate = 115200\n",
    "\n",
    "timeout = 0.01\n",
    "ser = serial.Serial(device, baudrate, timeout=timeout)\n",
    "\n",
    "\n",
    "def get_chunk():\n",
    "  lines = ser.readlines()\n",
    "  dlines = [ line.decode().replace(\"\\r\",\"\").replace(\"\\n\",\"\")  for line in lines ]\n",
    "  return dlines\n",
    "\n",
    "\n"
   ]
  },
  {
   "cell_type": "code",
   "execution_count": 3,
   "metadata": {},
   "outputs": [
    {
     "name": "stdout",
     "output_type": "stream",
     "text": [
      "9999\r"
     ]
    }
   ],
   "source": [
    "n= 10000\n",
    "c= 0\n",
    "\n",
    "samples = []\n",
    "\n",
    "while True:\n",
    "  chunk = get_chunk()\n",
    "  for line in chunk:\n",
    "    #print(line+\" \",end=\"\")\n",
    "    print(str(c),end=\"\\r\")\n",
    "    samples += [int(line)]\n",
    "    c+=1\n",
    "    if(c>=n):\n",
    "      break\n",
    "  if(c>=n):\n",
    "    break\n",
    "samples = np.array(samples)"
   ]
  },
  {
   "cell_type": "code",
   "execution_count": 4,
   "metadata": {},
   "outputs": [
    {
     "name": "stdout",
     "output_type": "stream",
     "text": [
      "dummy\n"
     ]
    },
    {
     "data": {
      "image/png": "[encoded data removed]",
      "text/plain": [
       "<matplotlib.figure.Figure at 0x7f355837dd68>"
      ]
     },
     "metadata": {
      "needs_background": "light"
     },
     "output_type": "display_data"
    }
   ],
   "source": [
    "plt.hist(samples,bins=range(-5,260))\n",
    "print(\"dummy\")"
   ]
  },
  {
   "cell_type": "code",
   "execution_count": 5,
   "metadata": {},
   "outputs": [],
   "source": [
    "from my_utils import *"
   ]
  },
  {
   "cell_type": "code",
   "execution_count": 8,
   "metadata": {},
   "outputs": [
    {
     "name": "stdout",
     "output_type": "stream",
     "text": [
      "saving to /workdir/jupyter/misc_mw/random_number_check_data/rand_data.pickle\n"
     ]
    }
   ],
   "source": [
    "pickle_this(samples.tolist(),\"rand_data\")"
   ]
  }
 ],
 "metadata": {
  "kernelspec": {
   "display_name": "Python 3",
   "language": "python",
   "name": "python3"
  },
  "language_info": {
   "codemirror_mode": {
    "name": "ipython",
    "version": 3
   },
   "file_extension": ".py",
   "mimetype": "text/x-python",
   "name": "python",
   "nbconvert_exporter": "python",
   "pygments_lexer": "ipython3",
   "version": "3.6.8"
  }
 },
 "nbformat": 4,
 "nbformat_minor": 4
}
