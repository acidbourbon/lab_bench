{
 "cells": [
  {
   "cell_type": "code",
   "execution_count": 27,
   "id": "e09015f5",
   "metadata": {},
   "outputs": [
    {
     "data": {
      "text/plain": [
       "'30HIY5n8lO'"
      ]
     },
     "execution_count": 27,
     "metadata": {},
     "output_type": "execute_result"
    }
   ],
   "source": [
    "import random\n",
    "numbers = \"1234567890\"\n",
    "letters = \"abcdefghijklmnopqrstuvwxyz\"\n",
    "length = 10\n",
    "myset = numbers + letters + letters.upper()\n",
    "\"\".join(random.sample(myset,length))"
   ]
  }
 ],
 "metadata": {
  "kernelspec": {
   "display_name": "Python 3",
   "language": "python",
   "name": "python3"
  },
  "language_info": {
   "codemirror_mode": {
    "name": "ipython",
    "version": 3
   },
   "file_extension": ".py",
   "mimetype": "text/x-python",
   "name": "python",
   "nbconvert_exporter": "python",
   "pygments_lexer": "ipython3",
   "version": "3.6.8"
  }
 },
 "nbformat": 4,
 "nbformat_minor": 5
}
