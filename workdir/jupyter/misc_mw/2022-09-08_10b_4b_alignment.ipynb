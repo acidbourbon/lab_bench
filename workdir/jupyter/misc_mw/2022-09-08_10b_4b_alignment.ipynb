{
 "cells": [
  {
   "cell_type": "code",
   "execution_count": 1,
   "id": "2ae71963",
   "metadata": {},
   "outputs": [],
   "source": [
    "import numpy as np\n",
    "from matplotlib import pyplot as plt\n",
    "from sigproc_kit import *\n",
    "from my_utils import *"
   ]
  },
  {
   "cell_type": "code",
   "execution_count": 2,
   "id": "b647f6f0",
   "metadata": {},
   "outputs": [],
   "source": [
    "letters = [\"A\",\"B\",\"C\",\"D\"]\n",
    "numbers = [ str(n) for n in list(range(10)) ]"
   ]
  },
  {
   "cell_type": "code",
   "execution_count": 3,
   "id": "835c9018",
   "metadata": {},
   "outputs": [],
   "source": [
    "transmission = \"\"\n",
    "\n",
    "for L in letters:\n",
    "  for N in numbers:\n",
    "    transmission += L +N\n",
    "    \n",
    "transmission = transmission *5"
   ]
  },
  {
   "cell_type": "code",
   "execution_count": 7,
   "id": "9f57732a",
   "metadata": {},
   "outputs": [
    {
     "name": "stdout",
     "output_type": "stream",
     "text": [
      "phase/shift = 03\n",
      "cycle: 00, out :\n",
      "cycle: 01, out :\n",
      "cycle: 02, out :\n",
      "cycle: 03, out :A0A1A2A3A4A5A6A7A8A9\n",
      "cycle: 04, out :\n",
      "cycle: 05, out :B0B1B2B3B4B5B6B7B8B9\n",
      "cycle: 06, out :\n",
      "cycle: 07, out :\n",
      "cycle: 08, out :C0C1C2C3C4C5C6C7C8C9\n",
      "cycle: 09, out :\n",
      "cycle: 10, out :D0D1D2D3D4D5D6D7D8D9\n",
      "cycle: 11, out :\n",
      "cycle: 12, out :\n",
      "cycle: 13, out :A0A1A2A3A4A5A6A7A8A9\n",
      "cycle: 14, out :\n",
      "cycle: 15, out :B0B1B2B3B4B5B6B7B8B9\n"
     ]
    }
   ],
   "source": [
    "phase = 3\n",
    "shifted_transmission = barrel_shift(transmission,phase*2)\n",
    "\n",
    "mem = \"\"\n",
    "\n",
    "print(\"phase/shift = {:02d}\".format(phase))\n",
    "for i in range(16):\n",
    "  print(\"cycle: {:02d}, out :\".format(i),end=\"\")\n",
    "  slice = shifted_transmission[i*8:(i+1)*8]\n",
    "  #print(\"received slice: {}\".format(slice))\n",
    "\n",
    "  \n",
    "\n",
    "  for j in range(4):\n",
    "    bit = slice[j*2:(j+1)*2]\n",
    "    letter = bit[0]\n",
    "    number = bit[1]\n",
    "    #print(\"{}-{}\".format(letter,number))\n",
    "    \n",
    "    \n",
    "    \n",
    "    if number == \"0\":\n",
    "      mem = \"\"\n",
    "    mem += bit\n",
    "    \n",
    "    if number == \"9\":\n",
    "      if(len(mem) == 20):\n",
    "        print(mem,end=\"\")\n",
    "  print()\n",
    "\n",
    "  #print(\"------\")"
   ]
  },
  {
   "cell_type": "code",
   "execution_count": null,
   "id": "19baeb1a",
   "metadata": {},
   "outputs": [],
   "source": []
  }
 ],
 "metadata": {
  "kernelspec": {
   "display_name": "Python 3",
   "language": "python",
   "name": "python3"
  },
  "language_info": {
   "codemirror_mode": {
    "name": "ipython",
    "version": 3
   },
   "file_extension": ".py",
   "mimetype": "text/x-python",
   "name": "python",
   "nbconvert_exporter": "python",
   "pygments_lexer": "ipython3",
   "version": "3.6.8"
  }
 },
 "nbformat": 4,
 "nbformat_minor": 5
}
