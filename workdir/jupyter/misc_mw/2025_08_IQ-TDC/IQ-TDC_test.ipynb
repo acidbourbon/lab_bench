{
 "cells": [
  {
   "cell_type": "code",
   "execution_count": 34,
   "id": "aba63d52",
   "metadata": {},
   "outputs": [],
   "source": [
    "import numpy as np\n",
    "from matplotlib import pyplot as plt\n",
    "\n",
    "import M8195A as awg\n",
    "awg_ip = \"192.168.0.250\"\n",
    "\n",
    "from sigproc_kit import *"
   ]
  },
  {
   "cell_type": "code",
   "execution_count": 41,
   "id": "ed152612",
   "metadata": {},
   "outputs": [
    {
     "name": "stdout",
     "output_type": "stream",
     "text": [
      "target ip : 192.168.0.250\n",
      "connect to device ...\n",
      "*IDN?\n",
      "Keysight Technologies,M8195A,DE57700132,4.0.0.0-1\n",
      "success!\n",
      "NOTE: overriding sample rate to match desired period!\n",
      "attempting to set sample rate : 64640000000.000000 Hz\n",
      "success!\n",
      "preparing data for channel 1\n",
      "delete trace 2, because wrong mem size / wrong period\n",
      "sending data ...\n",
      "set output voltage ...\n",
      "Output 1 on ...\n",
      "RUN!\n",
      "close socket\n",
      "target ip : 192.168.0.250\n",
      "connect to device ...\n",
      "*IDN?\n",
      "Keysight Technologies,M8195A,DE57700132,4.0.0.0-1\n",
      "success!\n",
      "NOTE: overriding sample rate to match desired period!\n",
      "attempting to set sample rate : 64640000000.000000 Hz\n",
      "success!\n",
      "preparing data for channel 2\n",
      "sending data ...\n",
      "set output voltage ...\n",
      "Output 2 on ...\n",
      "RUN!\n",
      "close socket\n",
      "target ip : 192.168.0.250\n",
      "connect to device ...\n",
      "*IDN?\n",
      "Keysight Technologies,M8195A,DE57700132,4.0.0.0-1\n",
      "success!\n",
      "NOTE: overriding sample rate to match desired period!\n",
      "attempting to set sample rate : 64640000000.000000 Hz\n",
      "success!\n",
      "preparing data for channel 3\n",
      "sending data ...\n",
      "set output voltage ...\n",
      "Output 3 on ...\n",
      "RUN!\n",
      "close socket\n"
     ]
    }
   ],
   "source": [
    "##################################################\n",
    "##                 delme!                 ##\n",
    "##################################################\n",
    "\n",
    "\n",
    "period = 200e-9\n",
    "width=\"20n\"\n",
    "leading_edge=\"1n\"\n",
    "trailing_edge=\"1n\"\n",
    "on_val=-500e-3\n",
    "idle_val=\"0m\"\n",
    "\n",
    "\n",
    "\n",
    "# tag 2025\n",
    "delay=0\n",
    "\n",
    "\n",
    "\n",
    "\n",
    "awg.pulser(\n",
    "    ip=awg_ip,\n",
    "    trace=1,\n",
    "    period=period,\n",
    "    width=\"100n\",\n",
    "    leading_edge=leading_edge,\n",
    "    trailing_edge=leading_edge,\n",
    "    on_val=on_val,\n",
    "    idle_val=idle_val,\n",
    "    delay=10e-9+delay\n",
    ")\n",
    "\n",
    "awg.pulser(\n",
    "    ip=awg_ip,\n",
    "    trace=2,\n",
    "    period=period,\n",
    "    width=\"100n\",\n",
    "    leading_edge=leading_edge,\n",
    "    trailing_edge=leading_edge,\n",
    "    on_val=on_val,\n",
    "    idle_val=idle_val,\n",
    "    delay=10e-9\n",
    ")\n",
    "\n",
    "awg.pulser(\n",
    "    ip=awg_ip,\n",
    "    trace=3,\n",
    "    period=period,\n",
    "    width=\"30n\",\n",
    "    leading_edge=leading_edge,\n",
    "    trailing_edge=leading_edge,\n",
    "    on_val=on_val,\n",
    "    idle_val=idle_val,\n",
    "    delay=10e-9\n",
    ")"
   ]
  },
  {
   "cell_type": "code",
   "execution_count": 42,
   "id": "efbc0ef2",
   "metadata": {},
   "outputs": [
    {
     "name": "stdout",
     "output_type": "stream",
     "text": [
      "4000\n",
      "4000\n",
      "target ip : 192.168.0.250\n",
      "connect to device ...\n",
      "*IDN?\n",
      "Keysight Technologies,M8195A,DE57700132,4.0.0.0-1\n",
      "success!\n",
      "NOTE: overriding sample rate to match desired period!\n",
      "attempting to set sample rate : 64640000000.000000 Hz\n",
      "success!\n",
      "preparing data for channel 4\n",
      "sending data ...\n",
      "set output voltage ...\n",
      "Output 4 on ...\n",
      "RUN!\n",
      "close socket\n"
     ]
    },
    {
     "data": {
      "image/png": "[encoded data removed]",
      "text/plain": [
       "<matplotlib.figure.Figure at 0x7f6dd9abe2b0>"
      ]
     },
     "metadata": {
      "needs_background": "light"
     },
     "output_type": "display_data"
    }
   ],
   "source": [
    "##################################################\n",
    "##             make a 100 MHz clock             ##\n",
    "##################################################\n",
    "\n",
    "\n",
    "\n",
    "x = np.arange(0,period,50e-12)\n",
    "y = 0.25*np.cos(2*np.pi*100e6*x)-0.25\n",
    "\n",
    "print(len(x))\n",
    "print(len(y))\n",
    "\n",
    "plt.plot(x,y)\n",
    "\n",
    "awg.send_data(x,y,\n",
    "              trace=4,\n",
    "              ip=awg_ip,\n",
    "              period=period)"
   ]
  },
  {
   "cell_type": "code",
   "execution_count": 1,
   "id": "47c6f35d",
   "metadata": {},
   "outputs": [],
   "source": [
    "import serial\n",
    "import time\n",
    "\n",
    "# Set up the serial connection\n",
    "ser = serial.Serial('/dev/ttyACM1', 115200)  # Adjust the baud rate if necessary\n",
    "time.sleep(.1)  # Wait for the connection to establish\n",
    "\n",
    "\n",
    "def ask(cmd,**kwargs):\n",
    "    # function waits for an answer, since readline is blocking \n",
    "    ser.reset_input_buffer()\n",
    "    ser.write(f\"{cmd}\\n\".encode())  # Send the number followed by a newline\n",
    "    #time.sleep(.001)  # Wait for a second before sending the next number\n",
    "    line = ser.readline().decode()\n",
    "    line = line.replace(\"\\r\",\"\")\n",
    "    line = line.replace(\"\\n\",\"\")\n",
    "    #print(\"readback: \",end=\"\")\n",
    "    return line\n",
    "\n",
    "\n",
    "\n",
    "\n",
    "def r_fpga_reg(n):\n",
    "    cmd=\"01{:02x}{:04x}\".format(n,0);\n",
    "    ans = ask(cmd)\n",
    "    return int(ans[4:],16)\n",
    "\n",
    "def w_fpga_reg(n,val):\n",
    "    cmd=\"02{:02x}{:04x}\".format(n,val);\n",
    "    return ask(cmd)\n",
    "\n",
    "def w_fpga_reg_bit(n,b,state):\n",
    "    cur_val = r_fpga_reg(n)\n",
    "    new_val = (cur_val & ~(1<<b)) | (state*(1<<b))\n",
    "    w_fpga_reg(n, new_val)"
   ]
  },
  {
   "cell_type": "code",
   "execution_count": 29,
   "id": "3056b6b6",
   "metadata": {},
   "outputs": [
    {
     "name": "stdout",
     "output_type": "stream",
     "text": [
      "01020B3B\n"
     ]
    },
    {
     "data": {
      "text/plain": [
       "65535"
      ]
     },
     "execution_count": 29,
     "metadata": {},
     "output_type": "execute_result"
    }
   ],
   "source": [
    "print(ask(\"0102\"))\n",
    "\n",
    "r_fpga_reg(0)"
   ]
  },
  {
   "cell_type": "code",
   "execution_count": null,
   "id": "1fc815ea",
   "metadata": {},
   "outputs": [],
   "source": [
    "# testing the CORDICAtan2\n",
    "\n",
    "a = 10\n",
    "b = 3\n",
    "\n",
    "w_fpga_reg(0,a)\n",
    "w_fpga_reg(1,b)\n",
    "\n",
    "c = r_fpga_reg(2)\n",
    "\n",
    "c"
   ]
  },
  {
   "cell_type": "code",
   "execution_count": 47,
   "id": "e005797f",
   "metadata": {},
   "outputs": [
    {
     "name": "stdout",
     "output_type": "stream",
     "text": [
      "Two's complement of -5 in 12 bits is: 111111111011\n",
      "Signed integer from two's complement 111110101011 is: -85\n"
     ]
    }
   ],
   "source": [
    "def to_twos_complement(value):\n",
    "    # Ensure the value is within the range of a signed 12-bit integer\n",
    "    if value < -2048 or value > 2047:\n",
    "        raise ValueError(\"Value must be between -2048 and 2047 for 12-bit representation.\")\n",
    "    \n",
    "    # Calculate two's complement\n",
    "    if value < 0:\n",
    "        value = (1 << 12) + value  # Add 2^12 to the negative value\n",
    "    return value\n",
    "\n",
    "# Example usage\n",
    "number = -5\n",
    "twos_complement = to_twos_complement(number)\n",
    "print(f\"Two's complement of {number} in 12 bits is: {twos_complement:012b}\")\n",
    "\n",
    "\n",
    "def from_twos_complement(twos_comp):\n",
    "    # Ensure the value is within the range of a 12-bit integer\n",
    "    if twos_comp < 0 or twos_comp >= (1 << 12):\n",
    "        raise ValueError(\"Value must be a 12-bit two's complement integer (0 to 4095).\")\n",
    "    \n",
    "    # Check if the number is negative\n",
    "    if twos_comp >= (1 << 11):  # If the MSB is 1\n",
    "        return twos_comp - (1 << 12)  # Convert to negative\n",
    "    return twos_comp  # Return the positive value\n",
    "\n",
    "# Example usage\n",
    "twos_comp_value = 0b111110101011  # Example two's complement value for -5\n",
    "signed_integer = from_twos_complement(twos_comp_value)\n",
    "print(f\"Signed integer from two's complement {twos_comp_value:012b} is: {signed_integer}\")\n",
    "\n"
   ]
  },
  {
   "cell_type": "code",
   "execution_count": 44,
   "id": "387756f2",
   "metadata": {},
   "outputs": [
    {
     "data": {
      "text/plain": [
       "3996"
      ]
     },
     "execution_count": 44,
     "metadata": {},
     "output_type": "execute_result"
    }
   ],
   "source": []
  },
  {
   "cell_type": "code",
   "execution_count": 42,
   "id": "2fd66818",
   "metadata": {},
   "outputs": [
    {
     "data": {
      "text/plain": [
       "[<matplotlib.lines.Line2D at 0x7f6f388f75c0>]"
      ]
     },
     "execution_count": 42,
     "metadata": {},
     "output_type": "execute_result"
    },
    {
     "data": {
      "image/png": "[encoded data removed]",
      "text/plain": [
       "<matplotlib.figure.Figure at 0x7f6f388f7390>"
      ]
     },
     "metadata": {
      "needs_background": "light"
     },
     "output_type": "display_data"
    }
   ],
   "source": [
    "t = np.linspace(0, 3*2*np.pi, 100)\n",
    "tau = 40\n",
    "x = np.cos(t) * np.exp(-t/tau)\n",
    "y = np.sin(t) * np.exp(-t/tau)\n",
    "\n",
    "x = x * 2000\n",
    "y = y * 2000\n",
    "\n",
    "plt.scatter(x,y)\n",
    "plt.plot(x,y)"
   ]
  },
  {
   "cell_type": "code",
   "execution_count": 48,
   "id": "24a5603d",
   "metadata": {},
   "outputs": [],
   "source": [
    "c = np.zeros(len(x))\n",
    "\n",
    "for i in range(len(x)):\n",
    "    w_fpga_reg(0,to_twos_complement(int(x[i])))\n",
    "    w_fpga_reg(1,to_twos_complement(int(y[i])))\n",
    "    c[i] = from_twos_complement(r_fpga_reg(2))\n",
    "    "
   ]
  },
  {
   "cell_type": "code",
   "execution_count": 52,
   "id": "f33287aa",
   "metadata": {},
   "outputs": [
    {
     "data": {
      "text/plain": [
       "<matplotlib.collections.PathCollection at 0x7f6f3799a630>"
      ]
     },
     "execution_count": 52,
     "metadata": {},
     "output_type": "execute_result"
    },
    {
     "data": {
      "image/png": "[encoded data removed]",
      "text/plain": [
       "<matplotlib.figure.Figure at 0x7f6f37a09668>"
      ]
     },
     "metadata": {
      "needs_background": "light"
     },
     "output_type": "display_data"
    }
   ],
   "source": [
    "plt.plot(c)\n",
    "plt.scatter(list(range(len(c))),c)"
   ]
  },
  {
   "cell_type": "code",
   "execution_count": 50,
   "id": "17c13292",
   "metadata": {},
   "outputs": [
    {
     "data": {
      "text/plain": [
       "1559.0"
      ]
     },
     "execution_count": 50,
     "metadata": {},
     "output_type": "execute_result"
    }
   ],
   "source": [
    "np.max(np.abs(c))"
   ]
  }
 ],
 "metadata": {
  "kernelspec": {
   "display_name": "Python 3",
   "language": "python",
   "name": "python3"
  },
  "language_info": {
   "codemirror_mode": {
    "name": "ipython",
    "version": 3
   },
   "file_extension": ".py",
   "mimetype": "text/x-python",
   "name": "python",
   "nbconvert_exporter": "python",
   "pygments_lexer": "ipython3",
   "version": "3.6.8"
  }
 },
 "nbformat": 4,
 "nbformat_minor": 5
}
