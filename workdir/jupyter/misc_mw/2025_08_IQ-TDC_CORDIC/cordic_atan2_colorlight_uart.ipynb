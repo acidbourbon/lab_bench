{
 "cells": [
  {
   "cell_type": "code",
   "execution_count": 8,
   "id": "aba63d52",
   "metadata": {},
   "outputs": [],
   "source": [
    "import numpy as np\n",
    "from matplotlib import pyplot as plt\n",
    "\n",
    "import M8195A as awg\n",
    "awg_ip = \"192.168.0.250\"\n",
    "\n",
    "from sigproc_kit import *"
   ]
  },
  {
   "cell_type": "code",
   "execution_count": 24,
   "id": "47c6f35d",
   "metadata": {},
   "outputs": [],
   "source": [
    "import serial\n",
    "import time\n",
    "\n",
    "# Set up the serial connection\n",
    "ser = serial.Serial('/dev/ttyACM1', 115200)  # Adjust the baud rate if necessary\n",
    "time.sleep(.1)  # Wait for the connection to establish\n",
    "\n",
    "\n",
    "def ask(cmd,**kwargs):\n",
    "    # function waits for an answer, since readline is blocking \n",
    "    ser.reset_input_buffer()\n",
    "    ser.write(f\"{cmd}\\n\".encode())  # Send the number followed by a newline\n",
    "    #time.sleep(.001)  # Wait for a second before sending the next number\n",
    "    line = ser.readline().decode()\n",
    "    line = line.replace(\"\\r\",\"\")\n",
    "    line = line.replace(\"\\n\",\"\")\n",
    "    #print(\"readback: \",end=\"\")\n",
    "    return line\n",
    "\n",
    "\n",
    "\n",
    "\n",
    "def r_fpga_reg(n):\n",
    "    cmd=\"01{:02x}{:04x}\".format(n,0);\n",
    "    ans = ask(cmd)\n",
    "    return int(ans[4:],16)\n",
    "\n",
    "def w_fpga_reg(n,val):\n",
    "    cmd=\"02{:02x}{:04x}\".format(n,val);\n",
    "    return ask(cmd)\n",
    "\n",
    "def w_fpga_reg_bit(n,b,state):\n",
    "    cur_val = r_fpga_reg(n)\n",
    "    new_val = (cur_val & ~(1<<b)) | (state*(1<<b))\n",
    "    w_fpga_reg(n, new_val)"
   ]
  },
  {
   "cell_type": "code",
   "execution_count": 25,
   "id": "3056b6b6",
   "metadata": {},
   "outputs": [
    {
     "name": "stdout",
     "output_type": "stream",
     "text": [
      "010200A7\n"
     ]
    },
    {
     "data": {
      "text/plain": [
       "167"
      ]
     },
     "execution_count": 25,
     "metadata": {},
     "output_type": "execute_result"
    }
   ],
   "source": [
    "print(ask(\"0102\"))\n",
    "\n",
    "r_fpga_reg(2)"
   ]
  },
  {
   "cell_type": "code",
   "execution_count": 90,
   "id": "1fc815ea",
   "metadata": {},
   "outputs": [
    {
     "data": {
      "text/plain": [
       "1019"
      ]
     },
     "execution_count": 90,
     "metadata": {},
     "output_type": "execute_result"
    }
   ],
   "source": [
    "# testing the CORDICAtan2\n",
    "\n",
    "a = 100\n",
    "b = 100\n",
    "\n",
    "w_fpga_reg(0,a)\n",
    "w_fpga_reg(1,b)\n",
    "\n",
    "c = r_fpga_reg(2)\n",
    "\n",
    "c"
   ]
  },
  {
   "cell_type": "code",
   "execution_count": 6,
   "id": "e005797f",
   "metadata": {},
   "outputs": [
    {
     "name": "stdout",
     "output_type": "stream",
     "text": [
      "Two's complement of -5 in 12 bits is: 111111111011\n",
      "Signed integer from two's complement 111110101011 is: -85\n"
     ]
    }
   ],
   "source": [
    "def to_twos_complement(value):\n",
    "    # Ensure the value is within the range of a signed 12-bit integer\n",
    "    if value < -2048 or value > 2047:\n",
    "        raise ValueError(\"Value must be between -2048 and 2047 for 12-bit representation.\")\n",
    "    \n",
    "    # Calculate two's complement\n",
    "    if value < 0:\n",
    "        value = (1 << 12) + value  # Add 2^12 to the negative value\n",
    "    return value\n",
    "\n",
    "# Example usage\n",
    "number = -5\n",
    "twos_complement = to_twos_complement(number)\n",
    "print(f\"Two's complement of {number} in 12 bits is: {twos_complement:012b}\")\n",
    "\n",
    "\n",
    "def from_twos_complement(twos_comp):\n",
    "    # Ensure the value is within the range of a 12-bit integer\n",
    "    if twos_comp < 0 or twos_comp >= (1 << 12):\n",
    "        raise ValueError(\"Value must be a 12-bit two's complement integer (0 to 4095).\")\n",
    "    \n",
    "    # Check if the number is negative\n",
    "    if twos_comp >= (1 << 11):  # If the MSB is 1\n",
    "        return twos_comp - (1 << 12)  # Convert to negative\n",
    "    return twos_comp  # Return the positive value\n",
    "\n",
    "# Example usage\n",
    "twos_comp_value = 0b111110101011  # Example two's complement value for -5\n",
    "signed_integer = from_twos_complement(twos_comp_value)\n",
    "print(f\"Signed integer from two's complement {twos_comp_value:012b} is: {signed_integer}\")\n",
    "\n"
   ]
  },
  {
   "cell_type": "code",
   "execution_count": 9,
   "id": "2fd66818",
   "metadata": {},
   "outputs": [
    {
     "data": {
      "text/plain": [
       "[<matplotlib.lines.Line2D at 0x7f24f9a1e828>]"
      ]
     },
     "execution_count": 9,
     "metadata": {},
     "output_type": "execute_result"
    },
    {
     "data": {
      "image/png": "[encoded data removed]",
      "text/plain": [
       "<matplotlib.figure.Figure at 0x7f24f9a1e860>"
      ]
     },
     "metadata": {
      "needs_background": "light"
     },
     "output_type": "display_data"
    }
   ],
   "source": [
    "t = np.linspace(0, 3*2*np.pi, 100)\n",
    "tau = 40\n",
    "x = np.cos(t) * np.exp(-t/tau)\n",
    "y = np.sin(t) * np.exp(-t/tau)\n",
    "\n",
    "x = x * 2000\n",
    "y = y * 2000\n",
    "\n",
    "plt.scatter(x,y)\n",
    "plt.plot(x,y)"
   ]
  },
  {
   "cell_type": "code",
   "execution_count": 20,
   "id": "24a5603d",
   "metadata": {},
   "outputs": [],
   "source": [
    "c = np.zeros(len(x))\n",
    "\n",
    "for i in range(len(x)):\n",
    "    w_fpga_reg(0,to_twos_complement(int(x[i])))\n",
    "    w_fpga_reg(1,to_twos_complement(int(y[i])))\n",
    "    c[i] = from_twos_complement(r_fpga_reg(2))\n",
    "    "
   ]
  },
  {
   "cell_type": "code",
   "execution_count": 21,
   "id": "f33287aa",
   "metadata": {},
   "outputs": [
    {
     "data": {
      "text/plain": [
       "<matplotlib.collections.PathCollection at 0x7f24f1898eb8>"
      ]
     },
     "execution_count": 21,
     "metadata": {},
     "output_type": "execute_result"
    },
    {
     "data": {
      "image/png": "[encoded data removed]",
      "text/plain": [
       "<matplotlib.figure.Figure at 0x7f24f18d0940>"
      ]
     },
     "metadata": {
      "needs_background": "light"
     },
     "output_type": "display_data"
    }
   ],
   "source": [
    "plt.plot(c)\n",
    "plt.scatter(list(range(len(c))),c)"
   ]
  },
  {
   "cell_type": "code",
   "execution_count": 50,
   "id": "17c13292",
   "metadata": {},
   "outputs": [
    {
     "data": {
      "text/plain": [
       "1559.0"
      ]
     },
     "execution_count": 50,
     "metadata": {},
     "output_type": "execute_result"
    }
   ],
   "source": [
    "np.max(np.abs(c))"
   ]
  }
 ],
 "metadata": {
  "kernelspec": {
   "display_name": "Python 3",
   "language": "python",
   "name": "python3"
  },
  "language_info": {
   "codemirror_mode": {
    "name": "ipython",
    "version": 3
   },
   "file_extension": ".py",
   "mimetype": "text/x-python",
   "name": "python",
   "nbconvert_exporter": "python",
   "pygments_lexer": "ipython3",
   "version": "3.6.8"
  }
 },
 "nbformat": 4,
 "nbformat_minor": 5
}
