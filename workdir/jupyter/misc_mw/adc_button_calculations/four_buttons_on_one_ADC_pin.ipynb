{
 "cells": [
  {
   "cell_type": "code",
   "execution_count": 1,
   "metadata": {},
   "outputs": [],
   "source": [
    "import numpy as np\n",
    "from matplotlib import pyplot as plt\n"
   ]
  },
  {
   "cell_type": "code",
   "execution_count": 2,
   "metadata": {},
   "outputs": [],
   "source": [
    "#num_buttons = 4\n",
    "\n",
    "# all resistor values in kilo Ohm\n",
    "ra_list = [1,1,1,1,.680]\n",
    "rb = 100\n",
    "\n",
    "num_buttons = len(ra_list)-1\n",
    "\n",
    "num_ladder_r = num_buttons +1"
   ]
  },
  {
   "cell_type": "code",
   "execution_count": 3,
   "metadata": {},
   "outputs": [
    {
     "data": {
      "text/plain": [
       "[[0, 0, 0, 0],\n",
       " [1, 0, 0, 0],\n",
       " [0, 1, 0, 0],\n",
       " [1, 1, 0, 0],\n",
       " [0, 0, 1, 0],\n",
       " [1, 0, 1, 0],\n",
       " [0, 1, 1, 0],\n",
       " [0, 0, 0, 1],\n",
       " [1, 0, 0, 1],\n",
       " [0, 1, 0, 1],\n",
       " [0, 0, 1, 1]]"
      ]
     },
     "execution_count": 3,
     "metadata": {},
     "output_type": "execute_result"
    }
   ],
   "source": [
    "# generate a list of all combinations of one or two button presses\n",
    "\n",
    "combinations = []\n",
    "\n",
    "for i in range(0,2**num_buttons):\n",
    "  myvec = [0]*num_buttons\n",
    "  for j in range(0,num_buttons):\n",
    "    k = (i & 1<<j)>>j\n",
    "    myvec[j] = k\n",
    "    \n",
    "  if(np.array(myvec).sum() <= 2):\n",
    "    combinations += [myvec]\n",
    "\n",
    "combinations"
   ]
  },
  {
   "cell_type": "code",
   "execution_count": 4,
   "metadata": {},
   "outputs": [
    {
     "data": {
      "text/plain": [
       "['0000',\n",
       " '1000',\n",
       " '0100',\n",
       " '1100',\n",
       " '0010',\n",
       " '1010',\n",
       " '0110',\n",
       " '0001',\n",
       " '1001',\n",
       " '0101',\n",
       " '0011']"
      ]
     },
     "execution_count": 4,
     "metadata": {},
     "output_type": "execute_result"
    }
   ],
   "source": [
    "# the same list but as strings, to use later as labels in the plots\n",
    "\n",
    "labels = [ \"{:d}{:d}{:d}{:d}\".format(*l) for l in combinations ]\n",
    "labels"
   ]
  },
  {
   "cell_type": "code",
   "execution_count": 5,
   "metadata": {},
   "outputs": [
    {
     "name": "stdout",
     "output_type": "stream",
     "text": [
      "buttons pressed:\n",
      " A, B, C, D\n",
      "[0, 0, 0, 0]  ->  V_ADC/VCC: 0.000\n",
      "[1, 0, 0, 0]  ->  V_ADC/VCC: 0.212\n",
      "[0, 1, 0, 0]  ->  V_ADC/VCC: 0.423\n",
      "[1, 1, 0, 0]  ->  V_ADC/VCC: 0.270\n",
      "[0, 0, 1, 0]  ->  V_ADC/VCC: 0.634\n",
      "[1, 0, 1, 0]  ->  V_ADC/VCC: 0.371\n",
      "[0, 1, 1, 0]  ->  V_ADC/VCC: 0.539\n",
      "[0, 0, 0, 1]  ->  V_ADC/VCC: 0.850\n",
      "[1, 0, 0, 1]  ->  V_ADC/VCC: 0.593\n",
      "[0, 1, 0, 1]  ->  V_ADC/VCC: 0.743\n",
      "[0, 0, 1, 1]  ->  V_ADC/VCC: 0.811\n"
     ]
    }
   ],
   "source": [
    "# now calculate the voltage divider output (as a fraction of VCC)\n",
    "\n",
    "fractions = []\n",
    "buttons_pressed = []\n",
    "combination_number = []\n",
    "bit_codes = []\n",
    "\n",
    "counter = 0\n",
    "\n",
    "\n",
    "print(\"buttons pressed:\")\n",
    "print(\" A, B, C, D\")\n",
    "\n",
    "for state in combinations:\n",
    "    \n",
    "  npra = np.array(ra_list)    \n",
    "\n",
    "  r_ladder_down = npra.sum()\n",
    "  r_ladder_up   = npra.sum()\n",
    "\n",
    "  this_bit_code = 0\n",
    "    \n",
    "  for j in range(0,num_buttons):\n",
    "    k = state[j]\n",
    "    if (k>0): ## switch j is closed\n",
    "      this_bit_code += 1<<j\n",
    "      r_ladder_down_ = npra[0:(j+1)].sum()\n",
    "      r_ladder_down = np.min([r_ladder_down,r_ladder_down_])\n",
    "      r_ladder_up_ = npra[(j+1):len(npra)].sum()\n",
    "      r_ladder_up = np.min([r_ladder_up,r_ladder_up_])\n",
    "        \n",
    "        \n",
    "        \n",
    "  r_up = r_ladder_up\n",
    "  # parallel of ladder down and output parallel resistor\n",
    "  r_down = 1./(1./r_ladder_down + 1./rb)\n",
    "\n",
    "  voltage_fraction = r_down/(r_up + r_down)\n",
    "  # special case: no button press\n",
    "  if (np.array(state).sum() ==0):\n",
    "    voltage_fraction = 0\n",
    "  \n",
    "  #print(\"state: \",end=\"\")\n",
    "  print(state, end=\"\")\n",
    "  print(\"  ->  V_ADC/VCC: {:3.3f}\".format(voltage_fraction))\n",
    "  fractions += [voltage_fraction]\n",
    "  buttons_pressed += [np.array(state).sum()]\n",
    "  combination_number += [counter]\n",
    "  bit_codes += [this_bit_code]\n",
    "  counter += 1\n",
    "\n",
    "\n",
    "\n",
    "# sort the voltage divider fractions corresponding labels by voltage\n",
    "\n",
    "fractions_sorted, labels_sorted = zip( *sorted( zip(   fractions.copy(), labels.copy())))\n"
   ]
  },
  {
   "cell_type": "code",
   "execution_count": 6,
   "metadata": {},
   "outputs": [
    {
     "data": {
      "image/png": "[encoded data removed]",
      "text/plain": [
       "<matplotlib.figure.Figure at 0x7f1bfc16c518>"
      ]
     },
     "metadata": {
      "needs_background": "light"
     },
     "output_type": "display_data"
    },
    {
     "data": {
      "image/png": "[encoded data removed]",
      "text/plain": [
       "<matplotlib.figure.Figure at 0x7f1bfc0e9198>"
      ]
     },
     "metadata": {
      "needs_background": "light"
     },
     "output_type": "display_data"
    },
    {
     "data": {
      "image/png": "[encoded data removed]",
      "text/plain": [
       "<matplotlib.figure.Figure at 0x7f1bfc085f98>"
      ]
     },
     "metadata": {
      "needs_background": "light"
     },
     "output_type": "display_data"
    }
   ],
   "source": [
    "# now plot our results\n",
    "\n",
    "plt.scatter(combination_number,fractions)\n",
    "plt.title(\"voltage divider states\")\n",
    "plt.xlabel(\"keys pressed pattern\")\n",
    "plt.ylabel(\"V_ADC / VCC\")\n",
    "\n",
    "plt.xticks(range(11),labels)\n",
    "plt.ylim(-0.1,1.1)\n",
    "plt.grid(True)\n",
    "plt.show()\n",
    "\n",
    "\n",
    "############\n",
    "\n",
    "plt.scatter(combination_number,fractions_sorted)\n",
    "plt.xlabel(\"keys pressed pattern\")\n",
    "plt.ylabel(\"V_ADC / VCC\")\n",
    "plt.title(\"voltage divider states - sorted by voltage\")\n",
    "plt.xticks(range(11),labels_sorted)\n",
    "plt.ylim(-0.1,1.1)\n",
    "plt.grid(True)\n",
    "plt.show()\n",
    "\n",
    "############\n",
    "\n",
    "plt.scatter(buttons_pressed,fractions)\n",
    "plt.xlabel(\"number of buttons pressed\")\n",
    "plt.ylabel(\"V_ADC / VCC\")\n",
    "plt.xlim(-.5,2.5)\n",
    "plt.xticks([0,1,2])\n",
    "plt.ylim(-0.05,.9)\n",
    "plt.yticks(fractions_sorted)\n",
    "plt.grid(True)\n",
    "plt.show()"
   ]
  },
  {
   "cell_type": "code",
   "execution_count": 7,
   "metadata": {},
   "outputs": [],
   "source": [
    "# calculate the distances between adjacent output voltages\n",
    "\n",
    "distances = []\n",
    "for i in range(1,len(fractions_sorted)):\n",
    "  distances += [fractions_sorted[i]-fractions_sorted[i-1]]\n"
   ]
  },
  {
   "cell_type": "code",
   "execution_count": 8,
   "metadata": {},
   "outputs": [
    {
     "data": {
      "image/png": "[encoded data removed]",
      "text/plain": [
       "<matplotlib.figure.Figure at 0x7f1bfc1d6278>"
      ]
     },
     "metadata": {
      "needs_background": "light"
     },
     "output_type": "display_data"
    },
    {
     "name": "stdout",
     "output_type": "stream",
     "text": [
      "smallest distance\n",
      "= 0.039% of VCC\n"
     ]
    }
   ],
   "source": [
    "plt.scatter(range(0,len(distances)),np.array(distances)*100)\n",
    "plt.ylim(0,25)\n",
    "plt.grid(True)\n",
    "plt.ylabel(\"% of VCC\")\n",
    "plt.show()\n",
    "\n",
    "min_distance = np.min(distances)\n",
    "\n",
    "print(\"smallest distance\")\n",
    "print(\"= {:3.3f}% of VCC\".format(min_distance))"
   ]
  },
  {
   "cell_type": "code",
   "execution_count": 9,
   "metadata": {},
   "outputs": [
    {
     "name": "stdout",
     "output_type": "stream",
     "text": [
      "ADC: 0000, bit code: 0000\n",
      "ADC: 0216, bit code: 0001\n",
      "ADC: 0432, bit code: 0010\n",
      "ADC: 0275, bit code: 0011\n",
      "ADC: 0648, bit code: 0100\n",
      "ADC: 0379, bit code: 0101\n",
      "ADC: 0550, bit code: 0110\n",
      "ADC: 0869, bit code: 1000\n",
      "ADC: 0606, bit code: 1001\n",
      "ADC: 0759, bit code: 1010\n",
      "ADC: 0829, bit code: 1100\n"
     ]
    }
   ],
   "source": [
    "for i in range(0,len(bit_codes)):\n",
    "  fraction  = fractions[i]\n",
    "  bit_code  = bit_codes[i]\n",
    "  print(\"ADC: {:04d}, bit code: {:04b}\".format(int(fraction*1023),bit_code))"
   ]
  },
  {
   "cell_type": "code",
   "execution_count": 10,
   "metadata": {},
   "outputs": [
    {
     "name": "stdout",
     "output_type": "stream",
     "text": [
      "ADC: 0000-0018, bit code: 0000\n",
      "ADC: 0197-0235, bit code: 0001\n",
      "ADC: 0413-0451, bit code: 0010\n",
      "ADC: 0257-0294, bit code: 0011\n",
      "ADC: 0629-0667, bit code: 0100\n",
      "ADC: 0360-0398, bit code: 0101\n",
      "ADC: 0531-0569, bit code: 0110\n",
      "ADC: 0850-0888, bit code: 1000\n",
      "ADC: 0587-0625, bit code: 1001\n",
      "ADC: 0740-0778, bit code: 1010\n",
      "ADC: 0810-0848, bit code: 1100\n"
     ]
    }
   ],
   "source": [
    "# with error margins\n",
    "\n",
    "for i in range(0,len(bit_codes)):\n",
    "  fraction  = fractions[i]\n",
    "  bit_code  = bit_codes[i]\n",
    "  adc_lo = np.max([int((fraction-min_distance/2)*1023)+1,0])\n",
    "  adc_hi = np.min([int((fraction+min_distance/2)*1023)-1,1023])\n",
    "  print(\"ADC: {:04d}-{:04d}, bit code: {:04b}\".format(adc_lo,adc_hi,bit_code))"
   ]
  },
  {
   "cell_type": "code",
   "execution_count": 11,
   "metadata": {},
   "outputs": [
    {
     "name": "stdout",
     "output_type": "stream",
     "text": [
      "ADC: 0000-0018 -> bit code: 0b0000\n",
      "ADC: 0197-0235 -> bit code: 0b0001\n",
      "ADC: 0257-0294 -> bit code: 0b0011\n",
      "ADC: 0360-0398 -> bit code: 0b0101\n",
      "ADC: 0413-0451 -> bit code: 0b0010\n",
      "ADC: 0531-0569 -> bit code: 0b0110\n",
      "ADC: 0587-0625 -> bit code: 0b1001\n",
      "ADC: 0629-0667 -> bit code: 0b0100\n",
      "ADC: 0740-0778 -> bit code: 0b1010\n",
      "ADC: 0810-0848 -> bit code: 0b1100\n",
      "ADC: 0850-0888 -> bit code: 0b1000\n"
     ]
    }
   ],
   "source": [
    "# with error margins, sorted\n",
    "\n",
    "#create a dictionary\n",
    "bit_codes_dict = {}\n",
    "for i in range(0,len(bit_codes)):\n",
    "  fraction  = fractions[i]\n",
    "  bit_code  = bit_codes[i]\n",
    "  bit_codes_dict[fraction] = bit_code\n",
    "    \n",
    "\n",
    "for i in range(0,len(fractions_sorted)):\n",
    "  fraction  = fractions_sorted[i]\n",
    "  bit_code  = bit_codes_dict[fraction]\n",
    "  adc_lo = np.max([int((fraction-min_distance/2)*1023)+1,0])\n",
    "  adc_hi = np.min([int((fraction+min_distance/2)*1023)-1,1023])\n",
    "  print(\"ADC: {:04d}-{:04d} -> bit code: 0b{:04b}\".format(adc_lo,adc_hi,bit_code))"
   ]
  }
 ],
 "metadata": {
  "kernelspec": {
   "display_name": "Python 3",
   "language": "python",
   "name": "python3"
  },
  "language_info": {
   "codemirror_mode": {
    "name": "ipython",
    "version": 3
   },
   "file_extension": ".py",
   "mimetype": "text/x-python",
   "name": "python",
   "nbconvert_exporter": "python",
   "pygments_lexer": "ipython3",
   "version": "3.6.8"
  }
 },
 "nbformat": 4,
 "nbformat_minor": 4
}
