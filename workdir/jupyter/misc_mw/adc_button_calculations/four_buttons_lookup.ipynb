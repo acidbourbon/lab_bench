{
 "cells": [
  {
   "cell_type": "code",
   "execution_count": 1,
   "metadata": {},
   "outputs": [],
   "source": [
    "import numpy as np\n",
    "from matplotlib import pyplot as plt\n"
   ]
  },
  {
   "cell_type": "code",
   "execution_count": 2,
   "metadata": {},
   "outputs": [],
   "source": [
    "#num_buttons = 4\n",
    "#ra = 1\n",
    "ra_list = [1,1,1,1,0.75]\n",
    "rb = 100\n",
    "\n",
    "num_buttons = len(ra_list)-1\n",
    "\n",
    "num_ladder_r = num_buttons +1"
   ]
  },
  {
   "cell_type": "code",
   "execution_count": 3,
   "metadata": {},
   "outputs": [
    {
     "data": {
      "text/plain": [
       "[[0.0, 0.0, 0.0, 0.0],\n",
       " [1.0, 0.0, 0.0, 0.0],\n",
       " [0.0, 1.0, 0.0, 0.0],\n",
       " [1.0, 1.0, 0.0, 0.0],\n",
       " [0.0, 0.0, 1.0, 0.0],\n",
       " [1.0, 0.0, 1.0, 0.0],\n",
       " [0.0, 1.0, 1.0, 0.0],\n",
       " [0.0, 0.0, 0.0, 1.0],\n",
       " [1.0, 0.0, 0.0, 1.0],\n",
       " [0.0, 1.0, 0.0, 1.0],\n",
       " [0.0, 0.0, 1.0, 1.0]]"
      ]
     },
     "execution_count": 3,
     "metadata": {},
     "output_type": "execute_result"
    }
   ],
   "source": [
    "# generate a list of all combinations of one or two button presses\n",
    "\n",
    "combinations = []\n",
    "\n",
    "for i in range(0,2**num_buttons):\n",
    "  myvec = np.zeros(num_buttons)\n",
    "  for j in range(0,num_buttons):\n",
    "    k = (i & 1<<j)>>j\n",
    "    myvec[j] = k\n",
    "    \n",
    "  if(myvec.sum() <= 2):\n",
    "    combinations += [myvec.tolist()]\n",
    "\n",
    "combinations"
   ]
  },
  {
   "cell_type": "code",
   "execution_count": 4,
   "metadata": {},
   "outputs": [
    {
     "name": "stdout",
     "output_type": "stream",
     "text": [
      "state: [0.0, 0.0, 0.0, 0.0]\n",
      "voltage fraction\n",
      "0\n",
      "state: [1.0, 0.0, 0.0, 0.0]\n",
      "voltage fraction\n",
      "0.208877284595\n",
      "state: [0.0, 1.0, 0.0, 0.0]\n",
      "voltage fraction\n",
      "0.416233090531\n",
      "state: [1.0, 1.0, 0.0, 0.0]\n",
      "voltage fraction\n",
      "0.264725347452\n",
      "state: [0.0, 0.0, 1.0, 0.0]\n",
      "voltage fraction\n",
      "0.624674648621\n",
      "state: [1.0, 0.0, 1.0, 0.0]\n",
      "voltage fraction\n",
      "0.361336946703\n",
      "state: [0.0, 1.0, 1.0, 0.0]\n",
      "voltage fraction\n",
      "0.528401585205\n",
      "state: [0.0, 0.0, 0.0, 1.0]\n",
      "voltage fraction\n",
      "0.836820083682\n",
      "state: [1.0, 0.0, 0.0, 1.0]\n",
      "voltage fraction\n",
      "0.568990042674\n",
      "state: [0.0, 1.0, 0.0, 1.0]\n",
      "voltage fraction\n",
      "0.723327305606\n",
      "state: [0.0, 0.0, 1.0, 1.0]\n",
      "voltage fraction\n",
      "0.795228628231\n"
     ]
    }
   ],
   "source": [
    "fractions = []\n",
    "buttons_pressed = []\n",
    "combination_number = []\n",
    "bit_codes = []\n",
    "\n",
    "counter = 0\n",
    "for state in combinations:\n",
    "    \n",
    "  npra = np.array(ra_list)    \n",
    "\n",
    "  r_ladder_down = npra.sum()\n",
    "  r_ladder_up   = npra.sum()\n",
    "\n",
    "  this_bit_code = 0\n",
    "    \n",
    "  for j in range(0,num_buttons):\n",
    "    k = state[j]\n",
    "    if (k>0): ## switch j is closed\n",
    "      this_bit_code += 1<<j\n",
    "      r_ladder_down_ = npra[0:(j+1)].sum()\n",
    "      r_ladder_down = np.min([r_ladder_down,r_ladder_down_])\n",
    "      r_ladder_up_ = npra[(j+1):len(npra)].sum()\n",
    "      r_ladder_up = np.min([r_ladder_up,r_ladder_up_])\n",
    "        \n",
    "        \n",
    "        \n",
    "  r_up = r_ladder_up\n",
    "  # parallel of ladder down and output parallel resistor\n",
    "  r_down = 1./(1./r_ladder_down + 1./rb)\n",
    "\n",
    "  voltage_fraction = r_down/(r_up + r_down)\n",
    "  # special case: no button press\n",
    "  if (np.array(state).sum() ==0):\n",
    "    voltage_fraction = 0\n",
    "  \n",
    "  print(\"state: \",end=\"\")\n",
    "  print(state)\n",
    "#  print(\"r_ladder_up:\")\n",
    "#  print(r_ladder_up)\n",
    "#  print(\"r_ladder_down:\")\n",
    "#  print(r_ladder_down)\n",
    "  print(\"voltage fraction\")\n",
    "  print(voltage_fraction)\n",
    "  fractions += [voltage_fraction]\n",
    "  buttons_pressed += [np.array(state).sum()]\n",
    "  combination_number += [counter]\n",
    "  bit_codes += [this_bit_code]\n",
    "  counter += 1\n",
    "\n",
    "\n",
    "fractions_sorted = fractions.copy()\n",
    "fractions_sorted.sort()"
   ]
  },
  {
   "cell_type": "code",
   "execution_count": 5,
   "metadata": {},
   "outputs": [
    {
     "data": {
      "image/png": "[encoded data removed]",
      "text/plain": [
       "<matplotlib.figure.Figure at 0x7fc9e968f320>"
      ]
     },
     "metadata": {
      "needs_background": "light"
     },
     "output_type": "display_data"
    },
    {
     "data": {
      "image/png": "[encoded data removed]",
      "text/plain": [
       "<matplotlib.figure.Figure at 0x7fc9e95f2e80>"
      ]
     },
     "metadata": {
      "needs_background": "light"
     },
     "output_type": "display_data"
    },
    {
     "data": {
      "image/png": "[encoded data removed]",
      "text/plain": [
       "<matplotlib.figure.Figure at 0x7fc9e9663518>"
      ]
     },
     "metadata": {
      "needs_background": "light"
     },
     "output_type": "display_data"
    }
   ],
   "source": [
    "plt.scatter(combination_number,fractions)\n",
    "plt.xlabel(\"combination number\")\n",
    "plt.ylabel(\"voltage divider fraction\")\n",
    "plt.ylim(0,1)\n",
    "plt.show()\n",
    "\n",
    "plt.scatter(combination_number,fractions_sorted)\n",
    "plt.xlabel(\"combination number\")\n",
    "plt.ylabel(\"voltage divider fraction\")\n",
    "plt.ylim(0,1)\n",
    "plt.title(\"sorted fractions\")\n",
    "plt.show()\n",
    "\n",
    "plt.scatter(buttons_pressed,fractions)\n",
    "plt.xlabel(\"number buttons pressed\")\n",
    "plt.ylabel(\"voltage divider fraction\")\n",
    "plt.ylim(0,1)\n",
    "plt.show()"
   ]
  },
  {
   "cell_type": "code",
   "execution_count": 6,
   "metadata": {},
   "outputs": [],
   "source": [
    "dnl = []\n",
    "for i in range(1,len(fractions_sorted)):\n",
    "  dnl += [fractions_sorted[i]-fractions_sorted[i-1]]\n"
   ]
  },
  {
   "cell_type": "code",
   "execution_count": 7,
   "metadata": {},
   "outputs": [
    {
     "data": {
      "image/png": "[encoded data removed]",
      "text/plain": [
       "<matplotlib.figure.Figure at 0x7fc9e9686c50>"
      ]
     },
     "metadata": {
      "needs_background": "light"
     },
     "output_type": "display_data"
    },
    {
     "name": "stdout",
     "output_type": "stream",
     "text": [
      "smallest distance\n",
      "0.0405884574695\n"
     ]
    }
   ],
   "source": [
    "plt.scatter(range(0,len(dnl)),dnl)\n",
    "plt.ylim(0,0.3)\n",
    "plt.show()\n",
    "\n",
    "min_dnl = np.min(dnl)\n",
    "\n",
    "print(\"smallest distance\")\n",
    "print(min_dnl)"
   ]
  },
  {
   "cell_type": "code",
   "execution_count": 8,
   "metadata": {},
   "outputs": [
    {
     "name": "stdout",
     "output_type": "stream",
     "text": [
      "ADC: 0000, bit code: 00000\n",
      "ADC: 0213, bit code: 00001\n",
      "ADC: 0425, bit code: 00010\n",
      "ADC: 0270, bit code: 00011\n",
      "ADC: 0639, bit code: 00100\n",
      "ADC: 0369, bit code: 00101\n",
      "ADC: 0540, bit code: 00110\n",
      "ADC: 0856, bit code: 01000\n",
      "ADC: 0582, bit code: 01001\n",
      "ADC: 0739, bit code: 01010\n",
      "ADC: 0813, bit code: 01100\n"
     ]
    }
   ],
   "source": [
    "for i in range(0,len(bit_codes)):\n",
    "  fraction  = fractions[i]\n",
    "  bit_code  = bit_codes[i]\n",
    "  print(\"ADC: {:04d}, bit code: {:05b}\".format(int(fraction*1023),bit_code))"
   ]
  },
  {
   "cell_type": "code",
   "execution_count": 9,
   "metadata": {},
   "outputs": [
    {
     "name": "stdout",
     "output_type": "stream",
     "text": [
      "ADC: 0000-0019, bit code: 0000\n",
      "ADC: 0193-0233, bit code: 0001\n",
      "ADC: 0406-0445, bit code: 0010\n",
      "ADC: 0251-0290, bit code: 0011\n",
      "ADC: 0619-0658, bit code: 0100\n",
      "ADC: 0349-0389, bit code: 0101\n",
      "ADC: 0520-0560, bit code: 0110\n",
      "ADC: 0836-0875, bit code: 1000\n",
      "ADC: 0562-0601, bit code: 1001\n",
      "ADC: 0720-0759, bit code: 1010\n",
      "ADC: 0793-0833, bit code: 1100\n"
     ]
    }
   ],
   "source": [
    "# with error margins\n",
    "\n",
    "for i in range(0,len(bit_codes)):\n",
    "  fraction  = fractions[i]\n",
    "  bit_code  = bit_codes[i]\n",
    "  adc_lo = np.max([int((fraction-min_dnl/2)*1023)+1,0])\n",
    "  adc_hi = np.min([int((fraction+min_dnl/2)*1023)-1,1023])\n",
    "  print(\"ADC: {:04d}-{:04d}, bit code: {:04b}\".format(adc_lo,adc_hi,bit_code))"
   ]
  },
  {
   "cell_type": "code",
   "execution_count": 13,
   "metadata": {},
   "outputs": [
    {
     "name": "stdout",
     "output_type": "stream",
     "text": [
      "ADC: 0000-0019, bit code: 0000\n",
      "ADC: 0193-0233, bit code: 0001\n",
      "ADC: 0251-0290, bit code: 0011\n",
      "ADC: 0349-0389, bit code: 0101\n",
      "ADC: 0406-0445, bit code: 0010\n",
      "ADC: 0520-0560, bit code: 0110\n",
      "ADC: 0562-0601, bit code: 1001\n",
      "ADC: 0619-0658, bit code: 0100\n",
      "ADC: 0720-0759, bit code: 1010\n",
      "ADC: 0793-0833, bit code: 1100\n",
      "ADC: 0836-0875, bit code: 1000\n"
     ]
    }
   ],
   "source": [
    "# with error margins, sorted\n",
    "\n",
    "#create a dictionary\n",
    "bit_codes_dict = {}\n",
    "for i in range(0,len(bit_codes)):\n",
    "  fraction  = fractions[i]\n",
    "  bit_code  = bit_codes[i]\n",
    "  bit_codes_dict[fraction] = bit_code\n",
    "    \n",
    "\n",
    "for i in range(0,len(fractions_sorted)):\n",
    "  fraction  = fractions_sorted[i]\n",
    "  bit_code  = bit_codes_dict[fraction]\n",
    "  adc_lo = np.max([int((fraction-min_dnl/2)*1023)+1,0])\n",
    "  adc_hi = np.min([int((fraction+min_dnl/2)*1023)-1,1023])\n",
    "  print(\"ADC: {:04d}-{:04d}, bit code: {:04b}\".format(adc_lo,adc_hi,bit_code))"
   ]
  }
 ],
 "metadata": {
  "kernelspec": {
   "display_name": "Python 3",
   "language": "python",
   "name": "python3"
  },
  "language_info": {
   "codemirror_mode": {
    "name": "ipython",
    "version": 3
   },
   "file_extension": ".py",
   "mimetype": "text/x-python",
   "name": "python",
   "nbconvert_exporter": "python",
   "pygments_lexer": "ipython3",
   "version": "3.6.8"
  }
 },
 "nbformat": 4,
 "nbformat_minor": 4
}
