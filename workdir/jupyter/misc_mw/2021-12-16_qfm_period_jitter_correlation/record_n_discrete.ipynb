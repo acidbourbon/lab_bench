{
 "cells": [
  {
   "cell_type": "code",
   "execution_count": 1,
   "metadata": {},
   "outputs": [
    {
     "name": "stdout",
     "output_type": "stream",
     "text": [
      "*IDN?\n",
      "LECROY,WR620ZI,LCRY2805N57162,8.5.1\n",
      "successfully connected to Lecroy scope!\n"
     ]
    },
    {
     "data": {
      "text/plain": [
       "1"
      ]
     },
     "execution_count": 1,
     "metadata": {},
     "output_type": "execute_result"
    }
   ],
   "source": [
    "import numpy as np\n",
    "from matplotlib import pyplot as plt\n",
    "\n",
    "import WR620ZI as lecroy\n",
    "lecroy.init(\"192.168.0.208\")\n"
   ]
  },
  {
   "cell_type": "code",
   "execution_count": 2,
   "metadata": {},
   "outputs": [],
   "source": [
    "##################################################\n",
    "##           configure LeCroy Scope             ##\n",
    "##################################################\n",
    "\n",
    "#lecroy.clear_all()\n",
    "\n",
    "s = {\n",
    "    \"test\"   :\"C3\", \n",
    "}\n",
    "\n"
   ]
  },
  {
   "cell_type": "code",
   "execution_count": 3,
   "metadata": {},
   "outputs": [],
   "source": [
    "##################################################\n",
    "##              capture waveforms               ##\n",
    "##################################################\n",
    "\n",
    "\n",
    "\n",
    "\n",
    "time, wfm = lecroy.capture_waveforms([\n",
    "    s[\"test\"],\n",
    "  ],\n",
    "    average=1\n",
    ")\n",
    "\n"
   ]
  },
  {
   "cell_type": "code",
   "execution_count": 4,
   "metadata": {},
   "outputs": [
    {
     "data": {
      "image/png": "[encoded data removed]",
      "text/plain": [
       "<matplotlib.figure.Figure at 0x7f39d2bf9da0>"
      ]
     },
     "metadata": {
      "needs_background": "light"
     },
     "output_type": "display_data"
    }
   ],
   "source": [
    "##################################################\n",
    "##                     plot                     ##\n",
    "##################################################\n",
    "\n",
    "\n",
    "plt.plot(time, wfm[s[\"test\"]], \"c\" ,label=\"test\")\n",
    "plt.legend()\n",
    "plt.xlabel(\"time (s)\")\n",
    "plt.ylabel(\"voltage (V)\")\n",
    "plt.show()"
   ]
  },
  {
   "cell_type": "code",
   "execution_count": 5,
   "metadata": {},
   "outputs": [],
   "source": [
    "from my_utils import *"
   ]
  },
  {
   "cell_type": "code",
   "execution_count": 6,
   "metadata": {},
   "outputs": [
    {
     "name": "stdout",
     "output_type": "stream",
     "text": [
      "saving to /workdir/jupyter/lab_device_examples/lecroy_WR620ZI/jitter_correlation/record_n_discrete_data/wfm_n.pickle\n"
     ]
    }
   ],
   "source": [
    "\n",
    "dataset = []\n",
    "\n",
    "for i in range(0,8):\n",
    "  time, wfm = lecroy.capture_waveforms([\n",
    "      s[\"test\"],\n",
    "    ],\n",
    "      average=1\n",
    "  )\n",
    "  dataset += [{ \"t\":time, \"wfm\":wfm[s[\"test\"]]}]\n",
    "\n",
    "pickle_this(dataset,\"wfm_n\")"
   ]
  }
 ],
 "metadata": {
  "kernelspec": {
   "display_name": "Python 3",
   "language": "python",
   "name": "python3"
  },
  "language_info": {
   "codemirror_mode": {
    "name": "ipython",
    "version": 3
   },
   "file_extension": ".py",
   "mimetype": "text/x-python",
   "name": "python",
   "nbconvert_exporter": "python",
   "pygments_lexer": "ipython3",
   "version": "3.6.8"
  }
 },
 "nbformat": 4,
 "nbformat_minor": 2
}
