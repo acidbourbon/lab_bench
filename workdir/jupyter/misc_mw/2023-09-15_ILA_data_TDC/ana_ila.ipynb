{
 "cells": [
  {
   "cell_type": "code",
   "execution_count": 1,
   "id": "a3a1df0a",
   "metadata": {},
   "outputs": [],
   "source": [
    "import numpy as np\n",
    "import pandas as pd\n",
    "from matplotlib import pyplot as plt"
   ]
  },
  {
   "cell_type": "code",
   "execution_count": 2,
   "id": "6ae371d0",
   "metadata": {},
   "outputs": [],
   "source": [
    "#df = pd.read_csv(\"iladata.csv\",sep=\",\")\n",
    "df = pd.read_csv(\"iladata16k_ch0.csv\",sep=\",\")\n",
    "#df = pd.read_csv(\"iladata16k_ch1.csv\",sep=\",\")\n"
   ]
  },
  {
   "cell_type": "code",
   "execution_count": 3,
   "id": "1fe07470",
   "metadata": {},
   "outputs": [
    {
     "data": {
      "text/html": [
       "<div>\n",
       "<style scoped>\n",
       "    .dataframe tbody tr th:only-of-type {\n",
       "        vertical-align: middle;\n",
       "    }\n",
       "\n",
       "    .dataframe tbody tr th {\n",
       "        vertical-align: top;\n",
       "    }\n",
       "\n",
       "    .dataframe thead th {\n",
       "        text-align: right;\n",
       "    }\n",
       "</style>\n",
       "<table border=\"1\" class=\"dataframe\">\n",
       "  <thead>\n",
       "    <tr style=\"text-align: right;\">\n",
       "      <th></th>\n",
       "      <th>Sample in Buffer</th>\n",
       "      <th>Sample in Window</th>\n",
       "      <th>TRIGGER</th>\n",
       "      <th>ctime400[23:0]</th>\n",
       "      <th>tdc_dvalid_1[0:0]</th>\n",
       "      <th>tdc_dvalid[1:1]</th>\n",
       "      <th>fine_time_0[7:0]</th>\n",
       "      <th>fine_time_1[7:0]</th>\n",
       "    </tr>\n",
       "  </thead>\n",
       "  <tbody>\n",
       "    <tr>\n",
       "      <th>0</th>\n",
       "      <td>0</td>\n",
       "      <td>0</td>\n",
       "      <td>1</td>\n",
       "      <td>120ba0</td>\n",
       "      <td>1</td>\n",
       "      <td>1</td>\n",
       "      <td>8b</td>\n",
       "      <td>9d</td>\n",
       "    </tr>\n",
       "    <tr>\n",
       "      <th>1</th>\n",
       "      <td>1</td>\n",
       "      <td>1</td>\n",
       "      <td>0</td>\n",
       "      <td>120d30</td>\n",
       "      <td>1</td>\n",
       "      <td>1</td>\n",
       "      <td>8b</td>\n",
       "      <td>9d</td>\n",
       "    </tr>\n",
       "    <tr>\n",
       "      <th>2</th>\n",
       "      <td>2</td>\n",
       "      <td>2</td>\n",
       "      <td>0</td>\n",
       "      <td>120ec0</td>\n",
       "      <td>1</td>\n",
       "      <td>1</td>\n",
       "      <td>8c</td>\n",
       "      <td>9d</td>\n",
       "    </tr>\n",
       "    <tr>\n",
       "      <th>3</th>\n",
       "      <td>3</td>\n",
       "      <td>3</td>\n",
       "      <td>0</td>\n",
       "      <td>121050</td>\n",
       "      <td>1</td>\n",
       "      <td>1</td>\n",
       "      <td>8b</td>\n",
       "      <td>9d</td>\n",
       "    </tr>\n",
       "    <tr>\n",
       "      <th>4</th>\n",
       "      <td>4</td>\n",
       "      <td>4</td>\n",
       "      <td>0</td>\n",
       "      <td>1211e0</td>\n",
       "      <td>1</td>\n",
       "      <td>0</td>\n",
       "      <td>8e</td>\n",
       "      <td>9e</td>\n",
       "    </tr>\n",
       "    <tr>\n",
       "      <th>...</th>\n",
       "      <td>...</td>\n",
       "      <td>...</td>\n",
       "      <td>...</td>\n",
       "      <td>...</td>\n",
       "      <td>...</td>\n",
       "      <td>...</td>\n",
       "      <td>...</td>\n",
       "      <td>...</td>\n",
       "    </tr>\n",
       "    <tr>\n",
       "      <th>16379</th>\n",
       "      <td>16379</td>\n",
       "      <td>16379</td>\n",
       "      <td>0</td>\n",
       "      <td>7603af</td>\n",
       "      <td>1</td>\n",
       "      <td>1</td>\n",
       "      <td>31</td>\n",
       "      <td>43</td>\n",
       "    </tr>\n",
       "    <tr>\n",
       "      <th>16380</th>\n",
       "      <td>16380</td>\n",
       "      <td>16380</td>\n",
       "      <td>0</td>\n",
       "      <td>76053f</td>\n",
       "      <td>1</td>\n",
       "      <td>1</td>\n",
       "      <td>2e</td>\n",
       "      <td>41</td>\n",
       "    </tr>\n",
       "    <tr>\n",
       "      <th>16381</th>\n",
       "      <td>16381</td>\n",
       "      <td>16381</td>\n",
       "      <td>0</td>\n",
       "      <td>7606cf</td>\n",
       "      <td>1</td>\n",
       "      <td>1</td>\n",
       "      <td>31</td>\n",
       "      <td>43</td>\n",
       "    </tr>\n",
       "    <tr>\n",
       "      <th>16382</th>\n",
       "      <td>16382</td>\n",
       "      <td>16382</td>\n",
       "      <td>0</td>\n",
       "      <td>76085f</td>\n",
       "      <td>1</td>\n",
       "      <td>1</td>\n",
       "      <td>31</td>\n",
       "      <td>44</td>\n",
       "    </tr>\n",
       "    <tr>\n",
       "      <th>16383</th>\n",
       "      <td>16383</td>\n",
       "      <td>16383</td>\n",
       "      <td>0</td>\n",
       "      <td>7609ef</td>\n",
       "      <td>1</td>\n",
       "      <td>1</td>\n",
       "      <td>31</td>\n",
       "      <td>43</td>\n",
       "    </tr>\n",
       "  </tbody>\n",
       "</table>\n",
       "<p>16384 rows × 8 columns</p>\n",
       "</div>"
      ],
      "text/plain": [
       "       Sample in Buffer  Sample in Window  TRIGGER ctime400[23:0]  \\\n",
       "0                     0                 0        1         120ba0   \n",
       "1                     1                 1        0         120d30   \n",
       "2                     2                 2        0         120ec0   \n",
       "3                     3                 3        0         121050   \n",
       "4                     4                 4        0         1211e0   \n",
       "...                 ...               ...      ...            ...   \n",
       "16379             16379             16379        0         7603af   \n",
       "16380             16380             16380        0         76053f   \n",
       "16381             16381             16381        0         7606cf   \n",
       "16382             16382             16382        0         76085f   \n",
       "16383             16383             16383        0         7609ef   \n",
       "\n",
       "       tdc_dvalid_1[0:0]  tdc_dvalid[1:1] fine_time_0[7:0] fine_time_1[7:0]  \n",
       "0                      1                1               8b               9d  \n",
       "1                      1                1               8b               9d  \n",
       "2                      1                1               8c               9d  \n",
       "3                      1                1               8b               9d  \n",
       "4                      1                0               8e               9e  \n",
       "...                  ...              ...              ...              ...  \n",
       "16379                  1                1               31               43  \n",
       "16380                  1                1               2e               41  \n",
       "16381                  1                1               31               43  \n",
       "16382                  1                1               31               44  \n",
       "16383                  1                1               31               43  \n",
       "\n",
       "[16384 rows x 8 columns]"
      ]
     },
     "execution_count": 3,
     "metadata": {},
     "output_type": "execute_result"
    }
   ],
   "source": [
    "df"
   ]
  },
  {
   "cell_type": "code",
   "execution_count": 4,
   "id": "ae15508b",
   "metadata": {},
   "outputs": [],
   "source": [
    "ctime = np.array([ int(x,16) for x in df[\"ctime400[23:0]\"] ])\n",
    "ft0   = np.array([ int(x,16) for x in df[\"fine_time_0[7:0]\"] ])\n",
    "ft1   = np.array([ int(x,16) for x in df[\"fine_time_1[7:0]\"] ])"
   ]
  },
  {
   "cell_type": "code",
   "execution_count": 5,
   "id": "cbdd8752",
   "metadata": {},
   "outputs": [],
   "source": [
    "max_bin = 180\n",
    "\n",
    "coarse_clk = 400e6\n",
    "\n",
    "coarse_tick_s = 1./coarse_clk"
   ]
  },
  {
   "cell_type": "code",
   "execution_count": 6,
   "id": "297eae6a",
   "metadata": {},
   "outputs": [
    {
     "data": {
      "image/png": "[encoded data removed]",
      "text/plain": [
       "<matplotlib.figure.Figure at 0x7f5fb70aab38>"
      ]
     },
     "metadata": {
      "needs_background": "light"
     },
     "output_type": "display_data"
    }
   ],
   "source": [
    "bins = np.arange(0,max_bin+1,1)\n",
    "data = plt.hist(ft0,bins=bins)\n",
    "plt.xlabel(\"bin #\")\n",
    "plt.ylabel(\"counts\")\n",
    "plt.title(\"box diagram ch0\")\n",
    "plt.show()\n",
    "bins = np.arange(0,max_bin,1)\n",
    "\n",
    "hist = data[0]"
   ]
  },
  {
   "cell_type": "code",
   "execution_count": 7,
   "id": "786953cd",
   "metadata": {},
   "outputs": [
    {
     "data": {
      "image/png": "[encoded data removed]",
      "text/plain": [
       "<matplotlib.figure.Figure at 0x7f5faf009c88>"
      ]
     },
     "metadata": {
      "needs_background": "light"
     },
     "output_type": "display_data"
    }
   ],
   "source": [
    "ccurve = np.cumsum(hist)\n",
    "ccurve = ccurve/np.max(ccurve)\n",
    "\n",
    "plt.plot(bins,ccurve)\n",
    "plt.xlabel(\"bin #\")\n",
    "plt.ylabel(\"y (a.u.)\")\n",
    "plt.title(\"calibration curve ch0\")\n",
    "plt.show()"
   ]
  },
  {
   "cell_type": "code",
   "execution_count": 8,
   "id": "c8966bbe",
   "metadata": {},
   "outputs": [],
   "source": [
    "def calc_time(ctime,ftime,ccurve,coarse_tick):\n",
    "    time = []\n",
    "    for i in range(len(ctime)):\n",
    "        time += [ (ctime[i]-ccurve[ftime[i]])*coarse_tick ]\n",
    "        \n",
    "    return np.array(time)"
   ]
  },
  {
   "cell_type": "code",
   "execution_count": 9,
   "id": "b153662e",
   "metadata": {},
   "outputs": [],
   "source": [
    "time = calc_time(ctime,ft0,ccurve,coarse_tick_s)"
   ]
  },
  {
   "cell_type": "code",
   "execution_count": 10,
   "id": "d42e9f5d",
   "metadata": {},
   "outputs": [],
   "source": [
    "tdiff = time[1:-1] - time[0:-2]"
   ]
  },
  {
   "cell_type": "code",
   "execution_count": 11,
   "id": "c564ce7b",
   "metadata": {},
   "outputs": [
    {
     "data": {
      "image/png": "[encoded data removed]",
      "text/plain": [
       "<matplotlib.figure.Figure at 0x7f5fb70aa828>"
      ]
     },
     "metadata": {
      "needs_background": "light"
     },
     "output_type": "display_data"
    },
    {
     "name": "stdout",
     "output_type": "stream",
     "text": [
      "RMS precision: 19.074ps\n"
     ]
    }
   ],
   "source": [
    "plt.hist(tdiff*1e12)\n",
    "plt.title(\"measured period ch0 - calibrated\")\n",
    "plt.xlabel(\"period (ps)\")\n",
    "plt.ylabel(\"counts\")\n",
    "plt.show()\n",
    "\n",
    "print(\"RMS precision: {:3.3f}ps\".format(  np.std(tdiff*1e12)))"
   ]
  },
  {
   "cell_type": "code",
   "execution_count": null,
   "id": "4ecec3e8",
   "metadata": {},
   "outputs": [],
   "source": []
  },
  {
   "cell_type": "code",
   "execution_count": 6,
   "id": "c00a6ca6",
   "metadata": {},
   "outputs": [
    {
     "data": {
      "image/png": "[encoded data removed]",
      "text/plain": [
       "<matplotlib.figure.Figure at 0x7f5fb70aab38>"
      ]
     },
     "metadata": {
      "needs_background": "light"
     },
     "output_type": "display_data"
    }
   ],
   "source": [
    "bins = np.arange(0,max_bin+1,1)\n",
    "data = plt.hist(ft0,bins=bins)\n",
    "\n",
    "\n",
    "plt.xlabel(\"bin #\")\n",
    "plt.ylabel(\"counts\")\n",
    "plt.title(\"box diagram ch0\")\n",
    "plt.show()\n",
    "bins = np.arange(0,max_bin,1)\n",
    "\n",
    "hist = data[0]"
   ]
  },
  {
   "cell_type": "code",
   "execution_count": 18,
   "id": "89f88486",
   "metadata": {},
   "outputs": [
    {
     "data": {
      "image/png": "[encoded data removed]",
      "text/plain": [
       "<matplotlib.figure.Figure at 0x7f5fae755438>"
      ]
     },
     "metadata": {
      "needs_background": "light"
     },
     "output_type": "display_data"
    }
   ],
   "source": [
    "bin_size = hist/np.sum(hist) * 2.5e-9\n",
    "plt.bar(bins,bin_size*1e12)\n",
    "plt.xlabel(\"bin #\")\n",
    "plt.ylabel(\"bin size (ps)\")\n",
    "plt.title(\"bin sizes\")\n",
    "plt.show()"
   ]
  },
  {
   "cell_type": "code",
   "execution_count": 21,
   "id": "76eb8937",
   "metadata": {},
   "outputs": [
    {
     "data": {
      "image/png": "[encoded data removed]",
      "text/plain": [
       "<matplotlib.figure.Figure at 0x7f5fae5f3cc0>"
      ]
     },
     "metadata": {
      "needs_background": "light"
     },
     "output_type": "display_data"
    }
   ],
   "source": [
    "plt.hist(bin_size*1e12,bins=np.arange(0,50,1))\n",
    "plt.title(\"distribution of bin sizes\")\n",
    "plt.xlabel(\"bin width (ps)\")\n",
    "plt.ylabel(\"counts\")\n",
    "plt.show()"
   ]
  },
  {
   "cell_type": "code",
   "execution_count": 23,
   "id": "659c6dcb",
   "metadata": {},
   "outputs": [
    {
     "data": {
      "text/plain": [
       "13.88888888888889"
      ]
     },
     "execution_count": 23,
     "metadata": {},
     "output_type": "execute_result"
    }
   ],
   "source": [
    "np.mean(bin_size*1e12)"
   ]
  },
  {
   "cell_type": "code",
   "execution_count": 24,
   "id": "eb62d687",
   "metadata": {},
   "outputs": [
    {
     "data": {
      "text/plain": [
       "10.223388671875"
      ]
     },
     "execution_count": 24,
     "metadata": {},
     "output_type": "execute_result"
    }
   ],
   "source": [
    "np.median(bin_size*1e12)"
   ]
  },
  {
   "cell_type": "code",
   "execution_count": null,
   "id": "ec52c590",
   "metadata": {},
   "outputs": [],
   "source": []
  }
 ],
 "metadata": {
  "kernelspec": {
   "display_name": "Python 3",
   "language": "python",
   "name": "python3"
  },
  "language_info": {
   "codemirror_mode": {
    "name": "ipython",
    "version": 3
   },
   "file_extension": ".py",
   "mimetype": "text/x-python",
   "name": "python",
   "nbconvert_exporter": "python",
   "pygments_lexer": "ipython3",
   "version": "3.6.8"
  }
 },
 "nbformat": 4,
 "nbformat_minor": 5
}
