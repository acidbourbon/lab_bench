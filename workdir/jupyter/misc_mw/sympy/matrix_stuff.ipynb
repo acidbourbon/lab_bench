{
 "cells": [
  {
   "cell_type": "code",
   "execution_count": 1,
   "id": "8f4dce5a",
   "metadata": {},
   "outputs": [],
   "source": [
    "import sympy as sp\n",
    "\n",
    "import numpy as np\n",
    "\n",
    "sp.init_printing() \n",
    "\n",
    "from sympy.abc import a,b,c,x,y,z"
   ]
  },
  {
   "cell_type": "code",
   "execution_count": 2,
   "id": "26ec5ca9",
   "metadata": {},
   "outputs": [
    {
     "data": {
      "text/latex": [
       "$$\\left[\\begin{matrix}1 & 2\\\\3 & 4\\end{matrix}\\right]$$"
      ],
      "text/plain": [
       "⎡1  2⎤\n",
       "⎢    ⎥\n",
       "⎣3  4⎦"
      ]
     },
     "execution_count": 2,
     "metadata": {},
     "output_type": "execute_result"
    }
   ],
   "source": [
    "sp.Matrix(2,2,[1,2,3,4])"
   ]
  },
  {
   "cell_type": "code",
   "execution_count": 3,
   "id": "d9ced59c",
   "metadata": {},
   "outputs": [
    {
     "data": {
      "text/latex": [
       "$$\\left[\\begin{matrix}2 & 4\\\\6 & 8\\end{matrix}\\right]$$"
      ],
      "text/plain": [
       "⎡2  4⎤\n",
       "⎢    ⎥\n",
       "⎣6  8⎦"
      ]
     },
     "execution_count": 3,
     "metadata": {},
     "output_type": "execute_result"
    }
   ],
   "source": [
    "A = sp.Matrix(2,2,[1,2,3,4])\n",
    "B = 2*A\n",
    "B"
   ]
  },
  {
   "cell_type": "code",
   "execution_count": 4,
   "id": "82ab1b3d",
   "metadata": {},
   "outputs": [
    {
     "data": {
      "text/latex": [
       "$$\\left[\\begin{matrix}2 & 8\\\\18 & 32\\end{matrix}\\right]$$"
      ],
      "text/plain": [
       "⎡2   8 ⎤\n",
       "⎢      ⎥\n",
       "⎣18  32⎦"
      ]
     },
     "execution_count": 4,
     "metadata": {},
     "output_type": "execute_result"
    }
   ],
   "source": [
    "A.multiply_elementwise(B)"
   ]
  },
  {
   "cell_type": "code",
   "execution_count": 5,
   "id": "bbbefcea",
   "metadata": {},
   "outputs": [
    {
     "data": {
      "text/latex": [
       "$$\\left[\\begin{matrix}2 & 8\\\\18 & 32\\end{matrix}\\right]$$"
      ],
      "text/plain": [
       "⎡2   8 ⎤\n",
       "⎢      ⎥\n",
       "⎣18  32⎦"
      ]
     },
     "execution_count": 5,
     "metadata": {},
     "output_type": "execute_result"
    }
   ],
   "source": [
    "sp.matrix_multiply_elementwise(A,B)"
   ]
  },
  {
   "cell_type": "code",
   "execution_count": 6,
   "id": "0ce130f1",
   "metadata": {},
   "outputs": [
    {
     "data": {
      "text/latex": [
       "$$\\left[\\begin{matrix}14 & 20\\\\30 & 44\\end{matrix}\\right]$$"
      ],
      "text/plain": [
       "⎡14  20⎤\n",
       "⎢      ⎥\n",
       "⎣30  44⎦"
      ]
     },
     "execution_count": 6,
     "metadata": {},
     "output_type": "execute_result"
    }
   ],
   "source": [
    "A*B"
   ]
  },
  {
   "cell_type": "code",
   "execution_count": 7,
   "id": "ac436c3f",
   "metadata": {},
   "outputs": [
    {
     "data": {
      "text/latex": [
       "$$\\left[\\begin{matrix}1 & 0 & 0\\\\0 & 1 & 0\\\\0 & 0 & 1\\end{matrix}\\right]$$"
      ],
      "text/plain": [
       "⎡1  0  0⎤\n",
       "⎢       ⎥\n",
       "⎢0  1  0⎥\n",
       "⎢       ⎥\n",
       "⎣0  0  1⎦"
      ]
     },
     "execution_count": 7,
     "metadata": {},
     "output_type": "execute_result"
    }
   ],
   "source": [
    "sp.eye(3)"
   ]
  },
  {
   "cell_type": "code",
   "execution_count": 8,
   "id": "807ba31f",
   "metadata": {},
   "outputs": [
    {
     "data": {
      "text/latex": [
       "$$\\left[\\begin{matrix}0 & 0 & 0\\\\0 & 0 & 0\\\\0 & 0 & 0\\end{matrix}\\right]$$"
      ],
      "text/plain": [
       "⎡0  0  0⎤\n",
       "⎢       ⎥\n",
       "⎢0  0  0⎥\n",
       "⎢       ⎥\n",
       "⎣0  0  0⎦"
      ]
     },
     "execution_count": 8,
     "metadata": {},
     "output_type": "execute_result"
    }
   ],
   "source": [
    "sp.zeros(3)"
   ]
  },
  {
   "cell_type": "code",
   "execution_count": 9,
   "id": "be5678c9",
   "metadata": {},
   "outputs": [
    {
     "data": {
      "text/latex": [
       "$$\\left[\\begin{matrix}1 & 1 & 1\\\\1 & 1 & 1\\\\1 & 1 & 1\\end{matrix}\\right]$$"
      ],
      "text/plain": [
       "⎡1  1  1⎤\n",
       "⎢       ⎥\n",
       "⎢1  1  1⎥\n",
       "⎢       ⎥\n",
       "⎣1  1  1⎦"
      ]
     },
     "execution_count": 9,
     "metadata": {},
     "output_type": "execute_result"
    }
   ],
   "source": [
    "sp.ones(3)"
   ]
  },
  {
   "cell_type": "code",
   "execution_count": 10,
   "id": "89883f9c",
   "metadata": {},
   "outputs": [
    {
     "data": {
      "text/latex": [
       "$$\\left[\\begin{matrix}30 & 74 & 20\\\\51 & 7 & 89\\\\79 & 65 & 5\\end{matrix}\\right]$$"
      ],
      "text/plain": [
       "⎡30  74  20⎤\n",
       "⎢          ⎥\n",
       "⎢51  7   89⎥\n",
       "⎢          ⎥\n",
       "⎣79  65  5 ⎦"
      ]
     },
     "execution_count": 10,
     "metadata": {},
     "output_type": "execute_result"
    }
   ],
   "source": [
    "sp.randMatrix(3)"
   ]
  },
  {
   "cell_type": "code",
   "execution_count": 11,
   "id": "e3bc619c",
   "metadata": {},
   "outputs": [
    {
     "data": {
      "text/latex": [
       "$$\\left[\\begin{matrix}12 & 14\\\\12 & 12\\\\10 & 10\\end{matrix}\\right]$$"
      ],
      "text/plain": [
       "⎡12  14⎤\n",
       "⎢      ⎥\n",
       "⎢12  12⎥\n",
       "⎢      ⎥\n",
       "⎣10  10⎦"
      ]
     },
     "execution_count": 11,
     "metadata": {},
     "output_type": "execute_result"
    }
   ],
   "source": [
    "sp.randMatrix(3,2,min=10,max=20)"
   ]
  },
  {
   "cell_type": "code",
   "execution_count": null,
   "id": "58ac0b01",
   "metadata": {},
   "outputs": [],
   "source": []
  }
 ],
 "metadata": {
  "kernelspec": {
   "display_name": "Python 3",
   "language": "python",
   "name": "python3"
  },
  "language_info": {
   "codemirror_mode": {
    "name": "ipython",
    "version": 3
   },
   "file_extension": ".py",
   "mimetype": "text/x-python",
   "name": "python",
   "nbconvert_exporter": "python",
   "pygments_lexer": "ipython3",
   "version": "3.6.8"
  }
 },
 "nbformat": 4,
 "nbformat_minor": 5
}
